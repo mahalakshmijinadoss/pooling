{
  "nbformat": 4,
  "nbformat_minor": 0,
  "metadata": {
    "colab": {
      "name": "hasoc2020hinberttaska.ipynb",
      "provenance": [],
      "mount_file_id": "138OMIz2DAmLQy7lTjyKbhjlXJZ2-q3S-",
      "authorship_tag": "ABX9TyOLOMIynS9x4ROOggrjyk2F",
      "include_colab_link": true
    },
    "kernelspec": {
      "name": "python3",
      "display_name": "Python 3"
    },
    "language_info": {
      "name": "python"
    },
    "widgets": {
      "application/vnd.jupyter.widget-state+json": {
        "a364944eeec7483eac94cf2b7cbe677e": {
          "model_module": "@jupyter-widgets/controls",
          "model_name": "HBoxModel",
          "model_module_version": "1.5.0",
          "state": {
            "_view_name": "HBoxView",
            "_dom_classes": [],
            "_model_name": "HBoxModel",
            "_view_module": "@jupyter-widgets/controls",
            "_model_module_version": "1.5.0",
            "_view_count": null,
            "_view_module_version": "1.5.0",
            "box_style": "",
            "layout": "IPY_MODEL_78c891d685dd4b3b9619c5e1129cf36d",
            "_model_module": "@jupyter-widgets/controls",
            "children": [
              "IPY_MODEL_819a44f47d104c4a8e8d6b960ef56abd",
              "IPY_MODEL_582d5095e2404558b8ca5dc791971a58",
              "IPY_MODEL_3e0974597682407aad4e9f75c40b17d8"
            ]
          }
        },
        "78c891d685dd4b3b9619c5e1129cf36d": {
          "model_module": "@jupyter-widgets/base",
          "model_name": "LayoutModel",
          "model_module_version": "1.2.0",
          "state": {
            "_view_name": "LayoutView",
            "grid_template_rows": null,
            "right": null,
            "justify_content": null,
            "_view_module": "@jupyter-widgets/base",
            "overflow": null,
            "_model_module_version": "1.2.0",
            "_view_count": null,
            "flex_flow": null,
            "width": null,
            "min_width": null,
            "border": null,
            "align_items": null,
            "bottom": null,
            "_model_module": "@jupyter-widgets/base",
            "top": null,
            "grid_column": null,
            "overflow_y": null,
            "overflow_x": null,
            "grid_auto_flow": null,
            "grid_area": null,
            "grid_template_columns": null,
            "flex": null,
            "_model_name": "LayoutModel",
            "justify_items": null,
            "grid_row": null,
            "max_height": null,
            "align_content": null,
            "visibility": null,
            "align_self": null,
            "height": null,
            "min_height": null,
            "padding": null,
            "grid_auto_rows": null,
            "grid_gap": null,
            "max_width": null,
            "order": null,
            "_view_module_version": "1.2.0",
            "grid_template_areas": null,
            "object_position": null,
            "object_fit": null,
            "grid_auto_columns": null,
            "margin": null,
            "display": null,
            "left": null
          }
        },
        "819a44f47d104c4a8e8d6b960ef56abd": {
          "model_module": "@jupyter-widgets/controls",
          "model_name": "HTMLModel",
          "model_module_version": "1.5.0",
          "state": {
            "_view_name": "HTMLView",
            "style": "IPY_MODEL_3fdca59422b441eea42d8ba031fbcace",
            "_dom_classes": [],
            "description": "",
            "_model_name": "HTMLModel",
            "placeholder": "​",
            "_view_module": "@jupyter-widgets/controls",
            "_model_module_version": "1.5.0",
            "value": "Downloading: 100%",
            "_view_count": null,
            "_view_module_version": "1.5.0",
            "description_tooltip": null,
            "_model_module": "@jupyter-widgets/controls",
            "layout": "IPY_MODEL_fd59c30751724752b85d3d0511e61229"
          }
        },
        "582d5095e2404558b8ca5dc791971a58": {
          "model_module": "@jupyter-widgets/controls",
          "model_name": "FloatProgressModel",
          "model_module_version": "1.5.0",
          "state": {
            "_view_name": "ProgressView",
            "style": "IPY_MODEL_ef5ea89f84ba4761b938fae9fe09711f",
            "_dom_classes": [],
            "description": "",
            "_model_name": "FloatProgressModel",
            "bar_style": "success",
            "max": 48,
            "_view_module": "@jupyter-widgets/controls",
            "_model_module_version": "1.5.0",
            "value": 48,
            "_view_count": null,
            "_view_module_version": "1.5.0",
            "orientation": "horizontal",
            "min": 0,
            "description_tooltip": null,
            "_model_module": "@jupyter-widgets/controls",
            "layout": "IPY_MODEL_21a1ac09594a411c839baf5799595e61"
          }
        },
        "3e0974597682407aad4e9f75c40b17d8": {
          "model_module": "@jupyter-widgets/controls",
          "model_name": "HTMLModel",
          "model_module_version": "1.5.0",
          "state": {
            "_view_name": "HTMLView",
            "style": "IPY_MODEL_e529a39fc5b14899abcd4fd60858f708",
            "_dom_classes": [],
            "description": "",
            "_model_name": "HTMLModel",
            "placeholder": "​",
            "_view_module": "@jupyter-widgets/controls",
            "_model_module_version": "1.5.0",
            "value": " 48.0/48.0 [00:00&lt;00:00, 959B/s]",
            "_view_count": null,
            "_view_module_version": "1.5.0",
            "description_tooltip": null,
            "_model_module": "@jupyter-widgets/controls",
            "layout": "IPY_MODEL_6719b8dd77df4130b1a71e147910ee1c"
          }
        },
        "3fdca59422b441eea42d8ba031fbcace": {
          "model_module": "@jupyter-widgets/controls",
          "model_name": "DescriptionStyleModel",
          "model_module_version": "1.5.0",
          "state": {
            "_view_name": "StyleView",
            "_model_name": "DescriptionStyleModel",
            "description_width": "",
            "_view_module": "@jupyter-widgets/base",
            "_model_module_version": "1.5.0",
            "_view_count": null,
            "_view_module_version": "1.2.0",
            "_model_module": "@jupyter-widgets/controls"
          }
        },
        "fd59c30751724752b85d3d0511e61229": {
          "model_module": "@jupyter-widgets/base",
          "model_name": "LayoutModel",
          "model_module_version": "1.2.0",
          "state": {
            "_view_name": "LayoutView",
            "grid_template_rows": null,
            "right": null,
            "justify_content": null,
            "_view_module": "@jupyter-widgets/base",
            "overflow": null,
            "_model_module_version": "1.2.0",
            "_view_count": null,
            "flex_flow": null,
            "width": null,
            "min_width": null,
            "border": null,
            "align_items": null,
            "bottom": null,
            "_model_module": "@jupyter-widgets/base",
            "top": null,
            "grid_column": null,
            "overflow_y": null,
            "overflow_x": null,
            "grid_auto_flow": null,
            "grid_area": null,
            "grid_template_columns": null,
            "flex": null,
            "_model_name": "LayoutModel",
            "justify_items": null,
            "grid_row": null,
            "max_height": null,
            "align_content": null,
            "visibility": null,
            "align_self": null,
            "height": null,
            "min_height": null,
            "padding": null,
            "grid_auto_rows": null,
            "grid_gap": null,
            "max_width": null,
            "order": null,
            "_view_module_version": "1.2.0",
            "grid_template_areas": null,
            "object_position": null,
            "object_fit": null,
            "grid_auto_columns": null,
            "margin": null,
            "display": null,
            "left": null
          }
        },
        "ef5ea89f84ba4761b938fae9fe09711f": {
          "model_module": "@jupyter-widgets/controls",
          "model_name": "ProgressStyleModel",
          "model_module_version": "1.5.0",
          "state": {
            "_view_name": "StyleView",
            "_model_name": "ProgressStyleModel",
            "description_width": "",
            "_view_module": "@jupyter-widgets/base",
            "_model_module_version": "1.5.0",
            "_view_count": null,
            "_view_module_version": "1.2.0",
            "bar_color": null,
            "_model_module": "@jupyter-widgets/controls"
          }
        },
        "21a1ac09594a411c839baf5799595e61": {
          "model_module": "@jupyter-widgets/base",
          "model_name": "LayoutModel",
          "model_module_version": "1.2.0",
          "state": {
            "_view_name": "LayoutView",
            "grid_template_rows": null,
            "right": null,
            "justify_content": null,
            "_view_module": "@jupyter-widgets/base",
            "overflow": null,
            "_model_module_version": "1.2.0",
            "_view_count": null,
            "flex_flow": null,
            "width": null,
            "min_width": null,
            "border": null,
            "align_items": null,
            "bottom": null,
            "_model_module": "@jupyter-widgets/base",
            "top": null,
            "grid_column": null,
            "overflow_y": null,
            "overflow_x": null,
            "grid_auto_flow": null,
            "grid_area": null,
            "grid_template_columns": null,
            "flex": null,
            "_model_name": "LayoutModel",
            "justify_items": null,
            "grid_row": null,
            "max_height": null,
            "align_content": null,
            "visibility": null,
            "align_self": null,
            "height": null,
            "min_height": null,
            "padding": null,
            "grid_auto_rows": null,
            "grid_gap": null,
            "max_width": null,
            "order": null,
            "_view_module_version": "1.2.0",
            "grid_template_areas": null,
            "object_position": null,
            "object_fit": null,
            "grid_auto_columns": null,
            "margin": null,
            "display": null,
            "left": null
          }
        },
        "e529a39fc5b14899abcd4fd60858f708": {
          "model_module": "@jupyter-widgets/controls",
          "model_name": "DescriptionStyleModel",
          "model_module_version": "1.5.0",
          "state": {
            "_view_name": "StyleView",
            "_model_name": "DescriptionStyleModel",
            "description_width": "",
            "_view_module": "@jupyter-widgets/base",
            "_model_module_version": "1.5.0",
            "_view_count": null,
            "_view_module_version": "1.2.0",
            "_model_module": "@jupyter-widgets/controls"
          }
        },
        "6719b8dd77df4130b1a71e147910ee1c": {
          "model_module": "@jupyter-widgets/base",
          "model_name": "LayoutModel",
          "model_module_version": "1.2.0",
          "state": {
            "_view_name": "LayoutView",
            "grid_template_rows": null,
            "right": null,
            "justify_content": null,
            "_view_module": "@jupyter-widgets/base",
            "overflow": null,
            "_model_module_version": "1.2.0",
            "_view_count": null,
            "flex_flow": null,
            "width": null,
            "min_width": null,
            "border": null,
            "align_items": null,
            "bottom": null,
            "_model_module": "@jupyter-widgets/base",
            "top": null,
            "grid_column": null,
            "overflow_y": null,
            "overflow_x": null,
            "grid_auto_flow": null,
            "grid_area": null,
            "grid_template_columns": null,
            "flex": null,
            "_model_name": "LayoutModel",
            "justify_items": null,
            "grid_row": null,
            "max_height": null,
            "align_content": null,
            "visibility": null,
            "align_self": null,
            "height": null,
            "min_height": null,
            "padding": null,
            "grid_auto_rows": null,
            "grid_gap": null,
            "max_width": null,
            "order": null,
            "_view_module_version": "1.2.0",
            "grid_template_areas": null,
            "object_position": null,
            "object_fit": null,
            "grid_auto_columns": null,
            "margin": null,
            "display": null,
            "left": null
          }
        },
        "a25dad8d47f046578773a842af8d6209": {
          "model_module": "@jupyter-widgets/controls",
          "model_name": "HBoxModel",
          "model_module_version": "1.5.0",
          "state": {
            "_view_name": "HBoxView",
            "_dom_classes": [],
            "_model_name": "HBoxModel",
            "_view_module": "@jupyter-widgets/controls",
            "_model_module_version": "1.5.0",
            "_view_count": null,
            "_view_module_version": "1.5.0",
            "box_style": "",
            "layout": "IPY_MODEL_fb189c1ecae447298657e8a2f5b5dd5e",
            "_model_module": "@jupyter-widgets/controls",
            "children": [
              "IPY_MODEL_c50a402a0db14e3c9c7b6f4a1bb71457",
              "IPY_MODEL_b6e4f870d6c948779cea3eee449575e4",
              "IPY_MODEL_26fb03247be04d9b99d6724a40d2d4e8"
            ]
          }
        },
        "fb189c1ecae447298657e8a2f5b5dd5e": {
          "model_module": "@jupyter-widgets/base",
          "model_name": "LayoutModel",
          "model_module_version": "1.2.0",
          "state": {
            "_view_name": "LayoutView",
            "grid_template_rows": null,
            "right": null,
            "justify_content": null,
            "_view_module": "@jupyter-widgets/base",
            "overflow": null,
            "_model_module_version": "1.2.0",
            "_view_count": null,
            "flex_flow": null,
            "width": null,
            "min_width": null,
            "border": null,
            "align_items": null,
            "bottom": null,
            "_model_module": "@jupyter-widgets/base",
            "top": null,
            "grid_column": null,
            "overflow_y": null,
            "overflow_x": null,
            "grid_auto_flow": null,
            "grid_area": null,
            "grid_template_columns": null,
            "flex": null,
            "_model_name": "LayoutModel",
            "justify_items": null,
            "grid_row": null,
            "max_height": null,
            "align_content": null,
            "visibility": null,
            "align_self": null,
            "height": null,
            "min_height": null,
            "padding": null,
            "grid_auto_rows": null,
            "grid_gap": null,
            "max_width": null,
            "order": null,
            "_view_module_version": "1.2.0",
            "grid_template_areas": null,
            "object_position": null,
            "object_fit": null,
            "grid_auto_columns": null,
            "margin": null,
            "display": null,
            "left": null
          }
        },
        "c50a402a0db14e3c9c7b6f4a1bb71457": {
          "model_module": "@jupyter-widgets/controls",
          "model_name": "HTMLModel",
          "model_module_version": "1.5.0",
          "state": {
            "_view_name": "HTMLView",
            "style": "IPY_MODEL_c5c92a2a1c694f9db055d0a4d2132124",
            "_dom_classes": [],
            "description": "",
            "_model_name": "HTMLModel",
            "placeholder": "​",
            "_view_module": "@jupyter-widgets/controls",
            "_model_module_version": "1.5.0",
            "value": "Downloading: 100%",
            "_view_count": null,
            "_view_module_version": "1.5.0",
            "description_tooltip": null,
            "_model_module": "@jupyter-widgets/controls",
            "layout": "IPY_MODEL_2c0c03bdf2144e7694529f663a46ee4b"
          }
        },
        "b6e4f870d6c948779cea3eee449575e4": {
          "model_module": "@jupyter-widgets/controls",
          "model_name": "FloatProgressModel",
          "model_module_version": "1.5.0",
          "state": {
            "_view_name": "ProgressView",
            "style": "IPY_MODEL_242490b242c246128d365479f16e8d95",
            "_dom_classes": [],
            "description": "",
            "_model_name": "FloatProgressModel",
            "bar_style": "success",
            "max": 832,
            "_view_module": "@jupyter-widgets/controls",
            "_model_module_version": "1.5.0",
            "value": 832,
            "_view_count": null,
            "_view_module_version": "1.5.0",
            "orientation": "horizontal",
            "min": 0,
            "description_tooltip": null,
            "_model_module": "@jupyter-widgets/controls",
            "layout": "IPY_MODEL_12ee4f2e9283462f8d582a247026e4d7"
          }
        },
        "26fb03247be04d9b99d6724a40d2d4e8": {
          "model_module": "@jupyter-widgets/controls",
          "model_name": "HTMLModel",
          "model_module_version": "1.5.0",
          "state": {
            "_view_name": "HTMLView",
            "style": "IPY_MODEL_06b52e35563447efa41aa157480185fc",
            "_dom_classes": [],
            "description": "",
            "_model_name": "HTMLModel",
            "placeholder": "​",
            "_view_module": "@jupyter-widgets/controls",
            "_model_module_version": "1.5.0",
            "value": " 832/832 [00:00&lt;00:00, 21.5kB/s]",
            "_view_count": null,
            "_view_module_version": "1.5.0",
            "description_tooltip": null,
            "_model_module": "@jupyter-widgets/controls",
            "layout": "IPY_MODEL_c282a1e2f84446868cc838886859dc6c"
          }
        },
        "c5c92a2a1c694f9db055d0a4d2132124": {
          "model_module": "@jupyter-widgets/controls",
          "model_name": "DescriptionStyleModel",
          "model_module_version": "1.5.0",
          "state": {
            "_view_name": "StyleView",
            "_model_name": "DescriptionStyleModel",
            "description_width": "",
            "_view_module": "@jupyter-widgets/base",
            "_model_module_version": "1.5.0",
            "_view_count": null,
            "_view_module_version": "1.2.0",
            "_model_module": "@jupyter-widgets/controls"
          }
        },
        "2c0c03bdf2144e7694529f663a46ee4b": {
          "model_module": "@jupyter-widgets/base",
          "model_name": "LayoutModel",
          "model_module_version": "1.2.0",
          "state": {
            "_view_name": "LayoutView",
            "grid_template_rows": null,
            "right": null,
            "justify_content": null,
            "_view_module": "@jupyter-widgets/base",
            "overflow": null,
            "_model_module_version": "1.2.0",
            "_view_count": null,
            "flex_flow": null,
            "width": null,
            "min_width": null,
            "border": null,
            "align_items": null,
            "bottom": null,
            "_model_module": "@jupyter-widgets/base",
            "top": null,
            "grid_column": null,
            "overflow_y": null,
            "overflow_x": null,
            "grid_auto_flow": null,
            "grid_area": null,
            "grid_template_columns": null,
            "flex": null,
            "_model_name": "LayoutModel",
            "justify_items": null,
            "grid_row": null,
            "max_height": null,
            "align_content": null,
            "visibility": null,
            "align_self": null,
            "height": null,
            "min_height": null,
            "padding": null,
            "grid_auto_rows": null,
            "grid_gap": null,
            "max_width": null,
            "order": null,
            "_view_module_version": "1.2.0",
            "grid_template_areas": null,
            "object_position": null,
            "object_fit": null,
            "grid_auto_columns": null,
            "margin": null,
            "display": null,
            "left": null
          }
        },
        "242490b242c246128d365479f16e8d95": {
          "model_module": "@jupyter-widgets/controls",
          "model_name": "ProgressStyleModel",
          "model_module_version": "1.5.0",
          "state": {
            "_view_name": "StyleView",
            "_model_name": "ProgressStyleModel",
            "description_width": "",
            "_view_module": "@jupyter-widgets/base",
            "_model_module_version": "1.5.0",
            "_view_count": null,
            "_view_module_version": "1.2.0",
            "bar_color": null,
            "_model_module": "@jupyter-widgets/controls"
          }
        },
        "12ee4f2e9283462f8d582a247026e4d7": {
          "model_module": "@jupyter-widgets/base",
          "model_name": "LayoutModel",
          "model_module_version": "1.2.0",
          "state": {
            "_view_name": "LayoutView",
            "grid_template_rows": null,
            "right": null,
            "justify_content": null,
            "_view_module": "@jupyter-widgets/base",
            "overflow": null,
            "_model_module_version": "1.2.0",
            "_view_count": null,
            "flex_flow": null,
            "width": null,
            "min_width": null,
            "border": null,
            "align_items": null,
            "bottom": null,
            "_model_module": "@jupyter-widgets/base",
            "top": null,
            "grid_column": null,
            "overflow_y": null,
            "overflow_x": null,
            "grid_auto_flow": null,
            "grid_area": null,
            "grid_template_columns": null,
            "flex": null,
            "_model_name": "LayoutModel",
            "justify_items": null,
            "grid_row": null,
            "max_height": null,
            "align_content": null,
            "visibility": null,
            "align_self": null,
            "height": null,
            "min_height": null,
            "padding": null,
            "grid_auto_rows": null,
            "grid_gap": null,
            "max_width": null,
            "order": null,
            "_view_module_version": "1.2.0",
            "grid_template_areas": null,
            "object_position": null,
            "object_fit": null,
            "grid_auto_columns": null,
            "margin": null,
            "display": null,
            "left": null
          }
        },
        "06b52e35563447efa41aa157480185fc": {
          "model_module": "@jupyter-widgets/controls",
          "model_name": "DescriptionStyleModel",
          "model_module_version": "1.5.0",
          "state": {
            "_view_name": "StyleView",
            "_model_name": "DescriptionStyleModel",
            "description_width": "",
            "_view_module": "@jupyter-widgets/base",
            "_model_module_version": "1.5.0",
            "_view_count": null,
            "_view_module_version": "1.2.0",
            "_model_module": "@jupyter-widgets/controls"
          }
        },
        "c282a1e2f84446868cc838886859dc6c": {
          "model_module": "@jupyter-widgets/base",
          "model_name": "LayoutModel",
          "model_module_version": "1.2.0",
          "state": {
            "_view_name": "LayoutView",
            "grid_template_rows": null,
            "right": null,
            "justify_content": null,
            "_view_module": "@jupyter-widgets/base",
            "overflow": null,
            "_model_module_version": "1.2.0",
            "_view_count": null,
            "flex_flow": null,
            "width": null,
            "min_width": null,
            "border": null,
            "align_items": null,
            "bottom": null,
            "_model_module": "@jupyter-widgets/base",
            "top": null,
            "grid_column": null,
            "overflow_y": null,
            "overflow_x": null,
            "grid_auto_flow": null,
            "grid_area": null,
            "grid_template_columns": null,
            "flex": null,
            "_model_name": "LayoutModel",
            "justify_items": null,
            "grid_row": null,
            "max_height": null,
            "align_content": null,
            "visibility": null,
            "align_self": null,
            "height": null,
            "min_height": null,
            "padding": null,
            "grid_auto_rows": null,
            "grid_gap": null,
            "max_width": null,
            "order": null,
            "_view_module_version": "1.2.0",
            "grid_template_areas": null,
            "object_position": null,
            "object_fit": null,
            "grid_auto_columns": null,
            "margin": null,
            "display": null,
            "left": null
          }
        },
        "3827e411df044ed4b62e484150fb0370": {
          "model_module": "@jupyter-widgets/controls",
          "model_name": "HBoxModel",
          "model_module_version": "1.5.0",
          "state": {
            "_view_name": "HBoxView",
            "_dom_classes": [],
            "_model_name": "HBoxModel",
            "_view_module": "@jupyter-widgets/controls",
            "_model_module_version": "1.5.0",
            "_view_count": null,
            "_view_module_version": "1.5.0",
            "box_style": "",
            "layout": "IPY_MODEL_b6dd40bc02b94ca6a965f04e325a4411",
            "_model_module": "@jupyter-widgets/controls",
            "children": [
              "IPY_MODEL_c450570075a34aae83c2a1483ed809bb",
              "IPY_MODEL_b6f120a351ec4a9d982c4917f86ebe16",
              "IPY_MODEL_3cd67997af3a42a6b7b5314ff21244c4"
            ]
          }
        },
        "b6dd40bc02b94ca6a965f04e325a4411": {
          "model_module": "@jupyter-widgets/base",
          "model_name": "LayoutModel",
          "model_module_version": "1.2.0",
          "state": {
            "_view_name": "LayoutView",
            "grid_template_rows": null,
            "right": null,
            "justify_content": null,
            "_view_module": "@jupyter-widgets/base",
            "overflow": null,
            "_model_module_version": "1.2.0",
            "_view_count": null,
            "flex_flow": null,
            "width": null,
            "min_width": null,
            "border": null,
            "align_items": null,
            "bottom": null,
            "_model_module": "@jupyter-widgets/base",
            "top": null,
            "grid_column": null,
            "overflow_y": null,
            "overflow_x": null,
            "grid_auto_flow": null,
            "grid_area": null,
            "grid_template_columns": null,
            "flex": null,
            "_model_name": "LayoutModel",
            "justify_items": null,
            "grid_row": null,
            "max_height": null,
            "align_content": null,
            "visibility": null,
            "align_self": null,
            "height": null,
            "min_height": null,
            "padding": null,
            "grid_auto_rows": null,
            "grid_gap": null,
            "max_width": null,
            "order": null,
            "_view_module_version": "1.2.0",
            "grid_template_areas": null,
            "object_position": null,
            "object_fit": null,
            "grid_auto_columns": null,
            "margin": null,
            "display": null,
            "left": null
          }
        },
        "c450570075a34aae83c2a1483ed809bb": {
          "model_module": "@jupyter-widgets/controls",
          "model_name": "HTMLModel",
          "model_module_version": "1.5.0",
          "state": {
            "_view_name": "HTMLView",
            "style": "IPY_MODEL_53093f810cf5403a8420b2d1f273ffb7",
            "_dom_classes": [],
            "description": "",
            "_model_name": "HTMLModel",
            "placeholder": "​",
            "_view_module": "@jupyter-widgets/controls",
            "_model_module_version": "1.5.0",
            "value": "Downloading: 100%",
            "_view_count": null,
            "_view_module_version": "1.5.0",
            "description_tooltip": null,
            "_model_module": "@jupyter-widgets/controls",
            "layout": "IPY_MODEL_67e10933c7b849bfbcf7d595825ae61a"
          }
        },
        "b6f120a351ec4a9d982c4917f86ebe16": {
          "model_module": "@jupyter-widgets/controls",
          "model_name": "FloatProgressModel",
          "model_module_version": "1.5.0",
          "state": {
            "_view_name": "ProgressView",
            "style": "IPY_MODEL_082342b559964d07800c8ab72e27e3cd",
            "_dom_classes": [],
            "description": "",
            "_model_name": "FloatProgressModel",
            "bar_style": "success",
            "max": 995526,
            "_view_module": "@jupyter-widgets/controls",
            "_model_module_version": "1.5.0",
            "value": 995526,
            "_view_count": null,
            "_view_module_version": "1.5.0",
            "orientation": "horizontal",
            "min": 0,
            "description_tooltip": null,
            "_model_module": "@jupyter-widgets/controls",
            "layout": "IPY_MODEL_8eea3f005b124a2f9d9d768d969f92ce"
          }
        },
        "3cd67997af3a42a6b7b5314ff21244c4": {
          "model_module": "@jupyter-widgets/controls",
          "model_name": "HTMLModel",
          "model_module_version": "1.5.0",
          "state": {
            "_view_name": "HTMLView",
            "style": "IPY_MODEL_21ac4dd625e34ac99f0c42d9e8c8d5f7",
            "_dom_classes": [],
            "description": "",
            "_model_name": "HTMLModel",
            "placeholder": "​",
            "_view_module": "@jupyter-widgets/controls",
            "_model_module_version": "1.5.0",
            "value": " 996k/996k [00:00&lt;00:00, 1.06MB/s]",
            "_view_count": null,
            "_view_module_version": "1.5.0",
            "description_tooltip": null,
            "_model_module": "@jupyter-widgets/controls",
            "layout": "IPY_MODEL_c69727684c724b06855baf0a862997bd"
          }
        },
        "53093f810cf5403a8420b2d1f273ffb7": {
          "model_module": "@jupyter-widgets/controls",
          "model_name": "DescriptionStyleModel",
          "model_module_version": "1.5.0",
          "state": {
            "_view_name": "StyleView",
            "_model_name": "DescriptionStyleModel",
            "description_width": "",
            "_view_module": "@jupyter-widgets/base",
            "_model_module_version": "1.5.0",
            "_view_count": null,
            "_view_module_version": "1.2.0",
            "_model_module": "@jupyter-widgets/controls"
          }
        },
        "67e10933c7b849bfbcf7d595825ae61a": {
          "model_module": "@jupyter-widgets/base",
          "model_name": "LayoutModel",
          "model_module_version": "1.2.0",
          "state": {
            "_view_name": "LayoutView",
            "grid_template_rows": null,
            "right": null,
            "justify_content": null,
            "_view_module": "@jupyter-widgets/base",
            "overflow": null,
            "_model_module_version": "1.2.0",
            "_view_count": null,
            "flex_flow": null,
            "width": null,
            "min_width": null,
            "border": null,
            "align_items": null,
            "bottom": null,
            "_model_module": "@jupyter-widgets/base",
            "top": null,
            "grid_column": null,
            "overflow_y": null,
            "overflow_x": null,
            "grid_auto_flow": null,
            "grid_area": null,
            "grid_template_columns": null,
            "flex": null,
            "_model_name": "LayoutModel",
            "justify_items": null,
            "grid_row": null,
            "max_height": null,
            "align_content": null,
            "visibility": null,
            "align_self": null,
            "height": null,
            "min_height": null,
            "padding": null,
            "grid_auto_rows": null,
            "grid_gap": null,
            "max_width": null,
            "order": null,
            "_view_module_version": "1.2.0",
            "grid_template_areas": null,
            "object_position": null,
            "object_fit": null,
            "grid_auto_columns": null,
            "margin": null,
            "display": null,
            "left": null
          }
        },
        "082342b559964d07800c8ab72e27e3cd": {
          "model_module": "@jupyter-widgets/controls",
          "model_name": "ProgressStyleModel",
          "model_module_version": "1.5.0",
          "state": {
            "_view_name": "StyleView",
            "_model_name": "ProgressStyleModel",
            "description_width": "",
            "_view_module": "@jupyter-widgets/base",
            "_model_module_version": "1.5.0",
            "_view_count": null,
            "_view_module_version": "1.2.0",
            "bar_color": null,
            "_model_module": "@jupyter-widgets/controls"
          }
        },
        "8eea3f005b124a2f9d9d768d969f92ce": {
          "model_module": "@jupyter-widgets/base",
          "model_name": "LayoutModel",
          "model_module_version": "1.2.0",
          "state": {
            "_view_name": "LayoutView",
            "grid_template_rows": null,
            "right": null,
            "justify_content": null,
            "_view_module": "@jupyter-widgets/base",
            "overflow": null,
            "_model_module_version": "1.2.0",
            "_view_count": null,
            "flex_flow": null,
            "width": null,
            "min_width": null,
            "border": null,
            "align_items": null,
            "bottom": null,
            "_model_module": "@jupyter-widgets/base",
            "top": null,
            "grid_column": null,
            "overflow_y": null,
            "overflow_x": null,
            "grid_auto_flow": null,
            "grid_area": null,
            "grid_template_columns": null,
            "flex": null,
            "_model_name": "LayoutModel",
            "justify_items": null,
            "grid_row": null,
            "max_height": null,
            "align_content": null,
            "visibility": null,
            "align_self": null,
            "height": null,
            "min_height": null,
            "padding": null,
            "grid_auto_rows": null,
            "grid_gap": null,
            "max_width": null,
            "order": null,
            "_view_module_version": "1.2.0",
            "grid_template_areas": null,
            "object_position": null,
            "object_fit": null,
            "grid_auto_columns": null,
            "margin": null,
            "display": null,
            "left": null
          }
        },
        "21ac4dd625e34ac99f0c42d9e8c8d5f7": {
          "model_module": "@jupyter-widgets/controls",
          "model_name": "DescriptionStyleModel",
          "model_module_version": "1.5.0",
          "state": {
            "_view_name": "StyleView",
            "_model_name": "DescriptionStyleModel",
            "description_width": "",
            "_view_module": "@jupyter-widgets/base",
            "_model_module_version": "1.5.0",
            "_view_count": null,
            "_view_module_version": "1.2.0",
            "_model_module": "@jupyter-widgets/controls"
          }
        },
        "c69727684c724b06855baf0a862997bd": {
          "model_module": "@jupyter-widgets/base",
          "model_name": "LayoutModel",
          "model_module_version": "1.2.0",
          "state": {
            "_view_name": "LayoutView",
            "grid_template_rows": null,
            "right": null,
            "justify_content": null,
            "_view_module": "@jupyter-widgets/base",
            "overflow": null,
            "_model_module_version": "1.2.0",
            "_view_count": null,
            "flex_flow": null,
            "width": null,
            "min_width": null,
            "border": null,
            "align_items": null,
            "bottom": null,
            "_model_module": "@jupyter-widgets/base",
            "top": null,
            "grid_column": null,
            "overflow_y": null,
            "overflow_x": null,
            "grid_auto_flow": null,
            "grid_area": null,
            "grid_template_columns": null,
            "flex": null,
            "_model_name": "LayoutModel",
            "justify_items": null,
            "grid_row": null,
            "max_height": null,
            "align_content": null,
            "visibility": null,
            "align_self": null,
            "height": null,
            "min_height": null,
            "padding": null,
            "grid_auto_rows": null,
            "grid_gap": null,
            "max_width": null,
            "order": null,
            "_view_module_version": "1.2.0",
            "grid_template_areas": null,
            "object_position": null,
            "object_fit": null,
            "grid_auto_columns": null,
            "margin": null,
            "display": null,
            "left": null
          }
        },
        "3891782288f34abc89028988aaf36108": {
          "model_module": "@jupyter-widgets/controls",
          "model_name": "HBoxModel",
          "model_module_version": "1.5.0",
          "state": {
            "_view_name": "HBoxView",
            "_dom_classes": [],
            "_model_name": "HBoxModel",
            "_view_module": "@jupyter-widgets/controls",
            "_model_module_version": "1.5.0",
            "_view_count": null,
            "_view_module_version": "1.5.0",
            "box_style": "",
            "layout": "IPY_MODEL_1460210fe717437aa1a16da9ad8543a5",
            "_model_module": "@jupyter-widgets/controls",
            "children": [
              "IPY_MODEL_dcaa5b4e724c4bbbb6da90f399aef9ac",
              "IPY_MODEL_71a82602d29b4908bf3c84c066e19b21",
              "IPY_MODEL_812fcd3c3e2f4bb980c0dbb0ab1f5c1a"
            ]
          }
        },
        "1460210fe717437aa1a16da9ad8543a5": {
          "model_module": "@jupyter-widgets/base",
          "model_name": "LayoutModel",
          "model_module_version": "1.2.0",
          "state": {
            "_view_name": "LayoutView",
            "grid_template_rows": null,
            "right": null,
            "justify_content": null,
            "_view_module": "@jupyter-widgets/base",
            "overflow": null,
            "_model_module_version": "1.2.0",
            "_view_count": null,
            "flex_flow": null,
            "width": null,
            "min_width": null,
            "border": null,
            "align_items": null,
            "bottom": null,
            "_model_module": "@jupyter-widgets/base",
            "top": null,
            "grid_column": null,
            "overflow_y": null,
            "overflow_x": null,
            "grid_auto_flow": null,
            "grid_area": null,
            "grid_template_columns": null,
            "flex": null,
            "_model_name": "LayoutModel",
            "justify_items": null,
            "grid_row": null,
            "max_height": null,
            "align_content": null,
            "visibility": null,
            "align_self": null,
            "height": null,
            "min_height": null,
            "padding": null,
            "grid_auto_rows": null,
            "grid_gap": null,
            "max_width": null,
            "order": null,
            "_view_module_version": "1.2.0",
            "grid_template_areas": null,
            "object_position": null,
            "object_fit": null,
            "grid_auto_columns": null,
            "margin": null,
            "display": null,
            "left": null
          }
        },
        "dcaa5b4e724c4bbbb6da90f399aef9ac": {
          "model_module": "@jupyter-widgets/controls",
          "model_name": "HTMLModel",
          "model_module_version": "1.5.0",
          "state": {
            "_view_name": "HTMLView",
            "style": "IPY_MODEL_b9e15c61fd9546e28c162716380176a4",
            "_dom_classes": [],
            "description": "",
            "_model_name": "HTMLModel",
            "placeholder": "​",
            "_view_module": "@jupyter-widgets/controls",
            "_model_module_version": "1.5.0",
            "value": "Downloading: 100%",
            "_view_count": null,
            "_view_module_version": "1.5.0",
            "description_tooltip": null,
            "_model_module": "@jupyter-widgets/controls",
            "layout": "IPY_MODEL_26cf4d2112144beeafa13672fe22344f"
          }
        },
        "71a82602d29b4908bf3c84c066e19b21": {
          "model_module": "@jupyter-widgets/controls",
          "model_name": "FloatProgressModel",
          "model_module_version": "1.5.0",
          "state": {
            "_view_name": "ProgressView",
            "style": "IPY_MODEL_fce2a2afd6094d009c825980ca54890f",
            "_dom_classes": [],
            "description": "",
            "_model_name": "FloatProgressModel",
            "bar_style": "success",
            "max": 112,
            "_view_module": "@jupyter-widgets/controls",
            "_model_module_version": "1.5.0",
            "value": 112,
            "_view_count": null,
            "_view_module_version": "1.5.0",
            "orientation": "horizontal",
            "min": 0,
            "description_tooltip": null,
            "_model_module": "@jupyter-widgets/controls",
            "layout": "IPY_MODEL_b1c032ba1358463ca344354611297d7c"
          }
        },
        "812fcd3c3e2f4bb980c0dbb0ab1f5c1a": {
          "model_module": "@jupyter-widgets/controls",
          "model_name": "HTMLModel",
          "model_module_version": "1.5.0",
          "state": {
            "_view_name": "HTMLView",
            "style": "IPY_MODEL_dfe9e8d6330c4908971097a4abdc8273",
            "_dom_classes": [],
            "description": "",
            "_model_name": "HTMLModel",
            "placeholder": "​",
            "_view_module": "@jupyter-widgets/controls",
            "_model_module_version": "1.5.0",
            "value": " 112/112 [00:00&lt;00:00, 2.70kB/s]",
            "_view_count": null,
            "_view_module_version": "1.5.0",
            "description_tooltip": null,
            "_model_module": "@jupyter-widgets/controls",
            "layout": "IPY_MODEL_f6cac351189b4608a8ede630aa431a66"
          }
        },
        "b9e15c61fd9546e28c162716380176a4": {
          "model_module": "@jupyter-widgets/controls",
          "model_name": "DescriptionStyleModel",
          "model_module_version": "1.5.0",
          "state": {
            "_view_name": "StyleView",
            "_model_name": "DescriptionStyleModel",
            "description_width": "",
            "_view_module": "@jupyter-widgets/base",
            "_model_module_version": "1.5.0",
            "_view_count": null,
            "_view_module_version": "1.2.0",
            "_model_module": "@jupyter-widgets/controls"
          }
        },
        "26cf4d2112144beeafa13672fe22344f": {
          "model_module": "@jupyter-widgets/base",
          "model_name": "LayoutModel",
          "model_module_version": "1.2.0",
          "state": {
            "_view_name": "LayoutView",
            "grid_template_rows": null,
            "right": null,
            "justify_content": null,
            "_view_module": "@jupyter-widgets/base",
            "overflow": null,
            "_model_module_version": "1.2.0",
            "_view_count": null,
            "flex_flow": null,
            "width": null,
            "min_width": null,
            "border": null,
            "align_items": null,
            "bottom": null,
            "_model_module": "@jupyter-widgets/base",
            "top": null,
            "grid_column": null,
            "overflow_y": null,
            "overflow_x": null,
            "grid_auto_flow": null,
            "grid_area": null,
            "grid_template_columns": null,
            "flex": null,
            "_model_name": "LayoutModel",
            "justify_items": null,
            "grid_row": null,
            "max_height": null,
            "align_content": null,
            "visibility": null,
            "align_self": null,
            "height": null,
            "min_height": null,
            "padding": null,
            "grid_auto_rows": null,
            "grid_gap": null,
            "max_width": null,
            "order": null,
            "_view_module_version": "1.2.0",
            "grid_template_areas": null,
            "object_position": null,
            "object_fit": null,
            "grid_auto_columns": null,
            "margin": null,
            "display": null,
            "left": null
          }
        },
        "fce2a2afd6094d009c825980ca54890f": {
          "model_module": "@jupyter-widgets/controls",
          "model_name": "ProgressStyleModel",
          "model_module_version": "1.5.0",
          "state": {
            "_view_name": "StyleView",
            "_model_name": "ProgressStyleModel",
            "description_width": "",
            "_view_module": "@jupyter-widgets/base",
            "_model_module_version": "1.5.0",
            "_view_count": null,
            "_view_module_version": "1.2.0",
            "bar_color": null,
            "_model_module": "@jupyter-widgets/controls"
          }
        },
        "b1c032ba1358463ca344354611297d7c": {
          "model_module": "@jupyter-widgets/base",
          "model_name": "LayoutModel",
          "model_module_version": "1.2.0",
          "state": {
            "_view_name": "LayoutView",
            "grid_template_rows": null,
            "right": null,
            "justify_content": null,
            "_view_module": "@jupyter-widgets/base",
            "overflow": null,
            "_model_module_version": "1.2.0",
            "_view_count": null,
            "flex_flow": null,
            "width": null,
            "min_width": null,
            "border": null,
            "align_items": null,
            "bottom": null,
            "_model_module": "@jupyter-widgets/base",
            "top": null,
            "grid_column": null,
            "overflow_y": null,
            "overflow_x": null,
            "grid_auto_flow": null,
            "grid_area": null,
            "grid_template_columns": null,
            "flex": null,
            "_model_name": "LayoutModel",
            "justify_items": null,
            "grid_row": null,
            "max_height": null,
            "align_content": null,
            "visibility": null,
            "align_self": null,
            "height": null,
            "min_height": null,
            "padding": null,
            "grid_auto_rows": null,
            "grid_gap": null,
            "max_width": null,
            "order": null,
            "_view_module_version": "1.2.0",
            "grid_template_areas": null,
            "object_position": null,
            "object_fit": null,
            "grid_auto_columns": null,
            "margin": null,
            "display": null,
            "left": null
          }
        },
        "dfe9e8d6330c4908971097a4abdc8273": {
          "model_module": "@jupyter-widgets/controls",
          "model_name": "DescriptionStyleModel",
          "model_module_version": "1.5.0",
          "state": {
            "_view_name": "StyleView",
            "_model_name": "DescriptionStyleModel",
            "description_width": "",
            "_view_module": "@jupyter-widgets/base",
            "_model_module_version": "1.5.0",
            "_view_count": null,
            "_view_module_version": "1.2.0",
            "_model_module": "@jupyter-widgets/controls"
          }
        },
        "f6cac351189b4608a8ede630aa431a66": {
          "model_module": "@jupyter-widgets/base",
          "model_name": "LayoutModel",
          "model_module_version": "1.2.0",
          "state": {
            "_view_name": "LayoutView",
            "grid_template_rows": null,
            "right": null,
            "justify_content": null,
            "_view_module": "@jupyter-widgets/base",
            "overflow": null,
            "_model_module_version": "1.2.0",
            "_view_count": null,
            "flex_flow": null,
            "width": null,
            "min_width": null,
            "border": null,
            "align_items": null,
            "bottom": null,
            "_model_module": "@jupyter-widgets/base",
            "top": null,
            "grid_column": null,
            "overflow_y": null,
            "overflow_x": null,
            "grid_auto_flow": null,
            "grid_area": null,
            "grid_template_columns": null,
            "flex": null,
            "_model_name": "LayoutModel",
            "justify_items": null,
            "grid_row": null,
            "max_height": null,
            "align_content": null,
            "visibility": null,
            "align_self": null,
            "height": null,
            "min_height": null,
            "padding": null,
            "grid_auto_rows": null,
            "grid_gap": null,
            "max_width": null,
            "order": null,
            "_view_module_version": "1.2.0",
            "grid_template_areas": null,
            "object_position": null,
            "object_fit": null,
            "grid_auto_columns": null,
            "margin": null,
            "display": null,
            "left": null
          }
        },
        "55a4001be5f44841b2e6813bc95dba77": {
          "model_module": "@jupyter-widgets/controls",
          "model_name": "HBoxModel",
          "model_module_version": "1.5.0",
          "state": {
            "_view_name": "HBoxView",
            "_dom_classes": [],
            "_model_name": "HBoxModel",
            "_view_module": "@jupyter-widgets/controls",
            "_model_module_version": "1.5.0",
            "_view_count": null,
            "_view_module_version": "1.5.0",
            "box_style": "",
            "layout": "IPY_MODEL_faa9052f541a4c2b84350af5c5366c6d",
            "_model_module": "@jupyter-widgets/controls",
            "children": [
              "IPY_MODEL_acc7046da7aa45659c0060c91b4c638a",
              "IPY_MODEL_02d8f305232c4c6e99feae3e05a5c3a0",
              "IPY_MODEL_8df4fdaace4548cab90492c437659763"
            ]
          }
        },
        "faa9052f541a4c2b84350af5c5366c6d": {
          "model_module": "@jupyter-widgets/base",
          "model_name": "LayoutModel",
          "model_module_version": "1.2.0",
          "state": {
            "_view_name": "LayoutView",
            "grid_template_rows": null,
            "right": null,
            "justify_content": null,
            "_view_module": "@jupyter-widgets/base",
            "overflow": null,
            "_model_module_version": "1.2.0",
            "_view_count": null,
            "flex_flow": null,
            "width": null,
            "min_width": null,
            "border": null,
            "align_items": null,
            "bottom": null,
            "_model_module": "@jupyter-widgets/base",
            "top": null,
            "grid_column": null,
            "overflow_y": null,
            "overflow_x": null,
            "grid_auto_flow": null,
            "grid_area": null,
            "grid_template_columns": null,
            "flex": null,
            "_model_name": "LayoutModel",
            "justify_items": null,
            "grid_row": null,
            "max_height": null,
            "align_content": null,
            "visibility": null,
            "align_self": null,
            "height": null,
            "min_height": null,
            "padding": null,
            "grid_auto_rows": null,
            "grid_gap": null,
            "max_width": null,
            "order": null,
            "_view_module_version": "1.2.0",
            "grid_template_areas": null,
            "object_position": null,
            "object_fit": null,
            "grid_auto_columns": null,
            "margin": null,
            "display": null,
            "left": null
          }
        },
        "acc7046da7aa45659c0060c91b4c638a": {
          "model_module": "@jupyter-widgets/controls",
          "model_name": "HTMLModel",
          "model_module_version": "1.5.0",
          "state": {
            "_view_name": "HTMLView",
            "style": "IPY_MODEL_d4b3f48c0bcf4aeabe3192edff4e2bab",
            "_dom_classes": [],
            "description": "",
            "_model_name": "HTMLModel",
            "placeholder": "​",
            "_view_module": "@jupyter-widgets/controls",
            "_model_module_version": "1.5.0",
            "value": "Downloading: 100%",
            "_view_count": null,
            "_view_module_version": "1.5.0",
            "description_tooltip": null,
            "_model_module": "@jupyter-widgets/controls",
            "layout": "IPY_MODEL_624858e2db254588b8c86df452f7d967"
          }
        },
        "02d8f305232c4c6e99feae3e05a5c3a0": {
          "model_module": "@jupyter-widgets/controls",
          "model_name": "FloatProgressModel",
          "model_module_version": "1.5.0",
          "state": {
            "_view_name": "ProgressView",
            "style": "IPY_MODEL_7afc75f6fca74ce49c3d22ede3ad35ab",
            "_dom_classes": [],
            "description": "",
            "_model_name": "FloatProgressModel",
            "bar_style": "success",
            "max": 711506022,
            "_view_module": "@jupyter-widgets/controls",
            "_model_module_version": "1.5.0",
            "value": 711506022,
            "_view_count": null,
            "_view_module_version": "1.5.0",
            "orientation": "horizontal",
            "min": 0,
            "description_tooltip": null,
            "_model_module": "@jupyter-widgets/controls",
            "layout": "IPY_MODEL_82058aed393040a5811c5ab1779f2c27"
          }
        },
        "8df4fdaace4548cab90492c437659763": {
          "model_module": "@jupyter-widgets/controls",
          "model_name": "HTMLModel",
          "model_module_version": "1.5.0",
          "state": {
            "_view_name": "HTMLView",
            "style": "IPY_MODEL_cd1af0906aed4a60957e345e0d9f208b",
            "_dom_classes": [],
            "description": "",
            "_model_name": "HTMLModel",
            "placeholder": "​",
            "_view_module": "@jupyter-widgets/controls",
            "_model_module_version": "1.5.0",
            "value": " 712M/712M [00:23&lt;00:00, 27.8MB/s]",
            "_view_count": null,
            "_view_module_version": "1.5.0",
            "description_tooltip": null,
            "_model_module": "@jupyter-widgets/controls",
            "layout": "IPY_MODEL_a543e85e4f9d4b15bbddcf416b28338b"
          }
        },
        "d4b3f48c0bcf4aeabe3192edff4e2bab": {
          "model_module": "@jupyter-widgets/controls",
          "model_name": "DescriptionStyleModel",
          "model_module_version": "1.5.0",
          "state": {
            "_view_name": "StyleView",
            "_model_name": "DescriptionStyleModel",
            "description_width": "",
            "_view_module": "@jupyter-widgets/base",
            "_model_module_version": "1.5.0",
            "_view_count": null,
            "_view_module_version": "1.2.0",
            "_model_module": "@jupyter-widgets/controls"
          }
        },
        "624858e2db254588b8c86df452f7d967": {
          "model_module": "@jupyter-widgets/base",
          "model_name": "LayoutModel",
          "model_module_version": "1.2.0",
          "state": {
            "_view_name": "LayoutView",
            "grid_template_rows": null,
            "right": null,
            "justify_content": null,
            "_view_module": "@jupyter-widgets/base",
            "overflow": null,
            "_model_module_version": "1.2.0",
            "_view_count": null,
            "flex_flow": null,
            "width": null,
            "min_width": null,
            "border": null,
            "align_items": null,
            "bottom": null,
            "_model_module": "@jupyter-widgets/base",
            "top": null,
            "grid_column": null,
            "overflow_y": null,
            "overflow_x": null,
            "grid_auto_flow": null,
            "grid_area": null,
            "grid_template_columns": null,
            "flex": null,
            "_model_name": "LayoutModel",
            "justify_items": null,
            "grid_row": null,
            "max_height": null,
            "align_content": null,
            "visibility": null,
            "align_self": null,
            "height": null,
            "min_height": null,
            "padding": null,
            "grid_auto_rows": null,
            "grid_gap": null,
            "max_width": null,
            "order": null,
            "_view_module_version": "1.2.0",
            "grid_template_areas": null,
            "object_position": null,
            "object_fit": null,
            "grid_auto_columns": null,
            "margin": null,
            "display": null,
            "left": null
          }
        },
        "7afc75f6fca74ce49c3d22ede3ad35ab": {
          "model_module": "@jupyter-widgets/controls",
          "model_name": "ProgressStyleModel",
          "model_module_version": "1.5.0",
          "state": {
            "_view_name": "StyleView",
            "_model_name": "ProgressStyleModel",
            "description_width": "",
            "_view_module": "@jupyter-widgets/base",
            "_model_module_version": "1.5.0",
            "_view_count": null,
            "_view_module_version": "1.2.0",
            "bar_color": null,
            "_model_module": "@jupyter-widgets/controls"
          }
        },
        "82058aed393040a5811c5ab1779f2c27": {
          "model_module": "@jupyter-widgets/base",
          "model_name": "LayoutModel",
          "model_module_version": "1.2.0",
          "state": {
            "_view_name": "LayoutView",
            "grid_template_rows": null,
            "right": null,
            "justify_content": null,
            "_view_module": "@jupyter-widgets/base",
            "overflow": null,
            "_model_module_version": "1.2.0",
            "_view_count": null,
            "flex_flow": null,
            "width": null,
            "min_width": null,
            "border": null,
            "align_items": null,
            "bottom": null,
            "_model_module": "@jupyter-widgets/base",
            "top": null,
            "grid_column": null,
            "overflow_y": null,
            "overflow_x": null,
            "grid_auto_flow": null,
            "grid_area": null,
            "grid_template_columns": null,
            "flex": null,
            "_model_name": "LayoutModel",
            "justify_items": null,
            "grid_row": null,
            "max_height": null,
            "align_content": null,
            "visibility": null,
            "align_self": null,
            "height": null,
            "min_height": null,
            "padding": null,
            "grid_auto_rows": null,
            "grid_gap": null,
            "max_width": null,
            "order": null,
            "_view_module_version": "1.2.0",
            "grid_template_areas": null,
            "object_position": null,
            "object_fit": null,
            "grid_auto_columns": null,
            "margin": null,
            "display": null,
            "left": null
          }
        },
        "cd1af0906aed4a60957e345e0d9f208b": {
          "model_module": "@jupyter-widgets/controls",
          "model_name": "DescriptionStyleModel",
          "model_module_version": "1.5.0",
          "state": {
            "_view_name": "StyleView",
            "_model_name": "DescriptionStyleModel",
            "description_width": "",
            "_view_module": "@jupyter-widgets/base",
            "_model_module_version": "1.5.0",
            "_view_count": null,
            "_view_module_version": "1.2.0",
            "_model_module": "@jupyter-widgets/controls"
          }
        },
        "a543e85e4f9d4b15bbddcf416b28338b": {
          "model_module": "@jupyter-widgets/base",
          "model_name": "LayoutModel",
          "model_module_version": "1.2.0",
          "state": {
            "_view_name": "LayoutView",
            "grid_template_rows": null,
            "right": null,
            "justify_content": null,
            "_view_module": "@jupyter-widgets/base",
            "overflow": null,
            "_model_module_version": "1.2.0",
            "_view_count": null,
            "flex_flow": null,
            "width": null,
            "min_width": null,
            "border": null,
            "align_items": null,
            "bottom": null,
            "_model_module": "@jupyter-widgets/base",
            "top": null,
            "grid_column": null,
            "overflow_y": null,
            "overflow_x": null,
            "grid_auto_flow": null,
            "grid_area": null,
            "grid_template_columns": null,
            "flex": null,
            "_model_name": "LayoutModel",
            "justify_items": null,
            "grid_row": null,
            "max_height": null,
            "align_content": null,
            "visibility": null,
            "align_self": null,
            "height": null,
            "min_height": null,
            "padding": null,
            "grid_auto_rows": null,
            "grid_gap": null,
            "max_width": null,
            "order": null,
            "_view_module_version": "1.2.0",
            "grid_template_areas": null,
            "object_position": null,
            "object_fit": null,
            "grid_auto_columns": null,
            "margin": null,
            "display": null,
            "left": null
          }
        },
        "71d5b18f558c417c9d19393457395963": {
          "model_module": "@jupyter-widgets/controls",
          "model_name": "HBoxModel",
          "model_module_version": "1.5.0",
          "state": {
            "_view_name": "HBoxView",
            "_dom_classes": [],
            "_model_name": "HBoxModel",
            "_view_module": "@jupyter-widgets/controls",
            "_model_module_version": "1.5.0",
            "_view_count": null,
            "_view_module_version": "1.5.0",
            "box_style": "",
            "layout": "IPY_MODEL_53d8d03c225a4140aa50040085db958e",
            "_model_module": "@jupyter-widgets/controls",
            "children": [
              "IPY_MODEL_e9180ab64a374c7eb6ae738f381b44dd",
              "IPY_MODEL_fd19f06e316e4822a6c3563bdffcdf5e",
              "IPY_MODEL_0c6984b5713c4d6e827e1c0ed05d2312"
            ]
          }
        },
        "53d8d03c225a4140aa50040085db958e": {
          "model_module": "@jupyter-widgets/base",
          "model_name": "LayoutModel",
          "model_module_version": "1.2.0",
          "state": {
            "_view_name": "LayoutView",
            "grid_template_rows": null,
            "right": null,
            "justify_content": null,
            "_view_module": "@jupyter-widgets/base",
            "overflow": null,
            "_model_module_version": "1.2.0",
            "_view_count": null,
            "flex_flow": null,
            "width": null,
            "min_width": null,
            "border": null,
            "align_items": null,
            "bottom": null,
            "_model_module": "@jupyter-widgets/base",
            "top": null,
            "grid_column": null,
            "overflow_y": null,
            "overflow_x": null,
            "grid_auto_flow": null,
            "grid_area": null,
            "grid_template_columns": null,
            "flex": null,
            "_model_name": "LayoutModel",
            "justify_items": null,
            "grid_row": null,
            "max_height": null,
            "align_content": null,
            "visibility": null,
            "align_self": null,
            "height": null,
            "min_height": null,
            "padding": null,
            "grid_auto_rows": null,
            "grid_gap": null,
            "max_width": null,
            "order": null,
            "_view_module_version": "1.2.0",
            "grid_template_areas": null,
            "object_position": null,
            "object_fit": null,
            "grid_auto_columns": null,
            "margin": null,
            "display": null,
            "left": null
          }
        },
        "e9180ab64a374c7eb6ae738f381b44dd": {
          "model_module": "@jupyter-widgets/controls",
          "model_name": "HTMLModel",
          "model_module_version": "1.5.0",
          "state": {
            "_view_name": "HTMLView",
            "style": "IPY_MODEL_16375786d1c94ae7aa9e52ff1a7a473f",
            "_dom_classes": [],
            "description": "",
            "_model_name": "HTMLModel",
            "placeholder": "​",
            "_view_module": "@jupyter-widgets/controls",
            "_model_module_version": "1.5.0",
            "value": "Upload file pytorch_model.bin: 100%",
            "_view_count": null,
            "_view_module_version": "1.5.0",
            "description_tooltip": null,
            "_model_module": "@jupyter-widgets/controls",
            "layout": "IPY_MODEL_106a945b14a64a13acdd0141072bbc49"
          }
        },
        "fd19f06e316e4822a6c3563bdffcdf5e": {
          "model_module": "@jupyter-widgets/controls",
          "model_name": "FloatProgressModel",
          "model_module_version": "1.5.0",
          "state": {
            "_view_name": "ProgressView",
            "style": "IPY_MODEL_c7fc0cdc91134970b7bb8088da5dccf3",
            "_dom_classes": [],
            "description": "",
            "_model_name": "FloatProgressModel",
            "bar_style": "success",
            "max": 711504045,
            "_view_module": "@jupyter-widgets/controls",
            "_model_module_version": "1.5.0",
            "value": 711504045,
            "_view_count": null,
            "_view_module_version": "1.5.0",
            "orientation": "horizontal",
            "min": 0,
            "description_tooltip": null,
            "_model_module": "@jupyter-widgets/controls",
            "layout": "IPY_MODEL_ae646e5f0f954fd3af91b3a4ba13cb02"
          }
        },
        "0c6984b5713c4d6e827e1c0ed05d2312": {
          "model_module": "@jupyter-widgets/controls",
          "model_name": "HTMLModel",
          "model_module_version": "1.5.0",
          "state": {
            "_view_name": "HTMLView",
            "style": "IPY_MODEL_7553070bc3534c4c9a9661323f49d73b",
            "_dom_classes": [],
            "description": "",
            "_model_name": "HTMLModel",
            "placeholder": "​",
            "_view_module": "@jupyter-widgets/controls",
            "_model_module_version": "1.5.0",
            "value": " 679M/679M [11:15&lt;00:00, 977kB/s]",
            "_view_count": null,
            "_view_module_version": "1.5.0",
            "description_tooltip": null,
            "_model_module": "@jupyter-widgets/controls",
            "layout": "IPY_MODEL_ebf5f5dbdb724eb589d13f32431c1626"
          }
        },
        "16375786d1c94ae7aa9e52ff1a7a473f": {
          "model_module": "@jupyter-widgets/controls",
          "model_name": "DescriptionStyleModel",
          "model_module_version": "1.5.0",
          "state": {
            "_view_name": "StyleView",
            "_model_name": "DescriptionStyleModel",
            "description_width": "",
            "_view_module": "@jupyter-widgets/base",
            "_model_module_version": "1.5.0",
            "_view_count": null,
            "_view_module_version": "1.2.0",
            "_model_module": "@jupyter-widgets/controls"
          }
        },
        "106a945b14a64a13acdd0141072bbc49": {
          "model_module": "@jupyter-widgets/base",
          "model_name": "LayoutModel",
          "model_module_version": "1.2.0",
          "state": {
            "_view_name": "LayoutView",
            "grid_template_rows": null,
            "right": null,
            "justify_content": null,
            "_view_module": "@jupyter-widgets/base",
            "overflow": null,
            "_model_module_version": "1.2.0",
            "_view_count": null,
            "flex_flow": null,
            "width": null,
            "min_width": null,
            "border": null,
            "align_items": null,
            "bottom": null,
            "_model_module": "@jupyter-widgets/base",
            "top": null,
            "grid_column": null,
            "overflow_y": null,
            "overflow_x": null,
            "grid_auto_flow": null,
            "grid_area": null,
            "grid_template_columns": null,
            "flex": null,
            "_model_name": "LayoutModel",
            "justify_items": null,
            "grid_row": null,
            "max_height": null,
            "align_content": null,
            "visibility": null,
            "align_self": null,
            "height": null,
            "min_height": null,
            "padding": null,
            "grid_auto_rows": null,
            "grid_gap": null,
            "max_width": null,
            "order": null,
            "_view_module_version": "1.2.0",
            "grid_template_areas": null,
            "object_position": null,
            "object_fit": null,
            "grid_auto_columns": null,
            "margin": null,
            "display": null,
            "left": null
          }
        },
        "c7fc0cdc91134970b7bb8088da5dccf3": {
          "model_module": "@jupyter-widgets/controls",
          "model_name": "ProgressStyleModel",
          "model_module_version": "1.5.0",
          "state": {
            "_view_name": "StyleView",
            "_model_name": "ProgressStyleModel",
            "description_width": "",
            "_view_module": "@jupyter-widgets/base",
            "_model_module_version": "1.5.0",
            "_view_count": null,
            "_view_module_version": "1.2.0",
            "bar_color": null,
            "_model_module": "@jupyter-widgets/controls"
          }
        },
        "ae646e5f0f954fd3af91b3a4ba13cb02": {
          "model_module": "@jupyter-widgets/base",
          "model_name": "LayoutModel",
          "model_module_version": "1.2.0",
          "state": {
            "_view_name": "LayoutView",
            "grid_template_rows": null,
            "right": null,
            "justify_content": null,
            "_view_module": "@jupyter-widgets/base",
            "overflow": null,
            "_model_module_version": "1.2.0",
            "_view_count": null,
            "flex_flow": null,
            "width": null,
            "min_width": null,
            "border": null,
            "align_items": null,
            "bottom": null,
            "_model_module": "@jupyter-widgets/base",
            "top": null,
            "grid_column": null,
            "overflow_y": null,
            "overflow_x": null,
            "grid_auto_flow": null,
            "grid_area": null,
            "grid_template_columns": null,
            "flex": null,
            "_model_name": "LayoutModel",
            "justify_items": null,
            "grid_row": null,
            "max_height": null,
            "align_content": null,
            "visibility": null,
            "align_self": null,
            "height": null,
            "min_height": null,
            "padding": null,
            "grid_auto_rows": null,
            "grid_gap": null,
            "max_width": null,
            "order": null,
            "_view_module_version": "1.2.0",
            "grid_template_areas": null,
            "object_position": null,
            "object_fit": null,
            "grid_auto_columns": null,
            "margin": null,
            "display": null,
            "left": null
          }
        },
        "7553070bc3534c4c9a9661323f49d73b": {
          "model_module": "@jupyter-widgets/controls",
          "model_name": "DescriptionStyleModel",
          "model_module_version": "1.5.0",
          "state": {
            "_view_name": "StyleView",
            "_model_name": "DescriptionStyleModel",
            "description_width": "",
            "_view_module": "@jupyter-widgets/base",
            "_model_module_version": "1.5.0",
            "_view_count": null,
            "_view_module_version": "1.2.0",
            "_model_module": "@jupyter-widgets/controls"
          }
        },
        "ebf5f5dbdb724eb589d13f32431c1626": {
          "model_module": "@jupyter-widgets/base",
          "model_name": "LayoutModel",
          "model_module_version": "1.2.0",
          "state": {
            "_view_name": "LayoutView",
            "grid_template_rows": null,
            "right": null,
            "justify_content": null,
            "_view_module": "@jupyter-widgets/base",
            "overflow": null,
            "_model_module_version": "1.2.0",
            "_view_count": null,
            "flex_flow": null,
            "width": null,
            "min_width": null,
            "border": null,
            "align_items": null,
            "bottom": null,
            "_model_module": "@jupyter-widgets/base",
            "top": null,
            "grid_column": null,
            "overflow_y": null,
            "overflow_x": null,
            "grid_auto_flow": null,
            "grid_area": null,
            "grid_template_columns": null,
            "flex": null,
            "_model_name": "LayoutModel",
            "justify_items": null,
            "grid_row": null,
            "max_height": null,
            "align_content": null,
            "visibility": null,
            "align_self": null,
            "height": null,
            "min_height": null,
            "padding": null,
            "grid_auto_rows": null,
            "grid_gap": null,
            "max_width": null,
            "order": null,
            "_view_module_version": "1.2.0",
            "grid_template_areas": null,
            "object_position": null,
            "object_fit": null,
            "grid_auto_columns": null,
            "margin": null,
            "display": null,
            "left": null
          }
        }
      }
    },
    "accelerator": "GPU"
  },
  "cells": [
    {
      "cell_type": "markdown",
      "metadata": {
        "id": "view-in-github",
        "colab_type": "text"
      },
      "source": [
        "<a href=\"https://colab.research.google.com/github/mahalakshmijinadoss/pooling/blob/main/hasoc2020hinberttaska.ipynb\" target=\"_parent\"><img src=\"https://colab.research.google.com/assets/colab-badge.svg\" alt=\"Open In Colab\"/></a>"
      ]
    },
    {
      "cell_type": "code",
      "execution_count": null,
      "metadata": {
        "colab": {
          "base_uri": "https://localhost:8080/"
        },
        "id": "tnyEPLZahKnK",
        "outputId": "18732c1a-91a4-41d3-aa0e-f5e362d1afba"
      },
      "outputs": [
        {
          "output_type": "stream",
          "name": "stdout",
          "text": [
            "\u001b[K     |████████████████████████████████| 2.8 MB 5.4 MB/s \n",
            "\u001b[K     |████████████████████████████████| 311 kB 49.0 MB/s \n",
            "\u001b[K     |████████████████████████████████| 895 kB 46.9 MB/s \n",
            "\u001b[K     |████████████████████████████████| 67 kB 4.5 MB/s \n",
            "\u001b[K     |████████████████████████████████| 3.3 MB 33.2 MB/s \n",
            "\u001b[K     |████████████████████████████████| 596 kB 45.2 MB/s \n",
            "\u001b[K     |████████████████████████████████| 1.1 MB 41.5 MB/s \n",
            "\u001b[K     |████████████████████████████████| 243 kB 42.7 MB/s \n",
            "\u001b[K     |████████████████████████████████| 133 kB 50.9 MB/s \n",
            "\u001b[K     |████████████████████████████████| 1.1 MB 44.0 MB/s \n",
            "\u001b[K     |████████████████████████████████| 94 kB 2.8 MB/s \n",
            "\u001b[K     |████████████████████████████████| 271 kB 47.9 MB/s \n",
            "\u001b[K     |████████████████████████████████| 144 kB 49.4 MB/s \n",
            "\u001b[?25h"
          ]
        }
      ],
      "source": [
        "!pip install transformers[sentencepiece]==4.10.0 datasets --quiet\n"
      ]
    },
    {
      "cell_type": "markdown",
      "source": [
        "HINDI HASOC 20 TASK A\n"
      ],
      "metadata": {
        "id": "jZp6MwBMo_Iz"
      }
    },
    {
      "cell_type": "code",
      "source": [
        "!python -c  \"import transformers;print(transformers.__version__)\"\n"
      ],
      "metadata": {
        "colab": {
          "base_uri": "https://localhost:8080/"
        },
        "id": "Zz4GyJ8VhPAg",
        "outputId": "3f35d9e8-3985-4010-8887-8688bcd52106"
      },
      "execution_count": null,
      "outputs": [
        {
          "output_type": "stream",
          "name": "stdout",
          "text": [
            "4.10.0\n"
          ]
        }
      ]
    },
    {
      "cell_type": "code",
      "source": [
        "!pip install -qq ipython-autotime\n",
        "\n",
        "%load_ext autotime"
      ],
      "metadata": {
        "colab": {
          "base_uri": "https://localhost:8080/"
        },
        "id": "IYr9XHDYhTKy",
        "outputId": "fa5d20d8-cd8f-4385-9426-5ebca9099aca"
      },
      "execution_count": null,
      "outputs": [
        {
          "output_type": "stream",
          "name": "stdout",
          "text": [
            "time: 165 µs (started: 2022-02-09 17:45:02 +00:00)\n"
          ]
        }
      ]
    },
    {
      "cell_type": "code",
      "source": [
        "import torch\n",
        "torch.cuda.empty_cache()\n"
      ],
      "metadata": {
        "colab": {
          "base_uri": "https://localhost:8080/"
        },
        "id": "qUTGnCf5l109",
        "outputId": "8e2c1a5c-b816-4e85-8f54-5f99131da8d8"
      },
      "execution_count": null,
      "outputs": [
        {
          "output_type": "stream",
          "name": "stdout",
          "text": [
            "time: 843 ms (started: 2022-02-09 17:46:42 +00:00)\n"
          ]
        }
      ]
    },
    {
      "cell_type": "code",
      "source": [
        "import numpy as np\n",
        "import torch\n",
        "import random\n",
        "from transformers.file_utils import is_tf_available, is_torch_available, is_torch_tpu_available"
      ],
      "metadata": {
        "colab": {
          "base_uri": "https://localhost:8080/"
        },
        "id": "zeIeWOnMhT8I",
        "outputId": "eb8dc25f-cba9-4dbe-b066-b30589feabfb"
      },
      "execution_count": null,
      "outputs": [
        {
          "output_type": "stream",
          "name": "stdout",
          "text": [
            "time: 147 ms (started: 2022-02-09 17:46:54 +00:00)\n"
          ]
        }
      ]
    },
    {
      "cell_type": "code",
      "source": [
        "def set_seed(seed: int):\n",
        "    \"\"\"\n",
        "    Helper function for reproducible behavior to set the seed in ``random``, ``numpy``, ``torch`` and/or ``tf`` (if\n",
        "    installed).\n",
        "\n",
        "    Args:\n",
        "        seed (:obj:`int`): The seed to set.\n",
        "    \"\"\"\n",
        "    random.seed(seed)\n",
        "    np.random.seed(seed)\n",
        "    if is_torch_available():\n",
        "        torch.manual_seed(seed)\n",
        "        torch.cuda.manual_seed_all(seed)\n",
        "        # ^^ safe to call this function even if cuda is not available\n",
        "    if is_tf_available():\n",
        "        import tensorflow as tf\n",
        "\n",
        "        tf.random.set_seed(seed)\n",
        "\n",
        "set_seed(1)"
      ],
      "metadata": {
        "colab": {
          "base_uri": "https://localhost:8080/"
        },
        "id": "nCU4HaVHhYHu",
        "outputId": "cb9f0f7b-4ca9-4aa3-c439-18f93d8592d8"
      },
      "execution_count": null,
      "outputs": [
        {
          "output_type": "stream",
          "name": "stdout",
          "text": [
            "time: 2.75 s (started: 2022-02-09 17:46:56 +00:00)\n"
          ]
        }
      ]
    },
    {
      "cell_type": "code",
      "source": [
        "import pandas as pd\n",
        "import numpy as np\n"
      ],
      "metadata": {
        "colab": {
          "base_uri": "https://localhost:8080/"
        },
        "id": "5py3GSi0hanI",
        "outputId": "0645f8ed-3f0d-4383-91ff-3953dd79fe9c"
      },
      "execution_count": null,
      "outputs": [
        {
          "output_type": "stream",
          "name": "stdout",
          "text": [
            "time: 1.26 ms (started: 2022-02-09 17:47:01 +00:00)\n"
          ]
        }
      ]
    },
    {
      "cell_type": "code",
      "source": [
        "from transformers import DataCollatorWithPadding\n"
      ],
      "metadata": {
        "colab": {
          "base_uri": "https://localhost:8080/"
        },
        "id": "f1p348_nhpxE",
        "outputId": "9dd4c23a-1321-46be-fc6b-9cf150f7536a"
      },
      "execution_count": null,
      "outputs": [
        {
          "output_type": "stream",
          "name": "stdout",
          "text": [
            "time: 271 ms (started: 2022-02-09 17:47:03 +00:00)\n"
          ]
        }
      ]
    },
    {
      "cell_type": "code",
      "source": [
        "!pip install wandb --quiet\n",
        "\n",
        "import wandb\n",
        "wandb.login()\n"
      ],
      "metadata": {
        "colab": {
          "base_uri": "https://localhost:8080/",
          "height": 153
        },
        "id": "e9p8TycHhqdJ",
        "outputId": "b49678f8-168a-445c-8f75-6a359a007f5f"
      },
      "execution_count": null,
      "outputs": [
        {
          "output_type": "stream",
          "name": "stdout",
          "text": [
            "\u001b[K     |████████████████████████████████| 1.7 MB 4.8 MB/s \n",
            "\u001b[K     |████████████████████████████████| 180 kB 45.2 MB/s \n",
            "\u001b[K     |████████████████████████████████| 143 kB 32.1 MB/s \n",
            "\u001b[K     |████████████████████████████████| 63 kB 1.6 MB/s \n",
            "\u001b[?25h  Building wheel for pathtools (setup.py) ... \u001b[?25l\u001b[?25hdone\n"
          ]
        },
        {
          "output_type": "display_data",
          "data": {
            "application/javascript": [
              "\n",
              "        window._wandbApiKey = new Promise((resolve, reject) => {\n",
              "            function loadScript(url) {\n",
              "            return new Promise(function(resolve, reject) {\n",
              "                let newScript = document.createElement(\"script\");\n",
              "                newScript.onerror = reject;\n",
              "                newScript.onload = resolve;\n",
              "                document.body.appendChild(newScript);\n",
              "                newScript.src = url;\n",
              "            });\n",
              "            }\n",
              "            loadScript(\"https://cdn.jsdelivr.net/npm/postmate/build/postmate.min.js\").then(() => {\n",
              "            const iframe = document.createElement('iframe')\n",
              "            iframe.style.cssText = \"width:0;height:0;border:none\"\n",
              "            document.body.appendChild(iframe)\n",
              "            const handshake = new Postmate({\n",
              "                container: iframe,\n",
              "                url: 'https://wandb.ai/authorize'\n",
              "            });\n",
              "            const timeout = setTimeout(() => reject(\"Couldn't auto authenticate\"), 5000)\n",
              "            handshake.then(function(child) {\n",
              "                child.on('authorize', data => {\n",
              "                    clearTimeout(timeout)\n",
              "                    resolve(data)\n",
              "                });\n",
              "            });\n",
              "            })\n",
              "        });\n",
              "    "
            ],
            "text/plain": [
              "<IPython.core.display.Javascript object>"
            ]
          },
          "metadata": {}
        },
        {
          "output_type": "stream",
          "name": "stderr",
          "text": [
            "\u001b[34m\u001b[1mwandb\u001b[0m: Appending key for api.wandb.ai to your netrc file: /root/.netrc\n"
          ]
        },
        {
          "output_type": "execute_result",
          "data": {
            "text/plain": [
              "True"
            ]
          },
          "metadata": {},
          "execution_count": 10
        },
        {
          "output_type": "stream",
          "name": "stdout",
          "text": [
            "time: 14.6 s (started: 2022-02-09 17:47:05 +00:00)\n"
          ]
        }
      ]
    },
    {
      "cell_type": "code",
      "source": [
        "%env WANDB_PROJECT=OGBV_task_hasos20"
      ],
      "metadata": {
        "colab": {
          "base_uri": "https://localhost:8080/"
        },
        "id": "aNSvv4EYh1Ux",
        "outputId": "95dfc839-0372-44cd-c9bd-836df457a291"
      },
      "execution_count": null,
      "outputs": [
        {
          "output_type": "stream",
          "name": "stdout",
          "text": [
            "env: WANDB_PROJECT=OGBV_task_hasos20\n",
            "time: 2.97 ms (started: 2022-02-09 17:47:38 +00:00)\n"
          ]
        }
      ]
    },
    {
      "cell_type": "code",
      "source": [
        "!huggingface-cli login\n"
      ],
      "metadata": {
        "colab": {
          "base_uri": "https://localhost:8080/"
        },
        "id": "k_pViQVDh4gO",
        "outputId": "53d95b73-7533-4094-c913-ea6ee3f0cfb8"
      },
      "execution_count": null,
      "outputs": [
        {
          "output_type": "stream",
          "name": "stdout",
          "text": [
            "\n",
            "        _|    _|  _|    _|    _|_|_|    _|_|_|  _|_|_|  _|      _|    _|_|_|      _|_|_|_|    _|_|      _|_|_|  _|_|_|_|\n",
            "        _|    _|  _|    _|  _|        _|          _|    _|_|    _|  _|            _|        _|    _|  _|        _|\n",
            "        _|_|_|_|  _|    _|  _|  _|_|  _|  _|_|    _|    _|  _|  _|  _|  _|_|      _|_|_|    _|_|_|_|  _|        _|_|_|\n",
            "        _|    _|  _|    _|  _|    _|  _|    _|    _|    _|    _|_|  _|    _|      _|        _|    _|  _|        _|\n",
            "        _|    _|    _|_|      _|_|_|    _|_|_|  _|_|_|  _|      _|    _|_|_|      _|        _|    _|    _|_|_|  _|_|_|_|\n",
            "\n",
            "        To login, `huggingface_hub` now requires a token generated from https://huggingface.co/settings/token.\n",
            "        (Deprecated, will be removed in v0.3.0) To login with username and password instead, interrupt with Ctrl+C.\n",
            "        \n",
            "Token: \n",
            "Login successful\n",
            "Your token has been saved to /root/.huggingface/token\n",
            "\u001b[1m\u001b[31mAuthenticated through git-credential store but this isn't the helper defined on your machine.\n",
            "You might have to re-authenticate when pushing to the Hugging Face Hub. Run the following command in your terminal in case you want to set this credential helper as the default\n",
            "\n",
            "git config --global credential.helper store\u001b[0m\n",
            "time: 14.2 s (started: 2022-02-09 17:47:40 +00:00)\n"
          ]
        }
      ]
    },
    {
      "cell_type": "code",
      "source": [
        "from transformers import AutoTokenizer, AutoModelForSequenceClassification\n",
        "\n",
        "checkpoint = \"rohanrajpal/bert-base-en-hi-codemix-cased\"\n",
        "\n",
        "tokenizer = AutoTokenizer.from_pretrained(checkpoint)"
      ],
      "metadata": {
        "id": "zl3chzW9h93R",
        "colab": {
          "base_uri": "https://localhost:8080/",
          "height": 162,
          "referenced_widgets": [
            "a364944eeec7483eac94cf2b7cbe677e",
            "78c891d685dd4b3b9619c5e1129cf36d",
            "819a44f47d104c4a8e8d6b960ef56abd",
            "582d5095e2404558b8ca5dc791971a58",
            "3e0974597682407aad4e9f75c40b17d8",
            "3fdca59422b441eea42d8ba031fbcace",
            "fd59c30751724752b85d3d0511e61229",
            "ef5ea89f84ba4761b938fae9fe09711f",
            "21a1ac09594a411c839baf5799595e61",
            "e529a39fc5b14899abcd4fd60858f708",
            "6719b8dd77df4130b1a71e147910ee1c",
            "a25dad8d47f046578773a842af8d6209",
            "fb189c1ecae447298657e8a2f5b5dd5e",
            "c50a402a0db14e3c9c7b6f4a1bb71457",
            "b6e4f870d6c948779cea3eee449575e4",
            "26fb03247be04d9b99d6724a40d2d4e8",
            "c5c92a2a1c694f9db055d0a4d2132124",
            "2c0c03bdf2144e7694529f663a46ee4b",
            "242490b242c246128d365479f16e8d95",
            "12ee4f2e9283462f8d582a247026e4d7",
            "06b52e35563447efa41aa157480185fc",
            "c282a1e2f84446868cc838886859dc6c",
            "3827e411df044ed4b62e484150fb0370",
            "b6dd40bc02b94ca6a965f04e325a4411",
            "c450570075a34aae83c2a1483ed809bb",
            "b6f120a351ec4a9d982c4917f86ebe16",
            "3cd67997af3a42a6b7b5314ff21244c4",
            "53093f810cf5403a8420b2d1f273ffb7",
            "67e10933c7b849bfbcf7d595825ae61a",
            "082342b559964d07800c8ab72e27e3cd",
            "8eea3f005b124a2f9d9d768d969f92ce",
            "21ac4dd625e34ac99f0c42d9e8c8d5f7",
            "c69727684c724b06855baf0a862997bd",
            "3891782288f34abc89028988aaf36108",
            "1460210fe717437aa1a16da9ad8543a5",
            "dcaa5b4e724c4bbbb6da90f399aef9ac",
            "71a82602d29b4908bf3c84c066e19b21",
            "812fcd3c3e2f4bb980c0dbb0ab1f5c1a",
            "b9e15c61fd9546e28c162716380176a4",
            "26cf4d2112144beeafa13672fe22344f",
            "fce2a2afd6094d009c825980ca54890f",
            "b1c032ba1358463ca344354611297d7c",
            "dfe9e8d6330c4908971097a4abdc8273",
            "f6cac351189b4608a8ede630aa431a66"
          ]
        },
        "outputId": "26c252ff-ff72-4dd4-f7c5-0f38a809e7f0"
      },
      "execution_count": null,
      "outputs": [
        {
          "output_type": "display_data",
          "data": {
            "application/vnd.jupyter.widget-view+json": {
              "model_id": "a364944eeec7483eac94cf2b7cbe677e",
              "version_minor": 0,
              "version_major": 2
            },
            "text/plain": [
              "Downloading:   0%|          | 0.00/48.0 [00:00<?, ?B/s]"
            ]
          },
          "metadata": {}
        },
        {
          "output_type": "display_data",
          "data": {
            "application/vnd.jupyter.widget-view+json": {
              "model_id": "a25dad8d47f046578773a842af8d6209",
              "version_minor": 0,
              "version_major": 2
            },
            "text/plain": [
              "Downloading:   0%|          | 0.00/832 [00:00<?, ?B/s]"
            ]
          },
          "metadata": {}
        },
        {
          "output_type": "display_data",
          "data": {
            "application/vnd.jupyter.widget-view+json": {
              "model_id": "3827e411df044ed4b62e484150fb0370",
              "version_minor": 0,
              "version_major": 2
            },
            "text/plain": [
              "Downloading:   0%|          | 0.00/996k [00:00<?, ?B/s]"
            ]
          },
          "metadata": {}
        },
        {
          "output_type": "display_data",
          "data": {
            "application/vnd.jupyter.widget-view+json": {
              "model_id": "3891782288f34abc89028988aaf36108",
              "version_minor": 0,
              "version_major": 2
            },
            "text/plain": [
              "Downloading:   0%|          | 0.00/112 [00:00<?, ?B/s]"
            ]
          },
          "metadata": {}
        },
        {
          "output_type": "stream",
          "name": "stdout",
          "text": [
            "time: 2.63 s (started: 2022-02-09 17:47:57 +00:00)\n"
          ]
        }
      ]
    },
    {
      "cell_type": "code",
      "source": [
        "train= pd.read_csv('/content/hasos2020hitrain.csv',sep=',')"
      ],
      "metadata": {
        "id": "apfg59x5iAwC",
        "colab": {
          "base_uri": "https://localhost:8080/"
        },
        "outputId": "106ae2c1-2e17-4c41-c74d-2649b10b4a28"
      },
      "execution_count": null,
      "outputs": [
        {
          "output_type": "stream",
          "name": "stdout",
          "text": [
            "time: 37 ms (started: 2022-02-09 17:51:41 +00:00)\n"
          ]
        }
      ]
    },
    {
      "cell_type": "code",
      "source": [
        "train.shape\n"
      ],
      "metadata": {
        "colab": {
          "base_uri": "https://localhost:8080/"
        },
        "id": "8NQ18gnw-GUh",
        "outputId": "b1084782-b4f5-4236-a646-93b97e4e2ae2"
      },
      "execution_count": null,
      "outputs": [
        {
          "output_type": "execute_result",
          "data": {
            "text/plain": [
              "(2963, 5)"
            ]
          },
          "metadata": {},
          "execution_count": 20
        },
        {
          "output_type": "stream",
          "name": "stdout",
          "text": [
            "time: 8.21 ms (started: 2022-02-09 17:51:43 +00:00)\n"
          ]
        }
      ]
    },
    {
      "cell_type": "code",
      "source": [
        "train.head()"
      ],
      "metadata": {
        "colab": {
          "base_uri": "https://localhost:8080/",
          "height": 221
        },
        "id": "5DrpnSj0njTe",
        "outputId": "bc63d613-6a1c-49fb-de65-6d536ad257e9"
      },
      "execution_count": null,
      "outputs": [
        {
          "output_type": "execute_result",
          "data": {
            "text/html": [
              "\n",
              "  <div id=\"df-13c0f17b-b53b-4a36-89fd-2c48db73a0b6\">\n",
              "    <div class=\"colab-df-container\">\n",
              "      <div>\n",
              "<style scoped>\n",
              "    .dataframe tbody tr th:only-of-type {\n",
              "        vertical-align: middle;\n",
              "    }\n",
              "\n",
              "    .dataframe tbody tr th {\n",
              "        vertical-align: top;\n",
              "    }\n",
              "\n",
              "    .dataframe thead th {\n",
              "        text-align: right;\n",
              "    }\n",
              "</style>\n",
              "<table border=\"1\" class=\"dataframe\">\n",
              "  <thead>\n",
              "    <tr style=\"text-align: right;\">\n",
              "      <th></th>\n",
              "      <th>tweetid</th>\n",
              "      <th>Text</th>\n",
              "      <th>label</th>\n",
              "      <th>task2</th>\n",
              "      <th>ID</th>\n",
              "    </tr>\n",
              "  </thead>\n",
              "  <tbody>\n",
              "    <tr>\n",
              "      <th>0</th>\n",
              "      <td>1.127755e+18</td>\n",
              "      <td>1 आदमीं को मारने पर गोडसे आतंकी हो सके है तो\\n...</td>\n",
              "      <td>1</td>\n",
              "      <td>HATE</td>\n",
              "      <td>hasoc_2020_hi_2250</td>\n",
              "    </tr>\n",
              "    <tr>\n",
              "      <th>1</th>\n",
              "      <td>1.123579e+18</td>\n",
              "      <td>RT @Vishesh4: @jawaharyadavbjp जवाहर यादव, अगर...</td>\n",
              "      <td>0</td>\n",
              "      <td>NONE</td>\n",
              "      <td>hasoc_2020_hi_381</td>\n",
              "    </tr>\n",
              "    <tr>\n",
              "      <th>2</th>\n",
              "      <td>1.127750e+18</td>\n",
              "      <td>RT @FunKeyBaat: #भगवा वस्त्र पहन कर मतदान नही ...</td>\n",
              "      <td>1</td>\n",
              "      <td>HATE</td>\n",
              "      <td>hasoc_2020_hi_1510</td>\n",
              "    </tr>\n",
              "    <tr>\n",
              "      <th>3</th>\n",
              "      <td>1.127661e+18</td>\n",
              "      <td>Yey nina khothani labafazi benu phambili Finis...</td>\n",
              "      <td>1</td>\n",
              "      <td>PRFN</td>\n",
              "      <td>hasoc_2020_hi_1010</td>\n",
              "    </tr>\n",
              "    <tr>\n",
              "      <th>4</th>\n",
              "      <td>1.123487e+18</td>\n",
              "      <td>RT @Rajeshbhanjan2: जब भी कोई सिकुलर कोंग्रेसी...</td>\n",
              "      <td>1</td>\n",
              "      <td>HATE</td>\n",
              "      <td>hasoc_2020_hi_331</td>\n",
              "    </tr>\n",
              "  </tbody>\n",
              "</table>\n",
              "</div>\n",
              "      <button class=\"colab-df-convert\" onclick=\"convertToInteractive('df-13c0f17b-b53b-4a36-89fd-2c48db73a0b6')\"\n",
              "              title=\"Convert this dataframe to an interactive table.\"\n",
              "              style=\"display:none;\">\n",
              "        \n",
              "  <svg xmlns=\"http://www.w3.org/2000/svg\" height=\"24px\"viewBox=\"0 0 24 24\"\n",
              "       width=\"24px\">\n",
              "    <path d=\"M0 0h24v24H0V0z\" fill=\"none\"/>\n",
              "    <path d=\"M18.56 5.44l.94 2.06.94-2.06 2.06-.94-2.06-.94-.94-2.06-.94 2.06-2.06.94zm-11 1L8.5 8.5l.94-2.06 2.06-.94-2.06-.94L8.5 2.5l-.94 2.06-2.06.94zm10 10l.94 2.06.94-2.06 2.06-.94-2.06-.94-.94-2.06-.94 2.06-2.06.94z\"/><path d=\"M17.41 7.96l-1.37-1.37c-.4-.4-.92-.59-1.43-.59-.52 0-1.04.2-1.43.59L10.3 9.45l-7.72 7.72c-.78.78-.78 2.05 0 2.83L4 21.41c.39.39.9.59 1.41.59.51 0 1.02-.2 1.41-.59l7.78-7.78 2.81-2.81c.8-.78.8-2.07 0-2.86zM5.41 20L4 18.59l7.72-7.72 1.47 1.35L5.41 20z\"/>\n",
              "  </svg>\n",
              "      </button>\n",
              "      \n",
              "  <style>\n",
              "    .colab-df-container {\n",
              "      display:flex;\n",
              "      flex-wrap:wrap;\n",
              "      gap: 12px;\n",
              "    }\n",
              "\n",
              "    .colab-df-convert {\n",
              "      background-color: #E8F0FE;\n",
              "      border: none;\n",
              "      border-radius: 50%;\n",
              "      cursor: pointer;\n",
              "      display: none;\n",
              "      fill: #1967D2;\n",
              "      height: 32px;\n",
              "      padding: 0 0 0 0;\n",
              "      width: 32px;\n",
              "    }\n",
              "\n",
              "    .colab-df-convert:hover {\n",
              "      background-color: #E2EBFA;\n",
              "      box-shadow: 0px 1px 2px rgba(60, 64, 67, 0.3), 0px 1px 3px 1px rgba(60, 64, 67, 0.15);\n",
              "      fill: #174EA6;\n",
              "    }\n",
              "\n",
              "    [theme=dark] .colab-df-convert {\n",
              "      background-color: #3B4455;\n",
              "      fill: #D2E3FC;\n",
              "    }\n",
              "\n",
              "    [theme=dark] .colab-df-convert:hover {\n",
              "      background-color: #434B5C;\n",
              "      box-shadow: 0px 1px 3px 1px rgba(0, 0, 0, 0.15);\n",
              "      filter: drop-shadow(0px 1px 2px rgba(0, 0, 0, 0.3));\n",
              "      fill: #FFFFFF;\n",
              "    }\n",
              "  </style>\n",
              "\n",
              "      <script>\n",
              "        const buttonEl =\n",
              "          document.querySelector('#df-13c0f17b-b53b-4a36-89fd-2c48db73a0b6 button.colab-df-convert');\n",
              "        buttonEl.style.display =\n",
              "          google.colab.kernel.accessAllowed ? 'block' : 'none';\n",
              "\n",
              "        async function convertToInteractive(key) {\n",
              "          const element = document.querySelector('#df-13c0f17b-b53b-4a36-89fd-2c48db73a0b6');\n",
              "          const dataTable =\n",
              "            await google.colab.kernel.invokeFunction('convertToInteractive',\n",
              "                                                     [key], {});\n",
              "          if (!dataTable) return;\n",
              "\n",
              "          const docLinkHtml = 'Like what you see? Visit the ' +\n",
              "            '<a target=\"_blank\" href=https://colab.research.google.com/notebooks/data_table.ipynb>data table notebook</a>'\n",
              "            + ' to learn more about interactive tables.';\n",
              "          element.innerHTML = '';\n",
              "          dataTable['output_type'] = 'display_data';\n",
              "          await google.colab.output.renderOutput(dataTable, element);\n",
              "          const docLink = document.createElement('div');\n",
              "          docLink.innerHTML = docLinkHtml;\n",
              "          element.appendChild(docLink);\n",
              "        }\n",
              "      </script>\n",
              "    </div>\n",
              "  </div>\n",
              "  "
            ],
            "text/plain": [
              "        tweetid  ...                  ID\n",
              "0  1.127755e+18  ...  hasoc_2020_hi_2250\n",
              "1  1.123579e+18  ...   hasoc_2020_hi_381\n",
              "2  1.127750e+18  ...  hasoc_2020_hi_1510\n",
              "3  1.127661e+18  ...  hasoc_2020_hi_1010\n",
              "4  1.123487e+18  ...   hasoc_2020_hi_331\n",
              "\n",
              "[5 rows x 5 columns]"
            ]
          },
          "metadata": {},
          "execution_count": 34
        },
        {
          "output_type": "stream",
          "name": "stdout",
          "text": [
            "time: 28 ms (started: 2022-02-09 17:56:22 +00:00)\n"
          ]
        }
      ]
    },
    {
      "cell_type": "code",
      "source": [
        "train.columns =['tweetid', 'Text', 'label','task2','ID']\n"
      ],
      "metadata": {
        "colab": {
          "base_uri": "https://localhost:8080/"
        },
        "id": "sWq05I3zNcVJ",
        "outputId": "513a3b4b-d9fc-4682-9f8f-a36d41263929"
      },
      "execution_count": null,
      "outputs": [
        {
          "output_type": "stream",
          "name": "stdout",
          "text": [
            "time: 1.92 ms (started: 2022-02-09 17:54:01 +00:00)\n"
          ]
        }
      ]
    },
    {
      "cell_type": "code",
      "source": [
        "train['label'].value_counts()"
      ],
      "metadata": {
        "colab": {
          "base_uri": "https://localhost:8080/"
        },
        "id": "3DVu_FZFN2v0",
        "outputId": "3a22ea97-f2a8-4b5c-b728-ac8f8466f37e"
      },
      "execution_count": null,
      "outputs": [
        {
          "output_type": "execute_result",
          "data": {
            "text/plain": [
              "NOT    2116\n",
              "HOF     847\n",
              "Name: label, dtype: int64"
            ]
          },
          "metadata": {},
          "execution_count": 23
        },
        {
          "output_type": "stream",
          "name": "stdout",
          "text": [
            "time: 14.8 ms (started: 2022-02-09 17:54:04 +00:00)\n"
          ]
        }
      ]
    },
    {
      "cell_type": "code",
      "source": [
        "train.loc[(train.label == 'HOF'), 'label'] = 1\n",
        "train.loc[(train.label == 'NOT'), 'label'] = 0\n"
      ],
      "metadata": {
        "colab": {
          "base_uri": "https://localhost:8080/"
        },
        "id": "QPCZpQbFBcau",
        "outputId": "43ae3032-911a-4a8c-f1e3-dc8b0ba32261"
      },
      "execution_count": null,
      "outputs": [
        {
          "output_type": "stream",
          "name": "stdout",
          "text": [
            "time: 5.59 ms (started: 2022-02-09 17:54:30 +00:00)\n"
          ]
        }
      ]
    },
    {
      "cell_type": "code",
      "source": [
        "dev= pd.read_csv('/content/hindi_test_1509.csv')\n"
      ],
      "metadata": {
        "colab": {
          "base_uri": "https://localhost:8080/"
        },
        "id": "lzbfysvFCx3U",
        "outputId": "be0102d5-2bfe-4ced-897c-589a01810b2f"
      },
      "execution_count": null,
      "outputs": [
        {
          "output_type": "stream",
          "name": "stdout",
          "text": [
            "time: 20.4 ms (started: 2022-02-09 17:54:46 +00:00)\n"
          ]
        }
      ]
    },
    {
      "cell_type": "code",
      "source": [
        "dev.head()"
      ],
      "metadata": {
        "colab": {
          "base_uri": "https://localhost:8080/",
          "height": 221
        },
        "id": "x54d3BP6n6w8",
        "outputId": "6f0dbde3-6d30-40e9-8ffd-b435400787a7"
      },
      "execution_count": null,
      "outputs": [
        {
          "output_type": "execute_result",
          "data": {
            "text/html": [
              "\n",
              "  <div id=\"df-426092f0-e378-4398-ad1a-0ffac7eefdbf\">\n",
              "    <div class=\"colab-df-container\">\n",
              "      <div>\n",
              "<style scoped>\n",
              "    .dataframe tbody tr th:only-of-type {\n",
              "        vertical-align: middle;\n",
              "    }\n",
              "\n",
              "    .dataframe tbody tr th {\n",
              "        vertical-align: top;\n",
              "    }\n",
              "\n",
              "    .dataframe thead th {\n",
              "        text-align: right;\n",
              "    }\n",
              "</style>\n",
              "<table border=\"1\" class=\"dataframe\">\n",
              "  <thead>\n",
              "    <tr style=\"text-align: right;\">\n",
              "      <th></th>\n",
              "      <th>tweetid</th>\n",
              "      <th>Text</th>\n",
              "      <th>label</th>\n",
              "      <th>task2</th>\n",
              "      <th>ID</th>\n",
              "    </tr>\n",
              "  </thead>\n",
              "  <tbody>\n",
              "    <tr>\n",
              "      <th>0</th>\n",
              "      <td>1127781647783301120</td>\n",
              "      <td>@Kinjal_Dubey_ इसके लिए तैयारी हो रखी है\\nआपको...</td>\n",
              "      <td>1</td>\n",
              "      <td>OFFN</td>\n",
              "      <td>hasoc_2020_hi_1938</td>\n",
              "    </tr>\n",
              "    <tr>\n",
              "      <th>1</th>\n",
              "      <td>1127492853171535872</td>\n",
              "      <td>RT @pratimamishra04: दिल्ली के मुख्यमंत्री @Ar...</td>\n",
              "      <td>0</td>\n",
              "      <td>NONE</td>\n",
              "      <td>hasoc_2020_hi_1201</td>\n",
              "    </tr>\n",
              "    <tr>\n",
              "      <th>2</th>\n",
              "      <td>1123638375896903681</td>\n",
              "      <td>RT @nishantdabre2: आज एक तरफ खुशी है, तो एक तर...</td>\n",
              "      <td>0</td>\n",
              "      <td>NONE</td>\n",
              "      <td>hasoc_2020_hi_1628</td>\n",
              "    </tr>\n",
              "    <tr>\n",
              "      <th>3</th>\n",
              "      <td>1127496460310683648</td>\n",
              "      <td>@BJP4India @HardeepSPuri जिस कुनबे के लोग :-\\n...</td>\n",
              "      <td>0</td>\n",
              "      <td>NONE</td>\n",
              "      <td>hasoc_2020_hi_3257</td>\n",
              "    </tr>\n",
              "    <tr>\n",
              "      <th>4</th>\n",
              "      <td>1127667277535399937</td>\n",
              "      <td>@manakgupta बादल....😂😂😂</td>\n",
              "      <td>0</td>\n",
              "      <td>NONE</td>\n",
              "      <td>hasoc_2020_hi_4133</td>\n",
              "    </tr>\n",
              "  </tbody>\n",
              "</table>\n",
              "</div>\n",
              "      <button class=\"colab-df-convert\" onclick=\"convertToInteractive('df-426092f0-e378-4398-ad1a-0ffac7eefdbf')\"\n",
              "              title=\"Convert this dataframe to an interactive table.\"\n",
              "              style=\"display:none;\">\n",
              "        \n",
              "  <svg xmlns=\"http://www.w3.org/2000/svg\" height=\"24px\"viewBox=\"0 0 24 24\"\n",
              "       width=\"24px\">\n",
              "    <path d=\"M0 0h24v24H0V0z\" fill=\"none\"/>\n",
              "    <path d=\"M18.56 5.44l.94 2.06.94-2.06 2.06-.94-2.06-.94-.94-2.06-.94 2.06-2.06.94zm-11 1L8.5 8.5l.94-2.06 2.06-.94-2.06-.94L8.5 2.5l-.94 2.06-2.06.94zm10 10l.94 2.06.94-2.06 2.06-.94-2.06-.94-.94-2.06-.94 2.06-2.06.94z\"/><path d=\"M17.41 7.96l-1.37-1.37c-.4-.4-.92-.59-1.43-.59-.52 0-1.04.2-1.43.59L10.3 9.45l-7.72 7.72c-.78.78-.78 2.05 0 2.83L4 21.41c.39.39.9.59 1.41.59.51 0 1.02-.2 1.41-.59l7.78-7.78 2.81-2.81c.8-.78.8-2.07 0-2.86zM5.41 20L4 18.59l7.72-7.72 1.47 1.35L5.41 20z\"/>\n",
              "  </svg>\n",
              "      </button>\n",
              "      \n",
              "  <style>\n",
              "    .colab-df-container {\n",
              "      display:flex;\n",
              "      flex-wrap:wrap;\n",
              "      gap: 12px;\n",
              "    }\n",
              "\n",
              "    .colab-df-convert {\n",
              "      background-color: #E8F0FE;\n",
              "      border: none;\n",
              "      border-radius: 50%;\n",
              "      cursor: pointer;\n",
              "      display: none;\n",
              "      fill: #1967D2;\n",
              "      height: 32px;\n",
              "      padding: 0 0 0 0;\n",
              "      width: 32px;\n",
              "    }\n",
              "\n",
              "    .colab-df-convert:hover {\n",
              "      background-color: #E2EBFA;\n",
              "      box-shadow: 0px 1px 2px rgba(60, 64, 67, 0.3), 0px 1px 3px 1px rgba(60, 64, 67, 0.15);\n",
              "      fill: #174EA6;\n",
              "    }\n",
              "\n",
              "    [theme=dark] .colab-df-convert {\n",
              "      background-color: #3B4455;\n",
              "      fill: #D2E3FC;\n",
              "    }\n",
              "\n",
              "    [theme=dark] .colab-df-convert:hover {\n",
              "      background-color: #434B5C;\n",
              "      box-shadow: 0px 1px 3px 1px rgba(0, 0, 0, 0.15);\n",
              "      filter: drop-shadow(0px 1px 2px rgba(0, 0, 0, 0.3));\n",
              "      fill: #FFFFFF;\n",
              "    }\n",
              "  </style>\n",
              "\n",
              "      <script>\n",
              "        const buttonEl =\n",
              "          document.querySelector('#df-426092f0-e378-4398-ad1a-0ffac7eefdbf button.colab-df-convert');\n",
              "        buttonEl.style.display =\n",
              "          google.colab.kernel.accessAllowed ? 'block' : 'none';\n",
              "\n",
              "        async function convertToInteractive(key) {\n",
              "          const element = document.querySelector('#df-426092f0-e378-4398-ad1a-0ffac7eefdbf');\n",
              "          const dataTable =\n",
              "            await google.colab.kernel.invokeFunction('convertToInteractive',\n",
              "                                                     [key], {});\n",
              "          if (!dataTable) return;\n",
              "\n",
              "          const docLinkHtml = 'Like what you see? Visit the ' +\n",
              "            '<a target=\"_blank\" href=https://colab.research.google.com/notebooks/data_table.ipynb>data table notebook</a>'\n",
              "            + ' to learn more about interactive tables.';\n",
              "          element.innerHTML = '';\n",
              "          dataTable['output_type'] = 'display_data';\n",
              "          await google.colab.output.renderOutput(dataTable, element);\n",
              "          const docLink = document.createElement('div');\n",
              "          docLink.innerHTML = docLinkHtml;\n",
              "          element.appendChild(docLink);\n",
              "        }\n",
              "      </script>\n",
              "    </div>\n",
              "  </div>\n",
              "  "
            ],
            "text/plain": [
              "               tweetid  ...                  ID\n",
              "0  1127781647783301120  ...  hasoc_2020_hi_1938\n",
              "1  1127492853171535872  ...  hasoc_2020_hi_1201\n",
              "2  1123638375896903681  ...  hasoc_2020_hi_1628\n",
              "3  1127496460310683648  ...  hasoc_2020_hi_3257\n",
              "4  1127667277535399937  ...  hasoc_2020_hi_4133\n",
              "\n",
              "[5 rows x 5 columns]"
            ]
          },
          "metadata": {},
          "execution_count": 33
        },
        {
          "output_type": "stream",
          "name": "stdout",
          "text": [
            "time: 26.4 ms (started: 2022-02-09 17:56:15 +00:00)\n"
          ]
        }
      ]
    },
    {
      "cell_type": "code",
      "source": [
        "dev.columns =['tweetid', 'Text', 'label','task2','ID']\n"
      ],
      "metadata": {
        "colab": {
          "base_uri": "https://localhost:8080/"
        },
        "id": "bwZcW0_uOGvx",
        "outputId": "2494b77c-23cc-4ffc-bf2f-5a8703094f25"
      },
      "execution_count": null,
      "outputs": [
        {
          "output_type": "stream",
          "name": "stdout",
          "text": [
            "time: 1.76 ms (started: 2022-02-09 17:55:10 +00:00)\n"
          ]
        }
      ]
    },
    {
      "cell_type": "code",
      "source": [
        "dev.loc[(dev.label == 'NOT'), 'label'] = 0\n",
        "dev.loc[(dev.label == 'HOF'), 'label'] = 1\n"
      ],
      "metadata": {
        "colab": {
          "base_uri": "https://localhost:8080/"
        },
        "id": "PHNFAjp_CSCd",
        "outputId": "d439791a-efe9-4b88-b912-0e1a4e8e2166"
      },
      "execution_count": null,
      "outputs": [
        {
          "output_type": "stream",
          "name": "stdout",
          "text": [
            "time: 5.84 ms (started: 2022-02-09 17:55:25 +00:00)\n"
          ]
        }
      ]
    },
    {
      "cell_type": "code",
      "source": [
        "null_columns=train.columns[train.isnull().any()]\n",
        "train[null_columns].isnull().sum()"
      ],
      "metadata": {
        "colab": {
          "base_uri": "https://localhost:8080/"
        },
        "id": "uEAWvPlTPHve",
        "outputId": "18d3996e-9c5f-419f-f8b1-498b9254b25f"
      },
      "execution_count": null,
      "outputs": [
        {
          "output_type": "execute_result",
          "data": {
            "text/plain": [
              "Series([], dtype: float64)"
            ]
          },
          "metadata": {},
          "execution_count": 29
        },
        {
          "output_type": "stream",
          "name": "stdout",
          "text": [
            "time: 14.5 ms (started: 2022-02-09 17:55:29 +00:00)\n"
          ]
        }
      ]
    },
    {
      "cell_type": "code",
      "source": [
        "null_columns=dev.columns[dev.isnull().any()]\n",
        "dev[null_columns].isnull().sum()"
      ],
      "metadata": {
        "colab": {
          "base_uri": "https://localhost:8080/"
        },
        "id": "YjXT3NwqP7dl",
        "outputId": "332b2ac7-133e-4a3d-d70c-526c3d89ff6e"
      },
      "execution_count": null,
      "outputs": [
        {
          "output_type": "execute_result",
          "data": {
            "text/plain": [
              "Series([], dtype: float64)"
            ]
          },
          "metadata": {},
          "execution_count": 30
        },
        {
          "output_type": "stream",
          "name": "stdout",
          "text": [
            "time: 9.45 ms (started: 2022-02-09 17:55:31 +00:00)\n"
          ]
        }
      ]
    },
    {
      "cell_type": "code",
      "source": [
        "def text_preprocessing(text):\n",
        "    \"\"\"\n",
        "    - Remove entity mentions (eg. '@united')\n",
        "    - Correct errors (eg. '&amp;' to '&')\n",
        "    @param    text (str): a string to be processed.\n",
        "    @return   text (Str): the processed string.\n",
        "    \"\"\"\n",
        "    # Remove '@name'\n",
        "    text = re.sub(r'(@.*?)[\\s]', ' ', text)\n",
        "\n",
        "    # Replace '&amp;' with '&'\n",
        "    text = re.sub(r'&amp;', '&', text)\n",
        "\n",
        "    # Remove trailing whitespace\n",
        "    text = re.sub(r'\\s+', ' ', text).strip()\n",
        "\n",
        "    #remove RT\n",
        "    text=re.sub(r'^[RT]+','',txt)#replace RT-tags\n",
        "\n",
        "\n",
        "    return text"
      ],
      "metadata": {
        "colab": {
          "base_uri": "https://localhost:8080/"
        },
        "id": "MUEC5Mryteg2",
        "outputId": "0a6c7a64-8ee7-4aea-d9be-d44505a721e8"
      },
      "execution_count": null,
      "outputs": [
        {
          "output_type": "stream",
          "name": "stdout",
          "text": [
            "time: 22.2 ms (started: 2022-02-09 18:22:34 +00:00)\n"
          ]
        }
      ]
    },
    {
      "cell_type": "code",
      "source": [
        "import re\n",
        "def remove_emojis(string):\n",
        "    emoji_pattern = re.compile(\"[\"\n",
        "                           u\"\\U0001F600-\\U0001F64F\" # emoticons\n",
        "                           u\"\\U0001F300-\\U0001F5FF\" # symbols & pictographs\n",
        "                           u\"\\U0001F680-\\U0001F6FF\" # transport & map symbols\n",
        "                           u\"\\U0001F1E0-\\U0001F1FF\" # flags (iOS)\n",
        "                           u\"\\U00002702-\\U000027B0\"\n",
        "                           u\"\\U000024C2-\\U0001F251\"\n",
        "                           \"]+\", flags=re.UNICODE)\n",
        "    return emoji_pattern.sub(r'', string)"
      ],
      "metadata": {
        "colab": {
          "base_uri": "https://localhost:8080/"
        },
        "id": "Zh2G5VDqwY_I",
        "outputId": "2f233444-85f1-4248-d393-4863b913feb3"
      },
      "execution_count": null,
      "outputs": [
        {
          "output_type": "stream",
          "name": "stdout",
          "text": [
            "time: 6.22 ms (started: 2022-02-09 18:31:54 +00:00)\n"
          ]
        }
      ]
    },
    {
      "cell_type": "code",
      "source": [
        "import re"
      ],
      "metadata": {
        "colab": {
          "base_uri": "https://localhost:8080/"
        },
        "id": "n4ln_9aUuSz9",
        "outputId": "adf86c27-d653-47b3-8e95-c4eeb6cb17e1"
      },
      "execution_count": null,
      "outputs": [
        {
          "output_type": "stream",
          "name": "stdout",
          "text": [
            "time: 2 ms (started: 2022-02-09 18:22:46 +00:00)\n"
          ]
        }
      ]
    },
    {
      "cell_type": "code",
      "source": [
        "train_texts= np.array([text_preprocessing(text) for text in train_texts1])\n",
        "dev_texts= np.array([text_preprocessing(text) for text in dev_texts1])\n"
      ],
      "metadata": {
        "colab": {
          "base_uri": "https://localhost:8080/"
        },
        "id": "u2wJtI9otfoM",
        "outputId": "6fd66d5a-867d-43dd-a86b-de0956bd9e7f"
      },
      "execution_count": null,
      "outputs": [
        {
          "output_type": "stream",
          "name": "stdout",
          "text": [
            "time: 97.6 ms (started: 2022-02-09 18:34:26 +00:00)\n"
          ]
        }
      ]
    },
    {
      "cell_type": "code",
      "source": [
        "train_texts1"
      ],
      "metadata": {
        "colab": {
          "base_uri": "https://localhost:8080/"
        },
        "id": "zFEBzcGsw_Ri",
        "outputId": "77c06ffc-8de4-4924-98c7-eef3bbef9e7a"
      },
      "execution_count": null,
      "outputs": [
        {
          "output_type": "execute_result",
          "data": {
            "text/plain": [
              "['1 आदमीं को मारने पर गोडसे आतंकी हो सके है तो\\n17000 सिखो, 5000 भोपाली, 3000 तमिलों का कत्लेआम करवाने वाला भारत रत्न कैसे हो सके है?',\n",
              " 'RT @Vishesh4: @jawaharyadavbjp जवाहर यादव, अगर हिम्मत है तो पूरा वीडियो डालो फिर तुम्हारे झूठ सामने आएंगे।\\nदीपेंदर ने साफ कहा, कि भाजपा और…',\n",
              " 'RT @FunKeyBaat: #भगवा वस्त्र पहन कर मतदान नही कर सकते लेकिन बुरखा पहन के कर सकते हैं @yadavakhilesh ?\\n\\nये आज़मगढ़ है और यहाँ से \"टोटी चोर\"…',\n",
              " 'Yey nina khothani labafazi benu phambili Finish and klaar 🍑🌊',\n",
              " \"RT @Rajeshbhanjan2: जब भी कोई सिकुलर कोंग्रेसी गुलाम चाटुकार चरणचाट चमचा 'गाय' और 'बछड़े' को लेकर भाजपा पर तंज कसता हुआ दिखे तो इतिहास के झ…\",\n",
              " 'RT @AkalLess: काश ऐसा क़ानून अगर हमारे यहाँ होता तो पूरी @AamAadmiParty सर @ArvindKejriwal के साथ तिहाड़ जेल में निर्विरोध चुनाव लड़ रही हो…',\n",
              " 'RT @Aaliya11_: मुस्लिम_ईसाईयों की जबरन\\n  नसबंदी कर देनी चाहिए\\n      साध्वी ठाकुर\\n \\nमैडम जब अपनी जमीन \\n  बंजर हो तो दूसरों \\nकी खड़ी फसल देखक…',\n",
              " 'RT @neel23456: @TVMohandasPai मौन सिह- अरे ओ पचौरी तूने\\nकांग्रेस का नमक खाया है\\nपचौरी- बराबर बोले सरदार\\nमौन सिंह- नमक का हक अदा करने\\nका समय…',\n",
              " '@ECISVEEP \\nउंगली में दाग अच्छे हैं। https://t.co/lRj1CYiHsY',\n",
              " 'RT @BJP4India: आज जब मैं सिरमौर आया हूं तब 300 से ज्यादा लोकसभा क्षेत्रों का दौरा करके यहां आया हूं।\\n\\nमैं हर प्रदेश में गया, वहां पहनावा बद…',\n",
              " 'RT @ppbajpai: ममता तैयार हो रही है दिल्ली के लिए..!\\nपूर्वांचल में योगी का जादू गुम हो चला है..!\\nकेजरीवाल ने एतिहासिक भूल तो नहीं कर दी..!…',\n",
              " 'भारत के लिये बड़ी खबर\\nमसूद अजहर को ग्लोबल आतंकवादी घोषित किया गया',\n",
              " 'RT @ParwezK92714513: पति का कितना खयाल है इसे रोज स्वर्ग मे जाती है https://t.co/XDyqcT1A9U',\n",
              " \"RT @AshrafFem: मौसम की वजह से 'विशेषज्ञ' हवाई हमले की तारीख़ बदलना चाहते थे। मैने उन्हें बताया कि बादल हैं, बारिश है, तो फ़ायदा है। बादलो…\",\n",
              " \"@ihirarafique chanda ♥️ tumhein tou pata hai, sometimes I don't know kese kahoon ya sunnay wala samjhega? Ya main samjha bhi paunga?\",\n",
              " 'RT @ChaturvediS2: कैसे चलाया जा सकता है,,, \\nयह तो,, पेट से सीख कर आये हैं,,,अभिमन्यु ??????\\n👉परनाना जैसे अय्याशी के साथ,,\\n👉दादी जैसे इमरजें…',\n",
              " 'RT @ZeeRepublic: तैमूर अली खान के बिगड़े बोल\\n\\nकहा-बाकी लोग तो बस मोदी को हारते हैं विरोध करते हैं लेकिन छाती पर चढ़कर मूंग तो सिर्फ केजरीवा…',\n",
              " 'RT @s_ambalika: @Yogesh_Bajaj1 @KChugh9 @PoojaYa10361065 Sir,. वो माँ जो कभी घर से बाहर भी नहीं जाती, जो किसी से फालतू मतलब नहीं रखती,, जो…',\n",
              " 'RT @neeta_pankaj: @ShilpiSinghINC आंटी राहुल गांधी को परधान मंती बनाने के लिए महागठबंधन में से कितने दल राजी हुए ..!',\n",
              " 'RT @VeerLotus: मोदी जी को चिल्ला-2 चोर बोलना\\nऔर बेहिसाब बेलगाम गालियां देना\\nतथा उनकी छवि खराब करने को फैलाया\\nझूठ का बदबूदार रैता सब जायज था…',\n",
              " '@PreetiSMenon @ArvindKejriwal @GautamGambhir @AtishiAAP चोर चोर मौसेरे भाई',\n",
              " 'RT @Payal_Rohatgi: #MothersDay यह दिन को आप सब आज मना रहे हो पूरे देश में मगर शायद आपको यह भी नहीं पता कि यह भारतीय संस्कृति नहीं है। यह we…',\n",
              " 'RT @Aryavrta: #IndianJudiciaryAtStake \\nबड़ी बहन के साथ दुष्कर्म हो तो क्या वो अपनी छोटी बहन को समर्पित करवाएगी❓\\n\\n2007 तक आश्रम में रहें,201…',\n",
              " 'RT @BJP4India: बंगाल से ममता दीदी का जाना सुनिश्चित हो गया है। 23 मई के बाद बंगाल के अंदर परिवर्तन का सूर्योदय होने वाला है: श्री अमित शाह…',\n",
              " 'ममता के बंगाल मे जब इतनी मार पीट चुनाव  के दौरान होती है तो वहाँ राष्ट्रपति शासन लगा कर चुनाव कराना चाहिए।लोगों को मार कर लोकतंत्र ला रही है ममता।चुनाव के समय राष्ट्रपति का ही शासन पूरे देश में होना चाहिए ।',\n",
              " 'RT @bijendra125: #जय_सिया_राम_जी\\nआपका दिन मंगलमय हो।\\n\"#समय जब #नाच नचाता है ना,\\nतब #सगे_संबंधी भी #काेरियाेग्राफर बन जाते हैं।\"\\n#जय_श्री_रा…',\n",
              " '#GHMSNNews *Breaking News* - केंद्रीय मंत्री नितिन गडकरी की तबीयत बिगड़ी \\n\\nhttps://t.co/KKpGpzDEaW',\n",
              " 'मेरा वोट बृजेश गोयल जी को झाड़ू अरविंद केजरीवाल जिंदाबाद https://t.co/CUPmLEIrJv',\n",
              " '@guddusinghdss \"करता नही है कोई कद्र यहाँ किसी के अहसासों की . . . \\nहर किसी को फिक्र है बस मतलब के ताल्लुक़ातो की . . .!!!',\n",
              " '@RanaAyyub तेली का तेल और मशालची की छाती',\n",
              " 'RT @ranjeetadadwal: #LokSabhaElections2019\\n @ECISVEEP सुनील अरोड़ा के वोट डालने के बाद तस्वीर खींचते। @IPSMadhurVerma\\n@JournoPranay @ashoke…',\n",
              " 'RT @SureshN12555265: सोनीया गांधी का एक और सच सामने @RahulGandhi यह कैसा घिनवना काम हुवा है तुम्हारे खानदान मे कहो ना झुठ है सबसे पहले अपना…',\n",
              " 'RT @SinghAwantika: अगर सारे करोड़पति बन जाएंगे तो मजदूर अफ्रीका से पकड़ कर लाया जाएगा? अमेरिका जैसे विकसित देश में भी लोग मजदूरी करते है, ऐ…',\n",
              " 'RT @rajamaka: पंडित नेहरू जब प्रघानमंत्री थे, उनके समय कुंभ में भगदड़ हुई थी लेकिन बदनामी के डर से यह खबर को बाहर ही आने नही दिया था !!\\n\\nक्…',\n",
              " 'झांसी, प्रियंका गांधी के रोडशो में नारे लगाने वालों के खिलाफ कार्रवाही, तीन को दिखाया बाहर का रास� https://t.co/anjc4at0vw',\n",
              " 'RT @92mhq6QNslesNLP: कल मतदान जरूर करे....!!!\\n\\nचाहे BJP को करो \\n\\nचाहे मोदी जी को करो\\n\\nचाहे कमल को करो \\n\\nपर मतदान जरूर करे।😂😂\\n\\n#JitegaModiJi…',\n",
              " '@aroraups Logg Sharafat Mein Aksar Dhokha Khaa Jaate Hain 😆😆😆',\n",
              " '@upasanatigress तू किसी काम की नहीं है दूसरे देश में जाकर बोझ बनने से बढ़िया है किसी गंदे नाले में डूब मर।',\n",
              " '@ArvindKejriwal बूथ खाली पड़े हैं।आप के बूथ मेनेजर नदारद हैं।',\n",
              " '@Rupendr60418689 @deepak_hariom एक बुद्धिमान माँ अपनी सन्तान से प्रेम अवश्य करती है, परन्तु उसे योग्य बनाने के लिए उसके प्रति कठोर बनने में कोताही नहीं करती\\n#HappyMothersDay\\nhttps://t.co/xueGYitWx7',\n",
              " 'RT @_m_rohit: हूं मै बेइंतहां हूं आज भी हू ब हू हूं\\nअब भी रगो मे दोडता मै वही खूं हूं\\n\\nबिखरते सिसकते से कुछ अरमां कोई\\nहां हूं मै अभी जिंदा…',\n",
              " 'RT @mogemboz: इतना फेंकता है कि \\nआराम नहीं करता !\\nसुना है बादलों में रडार \\nकाम नहीं करता !!',\n",
              " '@msisodia Agar offer diya hai to le lo bhaiyon. Baad main chavanni bhi nahin milegi',\n",
              " '@GovindaPanditU1 @qWW1YjMppqfqvuX @Sonabhadauria1 @reenasinghgaur @mksbsli08 @sitaram74378829 @shashibhaya1 @OppressedHindu @dhritrastra @ckpearloflife @imrawool @Nirmal111 @bmcowl9 @Ramsharma9981 @JayGopalMishra2 @pipcrd @Ajeet_Tyagi_Ji @bhawanablog @pmmh2015 @neerajtyagimbd @sankrant मैं तो कब से इसका पता पुछ रही हुं, डर से ये लतखोर अपना पता बताता ही नही।',\n",
              " 'RT @aajtak: ट्विटर पर बीजेपी के हैं दुनिया भर में सबसे ज्यादा फॉलोअर\\n\\nhttps://t.co/3OiFUA31w2',\n",
              " 'RT @delhichatter: ये वीडियो देख कर सारे कॉमेडियन अपनी लाइन चेंज करने पर मजबूर हो सकते हैं 🤣 https://t.co/j5flUFC38q',\n",
              " '@Sunitkrsrivasta @RubikaLiyaquat क्या बात है इतनी गर्मी में इससे बेहतर कुछ नही हो सकता ।।',\n",
              " 'RT @RamPD78: अगर ये इंटरव्यू नहीं देखा तो कुछ नहीं देखा \\n\\nइस बहादुर बालिका के YT चेनल का पता हो तो जरुर बताना दोस्तों https://t.co/DbOOzqrq…',\n",
              " '@ajitanjum @abhisar_sharma @ppbajpai @ravishndtv @Ra_THORe @narendramodi \\nआप सभी सज्जन देखिए कि रेलवे एवं वर्तमान केन्द्रीय-सरकार कैसे भारतीय जनता जो रेल से यात्रा करती है यहीं रेलवे कैसे यात्रियों के अच्छे दिनों का झूठा दावा कर रही है?\\nयह आप सभी को ध्यान से देखना चाहिए?',\n",
              " '@BBCHindi इसे कहते हैं खतरो का खिलाड़ी।',\n",
              " 'RT @myogiadityanath: तस्वीरें सच बोलती हैं।\\nआज आदरणीय @narendramodi जी की पूर्वांचल रैली में वृद्ध महिलाएं, कर्मशील युवा और मुस्कुराते बच्…',\n",
              " '@BBCHindi ये तो सही नही हो सकता',\n",
              " 'RT @DDNewsHindi: #NewsFlash: मुख्य चुनाव आयुक्त सुनील अरोड़ा ने दिल्ली के निर्माण भवन स्थित मतदान केंद्र में अपना मतदान किया  \\n#Phase6\\n#Mak…',\n",
              " '@AkhileshPSingh प्रधान मंत्री जी की यही बातें अच्छी लगती है जो मुंह मे आए बोल दो अन्ध भक्त है ना सब सम्भाल लेंगे।अच्छा हुआ कि ये नहीं कहा कि पायलट कि जगह मै ही गया था पाकिस्तान प्लेन लेकर हमला करने।।।',\n",
              " '@TheAzharSabri नही रविश कुमार',\n",
              " 'RT @Ajay27_INC: चौकीदार पहले से धोखेबाज है \\nजिसने सत्ता हासिल करने के लिए #UPA के समय घोटालों का गेम प्लान किया..\\nऔर जनता को गुमराह किया..…',\n",
              " \"मोदी के 'रेडार ज्ञान' का कांग्रेस सोशल मीडिया हेड ने उड़ाया मजाक https://t.co/MlVwUZz1b0\",\n",
              " '@kamleshtiwari03 कमलेश जी इन सुरो से दोगली कोम दुनिया भर में कोई नहीं इन सालो सारी आजादी हिन्दुस्तान में ही चाहिए अमेरिका में नंगे होंगे चीन में सुअर का मांस खाने को मजबूर लंका में इनकी लंका ही कर डाली म्यामांर में इनकी माँ बहन एक करदी आजादी हिन्दुस्तान में ही चाहिए',\n",
              " 'RT @tiwari_ashish1: भैया इस बूथ पर 400% मतदान होगा। \\n\\nबस दिक्कत ये है इन सब को पॉपुलर करने के चक्कर में मैं जेल न चला जाऊ😭😭😭😭😍😍😍😍😘😘😘😘😘😘 htt…',\n",
              " 'तुझ पर कुछ लिखूं\\nइतनी मेरी औकात कहां\\n\\nतूने ही तो लिखना सिखाया है माँ 👩\\nतू ही घर मेरा, तू ही जहां l\\n😍😍😘😘😘😘😘😘',\n",
              " 'भाई, सड़ जी अब नहीं जीतेंगे। 🤣🤣\\nस्वयं ही देख लो सड़ जी अब कितनी सीटों पे चुनाव लड़ रहे हैं ,और पिछली बार कितनी पे लड़े थे।\\nभाई , तुम बहुत भोले हो।\\n23 मई को ऐसे ट्वीट डिलीट कर देना।😝',\n",
              " 'RT @Hema_quotes: इसकी ग़रीबी देखकर आँखें नम हो जाती हैं! 😢 https://t.co/v0T8IpFhxQ',\n",
              " 'RT @hema_yadav14: हर रिश्ते में मिलावट देखी,कच्चे रंगों की सजावट देखी, लेकिन सालों-साल देखा है माँ को,\\nउसके चेहरे पे ना कभी थकावट देखी, ना…',\n",
              " 'RT @jhaprabhatbjp: JNU में जिस नौजवान ने ये कहा था, भारत तेरे टुकड़े होंगे,जिस पर देशद्रोह का मुक़दमा चल रहा है और वो जेल में रहे, दिग्विजय…',\n",
              " 'Kolhapur and Dwaraka',\n",
              " 'लेकिन उन गरीब नौजवानो का क्या होगा जो 2013-14 में CTET QUALIFIED करने के बाद OVR AGD होगए उनको इन 5 सालों में KVS के RECRUITMENT मे एक मौका क्यु नहीं दिया गया? क्या GENERAL पुरुष 30 साल के बाद प्राथमिक शिक्षक बनने के लिए उपयुक्त नहीं है? क्या यही 1 भारत श्रेष्ठ भारत है?',\n",
              " 'RT @Nikhil58690778: @tiwari_ashish1 @NationFirst0010 दो पिज़्ज़ा के बीच में सुखी रोटी। क्या बोलूं यार।... कोई अब ज़हर दे दे मुझे।',\n",
              " '@Swadesh03032906 Ok you win👍\\nजो ट्वीट किए वो डिलीट कर रहा हूं \\nआपने भाई कहां इसलिए\\nमेरे हिसाब से भाई बहन की लड़ाई में बहन ही जितनी चाहिए',\n",
              " '@narendramodi हिम्मत तो बस आम के खेत जाने वाले में है ।हमारे यहाँ तो आम के बाग होते हैं ।और इन हिम्मत के पहलवान को जनता और लोगों के बीच में कभी नहीं देखा ।इतनी हिम्मत है पहलवान में कि अपने देश की जनता के बीच नहीं जा सकते ।',\n",
              " 'क्या आईना और क्या इंसान,\\n\\nकद्र नहीं रहती टूटने के बाद।\\n😏🙄🙄😏',\n",
              " 'RT @SurajDa62004341: #वेद_मेरा_भेद_है\\n🔸परमात्मा सहशरीर है उस का नाम कबीर है वह धू-लोक के तीसरे पृष्ठ मे विराजमान है l\\nहीरे-जवाहरात से जडा प…',\n",
              " 'RT @ratanjha101: जिस आदमी को गाँधी के तीन बंदरों की कहानी भी लिखकर लानी पड़ती है\\nभाषण के बिंदु कैपिटल अक्षरों में लिखकर लाने पड़ते हैं\\n125…',\n",
              " 'RT @dpksharmaa: @SheilaDikshit @ArvindKejriwal बड़ी अम्मा आप इस चुतियानंदन केजरीवाल के बारे में मत सोचो \\nअब दिल्ली समझ गयी है इस नक्सली को',\n",
              " 'RT @abhisar_sharma: अब हम करें तो करें क्या ? बोलें तो बोलें क्या ? https://t.co/YkDMOL7T3c',\n",
              " '@BJP4Rajasthan कांग्रेस सरकार को ये पता नही है की पैसा कहा से आयेगा ओर ये गरीब लोगो को 72,000 मुफ्त रुपय देने का वादा कर रही है \\nये सब झूट है।\\nकांग्रेस सरकार चोर है ।',\n",
              " 'RT @MLArajeshSP: सुदूर ब्रह्मांड मे नये नये तारो और ग्रहों की खोज कर रहे वैज्ञानिको को ये भी चिंता सताने लगी है कि पृथ्वी के रेडियो सिग्नल…',\n",
              " '@desh_bhkt मुझे कुछ मिले न मिले,गम नहीं,\\n\\nमोदी जी के हाथों में देश की बागडोर किसी खजाने से कम नही, https://t.co/dT18ZKjhcy',\n",
              " 'RT @INCMP: कुछ तो शर्म करो :\\n\\n- जीएसटी और नोटबंदी से धंधा चौपट करने वालों \\n- किसानों के साथ धोखा करने वालों\\n- जनता के टैक्स का पैसा विज्ञाप…',\n",
              " 'RT @IMinakshiJoshi: \"20-25 साल बाद जब मेरा शरीर कमज़ोर हो जाएगा तब मैं किराए का कमरा खोजूँगा ।\"\\n@narendramodi \\nक्या देवरिया से मोदी का संके…',\n",
              " '@RSFBLB 🤣🤣🤣🤣🤣🤣 पप्पू पेलू के चमचे 🤣',\n",
              " 'RT @SureshChavhanke: टीपू सुल्तान के भक्त @RahulGandhi के वोट की जगह भी \"औरंगजेब लेन\".. है !',\n",
              " 'RT @SurekhaInsan: बच्चों को अपने माँ बाप की निंदा नहीं करनी चाहिए ,ऐसा करते हो तो उससे बड़ा पाप और कोई नहीं हो सकता।\\nअगर उनकी किसी बात से ह…',\n",
              " '@KarunaShukla10 इनके पिता जी शायद कसाब की अफ़जल जैसे आतंकवादीयो का केश लड़ रहा था उनको बचाने के लिये',\n",
              " '@BeingvickyyZ आई को मेरी ओर से #HappyMothersDay बोलना पगलु',\n",
              " 'शाम को में चचा के इसी बयान को याद कर रहा था 😆',\n",
              " 'आज का बादल देख कर ख़ुशी हो रही,मोदीजी कुछ अच्छा जरूर करेंगे।\\n\\n@Shehla_Rashid',\n",
              " 'RT @AndColorPockeT: दिग्विजय ने खुद अपना वोट नही डाला और ये बाकियों से उसके लिए वोट डालने की अपील कर रही। https://t.co/TKoP4fww7J',\n",
              " 'RT @upadhyay51: साड़ी पहनने की अंतिम तिथि 19 मई शाम छह बजे है उसके बाद इधर से साड़ी डालो उधर से जीन्स निकलेगी 😂😂\\n@priyankagandhi',\n",
              " 'RT @Mj0359: चमचो को समझ आने लगा है। #Haryanavotefornation  #jhajjar https://t.co/noHoTDi7VN',\n",
              " 'RT @ajitanjum: इंडिया टुडे पर तुरंत देशद्रोह का मुकदमा दर्ज होना चाहिए .ऐसी  कवर स्टोरी कोई पाकिस्तानी ही छाप सकता है कि करोड़ से ज्यादा नौ…',\n",
              " 'RT @AdityadasSatlok: #दहेज_मुक्त_समाज का निर्माण संत रामपाल जी महाराज कर रहे है। अब तक 30,000 से अधिक दहेज, फिजूलखर्ची और आडंबर मुक्त विवाह…',\n",
              " 'ये पप्पू क्या खानदानी पप्पू है क्या?',\n",
              " 'RT @atulkanakk: लोग भी यों ही बात का बतंगड़ बना देते हैं/\\nअब कोई मूँगफली बेचने के लिए तो राजनीति में नहीं आता ना!\\n🤣 https://t.co/yLTAb7y8Jv',\n",
              " '@sambit_swaraj1 भैया इसके कहने का मतलब है कि 23 को चार लोगों की जरूरत है कांग्रेस को कंधा देने के लिए',\n",
              " 'RT @Activelado: जरा सी बात करनी बंद क्या की\\nपुराने दोस्तों ने धीरे-धीरे साथ छोड़ दिया\\nऐसा लगता है, जैसे....\\nमेरे बात बंद करने का ही इंतज़ार…',\n",
              " 'RT @dev_kundan: @yadavtejashwi @laluprasadrjd कितना भी कुछ कर लीजिए बिहार की जनता अब पहले वाली नही है , 7 सीट से ज्यादा नही आने वाली है ,…',\n",
              " 'RT @AsaramBapuJi: मनुष्य जो कर्म करता है उसके प्रेरक-बल के रूप में उसकी इच्छाएँ, वासनाएँ होती हैं। यदि मनुष्य जन्म में उसे सही सीख मिल जाय,…',\n",
              " 'RT @ParthSonara4: गुजरात के गांवो में दलितों की शादी ओ में जातिवादी अत्याचार। \\n#DalitLivesMatter',\n",
              " '@PoonamS18957721 ओर उस से भगवान ने कह रखा हो कि मै उसको भेजूंगा,  तो,🤗🤔😊',\n",
              " '@ZeeNewsHindi  रावण और उसकी भीम सेना का नकाब उतर गया ये सिर्फ भारत में जातिवाद का जहर घोलने वाले है इनको मतलब नहीं दलित बेटियों की ईज्जत सरेआम विडियो बनाकर लूटी जाती है तो लूटी जाऐ इन्होने चूं तक नहीं की ।\\nसरकार और दूसरी जातियों पर लांछण जितने मर्जी लगवा लो देश में फूट डलवा लो बस',\n",
              " 'RT @The_Hina1: “बद-क़िस्मत है वह इंसान जो अपने गुनाह इस मुबारक महीने में न माफ़ करा पाए।”\\n“रोज़े की भूख और प्यास के द्वारा क़यामत की भूख और…',\n",
              " 'RT @shuklapinku: porn gresi के दामाद आतंकी अजर मसूद अब आंतर राष्ट्रिय आतंकी  .... इसका श्रेय नेहरू जी को जाता है !! 😀',\n",
              " 'RT @manakgupta: पाकिस्तान ने घुसपैठ बंद की, आतंकी लॉंच-पैड ख़ाली किए...फ़ाइअरिंग रोकने का ऑफ़र किया. घुटनों पर आ गया है आतंकिस्तान 👍 https:…',\n",
              " 'हमने अपना काम किया अब आप भदोही जिला का विकास करिए।',\n",
              " 'न डराओ मुझे माँ कह कर\\n\\nमै एक माँ हूँ| तुम मुझे अपनी पूज्य मानते हो- ऐसा तुम कहते फिरते हो| किन्तु यथार्थ की वेदी पर इसमें मुझे कोई शंका नहीं किन्तु पूर्ण विश्वास है कि इसमें अब सत्य का सत्व खत्म हो गया है|... https://t.co/LkCOejDfce',\n",
              " 'RT @AshishSainram: हमने तो सुना था कि..\\n\\n“चर्च के पादरी और नन सेवा करते हैं”\\n\\nपर यहाँ तो “पूरा” वेतन ले कर भी टैक्स नहीं भरते\\n\\nअगर सब ईश्वर…',\n",
              " 'Wo jo sabki surat pe haste hai\\nUnhe tohfe me aaina dijiye \\n#Sntosvd',\n",
              " '#पुरे देश का एक ही नारा \\n           नरेंद्र मोदी चाहिए दोबारा \\n#DeshKeDilMeiModi \\n#VotingRound6 \\n#हरियाणा \\n@TrehanNeeti',\n",
              " 'RT @mrjitunpanda: जिनका अंडरवियर हरेक अमेरिकी एयरपोर्ट पर उतरता हो,\\nवो दूसरों के अंडरवियर का कलर नहीं बताते',\n",
              " 'सफ़र है, सफ़र में सबर रख के चल,\\nकहाँ है तू इसकी ख़बर रख के चल,\\n#SauBaatKiEkBaat कही ‘बेचैन’ ने\\nजो कहना है तुझको वो कह के ही उठ,\\nन दिल में ज़रा भी कसर रख के चल।',\n",
              " 'RT @Randhirkush: #WednesdayMotivation\\nवेद बोलने वाला ब्रह्म कह रहा है वह स्वयं सतपुरुष कबीर हैं जो कबीर वाणीओं द्वारा निर्मल ज्ञान अपने हंस…',\n",
              " 'RT @JhaManyu1984: 84 के दंगे मे सिख मरते गए बेटियों का बलात्कार होता रहा गुरुद्वारे जलता रहे पर कुछ सीख बेशर्म सिख पापी काँग्रेस को वोट दे…',\n",
              " '@sambitswaraj मतलब कांग्रेस को वोट दे दिया',\n",
              " '@RubikaLiyaquat शर्म आनी चाहिए प्रियंका को',\n",
              " 'RT @Diyasin32915347: #BlackSpotOnJudiciary \\nहरियाणा कि सरकार ने बहुत बड़ा घुन्हा किया है एक निर्दोष संत को उम्रकैद की सजा सुना कर जिस दिन ह…',\n",
              " 'क्या आप अपने खाली समय में घर या दूकान या ऑफिस या कॉलेज से बैठे बैठे हर महीने कुछ एक्स्ट्रा कमाना चाहते हैं? क्या आप दैनिक जीवन के सामान खरीद पर ढेर बचाना चाहते हैं?\\n\\n यहाँ से डाउनलोड करें और मेरे रेफरल कोड VTO6V का उपयोग करें - https://t.co/9E5JGRUA9j',\n",
              " 'RT @piyushtrips: सिर्फ पांच वर्षो में हुई इन उपलब्धियों ने कांग्रेस समेत सारे विपक्ष की नींद हराम कर रखी है |\\n#NamoAgain\\n\\n#DeshKeDilMeiModi…',\n",
              " '@AliSohrab007 @SultanAliqazi गलत जानकारी. बिहार में कुर्मी आबादी 11%से थोड़ा ज्यादा है ।',\n",
              " 'RT @AsaramBapuJi: भगवान की जिम्मेदारी है पर आप विश्वास नहीं करते-पूज्य बापूजी\\nजो अत्यंत जरूरी है वह कर डालो और जो बिनजरूरी है,थोड़ा जरूरी…',\n",
              " \"RT @BJP4India: देखिये: 'जो मोदी जी को बुरा बोल रहा है, वो है बुरा'...कह रहा है बिहार का युवा। #JitegaModiJitegaBharat https://t.co/akHScipV…\",\n",
              " 'RT @ModiLeDubega: आतंकवादी प्रज्ञा ठाकुर BJP के टिकट पर चुनाव लड़ सकती है जबकि वह बम धमाके में जेल जा चुकी\\n\\nलेकिन BSFजवान तेज बहादुर घटिया…',\n",
              " '@anuragspparty @BrajeshYadavSP @yadavakhilesh @ndtv @Mayawati @RahulGandhi गरीबों का सुनने वाला कोई भी नहीं है ।हर कोई बस अमीरो की बात करता है।',\n",
              " \"@ved175 @Rituchandel04 Sant Shri Asaram Bapu Ji ने बताया की बचपन में मीराबाई ने माँ से अपने पति के बारे में पूछा तब माँ ने यह बताया कि 'तेरा पति तो गिरधर गोपाल है।' तब से यही उसके जीवन का मूलमंत्र बन गया।\\n#HappyMothersDay\",\n",
              " 'RT @I_am_Anil_Tyagi: अब तो बच्चे भी कहने लगे कि चौकीदार चोर है😊\\nपूरा वीडियो आपने भी नहीं डाला जिसमे @priyankagandhi इन बच्चो को मना कर रही…',\n",
              " 'RT @I_am_Anil_Tyagi: मुझे हराने वाला कोई पैदा नहीं हुआ---निरहुआ😊\\nनिरहुआ बोलते गए और फँसते गए;भरपूर मनोरंजन के लिए देखें यह पूरा वीडियो। \\nइत…',\n",
              " 'RT @AshrafFem: मैं मुसलमान हूँ और मैं शपथ लेता हूँ कि कट्टरवादी चाहे मुझे कितनी भी गालियां दे या मेरे धर्म को निशाना बनाये मगर मैं कभी भी…',\n",
              " '@ArvindKejriwal अरविंद जी अगर भारतीय जनता पार्टी जीती तो उसके जिम्मेदार सिर्फ और सिर्फ आप होंगे क्योंकि आप पूरे देश में तो क्या दिल्ली के संगठन को ही जोड़ कर नहीं रख सके हमें खेद है हम आप को प्रधानमंत्री देखना चाहते थे और आप',\n",
              " 'RT @SunildasBohane: #वेद_मेरा_भेद_है\\nइस पूरी पृथ्वी पर एक ही संत  है जो हमें  शास्त्रों और वेदों के अनुसार भक्ति करवा रहे हैं वह सिर्फ संत…',\n",
              " 'RT @Jitendr54356112: देश का सामान्य नागरिक ऐसी गलती कर देता तो उसे भी ऐसे ही माफ करते । सामान्य नागरिक को निम्न कोर्ट भी माफ नहीं करता । स…',\n",
              " 'RT @VIKASHK98936087: @RahulGandhi कोने में बैठ कर चार अंधभक्त रो रहे थे,,,\\n\\nमैंने पूछा क्या हुआ  ?\\n\\nतो बोले\\n\\n23 मई की तैयारी कर रहे हैं😂🤣😂…',\n",
              " 'RT @RakeshKP1978: @RabriDeviRJD @laluprasadrjd का हो चाची सब कइलू, जब कुछ ना भेटाइल त अब इमोसनल कार्ड खेलत बाड़ू।एक बात कहीं।\\nएहू से कुछ न…',\n",
              " 'RT @manakgupta: मोदी जी कह रहे हैं कांग्रेस नेता उनकी हत्या कराने के सपने देख रहे हैं. अब ज़्यादा हो रहा है PM जी 🤭',\n",
              " 'RT @AvantikaDs: पाकिस्तानी लेखक ने  बिल्कुल सही लिखा..\\nमोदी ने देशभक्त और देशद्रोहियों के बीच विभाजन कर दिया है..!!',\n",
              " '@ArvindKejriwal Pehle jaake EC response sun lijiye fir bakiye @ArvindKejriwal',\n",
              " 'RT @YudhishthirSah6: @YuvrajP70879924 @Aryavrta गर्म पानी से स्नान नहीं करना चाहिए गर्म पानी सिर पर कभी  नहीं डालना चाहिए  उबटन से स्नान कर…',\n",
              " 'RT @SheilaDikshit: तुम तो सब को लाजवाब कर देते हो https://t.co/wGZ188xIXs',\n",
              " 'RT @TejBahudur: सेना के सिपाहियों का ये हाल होता है, आज से नही कई सरकारों से, लेकिन अगर कोई हिम्मत करके सिपाही इसके खिलाफ बोल दे तो देशद्रो…',\n",
              " '@ArunNayyer2 @ZeeNewsHindi @IndiaToday @aajtak @TimesNow @abpnewstv कब तक चलेगी ये मनमानी मोदी की \\nBjp भगाओ देश बचाओ',\n",
              " 'RT @AchAnkurArya: सीधे काबा में खडे होकर अल्ला से सीधे मोदी के खात्मे की यह दुआ बताती है कि मोदी को हटाना मुसलमानों के वश की बात नही, शायद…',\n",
              " '@AlkaMehta19 नजरों को तेरे प्यार से इंकार नहीं है,\\nअब मुझे किसी और का इंतज़ार नहीं है,\\nखामोश अगर हूँ मैं तो ये वजूद है मेरा\\nतुम ये न समझना कि तुमसे प्यार नहीं है। https://t.co/6t78HusAIY',\n",
              " 'RT @JEMMasoodAzhar: मैं #MasoodAzhar पूरे मुस्लिम आवाम को संदेश देना चाहता हु और ये कहना चाहता हु की मुझे Global terrorist घोषित करने के पी…',\n",
              " 'संजय दत्\\u200dत बच्\\u200dचे की तरह हैं: अर्जुन कपूर https://t.co/RSZ6j80XUQ',\n",
              " 'RT @sudhirchaudhary: बनारस में कुल्हड़ की चाय और कचौड़ी के बिना दिन अधूरा रहेगा।@vishalpandeyk के साथ सड़क किनारे चाय पर चर्चा। https://t.c…',\n",
              " '@ppbajpai क्या ज़माना आ गया भई!हद कर दी आप ने.. हर न्यूज़ वाले ने धक्का मार कर बाहर कर दिया और अब फ़ेसबुक अड्डा जमा दिया..लगता है अब \"जुकरबर्ग\" बैन लगयेगा तभी कुछ समझ आएगा।',\n",
              " 'एक तन्हा रात में तुम्हारी याद आ गयी,\\nयाद भुलाने के लिए हमने एक शमां जला दी,\\nक्या कायनात दिखा दी उस शमां ने हमको,\\nउसके उठते धुएं ने तुम्हारी तस्वीर ही बना दी…',\n",
              " '@Rammehar00 @bunty_ki_babli @babli_ka_bunty 😂😂😂😂😂  जलने की बदबू आने लगी है',\n",
              " 'RT @JoinDesi: 5 घन्टो का मेकअप....\\n10000 का पार्लरका खर्चा\\n\\nऔर... भोसडीके ने...\\n2 मिनिट मे पुरा पॅकेज खोल कर रख दिया.😂😂😂 👇👇👇👇 \\n\\n(आज का सवाल…',\n",
              " 'RT @rishibagree: ऐसा पहली बार हो रहा है कि आज़मगढ़ की 140 बूथों पर बूथ कैप्चरिंग नहीं हो पा रही है।\\nअखिलेश यादव जब ये कहते पाए गए कि आज़मग…',\n",
              " 'RT @DesiStupides: चुनाव आयोग का नाम सुना है ? उसका एक नियम है वोटिंग से 48 घंटे पहले पोलिंग बूथ के पास किसी पार्टी का पोस्टर नहीं लगा होना…',\n",
              " '@umashankarsingh अब आप बाहर निकल सकते हो कोई नहीं देख पाएगा...',\n",
              " 'RT @halima7620: uff dil to karta hai pore twitter ko moj karwa du per kiya karu log ratween kam karte hain warna har ghar me ja kar free me…',\n",
              " 'यह चेहरा कह रहा कि इनकी लुटिया भी राहुल डुबो चुका!\\n#आयेगा_तो_मोदी_ही',\n",
              " 'RT @soniya2250: रेगिस्तान भी हरे हो जाते हैं जब..🌿🌳\\n\"अपनों\" के साथ \"अपने\" खड़े हो जाते हैं🙏 https://t.co/vEFEzmARpe',\n",
              " 'RT @kanchanad123: #MothersDaySpecial\\nगुरु द्वारा बताई गई मर्यादा में रहकर भक्ति करता हुआ शिष्य गुरु को मां से 100 गुना ज्यादा प्रिय होता है…',\n",
              " 'RT @KadiyaTrupti: एयर स्ट्राइक के बाद दो जगह मातम छा गया था, एक पाकिस्तान में और दूसरा राहुल बाबा एंड कंपनी के यहां।\\n\\nराहुल बाबा कान खोल के…',\n",
              " 'RT @kumarshashwat97: बस इनका यही कहना बांकी रह गया है कि अभिनंदन की शक्ल में विमान का पायलट यही था। फेंकने की भी सीमा होती है भाई !!!! 😂😂😂…',\n",
              " 'मेरे देश हर मतदाता पढा लिखा होशियार है राम क्रष्ण नर देव की गिनती मतदान स्वीकार करो अपने वोट की कीमत समझो भारत का उद्दार करो,,जाति धर्म मजहब से ऊपर उठकर सोच विचार करो,,जिसके हाथो देश सुरक्षित उसको चौकीदार करो चरित्र वान और देश पुजारी गद्दी का हकदार है,मै भी चौकीदार हू तुम भी चौ,,',\n",
              " 'RT @IqbalShahfahad: ↕️⬇️\\n👉 सहाबी ने कहा जी आक़ा हुज़ूर \\nआप रसूलल्लाह ﷺ ने कहा जाओ उनकी खिदमत करो अल्लाह तुम्हारे गुनाह मुआफ़ कर देगा 👐\\n\\n👉 अ…',\n",
              " 'RT @TV9Bharatvarsh: मुझे हराने वाला कोई पैदा नहीं हुआ, ईश्वर के लिखे लेख को भी मैं मिटा सकता हूं- @nirahua1 #Phase6 #AadeshDeshKa #VotingRo…',\n",
              " '@AkhileshPSingh @bjp_ka1_virodhi काश आज कलाम साहब इस दुनिया में होते , तो साहब के रडार ज्ञान यानी कि \"मोदीनोटिक्स\" को जानकर अचंभित हो जाते और सोचते कि में रडार और बादलों के रिश्ते को नहीं समझ पाया लेकिन इस महान इंसान ने ये खोज कर डाली😀😀😀😀😀',\n",
              " 'RT @DesiStupides: @yadavtejashwi वो भाजपाई बादल दिखा क्या जो रडार से बचा लेता है! 😂 😂\\n\\n23 मई के बाद मोदीजी को रोजगार की चिंता नहीं होगी, अप…',\n",
              " '@sadhvi09 @priyankagandhi @INCIndia हर हर मोदी घर घर मोदी',\n",
              " 'RT @gops333: आप की रिश्वतखोरी देखिये, केजरीवाल और गोपाल राय का काला कारनामा 6करोड़ में पश्चिम दिल्ली का टिकट बेचा, बेटे ने किया भंडाफोड़..…',\n",
              " '@Kavita_Sharma4 @chokidarsandhya \\nलोग जख्मी होते है तीर तवर खंजर से,\\nमैंने ज़ख्म खाया है यारों अपने दिलबर से,\\nआए जो नज़र तुमको भोला - भाला बाहर से,\\nझांक कर उसे यारों पहले देखो अंदर से।।\\nथा जो एक परदेसी ओ चला गया लेकिन,\\nआती है वाफा की बू अब भी उसके बिस्तर से।।',\n",
              " 'RT @AmitShah: मोदी सरकार ने अमृतसर में IIM स्थापित किया, भटिंडा में AIIMS दिया, फिरोजपुर में PGI की स्थापना की जा रही है।\\n\\nमोदी जी ने जालि…',\n",
              " 'ये मुस्कराहट सलामत रखना मेरे मौला\\nये फलीस्तीन पैगम्बरों की ज़मी है \\nबंज़र जरूर है \\nलेकिन बुज़दिल पैदा नहीं करती।। https://t.co/VliwD8Vjbu',\n",
              " 'RT @Priyankajit: भक्तों के अनुसार :-----\\n वही सैनिक देशभक्त माना जाएगा \\nजो चुपचाप ताबूत मे बंद होकर घर आएगा\\n          वह नहीं :-- \\nजो भ्रष्…',\n",
              " 'RT @imsiddhu4u: राहुल, तूने मोदी जी को चोर कहा और उसने माफी मंगवा ली…\\n\\nअब मोदी जी ने तेरे बाप को चोर कहा,  जा दम है तो मंगवा ले माफी…😂\\n@Rah…',\n",
              " 'RT @BebakAawaj: @RahulGandhi शर्म मोदी को आती नही? जनता के सामने खुलेआम झूठ बोलने का पेसा हो गया है।\\n\\nपुलवामा, छत्तीसगढ़, उड़ी, गढ़चिरौली,…',\n",
              " 'कांग्रेस का हरामीपन देखिये, सिखों का नरसंहार करके भी सरदार मनमोहन सिंह से ही माफी मंगवाई,\\n\\nनेहरू परिवार ने माफ़ी नही मांगी।',\n",
              " 'RT @KuldeepKadyan: सरेआम 100 से ज्यादा हरियाणा के लोगों को गोलियों से भून डालने वाली सरकार सोच भी कैसे सकती है कि उनको वोट मिलने चाहिए??',\n",
              " 'RT @UrmileshJ: Namo Tv अब भी चल रहा है! इच्छा हुई तो 23 मई को चुनाव आचार संहिता का सम्मान करते हुए उसका प्रसारण बंद\\u200c होगा ! विपक्षी नेता के…',\n",
              " '@ankit_rr हर बार ही होती है इतनी तो🤔',\n",
              " 'RT @JhaGunjesh: \"ऐसा होते हुए भी संघ (RSS) एक राजनीतिक दल या राजनीतिक दल का हिस्सा नहीं बनता। वह संपूर्ण समाज का संगठन ही है। यही है भारत…',\n",
              " 'RT @Essdee59652254: वोट नहीं देने से नकारना नहीं होगा उल्टा जीसे आप नहीं चाहते वो जीत सकता है।\\nअगर उसे हराने के लिए वोट करोगी तब उसे आप कम…',\n",
              " '@AzmiShabana अच्छा मतलब मैडम को वीजा नही मिला अमेरिका का ,कोई बात नही पकिस्तान के लिये कोशिश करो',\n",
              " '@jigneshmevani80 @aajtak @ndtv @sardesairajdeep देश में दलितों पर हो रहे अत्याचार शर्मनाक है पर उससे भी ज्यादा शर्मनाक जिग्नेश मेवानी के द्वारा दलितों की भावनाओं के साथ खेल कर की जाने वाली राजनीति है जो यह दर्शाने के लिए काफी है की उसे दलितों की कोई फिक्र नहीं है सिर्फ कांग्रेस की दलाली करनी है',\n",
              " 'RT @uN5hUMittal: @rssurjewala कहा से लाते हो इतना कमीनापन। तुम कांग्रेसी । \\n\\nMP  , राजस्थान में हत्या , अपहरण, बलात्कार की बाड़ आ गयी है।…',\n",
              " 'RT @AnkitLal: .@narendramodi जी को सिपाही तेज बहादुर से इतना डर क्यूँ लगता है?\\n\\nअगर इस तरह रोज़ लोकतंत्र की हत्या होती रही और हम लोग चुप बै…',\n",
              " 'RT @DilliDurAst: डिफेंस के रडार हैं टाटा स्काई की छतरी जो बादलों की वजह से काम नहीं कर पाते!!😬 https://t.co/cc387NFfgB',\n",
              " 'RT @Dil_se_re_: गरीबी लेती है हर इम्तिहान गरीबो की\\nजानवरसे बत्तर हालत कर देती इंसानों की\\n\\nमजबूरी में जब बन्ध जाती बैलों की जगह\\nसोचो कुछ तो…',\n",
              " '@NeHa_Ji_ कुछ तो शर्म करो बोलना है तो साफ साफ बोलो पर कम से कम सरदार बोलना है तो इज्जत से बोलो क्योकि सारा देश सरदार के नाम से सिर्फ सरदार पटेल को जनता है समझे ।\\nऔर दूसरे सरदार सिख है तो कम से कम ऐसा न लिखे जिससे किसी को प्रॉब्लम हो जाये ।',\n",
              " 'RT @jpchordiya_5: \"बादलों में रडार काम नहीं करते\"\\nयह\\n\\'टेक्नोलॉजी\\' नहीं\\n \\'फेक्नोलॉजी\\' है',\n",
              " 'RT @IIGoDMomll: लो ये दो कौड़ी के आपिये बोल रहे है इनका भाव 10 करोड़ है लेकिन इनका मालिक कांग्रेस के सामने गठबंधन के लिए भीख माँगकर टीवी पर…',\n",
              " '@RiyaNarayan6 Woh lassi nahi chaach hai🙄',\n",
              " 'RT @dilipmandal: अपने बेटे के बारे में कोई कहे तो तकलीफ होती है न @tavleen_singh? आप समझ सकती हैं कि देश में विचार-विमर्श का स्तर कहां चला…',\n",
              " 'RT @SevadalDD: \"जीतेगा तो धोनी ही\" की हालात देखकर,\\n👇\\n\"आएगा तो मोदी ही\" वालों में भय का माहौल !\\n🤣',\n",
              " 'मुझे लगा है ! कि आप मुझे ही बोल रही हो 😀Baby आप यहा बाॅय फ्रेंड ढुंढने आइ हो क्या  ?😉😀😁😂😃😄😅',\n",
              " '@arunjaitley #Bjp_Govt_Slogans 2014-2019\\n:- राष्ट्रवाद \\n:- हिंदुत्वा\\n:- पाकिस्तान\\n:- देशद्रोही\\n:- टुकरे टुकरे गैंग\\n:- वन्दे मातरम्\\n\\nकिंतु मुद्दा है:- \\n\\n:- रोटी/कपड़ा/मकान\\n:- किसान/नौजवान/छात्र\\n:- रोज़गार\\n\\nभाजपा कर क्या रही है:\\n\\n👉 कोंग्रेस के सरकार में सब सामान्य चल राह था किंतु हम ठगा गए।',\n",
              " 'RT @MLArajeshSP: एक जिम्मेदारी एक वचन दिया गया पता नही सहाब क्यों मुकर गये। शिक्षामित्रों को दुख होता कि काश उस समय आपका विश्वास नही किये…',\n",
              " '@KapilMishra_IND हमनें सोचा झाड़ू लगी साफ सुथरी बटन को अपनी स्याही लगी उंगली से गंदा क्यों करना। इसलिए उंगली नहीं लगाई उस पर। 😏😏',\n",
              " 'tmc का आतंग कब का सहेंगे हम',\n",
              " 'RT @BK_Bhartiy2: अब यदि कोई बहन जी बोलेगा तो तो गोली\\nमार दूँगी !!\\n\\nससुरें  ने बहन जी बोल-बोलकर जीवन भर कुंवारी रख दिया😂😂😜😜😀😁😉 https://t.co/…',\n",
              " 'RT @GunjanPandya7: क्या राहुल गांधी की ये कम्पनी और ब्रिटिश नागरिकता देश के लोगों को धोखा और संविधान का मज़ाक़ उड़ाना नही है,क्या ये सारी…',\n",
              " 'चुनाव आयोग ने पाकिस्तानी अंपायर शकूर राणा की याद दिला दी। @shuvankr dada',\n",
              " 'एक बार फिर एक साथ स्पॉट हुए मलाइका अरोड़ा और अर्जुन कपूर, मीडिया कैमरों से बचते नजर आए https://t.co/80YDPOc490',\n",
              " '@ArvindKejriwal हूतिए अगर तेरे मां बाप ने बुजुर्गों की इज्जत करना सिखाया होता तो मोदी जी को coward और psychopath ना कहता तु। तु तो अपनी पार्टी की औरतों का भी सम्मान नहीं करता। 😠',\n",
              " 'RT @waishkh76232335: ये मुस्कराहट सलामत रखना मेरे मौला\\nये फलीस्तीन पैगम्बरों की ज़मी है \\nबंज़र जरूर है \\nलेकिन बुज़दिल पैदा नहीं करती।। http…',\n",
              " '@Rofl_Rajasthani चक्रवात आयेगा😂',\n",
              " 'RT @atulbegwani5454: 23मई के बाद हम मोदी भक्त क्या करेंगें ? 😀',\n",
              " '@romanaisarkhan @abpnewshindi @abpnewstv तुम तो कांग्रेस को वोट देकर आयी होगी हिन्दुवो और राम से तुमको भी दिक्कत् है',\n",
              " 'RT @yadavdimples: मुझे हराने वाला कोई पैदा नहीं हुआ, मैं ईश्वर के लिखे लेख को भी मिटा सकता हूँ : निरहुआ\\n\\nभगवान को चुनौती भाजपाई ही दे सकते…',\n",
              " 'खुजलीवाल को करवाकर आशावादी बना दो ।',\n",
              " 'अरे @RahulGandhi जी आप कहते हैं की @narendramodi जी में नफ़रत हैं और आप उन्हें सिर्फ़ प्यार देंगे इसीलिए झप्पी भी दी ,आँख भी मार दी लेकिन ये बताइए क्या वोट भी आज मोदी जी को दे दिया ? आप दे भी सकते हो 😜',\n",
              " 'RT @sushilk03017575: @DhananjayPraj15 \\nसर, आज कल की शिक्षा प्रणाली एक व्यापार की तरह ही बन कर रह गई है। बच्चे अपने संस्कार और संस्कृति को…',\n",
              " 'अब कोई नहीं बोलेगा सब के मुँह पर गोदरेज के ताले लटक जायेंगे',\n",
              " '@ShilpiSinghINC @RahulGandhi @priyankagandhi @INCIndia इस गधी को किसने गणित पढ़ाया है बे ।😁😁 https://t.co/pI5SfESMCr',\n",
              " '@TRIPATHI_AVI_ @ArvindKejriwal @DrKumarVishwas में जब भी पुथ्वीराज चौहान के बारे में पढता हू सोचने पे मजबूर हो जाता हूं कि ईतना वीर कयी बार मुहम्मद गौरी से जीयने के बाद भी आखिर कार हार कयों गया ? \\nकारण था \"जयचंद की गद्दारी\"\\nआज फिर से पुथ्वीराज चौहान(Modi)मैंदान में और जयचंद (Kejriwal) भी घर मे बैठा है \\nIndia Be Careful !!!',\n",
              " 'RT @sambit_swaraj1: इसको संभालो बे चमचो , पता नही कहा मुह काला करवा के आया है।\\n🤣😂🤣😂🤣😂🤣😂🤣😂 https://t.co/3YNYpQeh3Q',\n",
              " 'किस देश कि बात कर रही है यहां चमचों और दलालो कि भीड़ ने खुद को गुलाम मान लिया है',\n",
              " 'RT @nidhidynamic: दादी जैसी नाक है तेरी, मलिंगा जैसे बाल!\\nपीहर तेरा चोर प्रियंका, डाकू है ससुराल..\\nएक तू ही धनवान है गौरी, बाकी सब कंगाल..😂…',\n",
              " 'श्रीलंका / राष्ट्रपति ने कहा- आतंकवाद के खात्मे तक न तो भागूंगा और न ही इस्तीफा दूंगा\\n https://t.co/9boZnysMXA',\n",
              " 'RT @ZubinaAhmd: समझ नहीं आ रहा ये मोदी चीन को कौन सा जूता सुंघाया है कि उसकी मिर्गी ठीक हो गई। मसूद अजहर पर UN कौंसिल ने साल भर के अंदर तीस…',\n",
              " 'RT @Interceptors: आज भी 40% लोग वोट डालने नही गए। यही 40% अगले 5 साल तक सरकार को ज्ञान देंगे।',\n",
              " 'RT @ETHindi: गर्मी छुट्टी की भीड़ और डायनैमिक प्राइसिंग से हवाई किराया से भी महंगे हुए ट्रेन टिकट https://t.co/MK0MfJfarm via @NavbharatTim…',\n",
              " 'RT @BJPLive: कांग्रेस का एक और कल्चर है योजनाओं को लटकाने और भटकाने का।\\n\\nआज मध्य प्रदेश में पानी की किल्लत है, तो इसके पीछे कांग्रेस की यही…',\n",
              " '@Jitendr14272284 @Pinkimishr क्या आपने किसी मुसलमान को \"इस्लामिक आतंकवाद\" को सच साबित करते देखा?\\nपरन्तु आपने एक हिन्दू को \"भगवा आतंकवाद\" को प्रमाणित करने के लिए अदालत जाते जरुर देखा होगा! यही अंतर है.',\n",
              " '@LambaAlka तुम्हारा रिस्तेदार आतंकी घोसित हो गया हल्का .....थोरा सा रो लो , नहीं तो पेमेंट नहीं मिलेगा ।',\n",
              " 'RT @Maya_World1: तुम सोच भी नहीं सकते हम कितना सोचते है तुम्हें।',\n",
              " 'RT @mntlive: बुर्का बैन को साध्वी प्रज्ञा ने बताया राष्ट्रहित में जरूरी, BJP ने किया विरोध https://t.co/HMqwM93Idg\\n@ali786_rahim @ALIMUKTED…',\n",
              " 'RT @RinkuSharma0123: मोदी\\'\\' जी की \"जरुरतें  \"कम\"  हैं\\nइसलिये उनके \"जमीर\" में \"दम\\' है\\n\\nसहमत हैं तो \"रिटवीट\" जरुर करें🙏',\n",
              " '@aajtak @PankajJainClick हमें सबूत चाहिए 😂😂',\n",
              " '@_mayymunay @Bamitsmahnoor Hamy apni izzat pyari hai😪',\n",
              " '@DurgaKali9 @ShilpiSinghINC हमें लगा शेरनी जंगल में कहीं खो गई थी.',\n",
              " 'RT @malang_77: @MalayMi07748764 मोदी ??? मोदी ने ऐसे ऐसे इंटरव्यू दिए हैं जो इसका बाप नहीं दे सकता...ये है क्या ?? इसका इंटरव्यू कोई ढंग का…',\n",
              " 'RT @Republic_Bharat: #May23WithArnab | जो चाँदी का चम्मच लेकर पैदा हुए, औऱ जिन्होंने गरीब के नाम पर राजनीति करके खुद के लिए चाँदी के चम्मच…',\n",
              " 'गंभीर बात। प्रोपैगैंडा की प्रेरणा अमरीका (जहाँ से हम ये वॉर रूम और उसका पूरी कहानी कहना सीखे हैं) में भी पूरा प्रोपैगैंडा मशीनरी के द्वारा फैलाया जाता है और उस मशीनरी में बड़ा हाथ वहाँ की फिल्मों का भी रहता है। कभी... https://t.co/8ODw4YBdep',\n",
              " 'इसमें भी कोई शक की गुंजाइश रह गयी है क्या 😂😂',\n",
              " 'RT @lolmaal: पहले लोग झूठ बोलते थे तो, मीडिया सच ढूंढ कर लाती थी...\\nअब मीडिया झूठ बोलती है और... हम लोग सच ढूंढ कर लाते हैं ! 😂😂',\n",
              " '@NyLahBaLoch @patelwoodcrafts Sarah hai',\n",
              " 'RT @JyotsnaTak: Aisa kaam to BJP ka 56 inch ke seene wala leader hi Kar sakta Hai, aur kismat se sabhi BJP leaders ka Seena 56 inch ka Hai,…',\n",
              " 'RT @bhavsarhardiik: इनके चहेरे बता रहे हे की... \\n#AayegaTohModiHi 😍✌ https://t.co/yameplIqxw',\n",
              " '@chowkid87435826 @karanslove @Sampat_Saral @sardanarohit @vinodkapri @sakshijoshii @khanumarfa @zoo_bear @umashankarsingh @bainjal @jainendrakumar @MamataOfficial @msisodia @pankhuripathak मोदी तो चोर है इसमें कोई किन्तु परंतु नहीं है\\nरोहिंगिया या बंगला देशी मुस्लिम ही क्यू बंगला देशी हिन्दू को भी बाहर निकालना चाहिए।\\nतड़ीपार बोलता है हम सिर्फ मुस्लिम को बाहर निकलेंगे वो ठीक है साला तड़ीपार पूरे देश में नफ़रत फैलाया है',\n",
              " 'साहेब ने सब कुछ तो लगभग सुना ही दिया है अब बस यही सुनाना बाक़ी रह गया है,\\n\\nअगर मुझे #वोट नहीं दिया तो मेरा मरा हुआ मुंह देखोगे। 🤣😂😂',\n",
              " '@vikrameffects @vijayment @DrKumarVishwas डीपी तो अपनी अब्बा हुज़ूर की लगाया https://t.co/5aprWLgaXw',\n",
              " 'अब क्या ऐसे आलसी लोगो के लिए भी मोदीजी दोषी है ?? 😉😉😉😉',\n",
              " 'RT @rohanrgupta: न नियत है न क़ाबिलियत है,\\nमोदी जी को बस सत्ता पाने की लालच है!\\n\\nसत्ता पाने के लिए इनका अपमान,\\nनहीं सहेगा हिंदुस्तान! https…',\n",
              " 'RT @BJP4India: पाकिस्तान के पाले पोसे आतंकी जब यहां पर हमला करते थे तो ये निर्दोषों को जेल में ढूस देते थे।\\n\\nहिंदू आतंकवाद का कुतर्क करने…',\n",
              " 'RT @narendramodi_in: तब तो बबुआ भी बुआ के उस घोटाले की जांच कराने के ऐलान करके गए थे। \\n\\nलेकिन हुआ क्या?\\n\\nबुआ और बबुआ ने आज खुद हाथ मिला लि…',\n",
              " 'RT @Mdhaka5: ये गलत कर रहा है इसके खिलाफ fir होनी चाहिए असावटी गाँव जिला पलवल की बता रहे है https://t.co/ZhhD0Hkut4',\n",
              " 'RT @SushantBSinha: आतंकी मसूद अजहर पर बैन को लेकर अड़ियल चीन के रुख में अचानक आई नर्मी इस बात का संकेत है कि उसके पास भी यही रिपोर्ट पहुंच…',\n",
              " 'RT @NidhiSi22101: पार्टी का चुनाव चिन्ह \"झाड़ू से हैलमेट\" कर लो…\\n\\nदिनभर लगा के घूमना\\nप्रचार भी होता रहेगा और सेफ्टी भी बनी रहेगी घुँघरू सेठ…',\n",
              " 'ये क्या है @ArvindKejriwal https://t.co/3zT9LfxLEg',\n",
              " 'RT @seematri6: दलाल भी थे ? ? ? 🤔🤔🤔\\n ऐ पप्पू क पापा तुझे,  क्या क्या कहूं,\\nक्या ना कहूं. . ! \\n🙏🙏😡😡\\nhttps://t.co/k7w8bOSE1M',\n",
              " 'RT @ashutosh83B: तेज़ बहादुर का नामाँकन खारिज, सुप्रीम कोर्ट में करेंगे अपील\\n\\n https://t.co/x0Stfapxiq',\n",
              " 'RT @Brijesh_Jaat: तबियत ठीक नही रहती अब बिल्कुल भी\\n\\nजब से तुमने हाल पूछना बन्द किया है\\n\\n#Guddu 😘❤️ https://t.co/tLqMiMSq05',\n",
              " '@Varun70055420 @BJP4India @yadavakhilesh जल्दी आ बे रंडी की औलाद',\n",
              " 'RT @ArunbajpaiRajan: पुश्तों से अमेठी की सेवा की है:- प्रियंका वाड्रा\\n\\nटूटी सड़कें,जर्जर अस्पताल,न उद्योग,न व्यापार, बिजली बेहाल,\\n\\nइसे सेवा…',\n",
              " 'RT @MadhuCh11933439: अबकी बार 400 पार 😊😊\\nहर हर मोदी🙏\\n@narendramodi \\n@RahulGandhi https://t.co/uzPkmszSrr',\n",
              " 'RT @anuragspparty: धूप से जलती सड़क पर स्कूटर सवार को मेट्रो की छाया..मेट्रो का एक फ़ायदा ये भी है#कामबोलताहै \\u2066@yadavakhilesh\\u2069 \\u2066@myogiadity…',\n",
              " 'RT @Kauchaubey77: @abhisar_sharma तू पगार काटेगा जो खुद दूसरे के दलाली पर चल रहा है वो पगार की बात करते हैं',\n",
              " 'RT @HindiJKR: आचार संहिता उल्लंघन के एक और मामले में पीएम मोदी को मिली ‘क्लीनचिट’, राहुल गांधी को चुनाव आयोग ने भेजा कारण बताओ नोटिस\\n#Elect…',\n",
              " 'RT @Pinkimishr: एक बाबरी टूटी थी मुसलमान आज तक भाजपा को वोट नहीं देता।\\n\\nलाखों मंदिर कांग्रेस ने तुड़वाए फिर भी हिंदू समझते नहीं।।',\n",
              " 'RT @Rajniin48551148: #RespectMothersSaysStRamRahim \\n#MothersDay \\nउसके रहते जीवन में कोई गम नहीं होता, दुनिया साथ दे ना दे पर मां का प्यार क…',\n",
              " 'हमारे साथ न्याय कर',\n",
              " 'RT @MPRakeshSingh: आज संयुक्त राष्ट्र ने आतंकी #MasoodAzhar को अंतर्राष्ट्रीय आतंकवादी घोषित कर दिया है। यह मोदी सरकार की विदेश और कूटनीति…',\n",
              " 'ये देखो तथाकथित पिछड़े समाज का नेता जो पिछड़ी जाति की नेता के ख़िलाफ़ ब्राह्मण का सपोर्ट करेगा।इस दोगले नेता की दुकान भी इस बार बंद ही हो जायेगी।',\n",
              " 'कठुआ मामले में सड़को पर उतरे तमाम तथाकथित #बुद्धिजीवी, #Celebs इस बार वो तेजी या वो आक्रोश नहीं दिखा रहे हैं ,,😠😠😠\\nकश्मीर में 3 साल की बच्ची से बलात्कार.. बलात्कारी का नाम ताहिर अहमद जिसने रोज़ा इफ्तारी से पहले दिखाई थी टॉफी!!',\n",
              " 'RT @Jansatta: बीजेपी प्रत्याशी निरहुआ का कॉन्फिडेंस- कोई हराने वाला पैदा नहीं हुआ, भगवान का लिखा भी मिटा सकता हूं \\nhttps://t.co/TfsrlO3IJN',\n",
              " 'RT @Shivani_Bhabhi: ननदोई जी ने कर दी मेरी चूत चुदाई और मैं गर्भवती हो गई    https://t.co/2en7WMShui https://t.co/tKL3voClkQ',\n",
              " 'RT @Rekha33695940: #Allah_Kabir\\nकबीर जी ने समझाया है कि\\n हे मानव शरीर धारी प्राणी! यह मानव जन्म बहुत युगों पर्यन्त प्राप्त होता है।\\nतत्व द…',\n",
              " 'RT @suhana7880: अबे तेरी औकात क्या है है बे भारत के टुकडे पे पलने वाले पालतु कुत्ते तेरी भाषा किससे मिल रही हमे पता है\\nतू हमे ज्ञान देगा 5…',\n",
              " '@anuragspparty @yadavakhilesh @ndtv @Mayawati @RahulGandhi @anuragspparty @yadavakhilesh\\nतुमरे akal-less भैया भी यही कर रहे होते अगर मुलायम सिंह यादव की औलाद ना होते.\\n#totichor',\n",
              " 'RT @sambit_swaraj1: कांग्रेस अब खुल कर नक्सलवादियों के साथ खड़ी हो गई, उधर नक्सलवादियों ने हमारे जवानों को शहीद किया और कांग्रेस के राजबब्ब…',\n",
              " 'RT @RaiSahab20: तुम बेशर्म हो ! हो तो हो ! फिर यह भी मानो राजीव गांधी भ्रष्टाचारी था, सिखों के नरसंहार का दोषी था । https://t.co/my4JYixtPQ',\n",
              " '@agrey_sangita @Rajeshw89110436 हर हर महादेव 🙏',\n",
              " 'Radar, clouds, बादल, Modi - ऐसे रोमांटिक मौसम में एक गाना याद आ रहा है, आप भी सुनिये- https://t.co/v1HPGNcLx1',\n",
              " 'RT @beingAAPian: जंगल जाना तेरे बस का नहीं, वहाँ वीर जाते है वाकवीर नही और वैसे भी तुम विलासिता मे इतने लीन हो गये हो की बहुत शीघ्र लक्ष्मी…',\n",
              " 'हमने सर्वधर्म सदभाव ओर समुचित विकास के लिए वोट किया \\nआपने भी वोट डाल दिया होगा यदि नही तो जरूर वोट करे यह विनती करता हूँ\\nवोटिंग का समय सायं 6 बजे तक का है \\nकृपया अपने साथ आई डी प्रूफ ले जाना न भूले https://t.co/MxUtFODF4i',\n",
              " '@Asrathour_143 और हिंदी में 😜😜',\n",
              " 'RT @S_R_Amina: माँ बाप जैसी कोई दौलत नही♥️♥️ https://t.co/LxV0HB2KDv',\n",
              " 'RT @siya2902: मेरे दिन के ख्यालो मे\\nमेरे रात के ख्वाबों मे\\nमेरी सुबह मेरी शाम मे\\nमेरे हर पल के इंतजार मे\\nकभी #खुशी बनके\\nतो कभी गम बनके\\nहर प…',\n",
              " '@anjanaomkashyap विश्वास नही हो रहा... सच मे... मुझे लगता था आप शादीशुदा नही है..🤔🤔',\n",
              " 'RT @TejBahudur: मुझे हराने वाला कोई पैदा नहीं हुआ, मैं ईश्वर के लिखे लेख को भी मिटा सकता हूँ : निरहुआ\\n\\nभगवान को चुनौती भाजपाई ही दे सकते…',\n",
              " '@chulbulThurram @kapsology और इस गरीब प्राणी के पास उस समय डिजिटल कैमरा खरीदने के पैसे थे।',\n",
              " '@PerilousPooja @OnlineRajan__ @09_rkg @RssKanishk @ImROOcky @rjraunac @Kamallochanm @IKaransharma27 @Muaaaahrwadi @NitinUploader किसके हाथ क्या लगा वो बात नहीं! में ये सोच रहा अगर तु किसी थानेदार के हाथ लगी तो तेरा क्या होगा 😂😊😊😂😂😂',\n",
              " \"अमेरिका: टीचर ने स्टूडेंट को कहा 'ब्लडी इंडियन' तो दूसरी छात्रा... https://t.co/z9twKWITzy\",\n",
              " 'RT @cgalgale1: रोहींग्या तथा बांग्लादेशी हर तरह के मोबाइल रिचार्ज और चार्जिंग की सुविधा आसानी से प्राप्त करते है,\\n.\\nलुटीयन्स पत्रकारों को इ…',\n",
              " 'RT @BJP4India: मन किया तो नहाओ, नहीं तो ऐसे ही चले जाओ,\\n\\nब्रेकफास्ट कर लो या लंच करलो टाइम ही टाइम है,\\n\\nट्रेन से जाओ, प्लेन से जाओ या बस से…',\n",
              " 'RT @anjanakashyap_: साइकिल, हाथी, लालटेन, झाड़ू, पंजा इनको मिलाकर सर्कस चलाया जा सकता है सरकार नहीं\\n🇮🇳 \\n\\nजब बिल्ली, बन्दर, लोमड़ी, सियार,…',\n",
              " '@yadavdimples @yadavakhilesh कौन देश भक्त और कौन देशद्रोही है ये देश की जनता सब जानती है \\n500 पाकिस्तानी फ्रेंड लिस्ट में रखने का क्या मतलब हो सकता है',\n",
              " 'RT @R__katAria: @umashankarsingh @TIME ठीक वैसे ही गोमूत्र को ना ना और पप्पू मूत्र को हा हा ___\\nदल्ले में  दल्ला उमाशंकर दल्ला _ 😅',\n",
              " 'RT @metoovali: यूएन ने मसूद अज़हर को वैश्विक आतंकी घोषित किया।\\n\\nउसके संभावित परिणाम :\\n\\n1. सोनिया और राहुल जी ने रात का खाना खाने से किया इं…',\n",
              " 'RT @Victimbypolice: ग्रेटर नोएडा में दबंगो ने सड़क पर एक युवती को पीटा\\nअपना वेतन मांगने को लेकर बीच रोड पर युवती की पिटाई\\nदबंगो ने लाठी डं…',\n",
              " 'RT @AagayiNavya: दुर्योधन - हे कर्ण,आज अर्जुन पर चला दो ब्रह्मास्त्र\\n\\nनहीं चला सकता मित्र\\n\\nक्यों?\\n\\nआज बादल बहुत हैं',\n",
              " '@yadavtejashwi @NitishKumar अब @girirajsinghbjp  जी इन्हें कब पाकिस्तान भेज रहे हैं',\n",
              " '@ashokgehlot51 जी @SachinPilot जी अब शराब बन्द कब कर रहे हो राजस्थान में ।नशा मुक्त  कर दो राजस्थान को।',\n",
              " 'कुछ लोग अपने देश को भी अपनी मा समझते तो शायद देश मैं कभी आतंक ओर हिंसा ना हो। क्यूंकि भारत माता के पुत्र से जायदा दुश्मन ब्रहे हुए है।\\n#happymothersday',\n",
              " '@aajtak Desh ka sath or vikash kariye g',\n",
              " 'RT @farah17khan: लग तो मोदी जी रहे हैं? 🤔 https://t.co/HMQWhcFWXd',\n",
              " 'RT @BJP4India: बहन जी ने बाबा साहब के नाम का उपयोग किया और सपा ने लोहिया जी के नाम का उपयोग किया, लेकिन उनके आदर्शों के विपरीत हर काम किया।…',\n",
              " '@Meenakshi7771 @SMehta1950 तुम फॉलो दो या ना दो इसका हमे गम नही ओके \\nलेकिन तोहर पप्पूवा कबो पास नही होसकत ई बात अपने गांठ में आप बांध के हमके 23 के जवाब दा...    ठीक है\\nहाँ ठीक है 😜😜😜😜😜😜😜😝😝😝😝😝😝😝😝😂😂😂😂😂😂😂😂😂😂😂\\n\\n#हेराम\\n#हरेहरे',\n",
              " '@ugly_d_pagli गलती से',\n",
              " '@Priyanka_4India RIP#; आलू से सोना बनाने वाली मशीन😢',\n",
              " ',,जीवन मे बहुत कुछ देखा है ,बस \\n  अब यही ,देखना बाकि था ।\\nऐसा लगता है बारात  @badri_dk  भैया के गांव से था 😀😁😂😉😋 https://t.co/9YjptXBdLH',\n",
              " 'RT @Devendr68793623: #HappyMothersDay2019   मां हमारे पाप कर्मो को नही काट सकती है https://t.co/O9O5Oddr9D',\n",
              " 'RT @brawling_virago: सोचता हूँ कि वो कितने मासूम थे\\nक्या से क्या हो गया देखते देखते https://t.co/jCLRJensWK',\n",
              " 'RT @Sapna_3: आज \\n\\nआपका एक सही वोट आपकी माताओं व बहनों की सुरक्षा सुनिश्चित करेगा और गलत वोट उनकी मर्यादा,सम्मान को खतरे में डाल सकता है।\\n\\nऋ…',\n",
              " 'RT @Vijayjadav123: यह नहीं देखा तो कुछ भी नहीं देखा https://t.co/IZrGVSOvCv',\n",
              " 'RT @Ajay__253: झलकता हैं #प्यार #आँखों से,\\n\\nऔर #वो कहती हैं #इश्क़ नहीं है,\\n\\n#दिन शुरू होता हैं #बातों से,\\n\\nऔर #वो कहती हैं #इश्क़ नहीं है,…',\n",
              " '@sherryontopp अपने आप को बिल्कुल सही आंके हो। न केवल तुम बल्कि पप्पू का वो बहन भी चुनावी मेढक है जो बस टर्र टर्र करना जानते हो',\n",
              " \"RT @MrinalPande1: १९८८ की बात है, बैठे बैठे मेरे मन में ख़्याल आया मित्रो, कि अगर 'इ' से इमली होती है, तो 'ई' से ई- मेल क्यों नहीं ?बस मैं…\",\n",
              " '@AmitBan18118832 @UdaySin70463196 @RohtasGoel @OmaxeLimited महोदय,\\n         मैं जानता हूं कि सीसे लगे हुए थे,लेकिन बहुत पहले लगे हुए थे अगर तोड़ने की बात कर रहे है तो एक जगह तोड़ेगा दो जगह तोड़ेगा और इतनी लापरवाही की आपके यहां सी सी टी.वी कैमरे लगे तोड़ने वाले का पता न लगा पाए जो आपकी कंपनी का नाम खराब कर रहा हो।',\n",
              " 'RT @Heena78440171: जिस दाल को खाकर \\n.\\nअपना विंग कमांडर \\n\\n\"अभिन्दन\"पूरे पाकिस्तान को हिला\\nआया\\nउसी दाल को खाकर\\n\\n#तेज़बहादुर यादव को उल्टी दस्…',\n",
              " '@ijokani @bishnuprasadtr1 मतलब  इसबार EVM बच गयी ?😳😳🙏\\nहर हार,कोई और ज़िम्मेदार..?”😂😂👎 \\nवाह जी वाह 😆😆😆\\n\\n@aajtak \\n@ArvindKejriwal https://t.co/GjbzozxHkU',\n",
              " '@VijaySmalik @AshokTanwar_INC आज हरियाणे ने बताया की वो कंधे के ऊपर भी पूरे मजबूत है #लट्ठ_दे_मारया_खच्चर_ने \\n#क्लीन_स्वीप  #रिवर्स में',\n",
              " '@mlkhattar जय श्रीहरि।श्रीहरि के सुदर्शन चक्रसे प्राप्त सूचनानुसार हरियाणा श्री हरिकी भूमि है यहाँ कणाद कपिल गौतम जैसे महाऋषियों के चरण पड़े है भगवान कृष्ण जैसे महायोगी गीता ज्ञान विश्व को देने वाले हुए हैं जैसे हिन्दुस्तान को प्रभु सम्पन राष्ट्र की घोषणा होगी एक से एक बढ़कर विद्यमान होंगें',\n",
              " '@narendramodi @Gupta_vijender नौजवानों का परवाह आप ने भी नहीं की। दारु के टेखे वाइन शोप 10 बजे बंध हो रहै है। कुछ करो 😉',\n",
              " 'RT @Rekhta: हम आह भी करते हैं तो हो जाते हैं बदनाम\\nवो क़त्ल भी करते हैं तो चर्चा नहीं होता\\n\\n~अकबर इलाहाबादी',\n",
              " '@iKabirBedi हमें अपने लोकतंत्र पर अब प्रहार नहीं दिख रहा।कैसे और कहाँ कहाँ से हमारे मतदान प्रक्रिया को प्रभावित किये जाने का प्रयास किया जा रहा है।',\n",
              " 'RT @KusumDasi2: #SaturdayMotivation\\nजहां संखों लहर मेहर की उपजै,कहर नहीं जहां कोई।\\nदास गरीब अचल अविनाशी, सुख का सागर सोई।।\\nअसली भगति वेद शा…',\n",
              " 'RT @soniya2250: तबियत ठीक नही रहती अब बिल्कुल भी..~~\\n\\nजब से तुमने हाल पूछना बन्द किया है..~~ https://t.co/XusHebv7EF',\n",
              " 'RT @Noor_chaudhari: जब भगत सिंह जेल में थे, तब कोई कांग्रेसी मिलने नहीं जाता था।\\nमोदी जी उस टाइम खाना लेके जाया करते थे अंग्रेजों के रडार…',\n",
              " 'घुंघरू सेठ आप मुख्य मंत्री बनने के बाद दिमाग  से पैदल हो या जन्म जात हो।',\n",
              " 'OPPO F11 Rs 17,990 की कीमत में 15 मई से सेल के लिए होगा उपलब्ध\\nOPPO F11 में OPPO F11 Pro के मुकाबले कुछ फीचर्स कम दिए गए हैं। यही कारण है कि इस रेग्यूलर मॉडल को 15 मई से Rs 17990 की कीमत में सेल के लिए उपलब्ध कराया जाएगा।\\n\\nfrom Jagran Hindi News - techno… https://t.co/z4xA4U99D6 https://t.co/UpQlk2Sewn',\n",
              " '@bhupeshbaghel राहुल गांधी के चमचे हमन वोट दे हन छतीसगड़ ला सुघारे बा  और तुम ऐस करो',\n",
              " 'RT @mona025011: @KumariKanika1 @rcnsmlk @SomaDalal तुम्हे कौन गैर कह रहा है.\\nलो कर लो बात',\n",
              " 'जो औरत शादी करने के बाद अपनी अहंकार की वजह से पति को त्याग देती है और गैर आदमी के साथ संबंध रखती है उसको क्या कहा जाता है ?\\nजरा उत्तर दोगी ??',\n",
              " '@smritiirani चोकीदार भड़वा है ये ये हलाला की क्या है',\n",
              " 'RT @rcgarg7: @ArvindKejriwal सड़ जी काठ की हांडी दुबारा नही चढ़ती बहुत हो गया तसल्ली कर लो यू समझो अंधे के हाँथ बटेर लग गए उसको हक न समझो',\n",
              " 'RT @QuintHindi: एक महिला ने दावा किया है कि @AtishiAAP की छवि खराब करने के लिए कैंपेन चलाने को कहा गया था. कौन है ये महिला? क्या है पूरा मा…',\n",
              " '@alok_ajay @RahulGandhi @yadavtejashwi आपके आका मिट्टी में मिल जाएंगे लेकिन बीजेपी से हाथ नही मिलाएँगे, अभी तो उसी में घुस गए क्या करेंगे चमचागिरी और दुकान तो चलानी है',\n",
              " '@sambitswaraj ऐसे लोगों को सबक जनता सिखाने जा रही है 😄😄',\n",
              " 'RT @singharti411: गिध्दों के कोसने से गायें नही मरा करती https://t.co/VbeLpPKyLN',\n",
              " \"RT @GoongaPahalwan: उसके रहते जीवन में कोई\\nगम नहीं होता,\\nदुनिया साथ दे ना दे पर मां का प्यार\\nकभी कम नहीं होता!\\n #Happymother'sday https://t…\",\n",
              " 'RT @immortalsoulIN: मसूद का वैश्विक आंतकवादियों में नाम आ गया\\nपता करो यूएन में चुनाव आ गया क्या \\n\\n- आहत इंदौरी 😫😫\\n\\n#MasoodAzhar\\n#ModiCrushe…',\n",
              " 'RT @Sanjay52312438: पहले मुझे करेला बिल्कुल पसन्द न था,😪\\nफ़िर जिंदगी में करेले जैसी एक दोस्त \\n\\n@annupatel77 जी आ गयी\\nऔऱ अब🤐 करेला मेरा fvrt…',\n",
              " '@itsmevid_u @narendramodi आज का ज्ञान\\nबादल के आने से रडार निष्क्रिय हो जाया करता हैं',\n",
              " '#हम_एक_शब्द_हैं_तो वह पूरी भाषा है\\nहम कुंठित हैं #तो_वह_एक_अभिलाषा है\\nबस यही #माँ_की_परिभाषा है..\\nमेरी आंखों का तारा ही, मुझे आंखें दिखाता है.\\nजिसे हर एक खुशी दे दी, वो हर गम से मिलाता है.जुबा से कुछ कहूं कैसे कहूं किससे कहूं माँ हूं\\nसिखाया बोलना जिसको, वो चुप रहना सिखाता है .. https://t.co/cvBuE523zm',\n",
              " 'RT @meenakshisharan: ऐसे सर्प मेरे घर के शिव मंदिर के नीचे रहते है, हम उन्हें पूजते है🙏🏼\\n\\nहाँ, ये अलग बात है की @OmarAbdullah ज़हरीले नाग…',\n",
              " 'RT @KapilMishra_IND: नहीं @RubikaLiyaquat बहन\\n\\nवीडियो में प्रियंका गाली रुकवा नहीं रहीं, रुकवाने की नौटंकी कर रही हैं\\n\\nभद्दी गाली पर जिस…',\n",
              " 'ममता के चक्कर में आप क्यों अपना संतुलन खो रहे हैं। सुरक्षा बलों की वर्दी में कोई नही आता सिवाय सुरक्षा बल के।',\n",
              " 'RT @BharatM53816725: इन्होने जो भारत के वोट ना देने वाले आलसी लोगो के आलस्य पे सर्जिकल स्टराइक की हे उसके लिये इन राष्ट्रभक्त को कितने RT…',\n",
              " 'RT @sandigirhare2: @msisodia फरजिवाल को लाताडने और जुताडने वाले 7 कौव्वे कहीं उड न जाये इसलिए तूम ये रायता फैला रहे हो',\n",
              " 'हथेलियां संभाल लेगी नसीब अपने\\nतेरा हाथ बस...मेरे साथ रहे',\n",
              " 'RT @preeti_chobey: बहुत ही दुखद खबर,\\nलेकिन देश का चौकीदार चुंनाव प्रचार में व्यस्त है,साहेब ने तो कहा था ,नोटबन्दी से  नक्सलवाद की कमर टूट…',\n",
              " 'नाले से गैस की तकनीक के बाद दूसरा आबिष्कार क्लाउड टेकनिक ।',\n",
              " 'RT @anuraagmuskaan: मसूद अज़हर को ग्लोबल आतंकी घोषित करवाने का क्रेडिट मोदी को नहीं जाता, ये कहने वाले अगली ही लाइन में ये भी कह रहे हैं की…',\n",
              " 'RT @CaDalmia: इनको तो क्या इनके नाज़ायज़ बाप को ही शर्म नहीं आयी 5 साल कांग्रेस को ही गालियां दे दे के उसी के cbi rbi पुलिस ed ec एयरपोर्ट्…',\n",
              " 'RT @khan_boy_13: तो नीचता की सारी हदें पार करते हुए\\nआज चोकीदार ने अलवर #बलात्कार कांड पे भी वोट मांग लिए 😭\\n\\nशर्म आती है यार हद है मतलब',\n",
              " 'सेना के अधिकारियो को शर्म नही आती।।ये सच्चाई है।।कड़वी है, लेकिन करीब से जाने है।। \\nजनरल वी०के० सिंह जैसे लोग नेता बने तो सही, अगर एक सिपाही नेता बनने आये तो वो देशद्रोही क्योंकि उसने सेना के #खाने के भ्रस्टाचार को उजागर किया।।\\n\\n#वाह रे #दोहराचरित्र https://t.co/DanXA7ZF3R',\n",
              " 'RT @ABVPVoice: उड़ीसा राज्य में चक्रवात फेनी से प्रभावित छात्रों की मदद हेतु अभाविप 13-17 मई तक चलाएगा अभियान\\n\\nअभाविप ने देशभर में लोगों के…',\n",
              " 'RT @MayaParrikh: काली बदली की काली घटा रहीं.. ⛵\\nनाव किनारे करो,मोजों में मस्ती छा रही ⚓\\n#रात्रि_🌒🌫 https://t.co/C98YAWFLNF',\n",
              " 'RT @Bengalan_kudi01: एक घर में I miss you और\\nI love you रहते थे एक दिन\\nMiss you छोङ कर चला गया तो बताओ कौन बचा????😭😭\\n\\n😢😢😢😢\\n\\n#No_bad_comment…',\n",
              " 'लव यू माँ https://t.co/dgzAnhntAR',\n",
              " 'RT @saitanBacha: @Kanatunga हाथ के कलर से दलित लग रहे हो 😅😅😂😂😂😂',\n",
              " 'फिर भी लोग इन सामंती लोगों को वोट देते है',\n",
              " 'मसूद अज़हर को ग्लोबल आतंकी घोषित करवाने का क्रेडिट मोदी को नहीं जाता, ये कहने वाले अगली ही लाइन में ये भी कह रहे हैं की मोदी ने पंद्रह लाख़, रोज़गार, विकास और तमाम मुद्दों से ध्यान भटकाने के लिए मसूद को ग्लोबल आतंकी घोषित करवाया है.😄-अनुराग मुस्कान',\n",
              " 'इधर की बात उधर करने में \\nआज भी जीमेल  से आगे है \\nफीमेल!!!',\n",
              " 'RT @FunKeyBaat: इस ज़मीन चोर को तिरंगा झंडा की भी पहचान नही, लेकिन दामाद नकली गांधियों की बना बैठा है BC! https://t.co/79whxVVQ2k',\n",
              " 'RT @BJP4India: ये मजबूत सरकार है तभी भ्रष्टाचार पर कड़ा प्रहार हो पाया है।\\n\\nहर प्रकार के कानून बनाकर हमने भ्रष्टाचारियों का जीना मुश्किल कर…',\n",
              " 'RT @KundanTiwary12: देश हित में जरूर वोट करें-- https://t.co/ZWWcjessag',\n",
              " '@anuragspparty @yadavakhilesh @ndtv @Mayawati @RahulGandhi टीवी चैनल पर पूरी बहस की माँ बहन करने वाला ये @anuragspparty  ही है, बेतुकी बातें, भैं भैं भैं करके उल्टी करते रहता है ये बकलोल',\n",
              " 'RT @SohailBobby: भक्तो पिताजी गठबंधन सरकार की वकालत करने लगा🤔\"कहाँ तो थेल अतेला तलता है\" 😉😉अब क्या हो गया?कहाँ तो प्रचंड बहुमत मिल रहा था…',\n",
              " 'RT @ShivrajKaBhanja: गुंडे से याद आया, संजय जी, दिल्ली का जो गुंडा 2014 में मोदीजी से हारा था, वो इसबार वाराणसी से क्यों नही लड़ रहा? फट गई…',\n",
              " 'RT @JagratiGupta3: @sardanarohit अगर अभी ये कार्य BJP शासित राज्य में हुआ होता,तो पूरा विपक्ष और हर मीडिया चैनल इसको प्रमुखता से दिखाता।।\\nप…',\n",
              " 'RT @cleanganganmcg: उत्तराखंड में पवित्र गंगा नदी के किनारे बसे \\'हरिद्वार\\' का शाब्दिक अर्थ है- \\'हरि तक पहुँचने का द्वार\\'।  हरिद्वार को \"धर्…',\n",
              " '@ameesha_patel @KumariKanika1 कहां उड रही हो',\n",
              " 'RT @EvmAnti: भाजपा की 10 गाड़ी अभी हरियाणा में ग्रामीणों ने गांव के लोगों को पैसे बांटते पकड़ी है । चुनाव की रात के पहले पैसा बांटो और दिन…',\n",
              " 'बहुत बुरी खबर .सिद्धू का \\nचाचा..केजरीवाल का मौसा\\nऔर सुरजेवाल का पापा\\nआतंकवादी घोसीत हो गया @SMQureshiPTI @ImranKhanPTI',\n",
              " \"I've just posted a new blog: I've just posted a new blog: बीजेपी के उम्मीदवार मनोज तिवारी और एक और उम्मीदवार भगवान के मंदिर में पूजा करने चले गए और भगवान से प्रार्थना कर रहे हैं भगवान इस बार तो किसी भी तरह से बचा लीजिए ! लेकिन भगवान भी इस बार इन लोगों को… https://t.co/2emrBty72D\",\n",
              " 'RT @Mdhaka5: कांग्रेसी कितने भी हवन करें, भगवा में आतंकवाद के दाग लगाने के पाप से नहीं बच पाएंगे : पीएम मोदी\\nhttps://t.co/pPfyEa84fR',\n",
              " 'RT @Rekha25238407: #वेद_मेरा_भेद_है\\nपरमात्मा सहशरीर है उस का नाम कबीर है वह धू-लोक के तीसरे पृष्ठ मे विराजमान है \\nहीरे-जवाहरात से जडा परमे…',\n",
              " 'RT @siya2902: कुछ कुछ उसे\\nसोचने समझने लगी हूं\\nउसकी हकीकत से\\nरूबरू होने लगी हूं\\n\\nख्यालो  में न\\u200c जाने क्यों\\nमैं उसके खोने लगी हूं\\n धीरे धीरे…',\n",
              " 'RT @MdNadim_BGS: ₹21000Cr की लागत से बनी भारत की पहली परमाणु #पनडुब्बी_अरिहंत किनारे पर ही डूब गई किस महीने में डूबी क्या हुआ कैसे हुआ इसकी…',\n",
              " \"पता नहीं क्यों मुझे कभी कभी लगता है कि स्वरा भास्कर जी आने वाले भविष्य में 'सीतापुर से टिकट' के फिराक में ये सब चोचले कर रही हैं। https://t.co/RQeP5JO0WJ\",\n",
              " 'RT @rajneeshsail: सोशल मीडिया वह रडार है, जो हवा में फेंके जाने वाले हर झूठ को पकड़ लेता है।',\n",
              " 'RT @tanisharma77: कोग्रेंसी अपिये बसपा सपा और चममचो 23 मई को जब मोदी जी आयेंगे तो इस तरह तुम लोगों की फट जायेगी😂😂😂\\n#77onlymodi\\n#AayegaTohMo…',\n",
              " 'RT @agrwal_akhil: है ना ये पप्पू की जीजा\\n😂 😂 😂 😂 😂 😂\\nजिनको देश का झंडा नहीं पता वो देश की गरीब जनता को न्\\u200dयाय दिलाएंगे\\n@priyankagandhi देख…',\n",
              " '@iSanjuktaP कोई नही !\\nइस रात की भी सुबह जल्द ही होगी',\n",
              " '@HeetaliB सही कहा',\n",
              " 'RT @sumitsingh4331: ये मंदिर में पूजा के लिए दिए गए रैट है \\nअब समझ नही आता भगवान को पैसा चाहिए\\nया भगवान के नाम पर आप ओर हम लोग को लूटे जा र…',\n",
              " 'जो नाले से गैस बत्तख से ऑक्सीजन और गोबर से कोहिनूर निकाल सकता है उनके लिए बादल से रडार को झुठलाना कोई अजूबा नहीं है। @RJDforIndia @yadavtejashwi #RadarModi #RadarScientistModi',\n",
              " 'RT @ChanakyaNiti6: पहले हर अच्छी बात का मजाक बनता है,\\nफिर विरोध होता है और फिर उसे स्वीकार लिया जाता है :- स्वामी विवेकानंद https://t.co/lp…',\n",
              " 'RT @TejYadav14: खुद को कहता ये चौकीदार है।\\nलेकिन नफरत फैलाना और देश को बाँटना ही इसका असली कारोबार है। https://t.co/lIjLzfVwEE',\n",
              " 'झूठ मत बोलो देश के किसी आदमी ने तुम्हारी जात नहीं पूछी आपने खुद ही अपनी जात की बात उठाई और विपक्ष के सिर मढ दी बहुत शातिर हो तुम।',\n",
              " 'RT @Avantika_Pandit: #आज_का_ज्ञान😌😌\\n\\nहर जगह बहस मत करो...\\n\\n.\\n\\n.\\n\\n.\\n\\n.\\n\\n.\\n\\nमारो पीटो,\\n\\nऔर बात ख़तम करो...😉😉',\n",
              " 'RT @Dil_se_re_: हमारा बॉल गिर गया था खेलते वक़्त\\nसूखे नाले टाइप गड्ढे में\\nमेरे दोस्त ने टहनी पकड़ी और मैं उसका हाथ\\nपकड़कर नीचे बॉल लेने उत…',\n",
              " 'हर हर',\n",
              " 'RT @RPDULAR: शायद ये दुनियाँ का अकेला आदमी है जो एक स्याही लगी ऊँगली दिखाने के लिए सारी उँगलियों को खड़ा किए हुए है\\n😀😃😄😁😆😅😂 https://t.co/RS…',\n",
              " 'RT @ROFL_INDIAN80: मोदी के दलित कुत्तो को पहचाना मुश्किल नही।\\nभाजपा शासित,UP,गुजरात,MP, RAJ,HAR, मे दलितो की हत्या हो,दलित महिलाओं का बलात्…',\n",
              " 'RT @BJP4Himachal: प्रधानमंत्री मोदी जी - जिनसे जनता करती है प्यार और विपक्ष को लगता है डर। https://t.co/DszHNqnyDB',\n",
              " 'लिया जनता को गुमराह करने के लिये। बहुत ही शाजिस करनेवाला और देश को लूटनेवाला और ग़द्दार परिवार है गांधी परिवार। जनता को समझना चाहिये इस परिवार के घिनौने चेहरे को और देश की राजनीति से इसका नामोनिशान मिटाना अति आवश्यक है देश को बचाने के लिये।',\n",
              " 'RT @anoopjournalist: सकल ब्याधिन्ह कर मूला। तिन्ह ते पुनि उपजहिं बहु सूला॥\\nकाम बात कफ लोभ अपारा। क्रोध पित्त नित छाती जारा॥\\n\\nसब रोगों की ज…',\n",
              " 'RT @Aartisharma23: आएगा तो मोदी ही,\\nनहीं आया तो घसीटकर लाया जाएगा मोदी को राष्ट्रपति के पास।\\n\\nइस्तीफा देने के लिए!\\n😂',\n",
              " 'ऊ प मे bjp बुरी तरह  हार  रही है-प्रियंका खान वड्रा ।\\nऊ प्र मे कॉंग्रेस संगठन कमजोर^प्रियंका खान वड्रा \\nसीतापुर मे राहुल खान की रैली मे कुर्सिया खाली हो रही है ।',\n",
              " 'RT @Ankit39070392: @ishugupta3011 @DrKumarVishwas वो अरविंद की महानता है यह लोग नही समझते 🙏 कविराज योगेंद्र मयंक यह सब लोग मौका देखते है कब…',\n",
              " 'RT @NkumarAAP: बुराड़ी विधानसभा में SMS Public School के बूथ पर EVM को शील नहीं किया है बूथ एजेंट को जबरदस्ती साइन करा के बाहर निकाल दिया…',\n",
              " 'RT @HindiAsiaville: Tejashwi yadav ने कहा, हमारे नीतीश चाचा का चेहरा एकदम उतर गया है, हमें तरस आता है\\n\\n#Election2019 | @NitishKumar | @yada…',\n",
              " 'RT @nasim_aqib: मज़दूर की मज़दूरी उसका पसीना सूखने से पहले दीजिये। \\n\\n#हज़रतमुहम्मदसल्लाहुअलैहिवसल्लम  \\n\\n#मज़दूरदिवस \\n\\n✍✍@nasim_aqib',\n",
              " 'RT @Sheela14619778: ऋग्वेद मं.10सुं.90 मंत्र1में विराट रूप काल (ब्रह्म)जिसके हजारों सिर,हाथ, पैर,आँख,कान है।वह पृथ्वी वाले 21 ब्रह्मांडो को…',\n",
              " 'RT @rohini_sgh: अगर मोदीजी हारे तो राकेश सिन्हा जैसे लोग 6 महिने के अंदर संघ कैसे नाराज था इसके उपर लिखने लगेंगे। फिर राम माधव का आज का ट्…',\n",
              " 'RT @ptshrikant: आज फिर सिद्ध हुआ है #ModiHaiToMumkinHai, जिस दुर्दांत आतंकी #MasoodAzhar को वैश्विक आतंकी घोषित कराने की कोशिशें 10 साल में…',\n",
              " 'RT @ArshadChishti_: मोदी जी शायद अब आप उच्च प्रजाति का झूठे इंसान हो गए हो, दोस्तो देखो ज़रा, सार्वजनिक इंटरनेट का उपयोग 15 अगस्त 1995 को…',\n",
              " '@BantuDas2 \\n#HappyMothersDay2019 \\nमाॅ हमारी गलती को तो माफ कर देती है छुपा देती हैं लेकिन कर्म फल भोगने से हमे बचा नही सकती ।\\nजाने उस परमात्मा के बारे मे जो हमारे बुरे कर्मों को भी माफ कर देता है । https://t.co/3J0bTFO4Xr',\n",
              " 'RT @DttaShiv: @ZeeNewsHindi अय्याश मुसलमान थे छद्म नेहरू.\\nऐसे नीच का साथ देकर मोहन दास गाँधी ने देश और हिन्दुओं से गद्दारी की .दोनों क्षमा…',\n",
              " 'RT @SohailBobby: 2-2 करोड़ की रैली सजाई जाती 50-50 लाख देकर भीड़ बुलाई जाती है लाखों का सूट-बूट पहन कर मोदी आते है 🤔और मंच से बताते है कां…',\n",
              " 'RT @MahilaCongress: कांग्रेस के कार्यकर्ताओं के बिना, मैं कौन हूँ! कोई भी नहीं। कांग्रेस का मैं सिर्फ एक छोटा हिस्सा हूँ। कांग्रेस हर उस व्…',\n",
              " '@PankajK17875218 हम लोग भांगडा कर लेंगें... \\n\\nचमचें ताली बजाने के लिए होगें \\nहाय, हाय करके.. 😂 😜 😁',\n",
              " 'RT @AtulDass_: #Ramazan \\n🎋कुरान ज्ञान दाता अल्लाह कह रहा है कि उस कबीर परमात्मा पर विश्वास रखो। वह कभी मरने वाला नहीं है। तारीफ के साथ उसकी…',\n",
              " 'RT @ippatel: आज PM नें Ramlila Maidan में दिल्ली का ठग जो स्वयं को दिल्ली का मालिक कहता है, उसे फिर निराश किया और उसका नाम नहीं लिया।',\n",
              " 'RT @AnjuSha21061554: मै सब्जी खरीदने बजार गया \\nएक मुल्ला सब्जी बेच रहा था \\nमैने पूछा मुल्ली कैसे है \\nसाला मुल्ला भड़क गया !😅😂😅😂😅 https://t.…',\n",
              " '@aajtak कमल हासन, यह भी बता दो की राजीव गांधी की हत्या का जिम्मेवार कौन है? DMK या कोई और?',\n",
              " '@PanditKimjong @DdFynDfN9XpDBjK @deepikatomar_ कुछ नहीं हुआ, रोवो मत, सब ठीक है',\n",
              " 'RT @arjunmewada32: गद्दारों की छाती पर चोट किया \\nऔर एक बार फिर नरेन्द्र मोदी जी\\nको वोट दिया 🙏🙏🙏\\nएक वोट आतंकवाद को खत्म\\nकरने के लिए,\\nएक वोट…',\n",
              " '@DayalShankar58 @ZeeNewsHindi @Ashutosh10798 यही मै भी सोंच रहा था।',\n",
              " '@RaviPratapChand @Sangita32620162 @ShilpiSinghINC तब तो सर इस तरह से नही बोलते',\n",
              " 'RT @nehapatel342634: मेरी नौकरानी और नोकर 😍😍 https://t.co/Df951sNs89',\n",
              " 'RT @Hindinama2: जितना तुमने उसे प्रेम किया\\nअब उससे उतनी ही नफ़रत कर डालो\\nइसी तरह भूल पाओगी तुम उसे\\nऔर फिर एक दिन सब शांत हो जायेगा\\nउसके लिए…',\n",
              " '@ArvindKejriwal Thodi to sharam kar, Abe tu ek state ka CM hai bhand nahi 🙄',\n",
              " 'RT @KulwantDass3: #SundayMotivation \\n#jesus \\nइस पूरी पृथ्वी ही नहीं बल्कि 21 ब्रह्मांड में संत रामपालजी के अलावा खुदा कहो राम कहो अल्लाह क…',\n",
              " '@Bhavya_SKS17 @Gyan_p_mishra @_parm_4U @prakash9237 @gautammutha1 @sahajyoti3 @Rajjais65002059 @VishalSatra1 @DigvijaynathTi4 @__kashyap__ @Sanjiv_Sahib हर हर महादेव 🙏 शुभ दिन',\n",
              " '🌹फोड़ी-फुंसी हो तो :-\\n\\n🌹किसी को फोड़ी-फुंसी होते है, तो त्रिफला शाम को फाँक लेंवे सारा फोड़ी-फुंसी सब साफ़ शरीर ठीक हो जायेगा | #SummerHealthTipsByBapuji',\n",
              " '@kalikaprasad5 अल्प ज्ञानी को अहंकार सीखने नहीं देता चाणक्य नीति',\n",
              " 'RT @sir_jenishpatel: @manakgupta कहने वाले कहेंगे ये मोदी की जीत नहीं है चाईना की जीत है....😆😝😝\\n\\nमसूद अजर को मोदी नहीं चाईना ने आतंकी घोषित…',\n",
              " 'RT @raajsharma1011: किसी और से क्या मोहब्बत 💞 करूं,\\nइन दिनों खुद से ही फिर जुङने की कोशिश कर रहा हूँ।💞💞💞💞💞 https://t.co/g0bIkUBVQ0',\n",
              " 'इस की सकल देख कर इस को कोई रखेल भी नही बनायेगा।',\n",
              " 'यार क्या दिमाग पाया है भक्तो के गुरु ने नाली से गैस बनाते बनाते बादलों मे फाइटर जेट छीपाने का यंत्र भी खोज लिया,अब बस बाकी है भक्तो के दिमाग से गोबर गैस बनाना।',\n",
              " '@parvtyagi07 @muftitayyib2 @SharwanLakhani @Mayawati सुना है श्रीलंका मे पिछवाङा उठाना मना कर दिया गया है😂😂😂😂😂😂',\n",
              " 'RT @ArunbajpaiRajan: जब तक देश मे छिपे अंतिम आतंकी को खत्म नहीं कर लेता, इस्तीफा नहीं दूंगा:- मैत्रिपाला सिरिसेना, राष्ट्रपति श्रीलंका\\n\\nमस्…',\n",
              " 'RT @aajtak: #LokSabhaElections2019\\nतेज बहादुर के नामांकन पत्र के कागजों में गड़बड़ी पाई गई थी\\n\\nhttps://t.co/w4y7avRlku',\n",
              " 'चमचों, चुनाव ख़तम होने के पहले बस इतना बता दो कि....\\n.\\nमणिशंकर कायर की लाश को गाड़ा गया है या जलाया गया है?? 🙄🙄😷😷',\n",
              " 'RT @rukasa007: मेजर प्रवीण और सूबेदार पवार का यह बयान सैन्य न्यायालय के रिकार्ड में दर्ज है यही वजह है कि सेना ले.कर्नल पुरोहित को निर्दोष…',\n",
              " '@pankhuripathak जब कुछ समझ मे न आये तो @BJP4India  के चप्पल मार दो!',\n",
              " '@awasthis हर हर महादेव* शिव शंम्भु',\n",
              " 'RT @mat_jane_de_yar: #CloudStrike\\nअच्छे अच्छे ढल गए इस दुनिया के व्यवहार में \\nये फेंकु क्या चीज है,\\nपड़ेगी इसको भी लात इस Democracy के बाजा…',\n",
              " 'RT @Dr_Anubhav4u: अब ये किसने कर दिया बे😂😂 https://t.co/yV1VxvZq4G',\n",
              " 'RT @HindiNews18: #HTP। अगर राहुल माफी नहीं मांगते तो क्या होता? क्या वे जेल चले जाते? क्या राहुल गांधी संविधान का मज़ाक उड़ाया है?- @bajpai…',\n",
              " 'RT @BasantA49182115: IMF: - मिस्टर इमरान खान क्या गारंटी है कि\\nआपको दिये गये फंड का उपयोग आप\\nआतंकवाद को बढाने में नही लगाएंगे? \\n\\nइमरान: - स…',\n",
              " '@RhishiO @ani_digital @ANI बादल से राडार को चकमा देने वाले के भक्त हो काफी है',\n",
              " 'RT @jyotitiwari05: सबसे ज्यादा हँसी तो उन आदमियों पर आई,जो लेडीज टाॅक के बीच आ गए, आंटी सही हैं,नहीं नहीं लड़कियाँ सही हैं। अवधी में कहावत…',\n",
              " 'RT @balveer_parmar: रायबरेली UP के सबसे 10 गरीब जिलों में से एक है,\\nऔर वहाँ की सासंद सोनिया गाँधी \\nदुनिया की 10 अमीर महिलाओं में नंबर 4 पर…',\n",
              " 'RT @manakgupta: चीन को पूरी दुनिया के सामने झुका देना भारत की अब तक की सबसे बड़ी कूटनीतिक जीत में से एक है #MasoodAzhar',\n",
              " 'RT @IamVikas_Kr: डिवाइडर दर्द अभी कम भी नही हुआ था \\nऔर रडार आ गया!!\\n~ भक्त कहिन\\n🤣🤣\\n\\n@ajitanjum',\n",
              " 'RT @Mdhaka5: सुरजेवाला व कपिल सिब्बल ने UN को लेटर लिखकर मांग की है, \\nकि मसूद अजहर को इंटरनेशनल आतंकी घोषित मत करो इससे BJP को फायदा होगा:-…',\n",
              " 'RT @BJP4India: हाल हीं में श्रीलंका में जो बम धमाके हुए थे उसके बाद वहां की सरकार ने जाकिर नाइक के टीवी चैनल पर बैन लगाने का फैसला किया है।…',\n",
              " 'RT @AKTKadmin: आंख हैं भरी भरी और तुम मुस्कुराने की बात करते हो,\\nवोट तो डूब गई इनकी भी, वीडियो में भड़ास निकाल सकते हो। https://t.co/w19189…',\n",
              " 'RT @BebakAawaj: @yadavakhilesh भाजपा को इस समय वोट चाहिए वो भी जनता को जाती-धर्म नेहरू-राजीव गांधी का नाम लेकर...\\n\\nदेश की समस्याओं पर अगर…',\n",
              " 'RT @RahulSinhaZee: टिकिट देने से पहले ये तो पता कर लेते कि सेना में थे या बीएसएफ में, वैसे इन्हें बीएसएफ से बर्खास्त किया गया था https://t.…',\n",
              " '@dibang @abpnewshindi @sherryontopp @abpnewstv अब बोला ना जाओ ना दिबांग ।\\nदलला अपने पास जमा माल विदेशों में जमा इसका हरामी रहा है',\n",
              " 'किसी का दिल तोडना आज तक नही आया मुझे, प्यार करना जो अपनी माँ से सीखा है मैंने।',\n",
              " 'RT @devduttmyth: श्री राम रावण का वध कर्ते हैं लेकिन उनका अपमान नहीं करते।\\nराजधर्म और राजनीति में फ़र्क़ होता है https://t.co/YdDXeu2Vbx',\n",
              " '@dhruv_rathee मोदी जी डिजिटल कैमरे और ई मेल का उपयोग 1987 से कर रहे है\\nभारत मे ई मेल सुविधा विदेश संचार निगम लिमिटेड द्वारा 1995 में शुरू की गई थी \\nमोदी जी ने रास्ते मे एक कविता लिखी थी ,पर जो पेज पढ़ने के लिए मंगवाया वो प्रश्न के साथ प्रिंटेड था\\nमूर्ख हैं तो मोदी है',\n",
              " '@DHARMEN012 @VeerLotus किसी ने नहीं माना है \\nबस गुलामो को छोङ कर',\n",
              " 'RT @News18UP: अमेठी कस्बे में @priyankagandhi का रोड शो शुरु\\n@INCUttarPradesh https://t.co/oo9ki3AraN',\n",
              " 'RT @GauriJalpa: पाकिस्तान के,\\nबालाकोट में भारतीय वायुसेना की एयर स्ट्राइक में 130 से 170 आतंकवादी मारे गए थे,\\nइसका खुलासा करने वाली इटली की…',\n",
              " 'RT @SinghAwantika: अभी तक यह इन लोगो ने नही कहा था तो मुझे चिंता होने लगी थी कि AAP चुनाव लड़ भी रही है या नही? अभी चिंता का एक और विषय है…',\n",
              " '23 मई को इसका उतरा हुआ मुह देखने लायक होगा जब #NDA प्रचंड बहुमत से जीतेगी !!',\n",
              " 'RT @priyankagandhi: शहीदों के नाम पर वोट माँगकर उनकी शहादत को अपमानित करने वाले प्रधानमंत्री ने कल अपनी बेलगाम सनक में एक नेक और पाक इंसान…',\n",
              " '@MubashirZaidi apky 100 lafzoo ki khani kaha hai?',\n",
              " '@BJP4India @jairamthakurbjp जिस गुड़िया के नाम पे सत्ता में आये आज यही प्रवचन दे रहे हैं ,rape पे राजनीति न करे ।न अपने किसी को ससपेंड किया ।और अब केस को दबाने की कोशिश कर रहे हो ।😂',\n",
              " 'Hamaari THORian THORon se kam hai ke?😎✌😂 https://t.co/V4B39UOxqt',\n",
              " 'इससे ज्यादा मानसिक दिवालियापन क्या हो सकता है?',\n",
              " '@art_lover_09 लोग अब यह भी करने लगे शॉपिंग मॉल में ,',\n",
              " '@sharadknp @narendramodi ये व्यापार बंद हुआ \\nतभी तो इन्का मन डरा हुआ\\nबिती गल्तियों का खुलासा हुआ\\nऐसे ही गुरू नही कहता \" हुआ तो हुआ \"',\n",
              " 'RT @aapkiapni1: जीवन मे किसी के मदद की जरुरत हो तो अवश्य ले शर्माए नही https://t.co/1Bw8tGMonG',\n",
              " 'RT @SoniyaGupta69: अब अच्छा लग रहा है, प्लीज़ अब रुकना मत और जोर से मुझे चूत में खुजली हो रही है।     https://t.co/7ncQQvbMhZ https://t.co/…',\n",
              " 'RT @Narendr67841032: @narendramodi @AbeShinzo @JPN_PMO हाय री किस्मत \\nयह भी अभी होना था-- कांग्रेस\\nयह मोदी तो हमें 40 से 4 पर ला कर छोड़ेगा…',\n",
              " 'RT @narendramodi_in: जब इन लोगों को मौका मिला तो इन लोगों ने बिजली में भी घोटाला कर दिया।\\n\\nजब मुझे सेवा का अवसर मिला तो ढाई करोड़ से ज्यादा…',\n",
              " 'RT @Nitu_Ji: पप्पू 2019 में PM बनेगा ... ऐसे विचार उन्ही लोगों के हैं\\n\\nजो सड़क किनारे बैठे हकीम से गुप्त रोगों का इलाज करवाते हैं !😂🙏',\n",
              " 'RT @piyushakak4: समझ में नहीं आ रहा कि देश में चुनाव हो ही क्यों रहा है.... \\nसभी संस्थाएं, सारी एजेंसियां तो मोदी जी के पास है ही, वह अपने…',\n",
              " 'RT @Kavita22666851: \"तुम्हें\" \"ना* देखकर\\n         कब तक \"सबर\"🌸 \\nकरू,,\\n         आंखें तो  \\nबंद कर लू,\\n          पर इस दिल का\\n क्या करू.👤🍃\\n\\n🍃…',\n",
              " '@sardanarohit तानाशाही है सब करेगी वंहा',\n",
              " 'RT @narendramodi: 2019 का चुनाव भारतीय जनता पार्टी नहीं, भारतीय जनता लड़ रही है। https://t.co/U5P0Sy6Ahb',\n",
              " 'RT @kdsingh987: कांग्रेस पार्टी के मसूद अजहर जी #आतंकवादी घोषित हो गए ...👌\\n\\nकुछ बोलेंगे @RahulGandhi जी अब..??\\n\\n@TajinderBagga @joshijikabe…',\n",
              " 'RT @SinghAwantika: ISIS के आतंकवादियों को हराना है, काफिरों और मूर्ति पूजा करने वालो के हत्यारो के समर्थकों को हराना है। https://t.co/RoP6R…',\n",
              " '@yadavdimples Chutiya hai o',\n",
              " '@seematri6 @Bhumika__1 हार गये',\n",
              " 'RT @pbdixit: पत्नी:- मेरे बाल सफेद होते जा रहे है \\nव्हाॅट शुड आय डु??\\n\\n पति:- व्हाय डोन्ट यु \"डाइ\"?.',\n",
              " '@ArvindKejriwal mein baccho ki kasam khata hoon ki mujhse bada jhootha koi nahin hai ji😂😂😂😂',\n",
              " 'RT @Priyank11228390: #fridayThoughts\\n कबीर साहेब कहते हैं चारों वेद कतेब झूठे नहीं है । झूठे वह धर्मगुरु है जो इनको समझ नहीं पा रहे हैं। अग…',\n",
              " 'सूझवान वोटर लुटेरों को सबक़ सिखाएगा\\nहर इक देश प्रेमी कमल का बटन दबाएगा \\nआएगा आएगा फिर मोदी आएगा',\n",
              " '@dikshas_96 अरे तुम कब आयी ?😱',\n",
              " 'RT @GauriJalpa: जो व्यापारी,\\nयह बोल रहे हैं कि हम GST के कारण बर्बाद हो गए,\\n\\nवो यह बताएं,\\nकि GST तो आप जनता से लेते हैं, फिर बर्बाद आप कैसे…',\n",
              " 'Qabool hai.',\n",
              " 'कबीरा तेरे देश में नए-नए विचार\\nबारिश-बादल से  फैल हुए रडार',\n",
              " 'RT @HTetey: तेजबहादुर यादव BSF का बर्खास्त जवान और टोटिचोर अखिलेश यादव,2017 का यह फोटो है।\\nअब समझ मे आया ये दाल रोटी के वीडियो डालकर,सरकार…',\n",
              " 'RT @BJP4India: यहां किसानों का 2 लाख तक का कर्ज माफ होना था।\\n\\nकिसानों के घर आज पुलिस आ रही है, बैंक किसानों को कर्ज नहीं दे रहे। \\n\\nमध्य प्र…',\n",
              " 'ड्रैगन झुका, मसूद अज़हर अंतर्राष्ट्रीय आतंकी घोषित हुआ ! संयुक्त राष्ट्र को भी EC का नोटिस तो नहीं भेजा जाएगा !\\n#MasoodAzhar\\n#UNSC\\n#vinayshukla',\n",
              " 'RT @JagratiGupta3: जिस तरह से बंगाल में अराजकता फैली हुई है,\\nBJP कार्यकर्ताओं की हत्या कर दी जाती है,\\nTMC के आतंकवादी लोगों को मतदान तक न…',\n",
              " 'ISIS का दावा, हमने भारत मे प्रांत की स्थापना की\\n#isis\\n#terrorist \\nhttps://t.co/auKyZQUfHx',\n",
              " 'RT @Great_Legion: जैसे तड़ीपार , मर्डर कर के सबूत मिटा देता है, वैसे ही \\n@BJP4Gujarat\\n भी अनपढ़ जाहिल की रडार टेक्नोलॉजी वाली डिलीट कर देते…',\n",
              " 'RT @ShivamWays: हालातो के आगे जब साथ\\nन जुबां होती है,\\nपहचान लेती है \\nखामोशी में हर दर्द\\nवो सिर्फ \"माँ\" होती है 😚😍',\n",
              " 'RT @Ahmad_Shakeel: जब “ Time “ पत्रिका ने 2014 और 2015 मे मोदी जी की तारीफ़ की थी तो भाजपाई बहुत ख़ुश थे, अब देश को टुकड़े टुकड़े करने वा…',\n",
              " 'RT @ADITIJOSHI01: @KapilMishra_IND बिक गया केजरीवाल\\n\\nदो पट्टी की चप्पल पहन के सब को झूठ बोलता है आत्म मुग्ध बौना👇 https://t.co/EXNpfVcFxu',\n",
              " '@aajtak Modi hai to mumkin hai',\n",
              " 'RT @RssKanishk: मौलाना मसूद अजहर पर बैन लगवाने से कुछ नही होगा मोदी जी जबतक \"हिना रब्बानी\" को भारत नही ले आते तबतक हम नही मानेंगे!…',\n",
              " 'RT @ThePhenomenal_S: खुद की लिखी हुई शायरी डालूँ या कॉपी पेस्ट करूँ या पॉलिटिकल ट्वीट स्टार्ट करूँ  😂\\n\\n#ThePhenomenal_S',\n",
              " '😂😂😂😂\\n\\nआज केज़रू की ख़ैर नहीं !',\n",
              " '@GdBakshiJe और पप्पू को राफेल के दाम भी नही पता \\nडूब मरो ते चमचो',\n",
              " 'RT @chitraaum: अपनी सेल्फी मुझे टैग करते रहें 😃 #VoteKar #VoteDo https://t.co/xdYkMdqV80',\n",
              " \"@Kavita_Sharma4 लगता है इस आपराधिक प्रवृत्ति के चार बार सज़ा पाए, पाकिस्तानीयों के यार, गद्दारी के लिए BSF से निकाले गए 'फौजी' की मर्दानगी चेक कर चुकी हैं मैडम!!\",\n",
              " '@KuchBhi03 Graound report hai bhai sare chutiye Gurgaon me baste hai',\n",
              " 'RT @INCIndia: दोबारा मत पूछना कि कांग्रेस ने 60 सालों में क्या किया! https://t.co/AAhO4M55wa',\n",
              " 'आखिरकार सच मान ही लिया संसद की लोक लेखा समिति(पीएसी)कमेटी ने कि ऑगनबाडी बहिनें बहुत ही कम (नाम मात्र) 4500/-रू•मानदेय पर कार्य कर रही है।और जब चुनाव आते है तो झूठा आश्वासन देकर हर दल इनके साथ छलावा करता है।अब भी न्याय न मिले तो धिक्कार है केंद्र और राज्य सरकार पर https://t.co/prThdDuNLX',\n",
              " '@gilaniwasif @Dr_Uditraj @RabindarPrasad6 भाई गलतफहमी में न रहियो आर एस एस तो यही रहेगी कोइये या हिंदुस्तान में रहके तकलीफ है तो वो अपने बोरी बिस्तर समेट के कहू भी जा सके कोई रोकेगो नाय।\\nराम राम सा',\n",
              " '@PollTics @SharmaShradha राह (रास्ते) तो हमेशा से सीधे ही थे, लेकिन हर चौराहे पर ईमानदरो की तफ्तीश क्यूं हो रही? वो चोला पहने ही निकल लिये और ईमानदार को सच्चाई का हेल्मेट भी बचा नही पाया ।',\n",
              " 'RT @kapoorashok25: @SureshChavhanke @sat1810 अगर कोई लोन वूल्फ़ ट्रक ले कर चढ़ जाए,,,,, फ़्रांस की तरह',\n",
              " 'RT @IAm_Sanjaysri: यह वीडियो हरियाणा का फरीदाबाद का होने का दावा किया जा रहा है | यह वीडियो भारत का #LokSabhaElections2019 का है ?\\nदुख\\u200c इस…',\n",
              " 'RT @ashok__pareek: अच्छा सुनो📣\\n\\nजब तक पप्पू प्रधानमंत्री नही बन जाता\\n\\nम तुम्हें युहीं परेशान करता रहूंगा\\n\\n😹😹😂😂\\n\\nठीक है😈',\n",
              " 'हरियाणा में चुनाव निर्विघ्न सम्पन्न! \\n\\nप्रदेश की #जनता व #चुनाव आयोग को साधुवाद',\n",
              " '@TajinderBagga एक दम से देखता हूँ तो ऐसा लगता है,,ममता डायन मांग रही है।',\n",
              " 'Halo hai hai halo',\n",
              " 'RT @Kavita_Sharma4: चुनाव आयोग ने भाजपा मे शामिल होने का इन्कार किया\\n\\nफिलहाल बाहर से ही समर्थन जारी रहेगा\\n\\nदेशहित मे\\n\\n😅😆😉 https://t.co/0EzZ…',\n",
              " '@ReallySwara @digvijaya_28 @INCIndia @RahulGandhi लगता है इस बार अमृता का पत्ता कट और स्वडा बनेंगी मिसेज दिग्विजय...',\n",
              " 'अब होगा न्याय',\n",
              " '@arshiazizkhan @yadavakhilesh भांड है नौटंकी ही करेगा।।।।।',\n",
              " 'RT @shakilpatel86: इलाहाबाद कमलानेहरू अस्पतालमें ट्यूमरसे जूझरही एकबच्ची निजी विमान छहसीटर होनेके वजहसे बच्चीऔर उसके मातापिताके साथ मोहम्मद…',\n",
              " '#लोकतंत्र का #चौथा_स्तंभ अब\\n             #मीडिया नही,,\\n#सोशल_मीडिया है,,\\n\\nइसे #संशोधित किया जाए,,!!!    \\n        🤓 आप जैसे  #journalist\\nसे डर भी लगता हैं',\n",
              " 'RT @RomaPrashant603: @udaymeena13 माँ को प्यार दें सम्मान दें आदर दें जिस माँ ने ऊँगली पकड़ चलना सिखाया बुढ़ापे में उस माँ की लाठी बनें कह…',\n",
              " 'RT @TrishaRajput20: मुझको हर हाल में बख़्शेगा उजाला अपना\\nचाँद रिश्ते में तो लगता नहीं मामा अपना,\\nमैंने रोते हुएपोंछे थे किसी दिन आँसू\\nमुद्द…',\n",
              " 'दिग्विजयसिंह जी ने अपना मत न डालकर भारतीय लोकतन्त्र के प्रति घोर लापरवाही की। ऐस लापरवाह नेता को भोपाल से हारने से कोई नहीं रोक सकता।',\n",
              " 'RT @Jitendr27440411: जब प्रियंका अमेठी में बोल रही थी कि मोदी झूठ\\n\\n बोलता है उस वक़्त राहुल गांधी कोर्ट में झूठ बोलने पर माफीनामा दे रहा था…',\n",
              " '@LastQamar @NavbharatTimes आज भी कश्मीर में सो सुअर मार दिए हम लोगो ने',\n",
              " 'कहां भाग गया लालू का लाल।\\nबहुत गुंडागर्दी फैलाई है लालू ने और आज उसका असर समाज को झेलना पड़ रहा है।',\n",
              " 'RT @SanjayJ07609621: गजब हो गया\\nअब इतने ही स्पीडवा से\\nजायेगा तो फेकेंद्र मोती( लाल पराठा) ही https://t.co/od97vqCFX3',\n",
              " 'RT @Vivekoberoii: अगर ये रेड 2 हफ्ते पहले पड़ी होती तो कांग्रेस अपने मेनिफेस्टो मे Income tax department खत्म करने का वादा भी कर देती ।\\n#धू…',\n",
              " 'ये वो लोग हैं जो भीक नहीं मागते,ऐसा लोग नजर आये तो कुछ खरीद लीजिये । इनकों सिर्फ दो वक्त की रोटी की ज़रूरत है कोई बहुत बड़ा आदमी नहीं बनना है।। https://t.co/jLF2gVUQN3',\n",
              " 'RT @Diva_Rizvi: @J_Indian3 @Twitter @TwitterIndia @TwitterIndia बेचारा इतना मजबूर और कमजोर है कि मां बहन की गाली बकने वालों की भी रिपोर्ट क…',\n",
              " 'RT @BJPLive: ये कितने भी हवन करा दें, ये कितने भी जनेऊ दिखा दें, पुलिस को भगवा ड्रेस भी सिलवा दें, लेकिन भगवा में जो आतंक के दाग लगाने की इ…',\n",
              " 'इने पढ़ना लिखना थोड़ी ही आता है 😂😂😂',\n",
              " 'RT @The_naaz: यह हैं मोहम्मद कैफ़ ~\\n\\nजो कि हाफ़िज़ हैं और बी टेक कम्प्यूटर साइंस कर रहे हैं। कमाल यह है कि वो मवाना की एक मस्जिद मे तरावीह…',\n",
              " 'RT @Bsharma7: ये है दिल्ली के बलविंदर सिंह अंकल, 84 नरसंहार में इन्होंने अपना सबकुछ खो दिया, इनकी सारी संपत्ति जल गई थी और वह सड़क पर आ गए,…',\n",
              " 'RT @eralam1992: @MLArajeshSP मोदी - पाकिस्तान पर हमला करने जा रहे हैं,\\nसिपाही - सर ये तो खराब है\\nमोदी - अरे इसीलिए तो काला पेंट कराया है कि…',\n",
              " 'RT @DaasJai: #WednesdayWisdom\\nश्री कृष्ण के मरने के बाद में गोपियों को भीलों ने लूटा और अर्जुन को भी पीटा फिर भी लोग कृष्ण को ही भगवान मान…',\n",
              " 'ऊँ श्री हरि विष्णु',\n",
              " 'लो जी मिल गया हिन्दू आतंकवादी 👇👇 https://t.co/gCeC5jjisI',\n",
              " 'RT @sadashiv_sharan: बच्चा रोया तो माँ बोली सोजा नही तो \\nगब्बर आ जायेगा...\\nबच्चा :- नही माँ\\n\"आयेगा तो मोदी ही\"',\n",
              " 'RT @nidhidynamic: चार चार उंगलियो से vote डालने वाला एक मात्र आदमी🤣🤣🤣 https://t.co/gmh0dpw6t5',\n",
              " 'RT @drushayadav: आज गजब का उत्साह देखा वोटरों में मोदीजी के प्रति..\\n\\nहर 10 में से 8 व्यक्ति सुई धागा लेकर आया था साहेब का झोला तैयार करने…',\n",
              " 'RT @pargyadidi: लाहौर,मस्जिद में फटा बम कम से कम 40 मरे। \\n\\n\"बमजान मुबारक\"',\n",
              " 'RT @seematri6: जो भी #कांग्रेसी प्रत्याशी यह मान रहा हो कि वह हार रहा है . . . तब #प्रियंका को बुलवाले\\n\\nसिर्फ हारने से काम नही चलेगा,  जमान…',\n",
              " '@MANOJGU45978585 Shameless hai Sabhi..',\n",
              " 'RT @Sunnydeolsir: एक काँग्रेसी चमचा आज कह रहा था :-\\nवो भी क्या दिन थे जब 4 लोग साथ मे लौटा लेकर जाते और साथ बैठकर हगते हुए सुख दुख की बाते…',\n",
              " 'RT @ashutosh83B: क्या तेज बहादुर का पर्चा किसी दबाव में कैंसिल करवाया गया?क्या चुनाव आयोग कठपुतली बन गया?  \\u2066@BJP4India\\u2069 \\u2066@yadavakhilesh\\u2069 \\u2066@…',\n",
              " 'मणिशंकर की जगह सैम पित्रोदा ने पूरी कर दी . .\\n\\nसेल्फगोल . . .',\n",
              " 'RT @harshcha: म्हारे हरियाणा के भाईयों बहनों जे संसार राखणीं है भारत की चौधर बराकर तो 10/10 में लाओ चौकीदार। #MeraVoteModiKo',\n",
              " \"RT @pawanpandeysp: आठ दिन की राजनीति का पैदाइस 'निरहुआ' अपने आप को त्रिलोक का सबसे बड़ा प्रतापी बता रहा है, निरहुआ कह रहा है कि वह भगवान का…\",\n",
              " 'RT @KhannaPal: Time Time ki baat hai !\\n\\n@jaavedjaaferi\\n\\nसिर्फ पांच साल में मोदी जी कहां👍 से कहां👎 पहुंच गए।\\n\\nसब कर्मो का फल है। https://t.c…',\n",
              " 'RT @MohammadSherAl6: प्लेन को बादल में छुपवा दिया??ये आदमी पीएम होकर कैसे इतना झूठ, ऑन कैमरा बेशर्मी से बोलता है? भाई हिम्मत और बेशर्मी की…',\n",
              " 'RT @ashu3page: Karma! \\nजिस गली में आग लगते घरों को देखकर मौज लेते थे,भूल गए कि उसी गली में मेरा घर भी है. https://t.co/MBjPLqMGLa',\n",
              " 'RT @JBMIS: कांग्रेस ने देश को आजादी दिलाई:- नवजोत सिंह सिद्धू\\n\\nगद्दार तू 1984 भूल गया क्या??',\n",
              " 'RT @HindiJKR: शीला दीक्षित ने दिल्ली के सीएम से कहा, ‘क्यों गलत अफवाह फैला रहे हो, कोई काम नहीं हो तो खाने पर आएं’, केजरीवाल ने दिया यह जवा…',\n",
              " 'RT @BJPLive: कांग्रेस ने मध्य प्रदेश के किसानों से ये कह कर वोट लिया था कि 10 दिन में 2 लाख रुपये तक का कर्ज माफ़ कर देंगे। \\n\\nवो 10 दिन कब…',\n",
              " 'हालत ये है कि आदमी रात मे लघुशंका के लिए भी उठ रहा है, \\nतो कांग्रेस के खिलाफ तीन चार पोस्ट डालकर ही सोता है\\n😜🤣😂  @ShilpiSinghINC',\n",
              " 'SHUTTYUUPPPP this is cute',\n",
              " 'RT @SaffronJay: बहुत तगड़ा माल फुकता है बाबा!\\nइस घोचु की हरकतें देखके नेताजी भी सोचता होगा,BC गुप्त दान कौन दे गया होगा?\\n\\nदरसल टीपू @yadava…',\n",
              " 'काग-रेस का \\nतुरुप का पत्ता\\nमसूद अजहर तो गया',\n",
              " 'RT @BJP4CGState: मैंने हर गरीब के दर्द को समझा है, उसके दर्द को सुना है, उसकी बीमारी को समझा और उसकी जिंदगी को जाना है, इसलिए आयुष्मान भारत…',\n",
              " 'RT @JagratiGupta3: हमारे देश में हर दिन माँ का ही होता है।\\nहिंदुस्तान में हर इंसान के पास कम से कम 3माँ होती हैं।\\nजन्म देने वाली-माँ\\nजहां ह…',\n",
              " 'RT @pankhuripathak: भाई इंडिगो वाले १० बार नाम ले कर “लास्ट कॉल लास्ट कॉल” चिल्लाए हैं और ख़ुदहै फ़्लाइट २० मिनट लेट कर दिए हैं !\\n\\nमतलब पू…',\n",
              " '@sherryontopp जब कांग्रेस की सरकार थी, तब 80 रुपए  पेट्रोल थी, तो यही चीज कांग्रेस पे लागु नही होगा?',\n",
              " 'RT @SureshChavhanke: मेरी बात पर अमेरिका की मुहर। #श्रीलंका में हुए बम धमाके और जप्त किया हुआ गोला बारूद #SriLank को दहलाने के लिए लाये गए…',\n",
              " '#वोट_जरूर_करें\\n\\n👉 क्योंकि 1776 में अमेरिका में 1 वोट ज्यादा मिलने से जर्मन भाषा के स्थान पर अंग्रेज़ी भाषा बनी, 1875 में फ्रांस में मात्र 1 वोट से राजतंत्र के स्थान पर जनतंत्र आया, 1923 में 1 वोट ज्यादा मिलने से हिटलर नाजी़ पार्टी का प्रमुख बना और तानाशाही युग की शुरुआत हुई...!',\n",
              " 'RT @ashok_kumarjain: अच्छी बात है तो अब कोर्ट को इसको बेज्जत बरी करे बीना टोच्चर https://t.co/1ruThHmqms',\n",
              " '@aajtak मा कसम कोई इसको 5 एकड़ का प्लॉट दिखादो, और बोलो ये भारत का झंडा है, ये उसकी फोटो लगा देगा, वैसे इसके मा बाप तो स्कॉटिश है ना....',\n",
              " 'RT @atulbegwani5454: कमेन्ट मे जय श्री राम लिखते ही सिद्धू को चप्पल लगेगी खुद ट्राई करे मै ने भी किया फिर शेयर कर रहा हूँ ॥ \\n.\\n@sherryontop…',\n",
              " '@narendramodi जो खुद के लिए नही गरीबो के लिए जीत है\\nउसी को लोग चौकिदार कहते है और येसा\\nकेवल मोदी जी कर सकते दूसरा कोई नही\\nनमो नमो🙏🙏🚩🔥🇮🇳 🇮🇳',\n",
              " '@TechnicalSutta @DrKumarVishwas https://t.co/UyxfvJUllR\\nये देखो मोदी जी ने मेहुल चौकसी को \"भाई\" कहा.\\nअब बताओ क्या ख्याल है?',\n",
              " 'RT @JatG007: क्या खेल खेल रही है ममता😑\\nये लोकतंत्र हैं इसे हिटलर तंत्र बनाया हुआ है😑\\nवोट के लिए कहा तक गिर सकती हैं ममता वीडियो में देखे सक…',\n",
              " '@SanjayAzadSln @ArvindKejriwal @AtishiAAP आप वाले अब सच्चे आरोप भी लगाएंगे तो जनता झूठ समझेगी किउंकि आपियों ने झूठ बोल बोल के अपनी इमेज ही ऐसी बना ली है इसे कहते हैं अपने हाथ से अपनी कब्र खोदना ......भेड़िया आया ....भेड़िया आया वाली कहानी तो याद होगी ?',\n",
              " 'RT @Babluku54396430: सुनती हो, कब आओगी?\\n\\nतुम्हारे हिस्से का खून मच्छर पी रहे हैं😐 https://t.co/Ub83cmTi5k',\n",
              " 'RT @yadavtejashwi: खाली मेरे चाचा पर विशेष नज़र बनाए रखिए।\\n\\nप्यारे @NitishKumar चाचा,आपने अपना क्या हाल बना लिया है। शायद अब घुटन नहीं होगी…',\n",
              " 'RT @BJP4India: कांग्रेस के एक बयान बहादुर, मुंहफट ने कहा कि मोदी को ऐसा छक्का मारो कि सीमा पार मरे।\\n\\nकांग्रेस वालों को आपके मोदी से इतनी नफ…',\n",
              " 'RT @Pandey__Pramod: बड़ी खबर:-\\n\\nसंयुक्त राष्ट्र ने मसूद अजहर को वैश्विक आतंकी घोषित किया।\\nअब बोलो चमचों 🤒\\n#मोदी_है_तो_मुमकिन_है ✌️\\n#DeshBol…',\n",
              " 'RT @BJP4UP: कांग्रेस सरकार की नीयत सही होती तो वो अलवर में जो हुआ, उसे छिपाने में, दबाने में नहीं लगती।\\n\\nलेकिन नहीं, इनके पास तो एक ही जवाब…',\n",
              " 'RT @yadavteju: एक जवान के आगे 56 इंच से सिकुड़ के कितना रह गए?? कोई बता सकता है क्या??',\n",
              " '@ZeeNewsHindi इससे ज्यादा नहीं मिलेगा बाबा😂🤣😂🤣😂',\n",
              " 'RT @Heena78440171: @aajtak #तेज़बहादुर  #मोदी जी के खिलाफ ही क्यू लड़ रहा है\\n\\n.\\nकन्हैया के खिलाफ़ क्यू नही\\n.\\n\\n#कन्हैया कुमार ने तो फ़ोजियो…',\n",
              " 'RT @RakeshS90711255: #माँ का दिन नही होता\\n#माँ से ही दिन होता है❤\\n\\nसब पोस्ट कर रहे है\\nलव यू माँ\\n\\nवास्तव मे सच्चाई क्या है?\\n\\nघर के चाहे माँ…',\n",
              " '@banojyotsna तुमने दी आवाज , लो मै आ गया\\n\\nबादलों को छुपा कर मै अा गया\\n\\nरडार को भी बादलों में छुपा कर अा गया\\n\\nतुम्हारा फेकू रडार के साथ अा गया\\n\\nतुमने दी आवाज , लो मै आ गया',\n",
              " 'RT @imHarshThakur_: इसको पप्पू नहीं तो क्या बोलेंगे https://t.co/fFF7BUDIcI',\n",
              " 'RT @kuruwila: आज एक चू*या कांग्रेसी और आपीये चमचे से बात हुई। बोले जब गीदड़ की मौत आती है तो वो शहर की तरफ भागता है।\\nहम बोल कौन चू*या था वो…',\n",
              " 'RT @Chatterj1Asking: कांग्रेस के “मसुद अज़हर जी “ तो गयो \\n10 जनपथ मे शोक की लहर \\nहाथी घायल और साईकल पंचर होने की ख़बर साथ साथ आ रही\\n\\nEVM छो…',\n",
              " '@adhikari_ruma सुप्रभात मेरी प्यारी बहन जी 💐🙏हर हर महादेव 🚩🙏',\n",
              " '@akashbanerjee @ECISVEEP क्योंकि अब ये टी एन शेषन वाला चुनाव आयोग नही जिसके समय राजनीतिक पार्टियां धींगा मुश्ती करने की सोच भी नही सकतीं थी। अब तो चुनाव आयोग के संज्ञान में लाने वाले को साबित करने की भी जिम्मेदारी नही तो जेल।',\n",
              " 'सब मिलकर प्रेम से बोलो :- नाईस पिक्चर https://t.co/NUqkPPhcbx',\n",
              " 'RT @INCBundelkhand: नहीं झुके ये शीश तुम्हारा \\nये वादा हमारा है , \\nखुद्दारी का सम्मान हो , \\nहर संकट में साथ हमारा है । \\n#NyayForMazdoor htt…',\n",
              " 'RT @Jekki_KHaN_786: दिल्ली के चुनाव आये तो 1984 दंगो में\\n\\nसिखों का कत्लेआम याद दिलवा दिया,\\n\\nलेकिन 2002 गुजरात दंगों में मुस्लिमों का\\n\\nकत्ले…',\n",
              " '@sherryontopp आप खुद टरर् टर्र कर अपने को देशद्रोही साबित कर रहें हैं',\n",
              " 'कांग्रेस MC नेर चौक में करेगी सर्जिकल स्ट्राइक- BJP चेयरमैन &amp; वाईस चैयरमैन की होगी छुट्टी। कांग्रेस लायेगी अविश्वास प्रस्ताव- Advance News Himachal Buero https://t.co/OxqNPqfBkR',\n",
              " 'RT @aajtak: गुजरात कांग्रेस के नेता शंकर सिंह वाघेला ने बड़ा बयान दिया है\\n#LokSabhaElections2019\\nhttps://t.co/4HmKIUMTqP',\n",
              " 'RT @rukasa007: महाराष्ट्र राज्य मानवाधिकार आयोग, को भेजी गई शिकायत यह शिकायत कैप्टन नितिन दात्रे जोशी ने की थी\\n\\nले.कर्नल पुरोहित प्रसाद श्…',\n",
              " 'पप्पू लाल  इस लिए हाथ दिखा रहा है वह जानता है फिर एक बार हाथ से सता गई',\n",
              " 'RT @RSFBLB: मैं मतदान करके कमरे से जेसे ही बाहर निकला लाइन में खड़े मेरे  मित्र ने पूछा... वोट डाल दिया ? \\n\\nमैने कहा:- हां.. मैंने अपना वोट…',\n",
              " '@republic पप्पू का जीजा पगलेट',\n",
              " '@RoyalThakurain हा मुझे पता है😂😂',\n",
              " '@girirajsinghbjp यहाँ सहिष्णु,अहिंसक,सर्व धर्म समभाव हिंदू हैं...हमारी विनम्रता को कमजोरी समझा गया| और कुछ स्वार्थी राजनीतिज्ञ जिस थाली में खाते हैं उसी में छेद कर रहे हैं....जितनी उदारता यहाँ है विश्व में और कहीं नहीं मिलेगी |',\n",
              " '@aajtak मोदी भक्त आज इतने खुश हैं,जैसे इनकी अम्मा के लोंडा हुआ हो.🤣🤣🤣🤣',\n",
              " '3/120 is most. Yeh maths sirf sindh k schools main he ho sakta hai. 😁',\n",
              " 'Me khoobsurati me kisi se pichey nhi hun\\nMery sath masail sirf zuban k hain 😉',\n",
              " '@UP_Silk @sdPachauri1 @narendramodi @Ratnadeepsharm4 @Deepika81682230 @01_djbhatt @0309swati @12shrikar @15705f3fcdbc4d7 @143shivamkumar @15abhilash यस वोट करों',\n",
              " 'RT @NuhCongress_SC: हरियाणा के गुरूग्राम लोकसभा क्षेत्र में चार मई को गरजेंगे राहुल_गाँधी : @CaptAjayYadav\\n\\n#LokSabhaElections #Vote4Congre…',\n",
              " 'RT @BJP4India: इनको अगर जरा भी मौका मिला तो ये देश की रक्षा -सुरक्षा को खतरे में डाल देंगे और देश सुरक्षित नहीं होगा तो विकसित नहीं होगा:…',\n",
              " '@laluprasadrjd हा तो एक बात बताओ 5 साल के अंदर न कोई दंगा हुआ नही कोई देश के अंदर कोई बम विस्फोट हुआ भाई लोग असलियत यही की यही लोग जातिवाद के नाम पर जहर उगलेंगे और  जितने भी मुसलमान भाई है 2004 और 2004 के बाद में बिहार में अंतर देख तब किसी को सपोर्ट करो ये सब सिर्फ आपलोगो को वोट बैंक समझते है',\n",
              " 'RT @mithleshkumarmi: शरीर से प्रेम है तो व्यायाम करें, \\n  आत्मा से प्रेम है तो ध्यान करें, \\nदेश से प्रेम है तो मतदान अवश्य करें। \\n\\n       🙏…',\n",
              " 'RT @narendramodi_in: यहां राजस्थान में कांग्रेस की सरकार बनी।\\n\\nअब यहां पर किस तरह के सवाल उठ रहे हैं-\\n\\n10 दिन हो गए, 100 दिन हो गए, कर्जमा…',\n",
              " 'RT @satishchoubey7: UN द्वारा मसूद अजहर को ग्लोबल आतंकी घोषित करने के खिलाफ कांंग्रेस जा सकती है निर्वाचन आयोग, ये आचार संहिता के उल्लंघन…',\n",
              " 'आदरणीय बाबा जी,चरण स्पर्श, हमारे कॉलोनी रुस्तमपुर की सड़क बनवाने की कृपा करें। विगत 10 वर्षों से गड्ढा युक्त है यह रोड। कृपया गड्ढा युक्त सड़क से नागरिकों को मुक्ति दिलाएं।🙏🙏🙏🙏🙏',\n",
              " '@maanshart @bjp_ka1_virodhi @manakgupta Sare (tumlog bi) brastachari jailme',\n",
              " 'RT @ReallySwara: पूर्वी दिल्ली आज दिल्ली की बेटी आतिशी को अपना एक एक वोट देकर विजयी बनाएँ! यह काम की राजनीति करेंगी नाम की नहीं! Good luck…',\n",
              " 'ना आमिर औन ना सलमान-शाहरुख, करीना कपूर को ने बताया इस अभिनेता को सबसे बड़ा खान https://t.co/6mEZHEu0ia',\n",
              " 'RT @CallGirlSonam: 💝💦तुम्हे ना देख कर कब तक🤔 सब्र करूँ.,. 😓\\nआँखे तो बँद 🙈कर लूँ ,पर इस दिल ❤का क्या करूँ..!! 😍🤔\\n      https://t.co/kO0GzbnZ…',\n",
              " 'RT @shuklapinku: थमते थमते थमेंगे आँसू , \\n\\nरोना है , कोई हंसी नहीं हैं!!!',\n",
              " '@RabriDeviRJD चारा चोरनी का शाप भी लगता है क्या? https://t.co/88I6xSWRDO',\n",
              " 'Sant Shri Asaram Bapu Ji बताते हैं गर्मियों में अपने स्वास्थ्य की रक्षा करने हेतु क्या करें -यदि गर्मियों में सिर में दर्द बना रहता है तो मुल्तानी मिट्टी से स्नान करें फायदा होगा #SummerHealthTipsByBapuji',\n",
              " 'RT @anuragtamrakar6: पहले बीबी बनाया।\\nफिर अम्मी बनाया, \\nफिर अम्मी को बीबी बनाया।\\nफिर बीबी को भाभी बनाया, \\nफिर भाभी को बीबी बनाया \\nबहोत कन्फ…',\n",
              " '@BBCHindi बस करो गावस्कर 😆😆 अब वेंगसरकर को भी खेलने दो । गजब हो यार बीबीसी तुम भी टोटल बीसी हो गए हो क्या 😜😜 अब इसमें भी मोदी खोज ही लिए 😁😁 अब और कंहा कंहा और मोदी जी का दोष और हाथ पांव बताओगे बाबा जी लोग 🙄🙄',\n",
              " '@AshrafFem बेगुनाह कन्हैया पर राष्ट्रद्रोह तो मोदी पर कयों नही विदेश से\\nघोषित हुए देश को बांटने वाले प्रमुख Chief\\n\\nकया मोदी भी जेल जायेगा',\n",
              " 'RT @insa_jagriti: #SpiritualSunday12thMay @derasachasauda @Gurmeetramrahim इंसान जब सत्संग में आता है तो उसके बुरे कर्म ख़त्म होते चले जाते…',\n",
              " '@AsianBabes123 भेनचो ... क्या मस्त पपीते हैं',\n",
              " 'Khuaf-e-khuda dekhna ha to musalman ka dekho jo rozay me wuzu ka pani moo me le kr b nahi peeta ♥',\n",
              " '@AkhileshPSingh तुम ससुर बुड़बक ही रहोगे ,अरे उ जहाज़वा है न उ बादलवा में छुप जाएगा तो कैसे दिखेगा \\n\\n        बुड़बक',\n",
              " 'केजरी सरजी ने भले 18 टिकट ही बेचे लेकिन 6 करोड़ से एक ढेला कम नहीं किया. उसूलों का पक्के इंसान हैं 👍',\n",
              " '@Physicsgaurav Ye sale pde likhe chutiya hai 😜🤘',\n",
              " 'RT @The_Hot_Summer: फ़िर भी बोलते हैं मोदी ने क्या किया!🙄\\nजिनको अभी भी नहीं समझ आया वो 23 मई का इंतज़ार करें!\\nअभी तो ट्रेलर था, फ़िल्म तो अ…',\n",
              " 'RT @RakeshT73827202: फर्जी बाबा हो,प्रमोद!\\nऐसे ही रोते बिलखते रहोगे!\\nयह मेरा शाप है😠 https://t.co/UeS3TQgipI',\n",
              " 'RT @TheFauxyHindi: केजरीवाल की अगली रैली के लिए अलग तरह का बंदोबस्त, थप्पड़ मारना होगा मुशकिल\\nhttps://t.co/9fzVTn2Pq8',\n",
              " 'RT @agrey_sangita: कुछ चमचें Twitter पर तमंचे और\\n     बंदूक लिए फोटो डालते हैं\\n             🙄🙄🙄\\nये वहीं चमचें हैं जो पूछते हैं चच्चा\\n ये 🐕…',\n",
              " 'Breaking News\\n\\nबीबीसी और इंडिया टुडे द्वारा कराए गए ताज़ा  राष्ट्रीय एग्जिट पोल के मुताबिक:\\n\\nकांग्रेस को  \\n300 सीटे आ रही हैं ! \\n\\n40 लोकसभा से \\nऔर \\n\\n260 गुप्ता टेंट हाउस से !',\n",
              " '@ReallySwara @digvijaya_28 @INCIndia @RahulGandhi दिग्विजय जी की उंगली तुम्हारी उंगली से कितनी ज्यादा मजबूत है उसका अंदाज़ तो तुम को अब तक लग ही गया होगा',\n",
              " \"RT @ShatruganSinha: उपयोग कर एक मजबूत सरकार बनाने में अपना पूर्ण योगदान दें। चूंकि वर्तमान की केंद्र सरकार 'वन मैन शो' और 'टू मैन आर्मी' मा…\",\n",
              " 'RT @RJDforIndia: Breaking: मोदी जी ने वायुसेना लड़ाकों को महत्वपूर्ण सलाह यह दी थी कि बादलों के नीचे से बम वर्षा की जाए। बादलों के ऊपर से ब…',\n",
              " 'RT @ParmarA03: चलो चले माँ!सपनों के गाँव में,\\nकाँटों से दूर कहीं, फूलों की छाँव में,\\nचलो चले माँ...\\n\\nहो रहे इशारे रेशमी घटाओं में,\\nचलो चले…',\n",
              " 'RT @ZeeNewsHindi: #Exclusive: भ्रष्टाचार के खिलाफ थी मेरी लड़ाई, मुझे ही देशद्रोही बना दिया गया- #TejBahadurYadav \\n\\n#AbkiBaarKiskiSarkar\\n\\nh…',\n",
              " '@ArvindKejriwal ये विडियो किसी ने भेजा है और #हरियाणा के फरीदाबाद का होने का दावा किया है| इससे क्या फर्क पड़ता है कि ये कब का और कहाँ का है? लेकिन हैरान और दुखी हूँ ये देखकर कि सिस्टम कई बार कितना #नपुंसक हो जाता है? ये नीच #हरकत है🤔\\n#लोकसभाचुनाव2019\\n https://t.co/qh1JO4bBRJ',\n",
              " 'RT @abhibajpai09: बचपन में मैं आम के खेत में आम चोरी करके बादल के पीछे छुप जाता था, माली का राडार मुझे पकड़ नहीं पाता था। 😂 \\n\\n#EntireCloudS…',\n",
              " 'RT @Rocking_Naina: बनारस में 90 नामांकन रद्द किए गए हैं। \\n\\nचुनाव आयोग ने भी सिद्ध कर दिया है कि वो चुनाव आयोग नहीं मोदी आयोग है।\\n\\nचुनाव आयु…',\n",
              " 'RT @DrGPradhan: .@RahulGandhi को कम मत समझो भक्तों ये भूतों से भी बात करते है https://t.co/MATQ7VAbLX',\n",
              " 'RT @Krishan71309907: #HappyMothersDay2019\\n\\xa0मां और बच्चे दोनों को अपना जीवन जन्म सफल बनाने के लिए संत जो तत्वदर्शी हो उसकी खोज कर उनसे सतभक्…',\n",
              " 'RT @Anant_kmc: देश को सुरक्षित बनाने के लिए ,किसानों की आय दोगुनी करने के लिए, समाज में फैली असमानता को दूर करने के लिए; गरीब, दलित, पीड़ित…',\n",
              " 'सही कहा डिअर pm',\n",
              " 'RT @003Gayatri: अब समझ में आया दाल खराब यादव ने जो ड्रामा किया था वो सिर्फ एक ड्रामा था,,टिकट के लिए \\nहद है तुम लोगो की यार\\n@tweetofkt',\n",
              " 'RT @BrajmohanMalv11: हर धर्म माँ की अपार महिमा का यशोगान करता है।हिन्दू धर्म मे देवियो को माँ कहा गया है।मुस्लिम धर्म मे भी माँ को पवित्र…',\n",
              " 'RT @Vyangyabaazi: देशभर मे बनाई गयी 100 स्मार्ट सिटी के सारे वोट बीजेपी को जरूर मिलेग\\n\\nये सब #बुलेट ट्रेन मे चलने वाले लोग है',\n",
              " 'RT @ModifiedDev: मोदी जी तृतीय श्रेणी में मेरा टिकट था मेट्रो रुक गई रास्ते में  ट्रेन छूट गई\\nऔर कल वोट है बाथरूम के पास खड़ा हू मुझे सर्जि…',\n",
              " 'वोट जरूर दें...✌\\nचाहे बीजेपी को, चाहे कमल को, चाहे मोदीजी को...\\nपर मतदान जरूर करें..!!\\n@RahulGandhi \\n@ArvindKejriwal \\n@MamataOfficial',\n",
              " '@HarishKhuranna @ArvindKejriwal ओ ओ\\n\\nआपने कंजरीवाल को केजरीवाल लिख दिया ।',\n",
              " 'RT @yogrishiramdev: कम्युनिस्टों,ईसाइयों व मुगलों ने अपने राज्य विस्तार के लिए न्याय व कानून के नाम पर 50  करोड़ निर्दोष लोगों का कत्ल किया…',\n",
              " 'narendramodi_in: उन्होंने देश के लोगों के साथ विश्वासघात किया, देश की उम्मीदों को तोड़ा और ताल ठोक कर कहते रहे- हुआ तो हुआ।\\n\\nजब राष्ट्रहित के बजाय, सिर्फ अपने परिवार का हित सर्वोपरि होता है, तो यही अहंकार, यही घमंड बोलता है- हुआ तो हुआ: PM narendramodi',\n",
              " '@ShubhamK_45 @mipaltan Dekhte hai',\n",
              " '@ArvindKejriwal Backchodi से राजनीती नही चलती कुछ कर्ना भी पड़ता है।',\n",
              " 'RT @AKTKadmin: @ReallySwara @digvijaya_28 @INCIndia @RahulGandhi जन्नत में एक हूर हर झूठ बोलने पे पैदा होती है, बस इस ट्वीट से 4 हूरें (उचि…',\n",
              " 'RT @Dr_Uditraj: मोदी जी पैदा हुए सामान्य वर्ग में CM बने तो पिछड़ा वर्ग में शामिल हो गए&amp;अब अति पिछड़ा हो गए हैं।अब देखना है दलित कब बनते…',\n",
              " '@varnishant 2/2 \\nभारत में पैदा हुआ है, अगर कहीं और होता तो अभी तक पागल कुत्ता घोषित कर गोली मार देते । हमें तो तेरे परिवार पर तरस आता है वो 24*7 कैसे झेलते होंगें तभी तू रात के 11 बजे तक टैक्सियों मे घुमता रहता है । अब तो बस 23 मई का इंतजार है कि तेरा भद्दा चेहरा और कितना भद्दा हो सकता है।👹',\n",
              " '23 मई को परिणाम देखकर अपना सिर पटक रहे पगले की पीठ पर दोहत्थड़ जमाकर ठहाका लगाते हुए पितरऊदा कहेगा...\\n...हुआ सो हुआ😊',\n",
              " '@saurabhtop @goairlinesindia चलो कम से कम reply तो दिया!\\n\\nएक हमरा लोकल टमटम वाला है..\\n-- 3 की जगह 5 बिठाता है,\\n-- अंदर बेठो या बाहर लटको पैसा बराबर लेता है\\n-- बोला ट्राफिक वाले को भी पैसा देना होता है\\n\\nऔर कल जब एक बगल वाले के सिर में छत लगी तो उसने कहा भैय्या धीरे चलाओ तो बोला,\"गर्मी में हवा की मौज लो\"!',\n",
              " 'RT @sir_jenishpatel: दिल्ली का महाठग @ArvindKejriwal\\nने पहले झठे पर्च छपवाकर गौतम गंभीर को बदनाम करने की कोशिश की लेकिन गंभीर ने चैलेंज देक…',\n",
              " '#WednesdayWisdom\\nब्रह्मा विष्णु महेश अजर अमर नहीं है यह स्वयं पुनरावृत्ति में है अर्थात इनकी भी जन्म और मृत्यु होती है। \\nप्रमाण सहित जानने के लिए अवश्य देखें ईश्वर टीवी रात्रि 8:30 बजे https://t.co/uvVcgsJoj6',\n",
              " 'RT @YTaleli: बहकावे में कभी न आना। सोच-समझ कर बटन दबाना .\\nअगर आप ने अपने मत का उपयोग नही किया है ,\\nतो आप का कोई अधिकार भी नही है , सवाल कर…',\n",
              " 'RT @RitikaPiyush: #वेद_मेरा_भेद_है\\nपरमात्मा प्रत्येक युग में प्रारम्भ में प्रकट होकर अपना तत्वज्ञान प्रकट करके चले जाते हैं - ऋग्वेद मण्डल…',\n",
              " 'RT @_Rakshanda_: फेंकू ने 23 मई को हिमालय जाने के लिए अपने कटोरे को साफ कर लिया है अब देखना ये है कि कितने भक्त इनके नई पारी में इनके साथ…',\n",
              " 'RT @RajkumaarPandey: देश के नव निर्माण में अथक परिश्रम करके अपना अमूल्य योगदान देने वाले समस्त कर्तव्यनिष्ठ श्रमिक बन्धुओं और बहनों को अंत…',\n",
              " '@NakuulMehta Kya baaaat hai 🌟🌟🌟👏🏻👏🏻👏🏻👏🏻',\n",
              " 'RT @Rajendr76194898: हे बुड़बक नही कहिये हम जनता लोगन को....\\nबुड़बक तो आप है, नवीन फेल बउवा के लऊवा. ..\\nहम हूँ जनता लोगन का भी सुनलिया करो…',\n",
              " 'RT @MLMANDOWARA: आज़मगढ़ से जिस तरह की खबर आ रही है अगर यही ट्रेंड शाम तक रह गया तो निरहुआ कम से कम डेढ़ लाख वोटों से चुनाव जीत जाएगा',\n",
              " 'RT @VIJAY10008: चलो नफरत पर एक चोट करें\\n\\nचलो \"आप\" को वोट करें\\n\\n#VoteForJhadu 🔥🔥',\n",
              " 'मोदी को हटाने के लिए सब महागठबंधन करके एक हो गये,\\nलेकिन 370 हटाने के लिए एक भी नेता ने मुँह नही खोला...\\n\\nदेश बड़ा या पार्टी..?\\nलादेन की लाश का कोई अता-पता नही पर, अमेरिका के लोगों ने सबुत नही माँगा \\nक्योंकि..\\nवहां, हमारे जैसै जयचन्द नही रहते!!',\n",
              " 'RT @advmonikaarora: जब दुशासन द्रौपदी का चीर हरण कर रहा था तब भीष्म पितामह ने #NOTA का उपयोग किया। उन्होंने कहा मैं तटस्थ हूँ। न मैं दुशासन…',\n",
              " '@kaushikn73 @bjplao @aajtak बकलोलवा के पास कॉमर्शियल पायलट का लाईसेंस है ये मत भूलो',\n",
              " '@KailashOnline आप केंद्र में बैठकर कीर्तन कर रहे हैं ।।',\n",
              " '@Kiranja34522516 @ZeeNewsHindi @MehboobaMufti अब इस कुत्तिया में क्या बचा है',\n",
              " 'RT @AkshayMarathe: ये आदमी अपने आप को भगवान नहीं समझता ये बहुत बड़ी बात है। https://t.co/8YTCzouhWw',\n",
              " 'लो, यह अब जाग गये!',\n",
              " 'RT @AazimSaifi7451: जरूर इसे युगांडा की कानूनी धाराओं के तहत भेजा होगा जेल, बिना कानून तोड़े इंडिया मे तो नहीं है जेल का प्रावधान 🙂\\n\\n@sarda…',\n",
              " 'Nobody :\\n\\nSamina peerzada :\\nKbhi choty hoty Cheri roza raka hai https://t.co/p6dxc6NBIx',\n",
              " 'RT @Dr_Uditraj: आज मुस्लिम समाज हिन्दू कालोनियों में किराये पर मकान नहीं ले पा रहा है , वैसा ही दलित के साथ भी हो रहा है |\\n\\nदेश की इतनी ब…',\n",
              " 'चाची जलरही हो अब सच्ची 💥😂🤣😀सरबत पीओ',\n",
              " '@Rajnijangid6 @karolbagh_ashrm मां एक सेविका की तरह अपने बच्चों का पालन पोषण करती है,\\nऔर खुद भूखी रहकर भी अपने बच्चों का पेट भरती है।\\n#HappyMothersDay',\n",
              " 'पानी की कमी से संकट में मरीज डेंटल कॉलेज में टालनी पड़ी\\xa0सर्जरी https://t.co/HsTuYezgzy',\n",
              " 'RT @Being_Sanskaari: मैंने वायु सेना चीफ से कहा अगर बादलों ने धोका दिया तो प्लान B ये होगा 😂😂🤣 https://t.co/2nY9JI6L3k',\n",
              " 'RT @narpat57: @smritiirani इनके मा बाप के संस्कार है बच्चो में बाट रही है पिक्की',\n",
              " 'मदरसे में मौलवी ने मासूम बच्चे को बनाया हवस का शिकार।\\n\\nइतनी भी क्या चुल होती है इनको 😡 https://t.co/3MZL2SX6RK',\n",
              " 'RT @PalakSharma0098: #MothersDay \\nमां हमारी गलती को तो माफ कर देती है, छुपा देती है लेकिन कर्म फल को भोगने से हमें नही बचा सकती। जाने उस पर…',\n",
              " 'RT @RajaniSi4: अब जहर खाने के अलावा कोई रास्ता नही है 😁😁😁😁 https://t.co/DkHFNv7QX2',\n",
              " 'RT @MamtaDaasi: #वेद_मेरा_भेद_है\\nनकली धर्मगुरुओं को ज्ञान होता तो ,ब्रह्मा ,विष्णु, महेश के माता पिता का नाम बता देते इन को कुछ भी ज्ञान न…',\n",
              " 'RT @tejbahadursp: हार नहीं मानूंगा, रार नहीं ठानूंगा',\n",
              " '@priyankagandhi मैडम ये है कांग्रेस https://t.co/0lqTUhbGz9',\n",
              " 'RT @AjayKum13838284: दोस्तों आज मैं एक जमीनी हकीकत बताता हूँ यहाँ बहुतो ऐसे लोग है जो दोहरी नागरिकता लेकर 2-2 राज्यो में सरकारी फायदा उठाते…',\n",
              " 'RT @navjivanindia: #PMModi के खिलाफ चुनाव लड़ने वाले किसान सुनापू इश्तारी ने कहा कि हमें पुलिस और इंटेलिजेंस ब्यूरो के अधिकारियों ने हर जगह…',\n",
              " 'RT @OshoPrabhakar: सिद्धार्थ उपनिषद \\nनिरति का अर्थ है भीतर देखना, दिव्य प्रकाश को निराकार में देखना। केवल दिव्य प्रकाश देखना दर्शन है, निर…',\n",
              " '@anuragdhanda ई.सी. हरामी हैं जो गुंडो को शह देता हैं । इस ई. सी. को इसके कर्मो की सजा मिले ।',\n",
              " 'तेज बहादुर यादव के बहाने हरियाणा भी देख रहा होगा कि फ़र्ज़ी राष्ट्रवाद के चक्कर में वर्षों से भाजपा का साथ दे रहे थे।\\n\\nआज तेज बहादुर चुनाव लड पायें या न लड पायें लेकिन अब वो भाजपा के खिलाफ बड़ी लडाई के लिये तैयार... https://t.co/fonFv0tLoY',\n",
              " 'Kamrak hai, lekin since English mein Star Fruit hai naam, toh Karan Johar pakka agli movie mein launch kar sakta hai. https://t.co/LuqMDwYlKa',\n",
              " '@ppbajpai जब कोई १९८४ दंगे के लिए माफ़ी की दरख्वास्त करता है \\nतो क्या उसे २००२ के दंगों के लिए माफी नहीं मांगनी चाहिए ????\\nनागरिक तो दोनों ही हैं।',\n",
              " 'RT @saurabhdave05: @RubikaLiyaquat कांग्रेस के प्रचार में बहुत सारे पत्रकार लगे हुए है ।',\n",
              " '@IIGoDMomll @benmoha दिग्गी क्या देख रहा है ? https://t.co/LLT7M4jn0J',\n",
              " 'RT @atanshumman: @_Unique_Princes @iamsolanki_ नाक है ही कहा, जो रागड़े गा यह तो बस दिखावा है नाक तो वही इटली मे रेह गई',\n",
              " 'RT @MLArajeshSP: मुझे हराने वाला कोई पैदा नही हुआ, भगवान् के विधान को बदलने की ताकत है मुझमें - #निहुरवा\\nये सुनते ही मोदी ने #निरहुआ को जीत…',\n",
              " 'और जो ब्यूटीफुल नहीं है उनके लिए क्या 😡😡😡😡😡😡😡😡😡😡😡😡😡😡😡😡😡😡😡😡😡😡😡😡😡😡',\n",
              " '@mlkhattar MuM जी, कुछ तो शर्म कीजिये !! https://t.co/6EaWWyyWiR',\n",
              " 'RT @SheelaDasi5: #RamadanMubarak\\nमांस खाने का आदेश अल्लाह का नहीं है।\\nहजरत आदम के शरीर में कोई पित्तर आ कर प्रवेश करता था। वही माँस खाने का…',\n",
              " 'बार-बार थप्पड़ मारने से अच्छा है…\\n\\nमुझे कहीं बांध के बेल्ट से मार लो बे:- केजरी…🙈',\n",
              " 'क्या काँग्रेस जाँच करायेगी ?',\n",
              " 'RT @rpsinghkhalsa: इनको भी एक टीशर्ट भेजो और उस पर लिख भेजो की, मै बग्गा नही बाघ हूँ,और भारत की \\n संप्रभुता का चौकीदार हूँ। और हाँ नीचे ता…',\n",
              " 'RT @Mizaaj_: जब दुनिया की ठोकरों से बड़ा बेचैन हो जाता हुँ,\\nमैं माँ के कदमो में सर रख कर सो जाता हुँ।\\n\\n#Mizaaj',\n",
              " 'sambitswaraj Kutta hai saala, saara din bakwaas karta rehta hai',\n",
              " 'RT @ManishT69890608: वर्तमान #69000_शिक्षक_भर्ती में योग्यता के साथ एकल बेंच ने जो मजाक किया है अब माननीय सुप्रीम कोर्ट ने ये तय कर दिया है…',\n",
              " '#MenToo\\nअब क्या पुरुष अपनी मर्ज़ी से रीति रिवाज़ भी नहीं मान सकते ?\\nइंजीनियर पति ने चोटी नहीं कटवाई तो एमबीए पत्नी ने तलाक की अर्जी दी\\n\\nब्राह्मणपति नेकहा- तलाक मंजूर है, लेकिन चोटी नहीं कटाऊंगापत्नी ने कहा- पति का चोटी रखना मेरे स्टैंडर्ड का नहीं है !\\n https://t.co/3GXWzIyeP8',\n",
              " 'RT @AkhileshPSingh: प्रत्यक्षम किम प्रमाणम\\nपोल खोल के रख दी @INCIndia की @divyaspandana ने\\nहर सवाल \\nहर जबाब \\nहर इन्टर्ब्यू \\nफ़िक्स है @nare…',\n",
              " 'RT @AmanChopra_: जो लोग पुलवामा हमले के बाद @ImranKhanPTI की नौटंकी पर उन्हें शांति दूत और मसीहा बता रहे थे। मोदी को इमरान से सीखने की सलाह…',\n",
              " 'RT @TajinderBagga: अगर नेहरू जी देश का बंटवारा न करवाते तो पाकिस्तान नही होता, अगर पाकिस्तान नही होता तो आतंकवाद न होता, अगर आतंकवाद न होता…',\n",
              " 'RT @BebakAawaj: @yadavakhilesh भाजपा के ऊपर खतरों के बादल मंडरा रहे है जनता ने उन्हें रडार में ले लिया है।',\n",
              " 'RT @IntolerantMano2: अब चौकीदार क्या है ?\\n\\nमैं एक बार में उस 10 जनपत के गधे के मुँह से सुनना चाहता हूँ',\n",
              " '@yadavakhilesh पप्पू को स्मृति और अखिलेश को पटकेगा निरहुआ,\\nममता की तो छोड़ो, भतीजा बचेगा ना बुआ।\\n\\n\"हुआं तो हूआं\"🤣',\n",
              " '@seriousfunnyguy केजू का रोड शो, वो भी फ्लॉप ।।।।इसमे भी जरूर मोदीजी की साजिश होगी 😂😂',\n",
              " '@KirronKherBJP हाहाहा हाह ..\\nइसका मतलब अनुपम खेर की नौकरी पक्की',\n",
              " 'RT @LalitMa54440950: जिसकी पत्नी नहीं है वो भगवान राम के पास जा कर क्या करेंगे झूठे लोगो का भगवान राम के पास कोई जगह नहीं है इसलिए भारतीय भ…',\n",
              " 'RT @sanjay_dimpy: सभी जगह से सुचना आ रही है की भाजपा अपनी सातों सीटें आम आदमी पार्टी से हार रही है। \\nकांग्रेस पिछड़ रही है।',\n",
              " 'RT @jaijaicongress: #मोदी_है_तो_मुमकिन_है इसको कहते है  भक्तो का थर थर काँपना मगर हमको अच्छा लगा बनारस मे #रंगा_बिल्ला ने #तेजबहादुर_यादव…',\n",
              " '@ArvindKejriwal @guru9899 बाकी लोगो का वोट आपको नहीं चाहिए😠😠😠',\n",
              " 'RT @BJP4India: जब इन लोगों को मौका मिला तो इन्होंने NRHM घोटाला कर दिया, एंबुलेंस में घोटाला कर दिया।\\n\\nजब मुझे सेवा का अवसर मिला तो देश के…',\n",
              " '@ameytirodkar फेकेंन्द्र रडार महाराज की जय \\n   हर हर रडार घर घर रडार \\n     भक्त है तो मुनकीन है  \\n        🙏😀😎🙏 https://t.co/W7XRaefLNp',\n",
              " '@News18India ममता तेरी गुण्डागर्दी नही चलेगी नही चलेगी',\n",
              " 'RT @DeepsUnique3434: @narendramodi #चार_उंगली_से_वोट_डालने_वाला\\n#संसार_का_एकमात्र_प्राणी\\nऔर कुछ चमचों को लगता है\\nये आदमी देश चलाएगा..\\n🙄🙄…',\n",
              " 'RT @AkhterH007007: नोटबन्दी और GST ने असंगठित क्षेत्र में नौकरी करने वालों को पूरी तरह से तहस नहस कर रख दिया , विशेषकर दिहाड़ी मजदूरों को…',\n",
              " 'कुछ बवासीर वाले भक्त आज भी पूरा दर्द पिछवाड़े में झेल कर भा जा पा के गीत गुनगुना रहे हैं मजबूरी में क्योंकि बवासीर नाम ही कुछ इस तरह की बीमारी का है कि दर्द झेल कर भी हंसना पड़ता है',\n",
              " 'RT @Ravikan03251268: जनता अब बहुत समझदार हो चुकी है, \\nउनको पता है के किसका किस चीज़ से स्वागत करना है।\\n\\n#ठोको_ताली😂😂\\n\\n      फॉलो @Ravikan03…',\n",
              " 'RT @paramjeetuk: मेरे खिलौनों को संभाल कर रखती थी मेरी माँ\\nजब थक, हार, खेल कर, सो जाता था मैं\\nमुझे पलू से अपने, हवा देती थी, मेरी माँ\\nजब ग…',\n",
              " 'कुछ समझे दया - वह भोसड़ी वाले पड़ोसी कुछ तो बताना चाहते थे 🤔🤔🤨🤨',\n",
              " 'RT @OfficeofSSC: @ChouhanShivraj धीरे-धीरे कर कांग्रेस ने गरीबों के कल्याण के लिए चलाई जा रही योजनाएं बंद कर दी। संबल योजना बंद कर दिया। इस…',\n",
              " '@pbhushan1 अपने चेम्बर मे हुई ठुकाई भूल गए क्या ।',\n",
              " 'RT @SChaudharyINC: BJP ने मुझे चुनाव न लड़ने के लिए 20 करोड़ का ऑफर दिया था और बोला गया की अगर में चुनाव में नही बैठा तो अंजाम बुरा होगा, प…',\n",
              " 'RT @sunilku18931742: #Ramadan\\n#Ramzan2019\\nकुरान शरीफ का ज्ञान दाता कहता है कि उस अल्लाह की शरण में जाने के लिए किसी तत्वदर्शी संत से जाकर…',\n",
              " 'कुछ समय रहते ही मैंने अपना वोट डाला है। https://t.co/haZC2YQws3',\n",
              " 'अभी-अभी 1 किलो आम 🍋 खरीदे हैं...ये पूछना था कि काट के खाऊं या चूस के 😕\\nमतलब मज़ा कैसे आएगा',\n",
              " '@nidhidynamic तुम्हारा कांग्रेसियों का अतीत देखो फिर लांछन लगाना तुम लोग के पास ही शेर नहीं पूरे लोमड़ी प्रियंका गधे पप्पू भरे पड़े है तुम्हारी तो औक़ात भी नहीं की शेर पैदा कर सके इसलिए तुम लोग भांड मीडिया के साथ मिलकर गधों को शेर बनाने की कोशिश करो प्रियंका का अतीत चोर की बीवी क्यों भागी',\n",
              " '@imtariq07 😂😂 IPL ट्रॉफी का तो पता नही लेकिन ये बंदा WC2019 की ट्रॉफी जरूर लायेगा ❤️😍\\n\\nThe Virat Power 💪',\n",
              " 'RT @PandeAshesh: जमाना क्या सोचेगा\\n\\nये मत सोचो\\n\\nक्योंकि जमाना बहुत\\n\\nअजीब है\\n\\nनाकामयाब लोगों का ये\\n\\nमज़ाक उड़ता है\\n\\nऔर कामयाब लोगों से\\n\\nजलता…',\n",
              " 'ये शायद लोग भूल गए😂 https://t.co/ZniLNLlD3c',\n",
              " '@NituTiw81600052 मैं तो खाली मटन में मैदे की रोटी दो बार डूबकर खाता हो और चाय तो पिता ही नहीं 🤣🤣🤣🤣🤣',\n",
              " 'पप्पू है तो सब नामुमकिन है।\\n\\n#ModiHaiTohMumkinHai',\n",
              " 'फिर सबका ब्याह हो गया 😝😝',\n",
              " 'RT @_radha__: देखी आज चाँद को जब चुप लगा कर बैठे\\nबेबसी में उसकी कुछ एक आँसू मेरे बह गए',\n",
              " 'RT @Diva_Rizvi: नीच गंवार भक्तों की खुशी बता रही है फर्जी चौकीदार केवल चोर ही नही बल्कि कायर और डरपोक भी है\\n\\nजो एक सेना के जवान से मुकाबला…',\n",
              " 'RT @DesiStupides: @dhruv_rathee रवीश कुमार रॉक्स!\\n\\nकल रवीश कुमार का दमदार इंटरव्यू देखकर कुछ गोदी पत्तलकार बुरा लग गया।\\n\\nदिल्ली में बरनोल…',\n",
              " 'RT @FasterMK: तांगे में बंधा हुआ घोड़ा देखा है आपने ? उसकी आँखों पर साइड में पट्टी लगा दी जाती है ताकि उसको सामने सड़क के अलावा कुछ ना दिखे…',\n",
              " 'समझ गए .😊',\n",
              " 'RT @Nationalist_RSS: @ArvindKejriwal धब्बा with अब्बा https://t.co/ZZTU6NDbaf',\n",
              " '@laluprasadrjd जेल में मोबाइल एलाऊ है \\nलूटो लूटो खूब मजे लूटो \\nबेरोकटोक चलाओ मोबाइल',\n",
              " 'RT @akhileshsharma1: अब इस बयान के लिए चुनाव आयोग ने राहुल गांधी को नोटिस जारी कर दिया है। उनसे 48 घंटे के भीतर जवाब माँगा गया है। https://…',\n",
              " 'RT @KhannaPal: @dilipkpandey यह विडियो एक और बात की और इशारा करता है कि जहां वोटिंग होती है वहां सभी पार्टियों के एजेंट रहते हैं यह सब बिना…',\n",
              " 'RT @geeta_phogat: माँ तो माँ है, इनका दर्जा सर्वोच्च हैं ❤️ #happymothersday https://t.co/p8GgBVK0Vp',\n",
              " 'RT @SaintRampalJiM: दुर्गा ने अपने पुत्र ब्रह्मा जी को क्या कहा !\\n#GodMessage https://t.co/PNeg0gQQEE',\n",
              " 'RT @Suhana_Speaks: मुझे कोई हराने वाला पैदा नही हुआ, मैं ईश्वर का लिखा भी मिटा सकता हूँ  ~ @nirahua1 \\n\\nइतना तो \"एलबर्ट मोई जी\" भी फैकते बे…',\n",
              " 'RT @abpnewshindi: वोट डालने के बाद बोले @ArvindKejriwal - दिल्ली के विकास के लिए वोट करें, देश में नफरत फैलाने वाले के लिए नहीं\\n\\n#LokSabhaE…',\n",
              " 'गद्दारों की छाती पर चोट करके आया हूं\\n\\nराष्ट्रहित में वोट करके आया हूँ....🇮🇳😆\\nमैं भाजपा की ईमानदार सरकार को वोट करके आया हू https://t.co/aOni4GOiPB',\n",
              " 'RT @Banas_____1213: इश्क़ से उसको जो छू लूँ तो महक जाती है\\nबाहों में अपनी जो घेरुं तो #बहक जाती है\\n\\nवो उसका #जिस्म है जैसे कि आग का दरिया\\nअ…',\n",
              " 'RT @Shalusinghsp: जब से हुआ है देवर के हथ्यार ए चुदाई का दीदार 💋\\nतब से उसके नीचे आने को थी में बेकरार💋\\nजब लिया उसने आगोश में अपनी ओर खोली…',\n",
              " 'RT @anuraagmuskaan: कमाल है, अभी तक किसी ने यूएन द्वारा आतंकी मसूद अज़हर को ग्लोबल आतंकी घोषित किए जाने को आचार संहिता के उल्लंघन का मामला…',\n",
              " '\"अपने सभी कार्यों में सफल होने के लिए, संदेह को दूर करें और आत्मविश्वास विकसित करें\" \\n\\n~ बाबूजी. https://t.co/4pl1Cko9F2',\n",
              " '5odayja os main hota kiya hai',\n",
              " 'RT @kishankumar0791: अगर हिन्दू रीती रिवाज़ को नहीँ मानते हो तो ये जूठा स्वांग रचने की क्या जरूरत है श्रीमती जी?🤷 🤦 https://t.co/rkPZgHflRs',\n",
              " 'RT @CaDalmia: ये @smritiirani पति चोर ही नहीं fund चोर भी है, मध्य प्रदेश में भी घपला और गुजरात में भी https://t.co/9ganLQ9ldc',\n",
              " 'RT @gops333: जब नाश मनुज पर छाता है\\nपहले विवेक मर जाता है\\nफिर वो भाजपा जॉइन करता है\\n#EntireCloudCover',\n",
              " 'RT @immortalsoulIN: 🇮🇳भारत के लिए बड़ी कूटनीतिक जीत🇮🇳\\n\\nसंयुक्त राष्ट्र ने मसूद अजहर को वैश्विक आतंकी घोषित किया...!!!\\n\\nमोदी है तो मुमकिन है…',\n",
              " 'RT @Chanuangel143: किसी ने कहा अच्छे कर्म करो तो स्वर्ग मिलेगा\\nमै कहती हूँ माँ बाप की सेवा करो जमी पे ही स्वर्ग मिलेगा https://t.co/tAlVZFW…',\n",
              " '@ANINewsUP मायावती को बहुत बुरा लगा की मोदी जी ने बुआ कहा।  मायावती की माँ और बाप भी उनको बहनजी कहते है \\nक्या मोदी जी आप सबकी दुखती नस पहचान जाते है। \\n बहनजी  रात भर सो नहीं पाई और सुबह सुबह सबके सामने रो रही है की मोदी जी ने ये कहा वो कहा। रहम करो दलित बहन जी पर।',\n",
              " 'RT @iashwathama: एक बार बिहार वालों ने गलती से लालू को चुन लिया, उसके बाद बिहार सबसे पिछड़ा राज्य बना। ठीक वही गलती यूपी वालों ने माया-मुला…',\n",
              " '@rahatindori अपनी कहानी तुम्हें अच्छी नहीं लगी\\nबात करता था मोहब्बत की पर बदनामी अच्छी नहीं लगी',\n",
              " 'RT @SanjeevYadav_IN: सुबह सुबह भोजन में इतनी व्यस्त हैं कि मैंने गलती से पौधा उखाड़ दिया तो पौधा छोड़ा ही नहीं। फिर मैंने इनको उठाकर दीवार…',\n",
              " 'RT @shantilalthak11: राहुल क़ा \"बाप चोर है\" में वाकई दम था । \\n\\n4 दिन हो गये कांग्रेसी चमचों के मुँह से नही सुना\\n \"चौकीदार चोर है\"😂😂',\n",
              " 'RT @KapilMishra_IND: आतिशी का हर झूठ बेनक़ाब \\n\\n- किसी अखबार में कोई पर्चा नहीं आया\\n- हर बात झूठ निकली, रोना भी नकली\\n- गौतम गंभीर के ख़िलाफ़…',\n",
              " 'RT @VikrantShukla_: @DrKumarVishwas चोट करोगे कपूतों पर तो दर्द कहीं और से उठेगा \\n2014 से जनता के सामने वो सारे कपूत मुखर होकर आ गए लोकतंत्…',\n",
              " 'RT @Ajaiveer2: दुनिया में ऐसा चुनाव कभी कहीं नही हुआ होगा जिसमे न महंगाई न भरस्टाचार न विकास कोई मुद्दा नही है बल्कि विपक्षी राजनीतिक दल मौ…',\n",
              " 'RT @iMac_too: सही कहा, बहन जी @Mayawati । अब यह भी बता दो की किसकी सरकार से इस्तिफा दिया था और कौन प्रधानमंत्री था । https://t.co/0hjNjpZ1fW',\n",
              " '@_The_Daredevil @kamaalrkhan @KRKBoxOffice @msdhoni IPL पैसों के लिए हो रहा है, देश के लिए नही',\n",
              " '@Mayawati राजनीति मे बहनजी के नाम से मशहूर है आप आपने कितने दलित भाइयों को तोफे मे आपने ऐसा गिफ्ट दिया जिससे उनका कल्याण हो गया आप कहा थी आज कहा है इसका हिसाब दे',\n",
              " 'RT @anjuydv: जो देश के 42 #जवान शहीद करवा सकता हैं, उसके लिए अपनी कुर्सी के वास्ते #TejBahadur को “अयोग्य” ठहराना कोई बड़ी बात नही 🤔 https:…',\n",
              " '@ashutosh83B मोदी का #मजाक उड़ाने वाले उड़ाते रह गए और #मोदी #पीएम बनकर #करोड़ों का #दिल #उड़ा ले गए🤗😉\\n\\nतुम आज अपनी औकात देखो जलनखोर, चुल्लू भर पानी में डूब मरो😜',\n",
              " '@RubikaLiyaquat दरबारी पत्रकार है हमारी बहन पहले ऐसी नही थी \\n😆😆',\n",
              " '@SrBachchan ❤️❤️❤️नीचे तुम्हारी आंटी बहुत से अंकल को लेकर आयी है❤️❤️❤️',\n",
              " 'RT @mlkhattar: दिव्यांगजनों ने चुनाव में बढ़-चढ़कर हिस्सा लेकर अपनी भागीदारी सुनिश्चित की और दिखा दिया कि वो भी किसी से पीछे नहीं।\\nपुलिसकर्…',\n",
              " '@singharti411 @5624114 पहले हिन्दी तो लिखना सीख ले ढंग से 🙄🙄',\n",
              " 'RT @KamleshDassi1: #BlackSpotOnJudiciary\\nइस भ्रष्ट सरकार ने मीडिया से मिलकर एक बार भी नहीं सोचा कि 2014 मैं 18 नवंबर को जो बरवाला कांड करवा…',\n",
              " '@Amitshah \\nकमाल है ये वर्तमान\\n#भारत_सरकार\\nजनता छाती पीट-पीटकर दिनरात इनसे \\n#भ्रष्टाचार\\nके स्यापे कर रही है और ये क्या कह रहे है⁉\\nयानि जनता की औकात बतारहेहैं⁉\\nरोतीरहे/पिटतीरहे जनता..‼ये अति पॉवरफुल सत्ताधारी  खुद को\\n#गरीब\\n#दलित\\n#पिछडा ...बता बताकर सिंपैथी गेन गेम में लगे हुए है',\n",
              " '@Aabhas24 आप जितना भी समझा लो कंबल चोर जोशी नहीं समझेगा। उसका आईक्यू राहुल गांधी से भी ऊपर है।',\n",
              " 'RT @VishalGaur1111: हजारो लोग मरे, मीडिया ने नहीं दिखाया 🤔\\nकिसी को कानो-कान खबर नही हुई और फिर भी मोदीजी को पता चल गया?पर कैसे?\\nसर आप इतना…',\n",
              " '@ANI यह जिंदा है अभी ?????',\n",
              " 'RT @RishiPrasadOrg: ईश्वर किसीको प्राप्त नहीं होता, ब्रह्म किसीको प्राप्त नहीं होता बल्कि प्राप्त हुआ-सा लगता है।वह भी किसको? जिसको नहीं मि…',\n",
              " 'Dear Rahul #MasoodAzhar Gandhi\\n@RahulGandhi https://t.co/ao7R3OsPo1',\n",
              " '*\\n\\n\"Barra Ghazab\\nKa Nazara Hai Is \\nDuniya Ka,__!\\n:\\nLog Sub Kuchh \\nJama Karnay Mein \\nLagay Hain Khaali \\nHaath Jaanay Ke \\nLiye,__!!\\n#0316-6...',\n",
              " 'RT @Neeraj_chopra1: @realshooterdadi राम राम दादी जी 🙏भगवान आपको जल्दी ठीक करे ओर आप अपने जोश ओर जुनून से सभी को प्रेरित करती रहें 🙏💪',\n",
              " 'RT @keshavyadaviyc: हर गरीब ,किसान ,युवा,मजदूर और महिलाओं की आवाज सिर्फ कांग्रेस पार्टी है। कांग्रेस पार्टी की विचारधारा से ही देश का विकास…',\n",
              " 'RT @msisodia: मोदीवाद को राष्ट्रवाद बताने वालों से मैं पूछना चाहता हूँ- \\n- क्या बिना मजबूत शिक्षा व्यवस्था के कोई राष्ट्र मजबूत हो सकता है?…',\n",
              " 'RT @Rocking_Naina: अर्ज़ किया है.....😎\\n\\nइतना फेंकता है कि आराम नहीं करता,\\n\\nसुना है बादलों में रडार काम नहीं करता..!\\n                 😂😂😂',\n",
              " 'RT @MKS1703: इस बन्दे ने साबित कर दिया कि इंसानियत से बड़ा कोई धर्म नही होता और हमारे देश के तथाकथित धर्म के ठेकेदार हिंदुस्तान की इस इंसा…',\n",
              " 'RT @SanjeevSanskrit: शतहस्त समाहर सहस्त्रहस्त संकिर। (अथर्ववेद ३.२४.५)\\n\\nहजार हाथों से कमाओ व सैंकड़ों हाथों से दान करो.',\n",
              " 'RT @ImAnkitadave: फूल चाहे कितनी भी ऊँची\\nटहनी पर लग जाये,\\n        लेकिन...\\nमिट्टी से जुड़ा रहता है\\nतभी खिलता है.….!! https://t.co/LJnkF7GEmw',\n",
              " 'RT @anandagarwal554: घड़ी का बटन दबाया पर वोट भाजपा को गया:शरद पवार\\nसतारा सीट भाजपा नहीं शिवसेना लड़ी है फिर भी एक बार ज़हर खाकर देख ले.',\n",
              " 'RT @92mhq6QNslesNLP: मैं :--  हैप्पी मदर्स-डे मम्मी ❤ \\n\\nमम्मी :-- हाँ वो सब तो ठीक है , \\n\\nफ्रिज में पानी भर दे पहले 😣\\n\\n#HappyMothersDay',\n",
              " '@BBCHindi अब जनता भेज रही है बादलों में',\n",
              " '@OddNaari @aajtak रंजन भटका क्वालिफिकेशन नही के बराबर, फिर भी दोबारा मिल गया चान्स एलआयसी की एजंट बादमे काँर्पोरेटरको !क्या खूबी है? क्या रुबाब है?',\n",
              " 'इसी लिए इनकी सेवा से डर लगता है यह पागलपन है',\n",
              " 'RT @seematri6: @LambaAlka अरे गंवार, अनपढ़ तुम्हे इतना भी नहीं पता कि जवान होने से पहले ही उन्होने घर परिवार छोड़ दिया था। रही राजनीति की…',\n",
              " '@smitaprakash ये बंगाल मे सबसे ज्यादा वोटिंग कैसे हों जाती है यार🤔🤔🤔',\n",
              " 'RT @manojkjhadu: बेशर्म बड़बोलेपन की कोई हद नहीं...उड़ी, पठानकोट और पुलवामा के बाद भी मान्यवर @narendramodi ji अयोध्या में कहते हैं 2014 के…',\n",
              " 'RT @1SAFFRONGIRL: सरकारें आती जाती रहेगीं\\n    मुझे  ये बतायो की  हैनडसम लडके \\n       किस पोलिग बूथ पर दे😏😏\\n\\n    बूथ का पता बता दो 😍🙈…',\n",
              " 'RT @prem_pandey05: लोग कहते हैं इतना ज्ञान कहा से लाते हो..\\n\\nमैंने कहा हम कॉलेज के पीछे बैठा करते थे क्लास में नहीं... 😆😝😂😉',\n",
              " 'RT @Deepa1804: #AsianCup2019 \\n#हिंदुओं_के_साथ_छलावा हिंदू धर्म गुरुओं ने अपने ग्रंथों को ना समझ कर जनता को लोक दंतकथा के आधार पर ब्रह्मा,वि…',\n",
              " '@Yogita_singh11 नकली गाँधियों की तरह अपने बाप के नाम पर जीने वाले सिर्फ कुत्ते होते हैं, और कुत्तों को भोंकने के अलावा कोई काम नहीं होता। \\n\\nराजस्थानी के नाम पर कलंक, गद्दारों के जूते चाटने वाले वही राजस्थानी हैं जिन्होंने मुगलों का साथ देकर अपने ही भाइयों को मरवाया था।',\n",
              " \"RT @BoltaHindustan: 'आयुष्मान योजना' की तारीफ कर रही थी सुमित्रा महाजन, भड़क उठे डॉक्टर, बोले- इस योजना ने हमें बर्बाद कर दिया\\n\\n#SumitraMah…\",\n",
              " 'साल में सिर्फ पांच घंटे ही खुलता है ये मंदिर,एक साथ दी जाती है हजारों बकरो की बलि\\nhttps://t.co/sQXweSwkXh\\nvia Dailyhunt\\n\\nडाउनलोड करें:\\nhttps://t.co/QdScFADMW6',\n",
              " '@GireeshSikarwar जी पूरी कोशिश करता हूं भ्रष्टाचार उजागर करने का',\n",
              " 'RT @Aman_Yadav0912: @DesiStupides चुनाव आयोग नही,\\nचमचा आयोग।',\n",
              " 'RT @RamSinghJadon6: ब्रेकिंग न्यूज \\n\\xa0\\nकाशी विश्वनाथ मंदिर से गंगा नदी तक सड़क की चौड़ाई बढ़ाने के लिए मोदी जी ने सड़क में आने वाले 80 मुसल…',\n",
              " 'छुटकी दीदी जरूरी नहीं कि अगर मायके से छुट्टियों में आने के लिए फोन ना आए, तो आप आने का कोई प्लान बनाएं ही ना। बोलिए कब की टिकट बनाई है अपनी?\" भाभी ने फोन पर कहा।\\nhttps://t.co/0pPd5E9rTT',\n",
              " '@News18India @sambitswaraj @sherryontopp @BJP4India @INCIndia यह सरदार पागल हो गया है',\n",
              " \"RT @NavbharatTimes: भ्रष्टाचार हो, महंगाई हो या 1984 में हजारों सिखों का कत्ल हुआ हो इनका जवाब यही होता है- 'हुआ तो हुआ'। जिस अहंकार में ये…\",\n",
              " 'RT @vishu_hindu: @ArvindKejriwal B S F में इस समय188 बटालियन है जिसमें केवल तेज बहादुर को खाना खराब लगा😁भैय्या फौज में सेवा करने गये थे की…',\n",
              " 'RT @kalpeshjsolanki: गुजरात दलितों के लिए बना नर्क \\n\\nलगातार चौथे दिन घोडी चढने के मामले में दलितों पर जुल्म-अत्याचार। \\nअभी ईस वक्त गुजरात…',\n",
              " 'RT @RoflNana_: सुबह का भूला अगर शाम को घर लौटकर आये तो उसे भूला नहीं कहते..🤗🤗😁😂😂 https://t.co/CiMOcgaTu6',\n",
              " 'बंजर नहीं हूँ मैं \\nएेहसास नेह का बाकी है \\nमंजर नहीं हूँ झूँठा \\nविश्वास नेह का बाकी है \\nयाद नहीं आती तेरी ममता\\nये झूँठी शां बाकी है\\nयूँ तो बिछुड़े अरसा हुआ\\nमगर मुझमें माँ बाकी है\\n\\nनींद न आती थी... https://t.co/njvHumZiXS',\n",
              " 'RT @KapilMishra_IND: AAP ने तीन राज्यसभा बेची एक भी दलित को नहीं भेजा\\n\\nएकमात्र दलित मंत्री राजेन्द्र गौतम के सारे विभाग छीन लिए\\n\\nपार्टी की…',\n",
              " 'RT @AnilMis93178388: @yadavdimples @RahulGandhi मतलब विपक्ष के नेता 5 साल से नहाए भी नही है, एक ही ड्रेस पहने घूम रहे है',\n",
              " 'RT @Mohamma58796854: @I_am_Anil_Tyagi @MaheshP13388352 टाइम मैगज़ीन के विरोध में भक्तो की इतनी सुलगी हुई हे\\n\\n की कोई अगर टाइम भी पूछता हे…',\n",
              " 'RT @Anand_1226: कुछ दर्द ऐसे होते हैं,\\nजिन्हें सिर्फ सह सकते हैं...\\nकिसी से कह नहीं सकते..!!\\n#dil_ki_bat',\n",
              " 'केजरीवाल के खिलाफ, नरेंद्र मोदीजी को वोट',\n",
              " 'इस बार सोनिया जामा मस्जिद नहीं गई \\n\\nन कोई पार्टी वाले इफ्तार पार्टी दे रहे है \\nहिन्दू जागा, शैतान भागा\\n#VotingRound6 #loksabhaelections2019 #AbkiBaarKiskiSarkar #DelhiVotes #Ramzan',\n",
              " 'RT @tanisharma77: दोस्तों इंसानियत के नाते इतना रिट्वीट दें कि कल शाम तक हरेक न्यूज़ चैनल में आना चाहिए। कोई भी न्यूज़ चैनल ये वीडियो नही…',\n",
              " 'ओला-फ्लिपकार्ट आने वाला है भारत में जानिए इसके बारे\\xa0में https://t.co/qoKo3Md0n6 https://t.co/qnmSMau44O',\n",
              " 'RT @JavedAlamPES6: अब अगर एयर स्ट्राइक करनी हुई तो #बारिश के चार महीनों में ही हो सकती है ताकि जहाज़ #बादलों में छुप कर जा सकें !! \\n\\nअब सी…',\n",
              " 'RT @nstomar: आपके और देश के विश्वास ने महामिलावट करने वालों की नींद उड़ा दी है। अब जनता ने इनके सारे सपनों को चूर-चूर कर दिया है |\\n- प्रधान…',\n",
              " 'RT @akhileshsharma1: चुनाव जीतने के लिए ख़ैरात बाँटने के वादे करना आसान है मगर पूरा करने में दम निकल जाता है। छत्तीसगढ़ सरकार 10400 करोड़ ₹…',\n",
              " 'RT @Amitjanhit: समझ में नहीं आ रहा कि देश में चुनाव हो ही क्यों रहा है.... \\nसभी संस्थाएं, सारी एजेंसियां तो मोदी जी के पास है ही, वह अपने आ…',\n",
              " '@ANI प्रियंका भी कह रही है 23मई bjp गई तो क्या वो भी bjp के फिर सत्ता में लौटने पर विजय चौक पर फाँसी लगा लेगी',\n",
              " 'नोटबन्दी के बारे में भी बोलो कैसे सुझाऊ आया',\n",
              " '@BaghiKumar अन्य पत्रकारों को भक्त कहने वाले महान पत्रकार ने राहुल से नेशनल हेरल्ड पर एक भी सवाल नहीं किया । इससे बड़ा सबूत और क्या चाहिए की यह इस ख़ानदान का ही चमचा है',\n",
              " 'RT @JBMIS: प्रियंका गांधी दूसरे मासूम बच्चों से कहलवा रही है \"\"चौकीदार चोर है\"\" \\nकिन्तु अपने बच्चों को कब बताएगी कि \"तुम्हारा बाप चोर है\"',\n",
              " 'भारत के लिए बड़ी कूटनीतिक जीत. मसूद अज़हर को UNSC ने अन्तर्राष्ट्रीय आतंकवादी घोषित किया.',\n",
              " 'RT @Jiten384444: गर्मीयो में चुनाव एसे जी नहि होते उसका कारण आज पता लगा मुझे 😂 https://t.co/sn6sgtjFlY',\n",
              " '@TimesNow @sambitswaraj ये पालतू कुत्ता @sambitswaraj  झूठ बोल रहा है \\nराहुल गांधी ने ऐसा कोई ट्वीट नहीं किया। या तो साबित करे नहीं तो पात्रा दो बाप का। @Fekoslovakian @ModiLeDubega @Nehr_who',\n",
              " '@Velvetyvirgo ऐसा तो नही लगता',\n",
              " 'RT @JRathi3: #Allah_Kabir\\nगंगा काठे घर करे,पिवे निर्मल नीर।\\nमुक्ति नहीं हरि नाम बिन,ये कह रहे साहेब कबीर।।\\n\\nअसली साधु वह होते है जो शास्त्…',\n",
              " '@BJP4India @AmitShah कांग्रेस वंशवादी पार्टी  70 सालों से देश के संसाधनों की लूट करके अपने ऐशों आराम के लिए ही इस्तेमाल कर रही है और अपने चमचों को देश के तूकडे-तूकडे कर देश की बोटि या खिला रही है।\\nजब कोई देश के लिए जी-जान लगाने की बात करता है, तो कुछ भ्रष्टाचारी, लोभी लोमड़ियो को डर लगने लगता है।',\n",
              " '@MonaAmbegaonkar @sanjukta @RahulGandhi नया नारा\\n\\n\"आखरी साल केजरीवाल\" 😊\\n😂😂\\n#केजरीवाल 🤦\\u200d♂',\n",
              " '@DrKumarVishwas आप आस्तीन के सांप हो। कुर्सी मिली नही तो बागी हो गए। शम॔ करो अवसरबादी। आप अलग पार्टी क्यों नही बना लेते? पार्टी का नाम बाप।',\n",
              " 'RT @imbhojpuria: नरेंदर मोदी मैदान में \\nफुहर गीतन के सम्मान में',\n",
              " 'RT @BJP4India: केजरीवाल ने कसम खाई थी की शीला दीक्षित के समय में जितना भ्रष्टाचार हुआ हम उनको जेल भेजेंगे।\\n\\nकेजरीवाल जी क्या हुआ, कितने केस…',\n",
              " 'RT @Tiya_loveme: कभी नहीं टूटता वो रिश्ता..\\nजहां निभाने की चाहत दोनो तरफ़ से हो.\\n#thoughts',\n",
              " 'RT @Sunilsh32640883: @RahulGandhi मोदी जी को धमाका को ही चुनावी मुद्दा बनाते हैं पुलवामा पर वोट मांग चुके हैं अब गढ़चिरोली धमाका पर वोट मां…',\n",
              " 'RT @Ambedkarcarvan: धो लेते हैं हैंडपम्प चला कर  \\nमज़दूर कभी टोंटी नहीं चुराते ! https://t.co/ipA6Xh3WIE',\n",
              " 'भगवान श्रीरामचन्द्र जी कहते हैं-\\n\\nजननी जन्मभूमिश्च स्वर्गादपि गरीयसी।\\n\\nअर्थात् माता तथा मातृभूमि की गरिमा स्वर्ग से भी बड़ी है।\\n\\nमातृशक्ति की महिमा अपार है।\\xa0\\n\\n#HappyMothersDay',\n",
              " 'RT @shayarixdotcom: @BhargavaNikumbh @vinodkapri किसी लड़की से जाकर कहना कि “तुम्हारा रेप होना चाहिए” ये आप को सही लगता है.. इसका विरोध कर…',\n",
              " 'RT @BJP4Rajasthan: \"मसूद अजहर को संयुक्त राष्ट्र द्वारा आतंकवादी घोषित करने पर आखिरकार विश्व में सहमति बनी यह संतोष का विषय है। देर आये दु…',\n",
              " 'RT @Amitjanhit: @ArvindKejriwal यह पहली बार वोट देने जा रही है और इसे लगता है कि केंद्र में बदलाव जरूरी है..\\n\\n दिल्ली के युवा जो पहली बार…',\n",
              " 'जो देश हित की बात करेगा वहीं दिल्ली पर राज करेगा',\n",
              " '@krishnanandt65 @AmitShah @Cawnporiah_ @shivkmishr @BJP4India @RangnathINDIA अगले ने साफ़ साफ़ कहा कि अगर एक भी बिंद को मारोगे तो...मुझे तो लग रहा जैसे ये अपने बिंद समाज का चु*या काट रहा उस भाषण में वैसे कुछ तथाकथित ब्राह्मण समाज के ठेकेदार ब्राह्मणों का काटना चाह रहे। और जिताएं किस ब्राह्मण को जिसकी पार्टी के कट्टर समर्थक भगवान को खुले आम गाली देते है???',\n",
              " '@BBCHindi आज मोदी ने कोंग्रेस नेताओ के बयानो को ले कर रो रो कर वोट मांग रहा हैं। तो भाईओ बेहनो मोदी को ही वोट करना । नही तो मोदी रो रो कर मर जायेंगा। रंगीलाबाज, नैटंकीबाज, जुठे भाषणबाज माहीर, चोर चोकीदारबाज मोदी को ही वोट करना वनाँ मोदी रो रो कर मर जायेंगा। में मोदी वोट लुटबाज के साथ हुं।',\n",
              " \"@DrKumarVishwas वध तो एकबार फिर झांसी के धोखे बाज़ दुल्हाजू' का होना है कुपोषित केकड़े देखते रहना। केजरी फिर एक बार सही साबित होगा और तू अमेठी की तरह फिर सुजा कर जाएगा भांड।\",\n",
              " 'RT @Sonam_Mumbaikar: तेरे इश्क़ में हद से गुजर जाऊं\\n\\nमैं झूठ कहूं तो, मर जाऊं...😍\\n\\n@Sonam_Mumbaikar',\n",
              " 'RT @DrShakirjalgaon: @CPJ_Official नबी(स०अ०व०) ने फरमाया...\\nमज़दूर की मज़दूरी उसका पसीना सूखने से पहले अदा करो...',\n",
              " 'RT @kirantikari0: #Thank_you_nehru \\nसुना है कल भटकते भटकते चचा की आत्मा चाइना पहुंच गयी और जमकर गरियाया तब जाकर कहीं चाइना को आत्मबोध हुआ औ…',\n",
              " '@Jitendr14272284 अबे सूअर जब गद्दार मेवानी और टुकड़े गैंग के साथ तुम क्या गा..  मरवा रहे थे',\n",
              " 'सब कुछ मिल जाए तो \\n     तमन्ना किसकी  करोगे 🥀\\nअधूरी ख्वाहिशें ही तो\\n     जीने  का मज़ा देती हैं',\n",
              " 'RT @nadeemNBT: सुल्तानपुर को लेकर कहा जा रहा है कि वहां एक जाति विशेष के लोगों ने यह कहते हुए वोटिंग की कि अच्छा अब हमसे जूते का फीता  खुल…',\n",
              " 'RT @iam_manojgoenka: पाक मे क्या चल रहा है\\n\\n@TajinderBagga की t shirt का खौफ चल रहा है 😂😂 https://t.co/h0AfsdhmXy',\n",
              " 'RT @gchordia57: हिन्दुस्तान का ग़रीब पिछड़ा वो हैं जिसके पास रहने को घर नहीं चलने के लिए कार नहीं पहनें के लिए गहने नहीं वो चाहे हिन्दू मु…',\n",
              " 'RT @guptaravinder71: सुनो जरा\\nवेस्ट दिल्ली लोकसभा की टिकट 6 करोड में @ArvindKejriwal ने बेची \\nऎसा मेरा नही  @AamAadmiParty के उम्मीदवार बल…',\n",
              " 'RT @Sonameverma: अर्ज किया है...\\n\\nपप्पू अकेले ही चला था,दिमाग की दही जमाने..\\nचमचे मिलते गए और रायता फैलता गया..!😜😂\\n#SV',\n",
              " 'RT @aqilkhan236: फना कर दो अपनी सारी जिन्दगी अपनी माँ के कदमो में दोस्तों, दुनिया में यही एक मोहब्बत है जिस में बेवफाई नही मिलती।😘😘😘\\n#Mothe…',\n",
              " 'RT @Monika84686419: पता नहीं मुझे क्यू ऐसा लग रहा है 🙄 \\nयहां पर मेरे बारे में मेरे पीठ पीछे बातें करते हैं \\nपर यह भी सोच रही हूं 🤔🤔\\n.\\n.\\n.\\n.…',\n",
              " 'देश की जनता किसी को  नहीं बख्शेगी जो गलती करेगा उसको सुनना और सहना भी बढ़ेगा',\n",
              " 'RT @GaonConnection: \"मेरी बेटी बचपन से ही चल फिर नहीं सकती।धीरे-धीरे जब वह बड़ी होने लगी तब उसे कंधे पर उठा कर खेतों में ले जाना मेरे लिए…',\n",
              " 'RT @rjdevenderkumar: यह पहली बार वोट देने जा रही है और इन्हें लगता है कि केंद्र में बदलाव जरूरी है..\\n\\n दिल्ली के युवा जो पहली बार वोट दे र…',\n",
              " 'RT @uN5hUMittal: @Meenakshi7771 बताओ चमचो को कोई और काम ही नही है। मोदी जी के कपड़े गिनने के सिवा। ।\\n\\nलगे रहो ऐसे ही।।',\n",
              " 'RT @1995KUMARVIJAY: आतंकी मसूद अज़हर के दिन अब लद ही गए। ग्लोबल आतंकी घोषित करने के प्रस्ताव को लेकर चीन ने अड़ंगा डालने वाला रुख़ बदला। क…',\n",
              " '@rakeshupbjp @SheilaDikshit @ArvindKejriwal जी भईया',\n",
              " 'RT @being_mitthi_: ये दुनिया मेरे जज्बात कहां समझ पायी\\nएक तू है जो बिन कहे मेरी खामोशी पहचान पायी\\n\\nबिखरी मोती कि तरह जब जब गले लगा कर समेटा…',\n",
              " 'RT @unpacking_memo: ना जाने कब तक चलेगा\\nये जुदाई का दौर\\nऐ खुदा ज़रा ये तो बता\\nमेरी खता क्या थी।!',\n",
              " 'RT @aajtak: मायावती ने कहा है कि नरेंद्र मोदी इस घृणित कांड की आड़ में घृणित राजनीति न करें\\n\\nhttps://t.co/xnFWLDUjHu',\n",
              " 'RT @pakau_ji: @ajitanjum @I_Am_Narendra_ @nirahua1 गर्त का अंत नहीं आया हार देख कहाँ तक गिरेगा ये नालायक़, एक सड़कछाप ने पूरे देश को शर्मिं…',\n",
              " 'RT @DhananjayPraj15: @MendheNarendra @siddhpal हिंदू साधु संतों को बदनाम करने की पुरजोर साजिश चल रही है क्योंकि भारत में कई करोड़ जनता हिं…',\n",
              " 'कोई बताएगा फिल्मों में इस्तेमाल होने वाले तकिए (pillow) कहाँ मिलते हैं ? जिससे लड़ते लड़ते hero heroine उसके परखच्चे उड़ा देते है ?\\nएक हमारे घर का तकिया है , आज मम्मी ने फेंकर मारा तो मैं दो मिन्ट के लिए कोमा में चली गयी थी 😂😂😂😆😆😆',\n",
              " 'RT @nityanandraibjp: भारत के गुनहगार आतंकी मसूद अजहर को संयुक्त राष्ट्र संघ ने अंतरराष्ट्रीय आतंकी घोषित किया है। भारत के लिहाज से यह एक ब…',\n",
              " 'RT @YuktaSingh: ममता बनर्जी की बौखलाहट ही उन्हे सत्ता से उखाड़ फेंकेगी? ये जनता है इसकी जुल्म सहने की सीमा पार हो चुकी है...बहुत हो गई ताना…',\n",
              " \"RT @ManeeshMAgarwal: @kapsology इस 'आस्तीन के सांप' ने ट्वीट डिलीट कर दिया?\",\n",
              " 'RT @ajitakki: @bhak_sala @Aeykaash ये इसका कुढ़ है जो इसके दिमाग से कभी खतम नही होगा। कैसे कोई इतनी नफ़रत कर सकता है। इसके मन में तो सिर्फ…',\n",
              " 'RT @_radha__: लापता हूँ कब से मैं अपनी ही दुनियां से\\nकिसे कहूँ की पहुँचा दे मुझे मेरी दुनियां में\\nसभी है गुमशुदा यहाँ सभी है लापता\\nआसां है…',\n",
              " 'RT @dear_sangeeta: प्यार का गला गोंट रही हूँ \\nसाला मरता ही नहीं',\n",
              " 'RT @bhaiyyajispeaks: @sengarlive हर हर महादेव।',\n",
              " 'RT @AB_BJP: श्री @RahulGandhi और @sherryontopp के लिए संस्कृत का एक दोहा याद आ रहा है\\n👇\\n\\nउष्ट्राणां च विवाहेषु गीतं गायन्ति गर्दभा:।\\nपरस्प…',\n",
              " 'वाक़ई संविधान न होता तो आप भैंसिया लगा रहे होते',\n",
              " 'RT @kavmayor: केजरी को घूसा \\nCONGress aka आतंकवादियो का टेंटुआ दबा के आयी हू\\n\\nहाँ, मै कमल खिला के आयी हूँ https://t.co/TKPJd6kKzQ',\n",
              " 'RT @SantoshDasi3: @SatlokChannel @VisheshDas11 @SaintRampalJiM जब भी इस धरती पर संकट आया है कबीर परमात्मा ने आकर बचाया है और अब हर बुराई से…',\n",
              " 'RT @ThePriyalSingh: हमें तो जो भी कहना या पूछना होता है सामने से कह व पूछ लेते..सराह और क्यूरियस कैट जैसे एप्प की जरूरत ही न पड़ती 😃',\n",
              " '@suman9990895651 सुनो सड़क से चलते हैं दुश्मन को लगेगा बस आ रही है और रडार से भी बच जायेंगे 😂😂😂😂😂😂😂 https://t.co/BQXotYKrTn',\n",
              " 'RT @AbhayCh96427904: हंसी खुशी प्रेस कॉन्फ्रेंस चल रही थी अचानक बीच मे खबर मिली कि मशुद अज़हर को UN ने ग्लोबल आतंकी घोषित कर दिया 😂😂 https:…',\n",
              " 'RT @rahul_advo: एकरा के त टोटी जादो देखि के बौरा जइहें,दादा ई त भक्तन के भी भगत बा,मने निरहू के।\\nफिर काहे न कहे निरहुवा \\nटोटी बबुवा रोवा य…',\n",
              " 'RT @BJP4India: इन महामिलावटी लोगों द्वारा की जा रही साजिशों के बीच बीते 5 वर्ष से देश के हर वर्ग, हर क्षेत्र के विकास के लिए हमने जी जान से…',\n",
              " 'सवर्णो मोदी जी को देश के लिए जिता दिया गया। क्योकि देश है तो हम है। अब अपने हक़ की लड़ाई लड़नी है। कोई नही तो सुप्रीम कोर्ट है ना।',\n",
              " 'RT @indiantweeter: कांग्रेस की हवा चल रही है ज़ोर से 😂😂😂 https://t.co/gxDFiLYfxJ',\n",
              " 'RT @Jiten384444: राष्ट्र के लिए एक वोट डाल कर आया हु 🙏 https://t.co/NjC1KWMl9X',\n",
              " '@sardanarohit गढ़चिरौली के शहीदों की शहादत पर आपका खून क्यों नही खोल रहा!!!\\n\\nआपकी आतंकवाद के प्रति लड़ाई फ़र्ज़ी है\\nकोई DP ब्लैक नही, कोई मोमबत्ती गैंग नही\\nसड़कों पर कोई नारेबाजी जुलूस नही क्यों????\\n\\nआखिर क्यों????\\n\\nकुछ मिस है, फील नही आ रहा, \\n\\nक्या मिसिंग है वो????????',\n",
              " 'RT @Suhana_Speaks: सनी देओल चुनाव प्रचार में हैंडपंप लेकर घूम रहा है, क्योंकि वो इसने उखाड़ा था.।\\n\\nऔर शकीना के चक्कर मे पाकिस्तान ज़िंदाबाद…',\n",
              " 'https://t.co/2L9TfHl2f5\\nInko हमारे देश मे दोगले लोग सेक्युलर कहते है..... या to ye दोगले लोग अंधे है या तैमूर के नाज़ायज़ औलाद है जिनका naam हिन्दू है... और मौका पाते ही खतना कराने को तैयार है https://t.co/2L9TfHl2f5',\n",
              " '@UpendraRLSP अरे धृतराष्ट्र गोली मारने वालों का समर्थन करते हों और और गाली नीतीश को देते हो, तुम जैसे लोगों के कारण ही बिहार बदनाम है।',\n",
              " '@AmarUjalaNews @ghulamnazad @narendramodi @BJP4India @INCIndia अरे भोंसड़ी के पाकिस्तानी तेरे से तो बढ़िया है बे हारम के बीज सुअर का जना तु और सारे कॉंग्रसी साला हर सेकेंड अपनी नस्ल बदलते हो\\nदोगले साला देशद्रोही',\n",
              " '@aajtak राहुल के जन्म के लिए, हास्पिटल का सबूत दिखाकर किसे गुमराह कर रहे हो चमचों?\\nमुद्दा तो यह है कि ब्रिटेन में दाखिल रिटर्न्स में उसने अपनी नागरिकता भारतीय क्यों नहीं लिखी?\\n@RanjanGogoiCJI @rashtrapatibhvn @ECISVEEP @rajnathsingh @AmitShah @PMOIndia @SushmaSwaraj @arunjaitley',\n",
              " '@ansarraza16 चचा तुम्हारी यह अंगुली फेल हो गयी',\n",
              " 'RT @Npsanu: कर्मों से डरिये ईश्वर से नहीं... \\nईश्वर माफ कर देता हैं कर्म नहीं ।\\n\\nअटल सत्य है कि जैसे बछड़ा सौ गायों में अपनी मां को ढूंढ ले…',\n",
              " 'RT @AacharyaSahiiL: नंवबर 2018 में अमेरिका ने देशों को 6 माह का अल्टीमेटम दिया था वह ईरान से तेल आयात को जीरो करे\\nहालांकि भारत समेत 8 देशों…',\n",
              " 'कोई पत्थर से न मारो दिवाने पप्पू को, \\nमंदबुद्धि है बेचारा,                        \\n   नहीं जानता देश राजनीती को \\nसुप्रीम कोर्ट पहले ही पीट रहा',\n",
              " 'RT @Prakash12Joshi: राष्ट्र हित में मेरा वोट @GautamGambhir जी को। @RahulGandhi  के \\n72000 की जरूयत नही किसी भी राष्ट्र प्रेमी को।\\nमोदी जी…',\n",
              " 'गर्मी में हमेशा सिर ढककर  बाहर निकलें व धानी और सतु का प्रयोग करें  बहुत लाभदायक है। #SummerHealthTipsByBapuji https://t.co/quVPaN8r0M',\n",
              " 'RT @PRAN_JAL_80: #DeshModiKeSaath #AvengersEndame \\n#वेद_मेरा_भेद_है\\nकबीर परमात्मा कवियों की भूमिका करके अपना तत्वज्ञान प्रदान करता है उसकी…',\n",
              " 'RT @IPSinghSp: यूपी सरकार में माल बनाने में no-1 मंत्री है मौर्या जी इनका ध्यान सिर्फ पैसे और उड़न खटोला पर रहता है।भाजपा को इन लोगों ने क…',\n",
              " 'RT @RJDforIndia: वह शक़्स जो हर बिहारी की जान है पर जिनसे हर विरोधी हैरान, परेशान, हलकान है ऐसे जननेता तेजस्वी यादव जी का कल, 13.05.2019 का…',\n",
              " '@vinodkapri बहुत सही जवाब दिया है आपने, जहाँ चौकीदार लिखा देखो वहां बहस ही ना करो',\n",
              " 'RT @TV9Bharatvarsh: Video: जब लंबी-लंबी फेंकने लगे निरहुआ, दंग रह गए जर्नलिस्\\u200dट्स. #AzamGarh #Nirahua\\n#LokSabhaElections2019 https://t.co/8…',\n",
              " 'RT @BharatAbhyuthan: दिग्विजय सिंह ने वोट माँगने के लालच में आज अपना वोट नहीं डाला।\\n\\nये है इनकी राष्ट्रभक्ति #VotingRound6',\n",
              " 'OMG: इस तकनीक की मदद से अब दीवारें बनानी, केवल फिट करनी होंगी https://t.co/TwviV3CbV8 Top News',\n",
              " 'RT @SourabhBhatt15: फिलींग आ रही है इसबार दिल्ली में कुछ गजब हो रहा है 😍',\n",
              " 'जुबां पे बात है लेकिन सुनाना ही नहीं आता।\\nहमें तुमसे मोहब्बत है जताना भी नहीं आता।',\n",
              " 'RT @INCIndia: ये दुःखद है कि मोदी जी राष्ट्रीय सुरक्षा के मामले में शहीदों के नाम पर वोट मांगने के अलावा कुछ नहीं कर रहे। ये देश लगातार शहा…',\n",
              " 'RT @SabeenaTamang: जो इंसान एक समर्थक को सरेआम थप्पड़ मारकर अपमानित कर सकता है, अपने बेकाबू गुस्से का शिकार बनाकर सियासत को बेइज्जत कर सकता…',\n",
              " 'RT @BJP4Gujarat: जब पंडित नेहरू प्रधानमंत्री थे तो वो एक बार कुंभ मेले में आये थे।\\n\\nतब अव्यवस्था के कारण कुंभ में भगदड़ मच गई थी, हजारों लो…',\n",
              " 'RT @RameshC76078903: @paglu_nehu ट्वीटर न तो कोई मैट्रीमोनियल वेबसाइट है और न ही exclusively सींगलों की ।\\nएक सोसल मेडिया है जहां हर कोई अरे…',\n",
              " 'RT @sunil_salun: @sanjayeindoria ये हरामी तो तवायफ से भी गया गुजरा है..  \\nपप्पू मुत्र पीनेवाला...',\n",
              " 'थोड़ा साइड देना भी!\\n\\nBJP जा रही हैं!\\n\\n #EntireCloudCover https://t.co/31RsSnyTZg',\n",
              " 'RT @SeemaIn10347627: #SpiritualSundayAtDSS\\n@DeraSachaSauda\\n\\nइंसान जब सत्संग में आता है तो उसके बुरे कर्म ख़त्म होते चले जाते हैं और नेक व भ…',\n",
              " '@ANI मैं क्या बोलता हूं चाचा, रावलपिंडी में रजिस्टर करेगा तो तीसरा निकाह भी हो जाएगा, साथ में थरूर जी को भी लेकर जाएगा तो बहुत पुण्य मिलेगा',\n",
              " 'ईतना सन्नाटा   कयों है भाई ?  क्या सब लिबरल मर गये ?',\n",
              " 'RT @OfficialAaKu: वायुसेना ने बोला, \"नहीँ, मौसम ठीक नहीं है\"\\nतो मैंने सोचा बादल है तो हम पाकिस्तानी राडार से बच सकते है\"\\n\\nफिर मैंने सोचा,…',\n",
              " 'RT @mitalishah121: एक बाबरी ढाचा टूटी थी मुसलमान आज तक भाजपा को वोट नहीं देता।\\nलाखों मंदिर कांग्रेस ने तुड़वाए फिर भी हिंदू समझते नहीं।।',\n",
              " 'RT @vinodsharma1834: अब..\\n#मसूद_अजहर को दुनिया के किसी देश में एंट्री नहीं..\\nदुनिया का कोई देश मसूद को हथियार या बम-बारूद नहीं बेच सकेगा..…',\n",
              " '@KapilDe85606900 @AnshChodhary2 @dsanjeebkumar @ghonchu_gandhi @jaitushar @Vijay_Reetesh @shuklaji__ @badri_dk @Rao7478 mentos गधो पर काम नही करता उसका ad नही देखा आपने..',\n",
              " '@KinjalDamor Mast match hone waala hai di',\n",
              " 'अगर कोई आपसे कुछ मांगे\\n         तो दे दिया करो..\\n     शुक्र करो ऊपरवाले ने\\nआपको देने वालों में रखा है,\\n       मांगने वालों में नहीं।',\n",
              " '@RabriDeviRJD चारा चोर का फोटो जेल में लगाओ अनपढ़ गंवार राबड़ी। चारा चोर है ललुआ यादव ।',\n",
              " 'RT @Aanya34: जैसे जवान हुई चूत में उंगली करने में बड़ा मज़ा आया। https://t.co/klh6vBOGD0',\n",
              " '@JayaPrada4Mp हमारे संस्क्रति में हर दिन🙏 माँ का है',\n",
              " 'RT @SureshChavhanke: ईसाई, श्रीलंका हमले को विश्व भर में दिखा कर बदला लेने का माहोल बना रहे हैं। यहाँ तक कि बरेली जैसे शहर में भी इसके सबूत…',\n",
              " 'क्यूँकि हर वोट है ज़रूरी #DelhiVotes #BattleOf2019 मताधिकार का प्रयोग करें... @DDNewsLive https://t.co/dCJfQx3EH2',\n",
              " '@ArshiArshi12 Shukar hai! 😊',\n",
              " '@jayantrld नागपुर से जारी Whatsapp msg , भक्तों की दलील और जिल्लेइलाही के भाषण या साक्षात्कार तीनों में लेशमात्र भी फ़र्क़ नजर नही आता  😀😀',\n",
              " 'RT @amarujalakavya: एक दुनिया है जो समझाने से भी नहीं समझती,\\nएक माँ थी बिन बोले सब समझ जाती थी\\n- अज्ञात\\n#MothersDay2019 \\nhttps://t.co/RGOKk…',\n",
              " 'bjp ने बिहार मे भी  को र्ट का सहारा लेकर 3.5 लाख लोगों जीवन up के शिक्षा मित्रों की तरह कर दिया बर्बाद । https://t.co/RoLEBnnUvH',\n",
              " 'RT @INCIndia: न्याय योजना से गरीबों और अर्थव्यवस्था दोनों को मदद मिलेगी। यह हमारी अर्थव्यवस्था को गति देगी और लोगों की क्रय शक्ति बढ़ाएगी।…',\n",
              " '@ZeeNewsHindi मीडिया इसे high light न करें। पता नही कितने लोग नामांकन  कर रहे है  नामांकन रद्द भी नही होता तो कौन सा तीर मारता ।',\n",
              " '@IshikaSiingh प्यार अपने धर्म मे करौ तौ अच्छा हॊता हैं',\n",
              " 'संत डॉ. @Gurmeetramrahim सिंह जी इन्सा किसानों को कृषि अपशिष्टों को जलाने के बजाय पशुओं के चारे के रूप में उपयोग करने के लिए प्रोत्साहित कर रहे है और वे बड़ी संख्या में ऐसा कर रहे हैं।\\n#SayNoToStubbleBurning \\n@derasachasauda\\n@Gurmeetramrahim\\n@preeti_teacherhttps://t.co/bsuWsgbnoD',\n",
              " '@BJP4UP जैसे काला धन लेकर आये\\nजैसे 15 लाख दिये\\nजैसे अच्छे दिन लाये\\nजैसे महंगाई कम की\\nजैसे आतंकवाद रोका\\nजैसे विजय माल्या लाये\\nजैसे राम मंदिर बनाया\\nजैसे 370 हटाया\\nजैसे महिला सुरक्षा की? \\nजैसे गंगा सफाई की? \\nजैसे किसानों को msp दिया\\nजैसे युवाओं को नौकरी दी?\\nतुमसे न हो पायेगा\\n\\nअब होगा #NYAY',\n",
              " '@narendramodi वो बहुत पहले से ऐसा वातावरण तैयार करने में लगे थे।उन्होंने वर्षों से शिक्षा संस्थानों,रंगमंच, और मीडिया में ऐसे लोगों का निर्माण किया है जिन्हें आतंकी और उनकी विचारधारा में कुछ भी गलत नही लगता।\\nबदले में मिलने वाला पैसा उन्हें ना सिर्फ विलासिता उपलब्ध कराता रहा है।',\n",
              " 'RT @AagayiNavya: वाह संघी मच्छर वाह...\\nसंघियों की बची हुई चाय में से दूध निकाल कर पेडिग्री के साथ खाने वाला भाजपा का पालतू Pइल्लॉ सिन्हा भी…',\n",
              " 'RT @RakeshT73827202: राहुल गांधी ने तो खुलकर अपनी पसंद बता दी।😜\\nअब BMW को भी स्पष्ट कर देना चाहिए कि हकीकत क्या है?😂\\nयह एकतरफा प्यार है या…',\n",
              " 'RT @RajeevDixit00: @aajtak राहुल गांधी को देख कर बहुत दुख हुआ\\nबेचारा हताश निराश बीमार सा अधेड़ जो अपने गम में जल्दी ही आत्महत्या करने वाला…',\n",
              " 'RT @nirmal60649335: @SanskarOfficial @AvdheshanandG पुज्य  बापूजी बताते हैं-\\n हृदय रोगियों के लिए उबली लौकी में धनिया, जीरा, हल्दी और हरा ध…',\n",
              " '@Shivaay__ युवराज का तो आज शायद खत़्म हीं हो गया सफर..मैं  अब क्रिकेट इसलिए भी ज्यादा नहीं देखता',\n",
              " 'RT @SirChahal: ब्रेकिंग न्यूज : केजरीवाल ने भी डाला वोट 😹 https://t.co/QSzzjO3ZdX',\n",
              " 'RT @AakankshaCharu: बरखा दत्त के शौहर और प्रशांत भूषण के भाई को \"ग्लोबल आतंकी\" घोषित करने की मैं कड़ी निंदा करती हूँ!😁\\n\\n#MasoodAzhar',\n",
              " 'RT @Suhana_Speaks: माननीय मुख्यमंत्री श्री @ArvindKejriwal जी आप ने दिल्ली को इतना साफ सुथरा कर दिया है, कि अब दिल्ली वालों को झाडू की ज़रू…',\n",
              " 'न्यायलय ने तो सबूतों को दरकिनारा करते हुए एक हिन्दू संत को आजीवन कारावास दे दिया,न्यायालय ने तो पैसा फेंक तमाशा देख कहावत को सिद्ध करके दिखाया है तभी तो चोर लुटेरे हत्यारे, आसानी से रिहा हो जाते है ,न्यायलय भी ऐसे अधर्मीयों को रिहा करके गर्व महसूस करते है।\\n#IndianJudiciaryAtStake',\n",
              " 'RT @eventssanjay007: @balendra690 @narendramodi चमचों का क्या है \\nजहां बोझा ( पैसा ) \\nवही के हो जा।\\nhttps://t.co/lpXCyL9hif\\nदेश हित के लिए…',\n",
              " 'RT @PiyushGoyal: अखिलेश यादव जी ने सहारनपुर में 70 सीटों से शुरू किया था, उन्होंने कहा था हम 70 सीट जीतेंगे। आज डुमरियागंज आते आते 30 रह गए…',\n",
              " 'Ni manijaa',\n",
              " 'RT @barotchetan99: सिद्दू उस हिजड़े कि तरह है जो बिना बात के ताली ठोकता रहता है 😅😀😆😉',\n",
              " 'RT @chitraa_me: मोदी पाकिस्तान को ठोकने के \\nबाद भी कायर हैं....\\n\\n और \\n\\nअपने देश के हजारों सिखो को \\nमरवाकर राजीव गांधी बहादुर हो गया...\\n\\nवाह…',\n",
              " '@AunindyoC Whatsapp forward creativity! \\nवायु सेना: मोदी जी बादल हैं, दिक्कत हो जाएगी...\\nमोदी जी: चिंता मत करो बादल (Akali) हमारे साथ हैं, आगे चलो!! https://t.co/Il9QGIFRI1',\n",
              " 'RT @Mere_Ahsas: कहां कहां से टूटा है जाने मेरा दिल\\nजुड़ता ही नहीं कितना भी जोड़ लूं\\n#माही',\n",
              " 'अखिलेश यादव जी सपा\\nअव पशताये होत कया जव चिडिया चुग गयी खेत\\nअव जनता आपको कभी मौका नहीं देना चाहती \\nकयो कि सरकार मे रह कर केवल अपने परिवार का ही भला किया।\\nअगर जनता का भला किया होता तो आज सरकार मे होते।',\n",
              " '@hadappababa आजाएंगे हमें छोड़ कर कहा जाएंगे 🙈',\n",
              " '@jigneshmevani80 @AtishiAAP कौन आतिशी ... ? गौतम गंभीर गल्ली क्रिकेट नही खेलता भाई । कोई \"international\" खिलाडी लाओ झाडू वालो ... खैर आप मे से किसीं की भी औकात नही जो गौतम के सामने भी खडे रहे । debate तो दूर की बात है \\n\\n@GautamGambhir',\n",
              " 'मेरे पास तो अगर ऐसा कोई आता है तो एक सवाल मे पीठ दिखा कर भाग जाता है जैसे ये भाग गया..',\n",
              " 'RT @narendramodi_in: देश सुरक्षित नहीं होगा तो विकसित भी नहीं होगा।\\n\\nविकास के लिए पहली शर्त सुरक्षा होती है।\\n\\nमिलावटी सरकार, खिचड़ी सरकार…',\n",
              " 'RT @barotchetan99: पूरी दुनिया हैरान है ये जानकर भारत सब्सिडी पर सूअर पालता है.. \\nJNU , AMU',\n",
              " '@IPL हारना तो फिक्स है व्हाट्सन तू गांड दिया समझ',\n",
              " '@AshramBlr मुहँ में छाले पड़ गये हों तो त्रिफला चूर्ण को पानी में डाल के कुल्ले करें था मिश्री चूसें । इससे छाले शांत हो जायेंगे ।  #SummerHealthTipsByBapuji',\n",
              " 'RT @myogiadityanath: संत कबीरनगर में जनसभा को संबोधित कर रहा हूँ ... https://t.co/lSiSI90Qea',\n",
              " 'झाड़ू जब तक एक सूत्र में बँधी होती है , \\nतब तक वह कचरा साफ़ करती है\\n\\nलेकिन वही झाड़ू जब बिखर जाती है तो ,\\nखुद कचरा हो जाती है\\xa0\\n\\nइसलिए हमेशा सगंठन से बँधे रहे , \\nबिखर कर कचरा न बने\\n\\n🌺🍀🍀🌺🍀🍀🌺🍀🍀🌺\\n\\n     🍁🌷good morning 🌷🍁',\n",
              " 'This is KASHIWAMOCHI',\n",
              " '@mausamii2u 1 वीडियो भी वायरल हुआ था इसका।\\n\\nदेश को सच्चा रिपोटर चाईये।\\nये फिक्स करके न्यूज़ बनाने वाले नही चाईये',\n",
              " 'RT @BabakiJadeBoote: बिना वारंट के कोर्ट के मना करने के बाद भी वडोदरा क्राइम ब्रांच वाले भाजपा के नेताओं के कहने पर जुबेर पठान को रात के 2…',\n",
              " '@ZeeNewsHindi और कोई काम नहीं है इनके पास, बच्चों जैसी immature सोच है, उम्र हो गयी लेकिन समझ बच्चों की ही है.',\n",
              " 'RT @Shakti_Shetty: Mann ke mann mein kya chhupa hai – yeh kaun jaanta hai?',\n",
              " 'RT @Rajivmehra27: मैंने पायलट को कहा प्यास लगे तो बादल में स्ट्रा घुसेड़ कर पानी पी लेना 🤷\\n\\nलेकिन प्लेन से बाहर मत निकलना, रडार पकड़ लेगा !…',\n",
              " 'RT @ME____Mastani: अब नही बोलोगे \"nice pic\" \\n    😂😂😂😜😜😜 https://t.co/gZhCy0MDci',\n",
              " 'RT @AbhaMis01036320: आज का ज्ञान अगर गर्मी 🔥🔥\\n\\nलगे तो पंखा चलालेना चाहिए,☺ \\n\\nऔर ज़्यादा  लगे तो कूलर😌\\n\\nचलाना चाहिए, और ज्यादा लगे तो😇\\n\\nमुझ…',\n",
              " 'RT @ajitanjum: VIDEO: अलवर गैंगरेप पीड़ित दंपति ने मांगी सरकारी नौकरी, कहा- बलात्कारियों को फांसी दो https://t.co/nTjZHDI1v3',\n",
              " '@RabriDeviRJD अरे चाची इन सब मोदी ओं में कोई रिश्ता नहीं क्यों झूठ फैला रही हो',\n",
              " 'ये वह घटनाएं हैं, जिन्होंने राजस्थान को शर्मसार किया। इन्हें रोका जा सकता था लेकिन महिला सम्मान का ढोंग करने वाली कांग्रेस अपनी असफलता को छिपाने के बहाने ढूंढती रही और पीड़ितों की चीखों को अनसुना कर दिया। कभी वोट के लालच में तो में अपनी नाकामियों के उजागर होने के डर से। https://t.co/IvOVt98IDC',\n",
              " 'RT @shantilalthak11: मजबूत भारत देखना चाहते हैं तो घर में मत बैठिए वोटिंग करने निकलिए',\n",
              " '@anuragspparty @yadavakhilesh @ndtv @Mayawati @RahulGandhi ये जो बच्चा गर्मी में ये लोहा ले जा रहा है इसी चीज को हटाने भाजपा आ रही है...काश अगर सही नीति और सही नजरिये से कांग्रेस सरकार आज तक चली होती तो ना इस तरह रिक्शा चल रहे होते ना आप वीडियो बनाते...ये लड़का मेहनती है करोड़ो कमा रहे होता और आप कहीं बैठ लेबरी कर रहे होते।',\n",
              " 'RT @kuruwila: सुनो bsdk,\\n\\nजीवन क्या है?जीवन एक चू*यापा है।\\nइस जीवन से लड़ना नहीं,इसके मज़े लेना सीखो।इसको दिखाओ की bsdk असली चू*या हम लोग…',\n",
              " '@muskanRai857600 सुप्रभात हर हर महादेव जय श्री राम 🙏🙏',\n",
              " 'RT @rajbhadurckt: #वेद_मेरा_भेद_है\\nसभी साधकों के ये विचार गलत है की सृष्टि को बनाने वाला कोई नहीं है। जबकि हमारे शास्त्र बताते हैं कि कबीर…',\n",
              " '@ZeeNewsHindi ऐसे झूठे और चोर इंसानो को 48 घण्टे नही सिर्फ 48 सेकंड का वक़्त देना चाहिए \\nवो भी अगर जरूरी हो तो',\n",
              " '@rajeshnagarfbd @narendramodi @aniljaindr @BJP4India @subhashbrala @Nitin_Nagar_bjp @mlkhattar @PMOIndia नकल में भी अकल चाहिए BJP को ठुल्लू दिखाने के चक्कर मे वोट ही डाल गया चमचा ☝🏻☝🏻☝🏻🙉🙉🤫🤫\\n\\n ठोको ताली ठोको ताली ठोको ताली https://t.co/FaCuKch6Zq',\n",
              " 'भाजपा सरकार जाना तय, सिर्फ इधर-उधर की बातें करते हैं मोदी : प्रियंका\\nलोकसभा चुनाव के नतीजे आने में अब बहुत ज्यादा समय नहीं बचा है। ऐसे में सभी दल अपनी ताकत झोंक रहे\\n\\nfrom https://t.co/cLcTcqdCNE News RSS Feeds https://t.co/MfhvkmvdI3\\n\\nhttps://t.co/rJ3uoYV2Gx https://t.co/TJYjSPJvgn',\n",
              " 'RT @Pradeep85528335: #HappyMothersDay2019\\nतुम ही हो माता पिता तुम्हीं हो तुम्हीं हो बंधु सखा तुम्हीं हो यह जो लाइनें हैं यह पूर्ण परमात्मा…',\n",
              " \"RT @aajtak: सैम पित्रोदा ने कहा कि मेरी हिंदी खराब है, मैं 'जो हुआ वो बुरा हुआ' कहना चाहता था\\nhttps://t.co/83f16KhAWC\",\n",
              " 'RT @SoniyaGupta69: मेरे पिया, अब अपना लंड डाल दो, अब सहन नहीं हो रहा है।     https://t.co/VcOLhrRxqu https://t.co/GDPANgrYTj',\n",
              " 'RT @IqbalShahfahad: 🌹 रहमतो का माह-ए-रमज़ान 🌹\\n\\nरसूलल्लाह ﷺ  ने इरशाद फ़रमाया :-\\n\\n       👉 \"जो किसी रोज़ेदार का रोज़ा इफ़्तार कराए तो उसको…',\n",
              " 'RT @Priyank74750061: भारत रत्न नेहरू चाचा कि वजह से \\nमसूद पर प्रतिबंधित लगा \\nधन्यवाद काका !\\n\\nअब लोग सोच रहे होंगे कैसे ?\\nठरकी चाचा न होते…',\n",
              " 'नोटबन्दी और GST ने असंगठित क्षेत्र में नौकरी करने वालों को पूरी तरह से तहस नहस कर रख दिया , विशेषकर दिहाड़ी मजदूरों को जो पूरे दिन बैंकों के आगे लाइन में लगकर अपनी ईमानदारी से कमाए पैसों को बदलने के लिए मजबूर किए गए थे।\\nGST के बाद तो उनकी नौकरीया खत्म हो गयी.\\n\\n#NYAYforMazdoor https://t.co/BKEmAdmFrk',\n",
              " '@Priyake14885278 *निस्वार्थ भाव से लोगों के काम आते रहिये* \\n\\n*क्योंकि ,*\\n\\n*क़ुदरत का एक उसूल है की जिस कुंए से लोग पानी पीते रहते हैं  वो कभी सूखता नहीं है !!*\\n\\n        *🙏🏻 😊शुभ दिन हो😊🙏*',\n",
              " '@DeemagSePaidal भाई फिर फोन कभी नहीं मिलता 😂',\n",
              " 'RT @HandsomAbhishek: रामचरित मानस में साफ लिखा है.......\\n\\n\"जब जब होहिं धरम पर हानि\\nबाढ़ाहिं असुर अधम अभिमानी\\nतब तब प्रभु धरि मनुज शरीरा\\nहर…',\n",
              " 'RT @rahulrl_: भारत मे लगभग सैंकड़ों गालियाँ दी जाती है\\n\\n\"केजरीवाल जी\" हर गाली में फिट बैठते है ! \\n😂😂',\n",
              " 'राडार वाले बयान के बाद तो भक्त भी समझ गए की मोदी महान नहीं एक नंबर का बुड़बक और झूठा हैlहम तो पहले से ही कहते थे एक मूर्ख आदमी ने देश के तमाम पढ़े लिखे लोगों को मूर्ख बना दिया हैl',\n",
              " ...]"
            ]
          },
          "metadata": {},
          "execution_count": 63
        },
        {
          "output_type": "stream",
          "name": "stdout",
          "text": [
            "time: 35.2 ms (started: 2022-02-09 18:34:54 +00:00)\n"
          ]
        }
      ]
    },
    {
      "cell_type": "code",
      "source": [
        "train_texts1 = train[\"Text\"].tolist()\n",
        "train_labels= train[\"label\"].tolist()\n",
        "dev_labels= dev[\"label\"].tolist()\n",
        "dev_texts1 = train[\"Text\"].tolist()\n",
        "num_labels = 2"
      ],
      "metadata": {
        "colab": {
          "base_uri": "https://localhost:8080/"
        },
        "id": "q1qqMnolQtZw",
        "outputId": "5be61cd3-0870-47d7-bf70-3eb0bfde843e"
      },
      "execution_count": null,
      "outputs": [
        {
          "output_type": "stream",
          "name": "stdout",
          "text": [
            "time: 9.93 ms (started: 2022-02-09 18:34:21 +00:00)\n"
          ]
        }
      ]
    },
    {
      "cell_type": "code",
      "source": [
        "tokenizer = AutoTokenizer.from_pretrained(checkpoint)\n",
        "\n",
        "train_encodings = tokenizer(train_texts,truncation=True,)\n",
        "dev_encodings = tokenizer(dev_texts,truncation=True)"
      ],
      "metadata": {
        "colab": {
          "base_uri": "https://localhost:8080/"
        },
        "id": "Slj1XFSODKSv",
        "outputId": "b579086f-fc48-4824-c89a-cb31598ce417"
      },
      "execution_count": null,
      "outputs": [
        {
          "output_type": "stream",
          "name": "stdout",
          "text": [
            "time: 2.47 s (started: 2022-02-09 17:56:28 +00:00)\n"
          ]
        }
      ]
    },
    {
      "cell_type": "code",
      "source": [
        "import torch\n",
        "\n",
        "class TaskDatasetB(torch.utils.data.Dataset):\n",
        "\n",
        "  def __init__(self,encodings,labels):\n",
        "    self.encodings = encodings\n",
        "    self.labels = labels\n",
        "\n",
        "  def __getitem__(self,idx):\n",
        "    item = {key: torch.tensor(val[idx]) for key,val in self.encodings.items()}\n",
        "    item['labels'] = torch.tensor(self.labels[idx])\n",
        "    return item\n",
        "\n",
        "  def __len__(self):\n",
        "    return len(self.labels)"
      ],
      "metadata": {
        "colab": {
          "base_uri": "https://localhost:8080/"
        },
        "id": "vRvVCWTbDMnb",
        "outputId": "4b462b5c-f313-42df-c9ac-4d36df8c9c2a"
      },
      "execution_count": null,
      "outputs": [
        {
          "output_type": "stream",
          "name": "stdout",
          "text": [
            "time: 7.84 ms (started: 2022-02-09 17:56:33 +00:00)\n"
          ]
        }
      ]
    },
    {
      "cell_type": "code",
      "source": [
        "train_dataset = TaskDatasetB(train_encodings,train_labels)\n",
        "dev_dataset = TaskDatasetB(dev_encodings,dev_labels)"
      ],
      "metadata": {
        "colab": {
          "base_uri": "https://localhost:8080/"
        },
        "id": "0r1oAyXYDTKs",
        "outputId": "57c75554-3b6b-4b2b-d238-7e86b820e5f0"
      },
      "execution_count": null,
      "outputs": [
        {
          "output_type": "stream",
          "name": "stdout",
          "text": [
            "time: 1.55 ms (started: 2022-02-09 17:56:38 +00:00)\n"
          ]
        }
      ]
    },
    {
      "cell_type": "code",
      "source": [
        "data_collator = DataCollatorWithPadding(tokenizer=tokenizer)\n"
      ],
      "metadata": {
        "colab": {
          "base_uri": "https://localhost:8080/"
        },
        "id": "cnYpYx3yDWWO",
        "outputId": "6d3a049d-5889-4a1d-ed28-5c990a8101c8"
      },
      "execution_count": null,
      "outputs": [
        {
          "output_type": "stream",
          "name": "stdout",
          "text": [
            "time: 938 µs (started: 2022-02-09 17:56:39 +00:00)\n"
          ]
        }
      ]
    },
    {
      "cell_type": "code",
      "source": [
        "from transformers import TrainingArguments\n",
        "\n",
        "training_args = TrainingArguments(\n",
        "    'OGBV-gender-bert-hi-en-hasoc20a',\n",
        "    report_to = \"wandb\",\n",
        "    run_name = \"rr-bert-base-hi-en-3epoch\",\n",
        "    evaluation_strategy = 'epoch',\n",
        "    save_strategy='epoch',\n",
        "    num_train_epochs = 3,\n",
        "    load_best_model_at_end = True,\n",
        "    push_to_hub='OGBV-gender-bert-hi-en-hasoc20a'\n",
        ")"
      ],
      "metadata": {
        "colab": {
          "base_uri": "https://localhost:8080/"
        },
        "id": "lYc1a44kDaLY",
        "outputId": "f46fc1f7-6f10-4e3f-de6c-f3f60f57821a"
      },
      "execution_count": null,
      "outputs": [
        {
          "output_type": "stream",
          "name": "stdout",
          "text": [
            "time: 79.8 ms (started: 2022-02-09 17:57:00 +00:00)\n"
          ]
        }
      ]
    },
    {
      "cell_type": "code",
      "source": [
        "model = AutoModelForSequenceClassification.from_pretrained(checkpoint,num_labels = num_labels,ignore_mismatched_sizes=True)\n"
      ],
      "metadata": {
        "colab": {
          "base_uri": "https://localhost:8080/",
          "height": 154,
          "referenced_widgets": [
            "55a4001be5f44841b2e6813bc95dba77",
            "faa9052f541a4c2b84350af5c5366c6d",
            "acc7046da7aa45659c0060c91b4c638a",
            "02d8f305232c4c6e99feae3e05a5c3a0",
            "8df4fdaace4548cab90492c437659763",
            "d4b3f48c0bcf4aeabe3192edff4e2bab",
            "624858e2db254588b8c86df452f7d967",
            "7afc75f6fca74ce49c3d22ede3ad35ab",
            "82058aed393040a5811c5ab1779f2c27",
            "cd1af0906aed4a60957e345e0d9f208b",
            "a543e85e4f9d4b15bbddcf416b28338b"
          ]
        },
        "id": "UOENDka3DdA3",
        "outputId": "ab621731-302b-4821-ac6b-97267713397f"
      },
      "execution_count": null,
      "outputs": [
        {
          "output_type": "display_data",
          "data": {
            "application/vnd.jupyter.widget-view+json": {
              "model_id": "55a4001be5f44841b2e6813bc95dba77",
              "version_minor": 0,
              "version_major": 2
            },
            "text/plain": [
              "Downloading:   0%|          | 0.00/712M [00:00<?, ?B/s]"
            ]
          },
          "metadata": {}
        },
        {
          "output_type": "stream",
          "name": "stderr",
          "text": [
            "Some weights of BertForSequenceClassification were not initialized from the model checkpoint at rohanrajpal/bert-base-en-hi-codemix-cased and are newly initialized because the shapes did not match:\n",
            "- classifier.weight: found shape torch.Size([3, 768]) in the checkpoint and torch.Size([2, 768]) in the model instantiated\n",
            "- classifier.bias: found shape torch.Size([3]) in the checkpoint and torch.Size([2]) in the model instantiated\n",
            "You should probably TRAIN this model on a down-stream task to be able to use it for predictions and inference.\n"
          ]
        },
        {
          "output_type": "stream",
          "name": "stdout",
          "text": [
            "time: 26.6 s (started: 2022-02-09 17:57:05 +00:00)\n"
          ]
        }
      ]
    },
    {
      "cell_type": "code",
      "source": [
        "from sklearn.metrics import accuracy_score,f1_score,precision_score,recall_score\n",
        "\n",
        "def compute_metrics(eval_preds):\n",
        "\n",
        "  logits,labels = eval_preds\n",
        "  predictions  = np.argmax(logits,axis=-1)\n",
        "\n",
        "  acc = accuracy_score(labels,predictions)\n",
        "  precision = precision_score(labels,predictions,average='weighted')\n",
        "  recall = recall_score(labels,predictions,average='weighted')\n",
        "  f1 = f1_score(labels,predictions,average='weighted')\n",
        "  \n",
        "  return {\n",
        "     'acc' : acc,\n",
        "     'precision' : precision,\n",
        "     'recall' : recall,\n",
        "     'f1' : f1\n",
        "  }"
      ],
      "metadata": {
        "colab": {
          "base_uri": "https://localhost:8080/"
        },
        "id": "nAN5uVqTDgzO",
        "outputId": "630d4d7b-c9f9-4e96-8411-daac04e48dd3"
      },
      "execution_count": null,
      "outputs": [
        {
          "output_type": "stream",
          "name": "stdout",
          "text": [
            "time: 11.5 ms (started: 2022-02-09 17:57:36 +00:00)\n"
          ]
        }
      ]
    },
    {
      "cell_type": "code",
      "source": [
        "!apt-get install git-lfs\n"
      ],
      "metadata": {
        "colab": {
          "base_uri": "https://localhost:8080/"
        },
        "id": "w5uRI8BKDi_I",
        "outputId": "2ff0738e-94d6-4434-bb14-b0da62502411"
      },
      "execution_count": null,
      "outputs": [
        {
          "output_type": "stream",
          "name": "stdout",
          "text": [
            "Reading package lists... Done\n",
            "Building dependency tree       \n",
            "Reading state information... Done\n",
            "The following packages were automatically installed and are no longer required:\n",
            "  cuda-command-line-tools-10-0 cuda-command-line-tools-10-1\n",
            "  cuda-command-line-tools-11-0 cuda-compiler-10-0 cuda-compiler-10-1\n",
            "  cuda-compiler-11-0 cuda-cuobjdump-10-0 cuda-cuobjdump-10-1\n",
            "  cuda-cuobjdump-11-0 cuda-cupti-10-0 cuda-cupti-10-1 cuda-cupti-11-0\n",
            "  cuda-cupti-dev-11-0 cuda-documentation-10-0 cuda-documentation-10-1\n",
            "  cuda-documentation-11-0 cuda-documentation-11-1 cuda-gdb-10-0 cuda-gdb-10-1\n",
            "  cuda-gdb-11-0 cuda-gpu-library-advisor-10-0 cuda-gpu-library-advisor-10-1\n",
            "  cuda-libraries-10-0 cuda-libraries-10-1 cuda-libraries-11-0\n",
            "  cuda-memcheck-10-0 cuda-memcheck-10-1 cuda-memcheck-11-0 cuda-nsight-10-0\n",
            "  cuda-nsight-10-1 cuda-nsight-11-0 cuda-nsight-11-1 cuda-nsight-compute-10-0\n",
            "  cuda-nsight-compute-10-1 cuda-nsight-compute-11-0 cuda-nsight-compute-11-1\n",
            "  cuda-nsight-systems-10-1 cuda-nsight-systems-11-0 cuda-nsight-systems-11-1\n",
            "  cuda-nvcc-10-0 cuda-nvcc-10-1 cuda-nvcc-11-0 cuda-nvdisasm-10-0\n",
            "  cuda-nvdisasm-10-1 cuda-nvdisasm-11-0 cuda-nvml-dev-10-0 cuda-nvml-dev-10-1\n",
            "  cuda-nvml-dev-11-0 cuda-nvprof-10-0 cuda-nvprof-10-1 cuda-nvprof-11-0\n",
            "  cuda-nvprune-10-0 cuda-nvprune-10-1 cuda-nvprune-11-0 cuda-nvtx-10-0\n",
            "  cuda-nvtx-10-1 cuda-nvtx-11-0 cuda-nvvp-10-0 cuda-nvvp-10-1 cuda-nvvp-11-0\n",
            "  cuda-nvvp-11-1 cuda-samples-10-0 cuda-samples-10-1 cuda-samples-11-0\n",
            "  cuda-samples-11-1 cuda-sanitizer-11-0 cuda-sanitizer-api-10-1\n",
            "  cuda-toolkit-10-0 cuda-toolkit-10-1 cuda-toolkit-11-0 cuda-toolkit-11-1\n",
            "  cuda-tools-10-0 cuda-tools-10-1 cuda-tools-11-0 cuda-tools-11-1\n",
            "  cuda-visual-tools-10-0 cuda-visual-tools-10-1 cuda-visual-tools-11-0\n",
            "  cuda-visual-tools-11-1 default-jre dkms freeglut3 freeglut3-dev\n",
            "  keyboard-configuration libargon2-0 libcap2 libcryptsetup12\n",
            "  libdevmapper1.02.1 libfontenc1 libidn11 libip4tc0 libjansson4\n",
            "  libnvidia-cfg1-510 libnvidia-common-460 libnvidia-common-510\n",
            "  libnvidia-extra-510 libnvidia-fbc1-510 libnvidia-gl-510 libpam-systemd\n",
            "  libpolkit-agent-1-0 libpolkit-backend-1-0 libpolkit-gobject-1-0 libxfont2\n",
            "  libxi-dev libxkbfile1 libxmu-dev libxmu-headers libxnvctrl0 libxtst6\n",
            "  nsight-compute-2020.2.1 nsight-compute-2022.1.0 nsight-systems-2020.3.2\n",
            "  nsight-systems-2020.3.4 nsight-systems-2021.5.2 nvidia-dkms-510\n",
            "  nvidia-kernel-common-510 nvidia-kernel-source-510 nvidia-modprobe\n",
            "  nvidia-settings openjdk-11-jre policykit-1 policykit-1-gnome python3-xkit\n",
            "  screen-resolution-extra systemd systemd-sysv udev x11-xkb-utils\n",
            "  xserver-common xserver-xorg-core-hwe-18.04 xserver-xorg-video-nvidia-510\n",
            "Use 'apt autoremove' to remove them.\n",
            "The following NEW packages will be installed:\n",
            "  git-lfs\n",
            "0 upgraded, 1 newly installed, 0 to remove and 39 not upgraded.\n",
            "Need to get 2,129 kB of archives.\n",
            "After this operation, 7,662 kB of additional disk space will be used.\n",
            "Get:1 http://archive.ubuntu.com/ubuntu bionic/universe amd64 git-lfs amd64 2.3.4-1 [2,129 kB]\n",
            "Fetched 2,129 kB in 1s (1,905 kB/s)\n",
            "Selecting previously unselected package git-lfs.\n",
            "(Reading database ... 155113 files and directories currently installed.)\n",
            "Preparing to unpack .../git-lfs_2.3.4-1_amd64.deb ...\n",
            "Unpacking git-lfs (2.3.4-1) ...\n",
            "Setting up git-lfs (2.3.4-1) ...\n",
            "Processing triggers for man-db (2.8.3-2ubuntu0.1) ...\n",
            "time: 6.91 s (started: 2022-02-09 17:57:45 +00:00)\n"
          ]
        }
      ]
    },
    {
      "cell_type": "code",
      "source": [
        "from transformers import Trainer\n",
        "\n",
        "trainer = Trainer(\n",
        "    model = model,\n",
        "    args = training_args,\n",
        "    train_dataset = train_dataset,\n",
        "    eval_dataset = dev_dataset,\n",
        "\n",
        "    data_collator = data_collator,\n",
        "    compute_metrics = compute_metrics,\n",
        ")"
      ],
      "metadata": {
        "colab": {
          "base_uri": "https://localhost:8080/"
        },
        "id": "c3DELw-GDjjd",
        "outputId": "e639d3f5-1e27-45fd-ce32-6e5789012dbc"
      },
      "execution_count": null,
      "outputs": [
        {
          "output_type": "stream",
          "name": "stderr",
          "text": [
            "/usr/local/lib/python3.7/dist-packages/huggingface_hub/hf_api.py:1004: FutureWarning: `create_repo` now takes `token` as an optional positional argument. Be sure to adapt your code!\n",
            "  FutureWarning,\n",
            "Cloning https://huggingface.co/Maha/OGBV-gender-bert-hi-en-hasoc20a into local empty directory.\n"
          ]
        },
        {
          "output_type": "stream",
          "name": "stdout",
          "text": [
            "time: 19.1 s (started: 2022-02-09 17:58:14 +00:00)\n"
          ]
        }
      ]
    },
    {
      "cell_type": "code",
      "source": [
        "trainer.train()\n"
      ],
      "metadata": {
        "colab": {
          "base_uri": "https://localhost:8080/",
          "height": 817
        },
        "id": "6izJd1eUDlLT",
        "outputId": "cac9c867-5b25-48f9-b472-22d00311bb91"
      },
      "execution_count": null,
      "outputs": [
        {
          "output_type": "stream",
          "name": "stderr",
          "text": [
            "***** Running training *****\n",
            "  Num examples = 2963\n",
            "  Num Epochs = 3\n",
            "  Instantaneous batch size per device = 8\n",
            "  Total train batch size (w. parallel, distributed & accumulation) = 8\n",
            "  Gradient Accumulation steps = 1\n",
            "  Total optimization steps = 1113\n",
            "Automatic Weights & Biases logging enabled, to disable set os.environ[\"WANDB_DISABLED\"] = \"true\"\n",
            "\u001b[34m\u001b[1mwandb\u001b[0m: Currently logged in as: \u001b[33mmahaj\u001b[0m (use `wandb login --relogin` to force relogin)\n"
          ]
        },
        {
          "output_type": "display_data",
          "data": {
            "text/html": [
              "\n",
              "                    Syncing run <strong><a href=\"https://wandb.ai/mahaj/OGBV_task_hasos20/runs/2fpf64p5\" target=\"_blank\">rr-bert-base-hi-en-3epoch</a></strong> to <a href=\"https://wandb.ai/mahaj/OGBV_task_hasos20\" target=\"_blank\">Weights & Biases</a> (<a href=\"https://docs.wandb.com/integrations/jupyter.html\" target=\"_blank\">docs</a>).<br/>\n",
              "\n",
              "                "
            ],
            "text/plain": [
              "<IPython.core.display.HTML object>"
            ]
          },
          "metadata": {}
        },
        {
          "output_type": "display_data",
          "data": {
            "text/html": [
              "\n",
              "    <div>\n",
              "      \n",
              "      <progress value='1113' max='1113' style='width:300px; height:20px; vertical-align: middle;'></progress>\n",
              "      [1113/1113 07:51, Epoch 3/3]\n",
              "    </div>\n",
              "    <table border=\"1\" class=\"dataframe\">\n",
              "  <thead>\n",
              "    <tr style=\"text-align: left;\">\n",
              "      <th>Epoch</th>\n",
              "      <th>Training Loss</th>\n",
              "      <th>Validation Loss</th>\n",
              "      <th>Acc</th>\n",
              "      <th>Precision</th>\n",
              "      <th>Recall</th>\n",
              "      <th>F1</th>\n",
              "    </tr>\n",
              "  </thead>\n",
              "  <tbody>\n",
              "    <tr>\n",
              "      <td>1</td>\n",
              "      <td>No log</td>\n",
              "      <td>0.612437</td>\n",
              "      <td>0.702866</td>\n",
              "      <td>0.494020</td>\n",
              "      <td>0.702866</td>\n",
              "      <td>0.580222</td>\n",
              "    </tr>\n",
              "    <tr>\n",
              "      <td>2</td>\n",
              "      <td>0.607500</td>\n",
              "      <td>0.695900</td>\n",
              "      <td>0.696833</td>\n",
              "      <td>0.567899</td>\n",
              "      <td>0.696833</td>\n",
              "      <td>0.582637</td>\n",
              "    </tr>\n",
              "    <tr>\n",
              "      <td>3</td>\n",
              "      <td>0.524200</td>\n",
              "      <td>0.906916</td>\n",
              "      <td>0.579186</td>\n",
              "      <td>0.574820</td>\n",
              "      <td>0.579186</td>\n",
              "      <td>0.576948</td>\n",
              "    </tr>\n",
              "  </tbody>\n",
              "</table><p>"
            ],
            "text/plain": [
              "<IPython.core.display.HTML object>"
            ]
          },
          "metadata": {}
        },
        {
          "output_type": "stream",
          "name": "stderr",
          "text": [
            "***** Running Evaluation *****\n",
            "  Num examples = 663\n",
            "  Batch size = 8\n",
            "/usr/local/lib/python3.7/dist-packages/sklearn/metrics/_classification.py:1318: UndefinedMetricWarning: Precision is ill-defined and being set to 0.0 in labels with no predicted samples. Use `zero_division` parameter to control this behavior.\n",
            "  _warn_prf(average, modifier, msg_start, len(result))\n",
            "Saving model checkpoint to OGBV-gender-bert-hi-en-hasoc20a/checkpoint-371\n",
            "Configuration saved in OGBV-gender-bert-hi-en-hasoc20a/checkpoint-371/config.json\n",
            "Model weights saved in OGBV-gender-bert-hi-en-hasoc20a/checkpoint-371/pytorch_model.bin\n",
            "***** Running Evaluation *****\n",
            "  Num examples = 663\n",
            "  Batch size = 8\n",
            "Saving model checkpoint to OGBV-gender-bert-hi-en-hasoc20a/checkpoint-742\n",
            "Configuration saved in OGBV-gender-bert-hi-en-hasoc20a/checkpoint-742/config.json\n",
            "Model weights saved in OGBV-gender-bert-hi-en-hasoc20a/checkpoint-742/pytorch_model.bin\n",
            "***** Running Evaluation *****\n",
            "  Num examples = 663\n",
            "  Batch size = 8\n",
            "Saving model checkpoint to OGBV-gender-bert-hi-en-hasoc20a/checkpoint-1113\n",
            "Configuration saved in OGBV-gender-bert-hi-en-hasoc20a/checkpoint-1113/config.json\n",
            "Model weights saved in OGBV-gender-bert-hi-en-hasoc20a/checkpoint-1113/pytorch_model.bin\n",
            "\n",
            "\n",
            "Training completed. Do not forget to share your model on huggingface.co/models =)\n",
            "\n",
            "\n",
            "Loading best model from OGBV-gender-bert-hi-en-hasoc20a/checkpoint-371 (score: 0.612436830997467).\n"
          ]
        },
        {
          "output_type": "execute_result",
          "data": {
            "text/plain": [
              "TrainOutput(global_step=1113, training_loss=0.5549294299513825, metrics={'train_runtime': 476.9715, 'train_samples_per_second': 18.636, 'train_steps_per_second': 2.333, 'total_flos': 424107785134980.0, 'train_loss': 0.5549294299513825, 'epoch': 3.0})"
            ]
          },
          "metadata": {},
          "execution_count": 44
        },
        {
          "output_type": "stream",
          "name": "stdout",
          "text": [
            "time: 7min 57s (started: 2022-02-09 17:58:41 +00:00)\n"
          ]
        }
      ]
    },
    {
      "cell_type": "code",
      "source": [
        "trainer.evaluate()\n"
      ],
      "metadata": {
        "colab": {
          "base_uri": "https://localhost:8080/",
          "height": 295
        },
        "id": "ZlEIuJzrDo9i",
        "outputId": "f0658706-d27b-43fe-eb89-f8dfa16c87f1"
      },
      "execution_count": null,
      "outputs": [
        {
          "output_type": "stream",
          "name": "stderr",
          "text": [
            "***** Running Evaluation *****\n",
            "  Num examples = 663\n",
            "  Batch size = 8\n"
          ]
        },
        {
          "output_type": "display_data",
          "data": {
            "text/html": [
              "\n",
              "    <div>\n",
              "      \n",
              "      <progress value='83' max='83' style='width:300px; height:20px; vertical-align: middle;'></progress>\n",
              "      [83/83 00:08]\n",
              "    </div>\n",
              "    "
            ],
            "text/plain": [
              "<IPython.core.display.HTML object>"
            ]
          },
          "metadata": {}
        },
        {
          "output_type": "stream",
          "name": "stderr",
          "text": [
            "/usr/local/lib/python3.7/dist-packages/sklearn/metrics/_classification.py:1318: UndefinedMetricWarning: Precision is ill-defined and being set to 0.0 in labels with no predicted samples. Use `zero_division` parameter to control this behavior.\n",
            "  _warn_prf(average, modifier, msg_start, len(result))\n"
          ]
        },
        {
          "output_type": "execute_result",
          "data": {
            "text/plain": [
              "{'epoch': 3.0,\n",
              " 'eval_acc': 0.702865761689291,\n",
              " 'eval_f1': 0.5802222231128603,\n",
              " 'eval_loss': 0.612436830997467,\n",
              " 'eval_precision': 0.4940202789550673,\n",
              " 'eval_recall': 0.702865761689291,\n",
              " 'eval_runtime': 9.0363,\n",
              " 'eval_samples_per_second': 73.371,\n",
              " 'eval_steps_per_second': 9.185}"
            ]
          },
          "metadata": {},
          "execution_count": 45
        },
        {
          "output_type": "stream",
          "name": "stdout",
          "text": [
            "time: 9.05 s (started: 2022-02-09 18:06:50 +00:00)\n"
          ]
        }
      ]
    },
    {
      "cell_type": "code",
      "source": [
        "import torch\n",
        "torch.cuda.empty_cache()"
      ],
      "metadata": {
        "colab": {
          "base_uri": "https://localhost:8080/"
        },
        "id": "exUIeny5e_pZ",
        "outputId": "da18747c-730a-40e7-82c6-1b38438afff8"
      },
      "execution_count": null,
      "outputs": [
        {
          "output_type": "stream",
          "name": "stdout",
          "text": [
            "time: 277 ms (started: 2022-02-09 18:07:42 +00:00)\n"
          ]
        }
      ]
    },
    {
      "cell_type": "code",
      "source": [
        "model_path = 'OGBV-gender-bert-hi-en-hasoc20a'\n"
      ],
      "metadata": {
        "colab": {
          "base_uri": "https://localhost:8080/"
        },
        "id": "zcpcSiZLFfWb",
        "outputId": "18920137-dd8e-4037-ca67-fbc97c9dca68"
      },
      "execution_count": null,
      "outputs": [
        {
          "output_type": "stream",
          "name": "stdout",
          "text": [
            "time: 1.83 ms (started: 2022-02-09 18:07:44 +00:00)\n"
          ]
        }
      ]
    },
    {
      "cell_type": "code",
      "source": [
        "model.push_to_hub('OGBV-gender-bert-hi-en-hasoc20a')\n"
      ],
      "metadata": {
        "colab": {
          "base_uri": "https://localhost:8080/",
          "height": 169,
          "referenced_widgets": [
            "71d5b18f558c417c9d19393457395963",
            "53d8d03c225a4140aa50040085db958e",
            "e9180ab64a374c7eb6ae738f381b44dd",
            "fd19f06e316e4822a6c3563bdffcdf5e",
            "0c6984b5713c4d6e827e1c0ed05d2312",
            "16375786d1c94ae7aa9e52ff1a7a473f",
            "106a945b14a64a13acdd0141072bbc49",
            "c7fc0cdc91134970b7bb8088da5dccf3",
            "ae646e5f0f954fd3af91b3a4ba13cb02",
            "7553070bc3534c4c9a9661323f49d73b",
            "ebf5f5dbdb724eb589d13f32431c1626"
          ]
        },
        "id": "Lbi5bjxkFiFO",
        "outputId": "271c85a3-ff99-4301-a2e0-9c11605187b0"
      },
      "execution_count": null,
      "outputs": [
        {
          "output_type": "stream",
          "name": "stderr",
          "text": [
            "Configuration saved in OGBV-gender-bert-hi-en-hasoc20a/config.json\n",
            "Model weights saved in OGBV-gender-bert-hi-en-hasoc20a/pytorch_model.bin\n"
          ]
        },
        {
          "output_type": "display_data",
          "data": {
            "application/vnd.jupyter.widget-view+json": {
              "model_id": "71d5b18f558c417c9d19393457395963",
              "version_minor": 0,
              "version_major": 2
            },
            "text/plain": [
              "Upload file pytorch_model.bin:   0%|          | 3.38k/679M [00:00<?, ?B/s]"
            ]
          },
          "metadata": {}
        },
        {
          "output_type": "stream",
          "name": "stderr",
          "text": [
            "To https://huggingface.co/Maha/OGBV-gender-bert-hi-en-hasoc20a\n",
            "   ed45181..00ab632  main -> main\n",
            "\n"
          ]
        },
        {
          "output_type": "execute_result",
          "data": {
            "application/vnd.google.colaboratory.intrinsic+json": {
              "type": "string"
            },
            "text/plain": [
              "'https://huggingface.co/Maha/OGBV-gender-bert-hi-en-hasoc20a/commit/00ab632f82486f797ad4e07f7689fc070656bd00'"
            ]
          },
          "metadata": {},
          "execution_count": 48
        },
        {
          "output_type": "stream",
          "name": "stdout",
          "text": [
            "time: 11min 31s (started: 2022-02-09 18:07:46 +00:00)\n"
          ]
        }
      ]
    },
    {
      "cell_type": "code",
      "source": [
        "tokenizer.push_to_hub('OGBV-gender-bert-hi-en-hasoc20a')\n"
      ],
      "metadata": {
        "colab": {
          "base_uri": "https://localhost:8080/",
          "height": 137
        },
        "id": "NG_JisXdFjw0",
        "outputId": "d6162e79-2383-4f36-f491-d86d8b86494a"
      },
      "execution_count": null,
      "outputs": [
        {
          "output_type": "stream",
          "name": "stderr",
          "text": [
            "tokenizer config file saved in OGBV-gender-bert-hi-en-hasoc20a/tokenizer_config.json\n",
            "Special tokens file saved in OGBV-gender-bert-hi-en-hasoc20a/special_tokens_map.json\n",
            "To https://huggingface.co/Maha/OGBV-gender-bert-hi-en-hasoc20a\n",
            "   00ab632..2f74607  main -> main\n",
            "\n"
          ]
        },
        {
          "output_type": "execute_result",
          "data": {
            "application/vnd.google.colaboratory.intrinsic+json": {
              "type": "string"
            },
            "text/plain": [
              "'https://huggingface.co/Maha/OGBV-gender-bert-hi-en-hasoc20a/commit/2f746072c351f95455aec965d1d7d522dad8cf7b'"
            ]
          },
          "metadata": {},
          "execution_count": 58
        },
        {
          "output_type": "stream",
          "name": "stdout",
          "text": [
            "time: 7.55 s (started: 2022-02-09 18:30:49 +00:00)\n"
          ]
        }
      ]
    }
  ]
}