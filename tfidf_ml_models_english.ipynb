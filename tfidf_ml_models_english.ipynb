{
  "nbformat": 4,
  "nbformat_minor": 0,
  "metadata": {
    "colab": {
      "name": "tfidf_ml_models_english.ipynb",
      "provenance": []
    },
    "kernelspec": {
      "name": "python3",
      "display_name": "Python 3"
    },
    "language_info": {
      "name": "python"
    },
    "accelerator": "GPU"
  },
  "cells": [
    {
      "cell_type": "code",
      "execution_count": 2,
      "metadata": {
        "id": "Qddnv8g-RUli"
      },
      "outputs": [],
      "source": [
        "import os\n",
        "import re\n",
        "from tqdm import tqdm\n",
        "import numpy as np\n",
        "import pandas as pd\n",
        "import matplotlib.pyplot as plt\n",
        "\n",
        "%matplotlib inline"
      ]
    },
    {
      "cell_type": "code",
      "source": [
        "import nltk\n",
        "nltk.download('stopwords')"
      ],
      "metadata": {
        "colab": {
          "base_uri": "https://localhost:8080/"
        },
        "id": "LV-w88QlTqig",
        "outputId": "a07a521c-4094-4534-a791-e79962f6d681"
      },
      "execution_count": 3,
      "outputs": [
        {
          "output_type": "stream",
          "name": "stdout",
          "text": [
            "[nltk_data] Downloading package stopwords to /root/nltk_data...\n",
            "[nltk_data]   Unzipping corpora/stopwords.zip.\n"
          ]
        },
        {
          "output_type": "execute_result",
          "data": {
            "text/plain": [
              "True"
            ]
          },
          "metadata": {},
          "execution_count": 3
        }
      ]
    },
    {
      "cell_type": "code",
      "source": [
        "df_train=pd.read_csv(\"/content/hateval2019_en_train.csv\")\n",
        "df_test=pd.read_csv(\"/content/hateval2019_en_test.csv\")\n",
        "df_dev=pd.read_csv(\"/content/hateval2019_en_dev.csv\")\n"
      ],
      "metadata": {
        "id": "LUbJwhixRtrR"
      },
      "execution_count": 4,
      "outputs": []
    },
    {
      "cell_type": "code",
      "source": [
        "tweet_df=pd.read_csv(\"/content/drive/MyDrive/ogbv/test.csv\")\n",
        "subset_df = tweet_df[tweet_df['language'].isin(['hi','en','ta'])]\n",
        "df_eval = subset_df[subset_df['language'] == 'en']"
      ],
      "metadata": {
        "colab": {
          "base_uri": "https://localhost:8080/"
        },
        "id": "ODhayfXMV4HB",
        "outputId": "440c7935-ad6c-49e7-fa29-2ecf58aafad8"
      },
      "execution_count": 5,
      "outputs": [
        {
          "output_type": "stream",
          "name": "stderr",
          "text": [
            "/usr/local/lib/python3.7/dist-packages/IPython/core/interactiveshell.py:2882: DtypeWarning: Columns (0,7,12,16,18,33,38) have mixed types.Specify dtype option on import or set low_memory=False.\n",
            "  exec(code_obj, self.user_global_ns, self.user_ns)\n"
          ]
        }
      ]
    },
    {
      "cell_type": "code",
      "source": [
        "df_train.drop(['TR', 'AG'], axis=1)\n",
        "df_dev.drop(['TR', 'AG'], axis=1)\n",
        "df_test.drop(['TR', 'AG'], axis=1)\n"
      ],
      "metadata": {
        "colab": {
          "base_uri": "https://localhost:8080/",
          "height": 419
        },
        "id": "cEBC7HZDRv7K",
        "outputId": "f5daf300-5610-4e35-c47b-842b2cb96e95"
      },
      "execution_count": 6,
      "outputs": [
        {
          "output_type": "execute_result",
          "data": {
            "text/html": [
              "\n",
              "  <div id=\"df-3db08385-35d2-435b-8e12-75b6d4d1c130\">\n",
              "    <div class=\"colab-df-container\">\n",
              "      <div>\n",
              "<style scoped>\n",
              "    .dataframe tbody tr th:only-of-type {\n",
              "        vertical-align: middle;\n",
              "    }\n",
              "\n",
              "    .dataframe tbody tr th {\n",
              "        vertical-align: top;\n",
              "    }\n",
              "\n",
              "    .dataframe thead th {\n",
              "        text-align: right;\n",
              "    }\n",
              "</style>\n",
              "<table border=\"1\" class=\"dataframe\">\n",
              "  <thead>\n",
              "    <tr style=\"text-align: right;\">\n",
              "      <th></th>\n",
              "      <th>id</th>\n",
              "      <th>text</th>\n",
              "      <th>HS</th>\n",
              "    </tr>\n",
              "  </thead>\n",
              "  <tbody>\n",
              "    <tr>\n",
              "      <th>0</th>\n",
              "      <td>34243</td>\n",
              "      <td>@local1025 @njdotcom @GovMurphy Oh, I could ha...</td>\n",
              "      <td>0</td>\n",
              "    </tr>\n",
              "    <tr>\n",
              "      <th>1</th>\n",
              "      <td>30593</td>\n",
              "      <td>Several of the wild fires in #california and #...</td>\n",
              "      <td>0</td>\n",
              "    </tr>\n",
              "    <tr>\n",
              "      <th>2</th>\n",
              "      <td>31427</td>\n",
              "      <td>@JudicialWatch My question is how do you reset...</td>\n",
              "      <td>0</td>\n",
              "    </tr>\n",
              "    <tr>\n",
              "      <th>3</th>\n",
              "      <td>31694</td>\n",
              "      <td>#Europe, you've got a problem!   We must hurry...</td>\n",
              "      <td>1</td>\n",
              "    </tr>\n",
              "    <tr>\n",
              "      <th>4</th>\n",
              "      <td>31865</td>\n",
              "      <td>This is outrageous! #StopIllegalImmigration  #...</td>\n",
              "      <td>1</td>\n",
              "    </tr>\n",
              "    <tr>\n",
              "      <th>...</th>\n",
              "      <td>...</td>\n",
              "      <td>...</td>\n",
              "      <td>...</td>\n",
              "    </tr>\n",
              "    <tr>\n",
              "      <th>2995</th>\n",
              "      <td>31368</td>\n",
              "      <td>you can never take a L off a real bitch😩 im ho...</td>\n",
              "      <td>1</td>\n",
              "    </tr>\n",
              "    <tr>\n",
              "      <th>2996</th>\n",
              "      <td>30104</td>\n",
              "      <td>@Brian_202 likes to call me a cunt &amp; a bitch b...</td>\n",
              "      <td>1</td>\n",
              "    </tr>\n",
              "    <tr>\n",
              "      <th>2997</th>\n",
              "      <td>31912</td>\n",
              "      <td>@kusha1a @Camio_the_wise @shoe0nhead 1. Never ...</td>\n",
              "      <td>1</td>\n",
              "    </tr>\n",
              "    <tr>\n",
              "      <th>2998</th>\n",
              "      <td>31000</td>\n",
              "      <td>If i see and know you a hoe why would i hit yo...</td>\n",
              "      <td>1</td>\n",
              "    </tr>\n",
              "    <tr>\n",
              "      <th>2999</th>\n",
              "      <td>30870</td>\n",
              "      <td>You be chasing them hoes fuck what a bitch think</td>\n",
              "      <td>1</td>\n",
              "    </tr>\n",
              "  </tbody>\n",
              "</table>\n",
              "<p>3000 rows × 3 columns</p>\n",
              "</div>\n",
              "      <button class=\"colab-df-convert\" onclick=\"convertToInteractive('df-3db08385-35d2-435b-8e12-75b6d4d1c130')\"\n",
              "              title=\"Convert this dataframe to an interactive table.\"\n",
              "              style=\"display:none;\">\n",
              "        \n",
              "  <svg xmlns=\"http://www.w3.org/2000/svg\" height=\"24px\"viewBox=\"0 0 24 24\"\n",
              "       width=\"24px\">\n",
              "    <path d=\"M0 0h24v24H0V0z\" fill=\"none\"/>\n",
              "    <path d=\"M18.56 5.44l.94 2.06.94-2.06 2.06-.94-2.06-.94-.94-2.06-.94 2.06-2.06.94zm-11 1L8.5 8.5l.94-2.06 2.06-.94-2.06-.94L8.5 2.5l-.94 2.06-2.06.94zm10 10l.94 2.06.94-2.06 2.06-.94-2.06-.94-.94-2.06-.94 2.06-2.06.94z\"/><path d=\"M17.41 7.96l-1.37-1.37c-.4-.4-.92-.59-1.43-.59-.52 0-1.04.2-1.43.59L10.3 9.45l-7.72 7.72c-.78.78-.78 2.05 0 2.83L4 21.41c.39.39.9.59 1.41.59.51 0 1.02-.2 1.41-.59l7.78-7.78 2.81-2.81c.8-.78.8-2.07 0-2.86zM5.41 20L4 18.59l7.72-7.72 1.47 1.35L5.41 20z\"/>\n",
              "  </svg>\n",
              "      </button>\n",
              "      \n",
              "  <style>\n",
              "    .colab-df-container {\n",
              "      display:flex;\n",
              "      flex-wrap:wrap;\n",
              "      gap: 12px;\n",
              "    }\n",
              "\n",
              "    .colab-df-convert {\n",
              "      background-color: #E8F0FE;\n",
              "      border: none;\n",
              "      border-radius: 50%;\n",
              "      cursor: pointer;\n",
              "      display: none;\n",
              "      fill: #1967D2;\n",
              "      height: 32px;\n",
              "      padding: 0 0 0 0;\n",
              "      width: 32px;\n",
              "    }\n",
              "\n",
              "    .colab-df-convert:hover {\n",
              "      background-color: #E2EBFA;\n",
              "      box-shadow: 0px 1px 2px rgba(60, 64, 67, 0.3), 0px 1px 3px 1px rgba(60, 64, 67, 0.15);\n",
              "      fill: #174EA6;\n",
              "    }\n",
              "\n",
              "    [theme=dark] .colab-df-convert {\n",
              "      background-color: #3B4455;\n",
              "      fill: #D2E3FC;\n",
              "    }\n",
              "\n",
              "    [theme=dark] .colab-df-convert:hover {\n",
              "      background-color: #434B5C;\n",
              "      box-shadow: 0px 1px 3px 1px rgba(0, 0, 0, 0.15);\n",
              "      filter: drop-shadow(0px 1px 2px rgba(0, 0, 0, 0.3));\n",
              "      fill: #FFFFFF;\n",
              "    }\n",
              "  </style>\n",
              "\n",
              "      <script>\n",
              "        const buttonEl =\n",
              "          document.querySelector('#df-3db08385-35d2-435b-8e12-75b6d4d1c130 button.colab-df-convert');\n",
              "        buttonEl.style.display =\n",
              "          google.colab.kernel.accessAllowed ? 'block' : 'none';\n",
              "\n",
              "        async function convertToInteractive(key) {\n",
              "          const element = document.querySelector('#df-3db08385-35d2-435b-8e12-75b6d4d1c130');\n",
              "          const dataTable =\n",
              "            await google.colab.kernel.invokeFunction('convertToInteractive',\n",
              "                                                     [key], {});\n",
              "          if (!dataTable) return;\n",
              "\n",
              "          const docLinkHtml = 'Like what you see? Visit the ' +\n",
              "            '<a target=\"_blank\" href=https://colab.research.google.com/notebooks/data_table.ipynb>data table notebook</a>'\n",
              "            + ' to learn more about interactive tables.';\n",
              "          element.innerHTML = '';\n",
              "          dataTable['output_type'] = 'display_data';\n",
              "          await google.colab.output.renderOutput(dataTable, element);\n",
              "          const docLink = document.createElement('div');\n",
              "          docLink.innerHTML = docLinkHtml;\n",
              "          element.appendChild(docLink);\n",
              "        }\n",
              "      </script>\n",
              "    </div>\n",
              "  </div>\n",
              "  "
            ],
            "text/plain": [
              "         id                                               text  HS\n",
              "0     34243  @local1025 @njdotcom @GovMurphy Oh, I could ha...   0\n",
              "1     30593  Several of the wild fires in #california and #...   0\n",
              "2     31427  @JudicialWatch My question is how do you reset...   0\n",
              "3     31694  #Europe, you've got a problem!   We must hurry...   1\n",
              "4     31865  This is outrageous! #StopIllegalImmigration  #...   1\n",
              "...     ...                                                ...  ..\n",
              "2995  31368  you can never take a L off a real bitch😩 im ho...   1\n",
              "2996  30104  @Brian_202 likes to call me a cunt & a bitch b...   1\n",
              "2997  31912  @kusha1a @Camio_the_wise @shoe0nhead 1. Never ...   1\n",
              "2998  31000  If i see and know you a hoe why would i hit yo...   1\n",
              "2999  30870   You be chasing them hoes fuck what a bitch think   1\n",
              "\n",
              "[3000 rows x 3 columns]"
            ]
          },
          "metadata": {},
          "execution_count": 6
        }
      ]
    },
    {
      "cell_type": "code",
      "source": [
        "df_train.rename(columns = {'HS':'label'}, inplace = True)\n",
        "df_test.rename(columns = {'HS':'label'}, inplace = True)\n",
        "df_dev.rename(columns = {'HS':'label'}, inplace = True)\n"
      ],
      "metadata": {
        "id": "jIXfdlBxR0xd"
      },
      "execution_count": 7,
      "outputs": []
    },
    {
      "cell_type": "code",
      "source": [
        "#extract tweets and labels \n",
        "X_train=df_train.text.values\n",
        "X_val=df_dev.text.values\n",
        "X_test=df_test.text.values\n",
        "X_eval=df_eval.tweet.values\n",
        "\n",
        "y_train=df_train.label.values\n",
        "y_val=df_dev.label.values\n",
        "y_test=df_test.label.values"
      ],
      "metadata": {
        "id": "IZBTuLRZR37X"
      },
      "execution_count": 8,
      "outputs": []
    },
    {
      "cell_type": "code",
      "source": [
        "import torch\n",
        "\n",
        "if torch.cuda.is_available():       \n",
        "    device = torch.device(\"cuda\")\n",
        "    print(f'There are {torch.cuda.device_count()} GPU(s) available.')\n",
        "    print('Device name:', torch.cuda.get_device_name(0))\n",
        "\n",
        "else:\n",
        "    print('No GPU available, using the CPU instead.')\n",
        "    device = torch.device(\"cpu\")"
      ],
      "metadata": {
        "colab": {
          "base_uri": "https://localhost:8080/"
        },
        "id": "L7FF6YwTTPuo",
        "outputId": "575f1818-7298-4ca7-dbc2-96c54c9b02e2"
      },
      "execution_count": 9,
      "outputs": [
        {
          "output_type": "stream",
          "name": "stdout",
          "text": [
            "No GPU available, using the CPU instead.\n"
          ]
        }
      ]
    },
    {
      "cell_type": "code",
      "source": [
        "import nltk\n",
        "from nltk.corpus import stopwords\n",
        "\n",
        "def text_preprocessing(s):\n",
        "    \"\"\"\n",
        "    - Lowercase the sentence\n",
        "    - Change \"'t\" to \"not\"\n",
        "    - Remove \"@name\"\n",
        "    - Isolate and remove punctuations except \"?\"\n",
        "    - Remove other special characters\n",
        "    - Remove stop words except \"not\" and \"can\"\n",
        "    - Remove trailing whitespace\n",
        "    \"\"\"\n",
        "    s = s.lower()\n",
        "    # Change 't to 'not'\n",
        "    s = re.sub(r\"\\'t\", \" not\", s)\n",
        "    # Remove @name\n",
        "    s = re.sub(r'(@.*?)[\\s]', ' ', s)\n",
        "    # Isolate and remove punctuations except '?'\n",
        "    s = re.sub(r'([\\'\\\"\\.\\(\\)\\!\\?\\\\\\/\\,])', r' \\1 ', s)\n",
        "    s = re.sub(r'[^\\w\\s\\?]', ' ', s)\n",
        "    # Remove some special characters\n",
        "    s = re.sub(r'([\\;\\:\\|•«\\n])', ' ', s)\n",
        "    # Remove stopwords except 'not' and 'can'\n",
        "    s = \" \".join([word for word in s.split()\n",
        "                  if word not in stopwords.words('english')\n",
        "                  or word in ['not', 'can']])\n",
        "    # Remove trailing whitespace\n",
        "    s = re.sub(r'\\s+', ' ', s).strip()\n",
        "    \n",
        "    return s"
      ],
      "metadata": {
        "id": "sR7j7OFdTjWy"
      },
      "execution_count": 10,
      "outputs": []
    },
    {
      "cell_type": "code",
      "source": [
        "import re\n",
        "def remove_emojis(string):\n",
        "    emoji_pattern = re.compile(\"[\"\n",
        "                           u\"\\U0001F600-\\U0001F64F\" # emoticons\n",
        "                           u\"\\U0001F300-\\U0001F5FF\" # symbols & pictographs\n",
        "                           u\"\\U0001F680-\\U0001F6FF\" # transport & map symbols\n",
        "                           u\"\\U0001F1E0-\\U0001F1FF\" # flags (iOS)\n",
        "                           u\"\\U00002702-\\U000027B0\"\n",
        "                           u\"\\U000024C2-\\U0001F251\"\n",
        "                           \"]+\", flags=re.UNICODE)\n",
        "    return emoji_pattern.sub(r'', string)\n",
        "\n",
        "remove_emojis(\"Hilarious 😂! The feeling of making a sale 😎, The feeling of actually fulfilling orders 😒\")"
      ],
      "metadata": {
        "colab": {
          "base_uri": "https://localhost:8080/",
          "height": 35
        },
        "id": "OHg_R08LuEqb",
        "outputId": "358b9a54-bd01-4c6f-b329-3d66f962e16e"
      },
      "execution_count": 11,
      "outputs": [
        {
          "output_type": "execute_result",
          "data": {
            "application/vnd.google.colaboratory.intrinsic+json": {
              "type": "string"
            },
            "text/plain": [
              "'Hilarious ! The feeling of making a sale , The feeling of actually fulfilling orders '"
            ]
          },
          "metadata": {},
          "execution_count": 11
        }
      ]
    },
    {
      "cell_type": "code",
      "source": [
        "X_train_preprocessed1 = np.array([remove_emojis(text) for text in X_train])\n",
        "X_val_preprocessed1 = np.array([remove_emojis(text) for text in X_val])\n",
        "X_eval_preprocessed1 = np.array([remove_emojis(text) for text in X_eval])\n",
        "X_test_preprocessed1 = np.array([remove_emojis(text) for text in X_test])\n"
      ],
      "metadata": {
        "id": "T1xTbV88oGgb"
      },
      "execution_count": 13,
      "outputs": []
    },
    {
      "cell_type": "code",
      "source": [
        "%%time\n",
        "from sklearn.feature_extraction.text import TfidfVectorizer\n",
        "\n",
        "# Preprocess text\n",
        "X_train_preprocessed = np.array([text_preprocessing(text) for text in X_train_preprocessed1])\n",
        "X_val_preprocessed = np.array([text_preprocessing(text) for text in X_val_preprocessed1])\n",
        "X_eval_preprocessed = np.array([text_preprocessing(text) for text in X_eval_preprocessed1])\n",
        "X_test_preprocessed = np.array([text_preprocessing(text) for text in X_test_preprocessed1])\n",
        "\n",
        "# Calculate TF-IDF\n",
        "tf_idf = TfidfVectorizer(smooth_idf=False)\n",
        "X_train_tfidf = tf_idf.fit_transform(X_train_preprocessed)\n",
        "X_val_tfidf = tf_idf.transform(X_val_preprocessed)\n",
        "X_eval_tfidf = tf_idf.transform(X_eval_preprocessed)\n",
        "X_test_tfidf = tf_idf.transform(X_test_preprocessed)"
      ],
      "metadata": {
        "colab": {
          "base_uri": "https://localhost:8080/"
        },
        "id": "1D9BT4a_TnY6",
        "outputId": "ecf87051-b4c2-426a-f4fe-397a69c2714c"
      },
      "execution_count": 14,
      "outputs": [
        {
          "output_type": "stream",
          "name": "stdout",
          "text": [
            "CPU times: user 2min 18s, sys: 14.7 s, total: 2min 33s\n",
            "Wall time: 2min 34s\n"
          ]
        }
      ]
    },
    {
      "cell_type": "code",
      "source": [
        "from sklearn.model_selection import StratifiedKFold, cross_val_score\n",
        "\n",
        "def get_auc_CV(model):\n",
        "    \"\"\"\n",
        "    Return the average AUC score from cross-validation.\n",
        "    \"\"\"\n",
        "    # Set KFold to shuffle data before the split\n",
        "    kf = StratifiedKFold(5, shuffle=True, random_state=1)\n",
        "\n",
        "    # Get AUC scores\n",
        "    auc = cross_val_score(\n",
        "        model, X_train_tfidf, y_train, scoring=\"roc_auc\", cv=kf)\n",
        "\n",
        "    return auc.mean()"
      ],
      "metadata": {
        "id": "oS-1KSYBTuo-"
      },
      "execution_count": 15,
      "outputs": []
    },
    {
      "cell_type": "code",
      "source": [
        "from sklearn.metrics import accuracy_score, roc_curve, auc\n",
        "from sklearn.metrics import classification_report\n",
        "\n",
        "def evaluate_roc(probs, y_true):\n",
        "    \"\"\"\n",
        "    - Print AUC and accuracy on the test set\n",
        "    - Plot ROC\n",
        "    @params    probs (np.array): an array of predicted probabilities with shape (len(y_true), 2)\n",
        "    @params    y_true (np.array): an array of the true values with shape (len(y_true),)\n",
        "    \"\"\"\n",
        "    preds = probs[:, 1]\n",
        "    fpr, tpr, threshold = roc_curve(y_true, preds)\n",
        "    roc_auc = auc(fpr, tpr)\n",
        "    print(f'AUC: {roc_auc:.4f}')\n",
        "       \n",
        "    # Get accuracy over the test set\n",
        "    y_pred = np.where(preds >= 0.5, 1, 0)\n",
        "    accuracy = accuracy_score(y_true, y_pred)\n",
        "    print(f'Accuracy: {accuracy*100:.2f}%')\n",
        "    print(classification_report(y_true, y_pred))\n",
        "    # Plot ROC AUC\n",
        "    plt.title('Receiver Operating Characteristic')\n",
        "    plt.plot(fpr, tpr, 'b', label = 'AUC = %0.2f' % roc_auc)\n",
        "    plt.legend(loc = 'lower right')\n",
        "    plt.plot([0, 1], [0, 1],'r--')\n",
        "    plt.xlim([0, 1])\n",
        "    plt.ylim([0, 1])\n",
        "    plt.ylabel('True Positive Rate')\n",
        "    plt.xlabel('False Positive Rate')\n",
        "    plt.show()"
      ],
      "metadata": {
        "id": "yKewqZjoU5PW"
      },
      "execution_count": 16,
      "outputs": []
    },
    {
      "cell_type": "code",
      "source": [
        "from sklearn.naive_bayes import MultinomialNB\n",
        "from sklearn.linear_model import  LogisticRegression\n",
        "from sklearn.svm import LinearSVC\n",
        "from sklearn.svm import SVC\n",
        "from sklearn.ensemble import GradientBoostingClassifier\n",
        "from sklearn.metrics import accuracy_score, roc_curve, auc, f1_score"
      ],
      "metadata": {
        "id": "WPZkvl8PaA3u"
      },
      "execution_count": 18,
      "outputs": []
    },
    {
      "cell_type": "code",
      "source": [
        "# Compute predicted probabilities for nb\n",
        "nb_model = MultinomialNB()\n",
        "nb_model.fit(X_train_tfidf, y_train)\n",
        "nb_probs = nb_model.predict_proba(X_val_tfidf)\n",
        "\n",
        "# Evaluate the classifier\n",
        "evaluate_roc(nb_probs, y_val)\n"
      ],
      "metadata": {
        "colab": {
          "base_uri": "https://localhost:8080/",
          "height": 482
        },
        "id": "_YrsSNm4U9C7",
        "outputId": "9c52f3ca-b5a6-4fb8-ccec-f6bf1e442a0f"
      },
      "execution_count": 19,
      "outputs": [
        {
          "output_type": "stream",
          "name": "stdout",
          "text": [
            "AUC: 0.8140\n",
            "Accuracy: 73.40%\n",
            "              precision    recall  f1-score   support\n",
            "\n",
            "           0       0.74      0.83      0.78       573\n",
            "           1       0.72      0.61      0.66       427\n",
            "\n",
            "    accuracy                           0.73      1000\n",
            "   macro avg       0.73      0.72      0.72      1000\n",
            "weighted avg       0.73      0.73      0.73      1000\n",
            "\n"
          ]
        },
        {
          "output_type": "display_data",
          "data": {
            "image/png": "[encoded data removed]",
            "text/plain": [
              "<Figure size 432x288 with 1 Axes>"
            ]
          },
          "metadata": {
            "needs_background": "light"
          }
        }
      ]
    },
    {
      "cell_type": "code",
      "source": [
        "nb_probs = nb_model.predict_proba(X_test_tfidf)\n",
        "evaluate_roc(nb_probs, y_test)\n"
      ],
      "metadata": {
        "colab": {
          "base_uri": "https://localhost:8080/",
          "height": 482
        },
        "id": "lXnFr0CfaEw3",
        "outputId": "037e4dde-cd21-4258-bb4a-e10310702469"
      },
      "execution_count": 20,
      "outputs": [
        {
          "output_type": "stream",
          "name": "stdout",
          "text": [
            "AUC: 0.6024\n",
            "Accuracy: 52.23%\n",
            "              precision    recall  f1-score   support\n",
            "\n",
            "           0       0.74      0.27      0.40      1740\n",
            "           1       0.46      0.87      0.60      1260\n",
            "\n",
            "    accuracy                           0.52      3000\n",
            "   macro avg       0.60      0.57      0.50      3000\n",
            "weighted avg       0.62      0.52      0.48      3000\n",
            "\n"
          ]
        },
        {
          "output_type": "display_data",
          "data": {
            "image/png": "[encoded data removed]",
            "text/plain": [
              "<Figure size 432x288 with 1 Axes>"
            ]
          },
          "metadata": {
            "needs_background": "light"
          }
        }
      ]
    },
    {
      "cell_type": "code",
      "source": [
        "# Compute predicted probabilities for LG model\n",
        "lg_model = LogisticRegression()\n",
        "lg_model.fit(X_train_tfidf, y_train)\n",
        "lg_probs = lg_model.predict_proba(X_val_tfidf)\n",
        "\n",
        "# Evaluate the classifier\n",
        "evaluate_roc(lg_probs, y_val)"
      ],
      "metadata": {
        "colab": {
          "base_uri": "https://localhost:8080/",
          "height": 482
        },
        "id": "_jxECKxVUJDb",
        "outputId": "494fb2ff-4eb4-42cb-851a-91aafb7c838f"
      },
      "execution_count": 21,
      "outputs": [
        {
          "output_type": "stream",
          "name": "stdout",
          "text": [
            "AUC: 0.8205\n",
            "Accuracy: 74.40%\n",
            "              precision    recall  f1-score   support\n",
            "\n",
            "           0       0.77      0.78      0.78       573\n",
            "           1       0.70      0.69      0.70       427\n",
            "\n",
            "    accuracy                           0.74      1000\n",
            "   macro avg       0.74      0.74      0.74      1000\n",
            "weighted avg       0.74      0.74      0.74      1000\n",
            "\n"
          ]
        },
        {
          "output_type": "display_data",
          "data": {
            "image/png": "[encoded data removed]",
            "text/plain": [
              "<Figure size 432x288 with 1 Axes>"
            ]
          },
          "metadata": {
            "needs_background": "light"
          }
        }
      ]
    },
    {
      "cell_type": "code",
      "source": [
        "lg_probs = lg_model.predict_proba(X_test_tfidf)\n",
        "evaluate_roc(lg_probs, y_test)\n"
      ],
      "metadata": {
        "colab": {
          "base_uri": "https://localhost:8080/",
          "height": 482
        },
        "id": "PI8wzW0oabA4",
        "outputId": "b4a8670e-160a-4070-9eed-8a4ce801453c"
      },
      "execution_count": 22,
      "outputs": [
        {
          "output_type": "stream",
          "name": "stdout",
          "text": [
            "AUC: 0.6313\n",
            "Accuracy: 48.83%\n",
            "              precision    recall  f1-score   support\n",
            "\n",
            "           0       0.80      0.16      0.26      1740\n",
            "           1       0.45      0.95      0.61      1260\n",
            "\n",
            "    accuracy                           0.49      3000\n",
            "   macro avg       0.63      0.55      0.43      3000\n",
            "weighted avg       0.65      0.49      0.41      3000\n",
            "\n"
          ]
        },
        {
          "output_type": "display_data",
          "data": {
            "image/png": "[encoded data removed]",
            "text/plain": [
              "<Figure size 432x288 with 1 Axes>"
            ]
          },
          "metadata": {
            "needs_background": "light"
          }
        }
      ]
    },
    {
      "cell_type": "code",
      "source": [
        "# Compute predicted probabilities for gradient boosting\n",
        "gb_model = GradientBoostingClassifier()\n",
        "gb_model.fit(X_train_tfidf, y_train)\n",
        "gb_probs = gb_model.predict_proba(X_val_tfidf)\n",
        "\n",
        "# Evaluate the classifier\n",
        "evaluate_roc(gb_probs, y_val)"
      ],
      "metadata": {
        "colab": {
          "base_uri": "https://localhost:8080/",
          "height": 482
        },
        "id": "YKt6wkPOapTi",
        "outputId": "e8ce34d0-bdd2-42a2-90c0-3196e97f36f5"
      },
      "execution_count": 23,
      "outputs": [
        {
          "output_type": "stream",
          "name": "stdout",
          "text": [
            "AUC: 0.8064\n",
            "Accuracy: 72.80%\n",
            "              precision    recall  f1-score   support\n",
            "\n",
            "           0       0.72      0.85      0.78       573\n",
            "           1       0.74      0.56      0.64       427\n",
            "\n",
            "    accuracy                           0.73      1000\n",
            "   macro avg       0.73      0.71      0.71      1000\n",
            "weighted avg       0.73      0.73      0.72      1000\n",
            "\n"
          ]
        },
        {
          "output_type": "display_data",
          "data": {
            "image/png": "[encoded data removed]",
            "text/plain": [
              "<Figure size 432x288 with 1 Axes>"
            ]
          },
          "metadata": {
            "needs_background": "light"
          }
        }
      ]
    },
    {
      "cell_type": "code",
      "source": [
        "gb_probs = gb_model.predict_proba(X_test_tfidf)\n",
        "evaluate_roc(gb_probs, y_test)\n"
      ],
      "metadata": {
        "colab": {
          "base_uri": "https://localhost:8080/",
          "height": 482
        },
        "id": "4YhPpateasmo",
        "outputId": "3592fd8e-ef87-497f-ca80-1e05708eba75"
      },
      "execution_count": 24,
      "outputs": [
        {
          "output_type": "stream",
          "name": "stdout",
          "text": [
            "AUC: 0.5361\n",
            "Accuracy: 45.10%\n",
            "              precision    recall  f1-score   support\n",
            "\n",
            "           0       0.67      0.10      0.18      1740\n",
            "           1       0.43      0.93      0.59      1260\n",
            "\n",
            "    accuracy                           0.45      3000\n",
            "   macro avg       0.55      0.52      0.38      3000\n",
            "weighted avg       0.57      0.45      0.35      3000\n",
            "\n"
          ]
        },
        {
          "output_type": "display_data",
          "data": {
            "image/png": "[encoded data removed]",
            "text/plain": [
              "<Figure size 432x288 with 1 Axes>"
            ]
          },
          "metadata": {
            "needs_background": "light"
          }
        }
      ]
    },
    {
      "cell_type": "code",
      "source": [
        "#svc\n",
        "svc_model = SVC(probability= True, C=0.01, kernel=\"rbf\")  # default rbf\n",
        "svc_model.fit(X_train_tfidf, y_train)\n",
        "svc_probs = svc_model.predict_proba(X_val_tfidf)\n",
        "\n",
        "# Evaluate the classifier\n",
        "evaluate_roc(svc_probs, y_val)\n"
      ],
      "metadata": {
        "colab": {
          "base_uri": "https://localhost:8080/",
          "height": 482
        },
        "id": "6y3cGwZua0Sx",
        "outputId": "a37d9048-ab71-49d5-f620-5a4a34ba66d5"
      },
      "execution_count": 25,
      "outputs": [
        {
          "output_type": "stream",
          "name": "stdout",
          "text": [
            "AUC: 0.8036\n",
            "Accuracy: 72.20%\n",
            "              precision    recall  f1-score   support\n",
            "\n",
            "           0       0.76      0.75      0.75       573\n",
            "           1       0.67      0.69      0.68       427\n",
            "\n",
            "    accuracy                           0.72      1000\n",
            "   macro avg       0.72      0.72      0.72      1000\n",
            "weighted avg       0.72      0.72      0.72      1000\n",
            "\n"
          ]
        },
        {
          "output_type": "display_data",
          "data": {
            "image/png": "[encoded data removed]",
            "text/plain": [
              "<Figure size 432x288 with 1 Axes>"
            ]
          },
          "metadata": {
            "needs_background": "light"
          }
        }
      ]
    },
    {
      "cell_type": "code",
      "source": [
        "svc_probs = svc_model.predict_proba(X_test_tfidf)\n",
        "evaluate_roc(svc_probs, y_test)\n"
      ],
      "metadata": {
        "colab": {
          "base_uri": "https://localhost:8080/",
          "height": 482
        },
        "id": "ftfnseyna4F3",
        "outputId": "8bb6f3d8-e4dc-4d87-a8e4-ea2f0b41daea"
      },
      "execution_count": 26,
      "outputs": [
        {
          "output_type": "stream",
          "name": "stdout",
          "text": [
            "AUC: 0.5865\n",
            "Accuracy: 44.23%\n",
            "              precision    recall  f1-score   support\n",
            "\n",
            "           0       0.71      0.06      0.12      1740\n",
            "           1       0.43      0.96      0.59      1260\n",
            "\n",
            "    accuracy                           0.44      3000\n",
            "   macro avg       0.57      0.51      0.36      3000\n",
            "weighted avg       0.59      0.44      0.32      3000\n",
            "\n"
          ]
        },
        {
          "output_type": "display_data",
          "data": {
            "image/png": "[encoded data removed]",
            "text/plain": [
              "<Figure size 432x288 with 1 Axes>"
            ]
          },
          "metadata": {
            "needs_background": "light"
          }
        }
      ]
    },
    {
      "cell_type": "code",
      "source": [
        "#eval hateeval\n",
        "probs_eval_nb = nb_model.predict_proba(X_eval_tfidf)\n",
        "probs_eval_lg= lg_model.predict_proba(X_eval_tfidf)\n",
        "probs_eval_gb= gb_model.predict_proba(X_eval_tfidf)\n",
        "probs_eval_svc = svc_model.predict_proba(X_eval_tfidf)"
      ],
      "metadata": {
        "id": "34UM4EwabalQ"
      },
      "execution_count": 27,
      "outputs": []
    },
    {
      "cell_type": "code",
      "source": [
        "def Extract(lst):\n",
        "    return [item[1] for item in lst]"
      ],
      "metadata": {
        "id": "jPudjMhrApK8"
      },
      "execution_count": 28,
      "outputs": []
    },
    {
      "cell_type": "code",
      "source": [
        "list1 = probs_eval_nb.tolist()\n",
        "list2= probs_eval_lg.tolist()\n",
        "list3=  probs_eval_gb.tolist()\n",
        "list4= probs_eval_svc.tolist()\n",
        "list5=Extract(list1)\n",
        "list6=Extract(list2)\n",
        "list7=Extract(list3)\n",
        "list8=Extract(list4)"
      ],
      "metadata": {
        "id": "dvfVKDXuBXKy"
      },
      "execution_count": 29,
      "outputs": []
    },
    {
      "cell_type": "code",
      "source": [
        "df_eval['hateeval_nb'] = list5\n",
        "df_eval['hateeval_lg'] = list6\n",
        "df_eval['hateeval_gb'] = list7\n",
        "df_eval['hateeval_svc'] = list8"
      ],
      "metadata": {
        "colab": {
          "base_uri": "https://localhost:8080/"
        },
        "id": "6n7n67kiwVsw",
        "outputId": "224f7636-a681-4cc0-adeb-903886552d17"
      },
      "execution_count": 30,
      "outputs": [
        {
          "output_type": "stream",
          "name": "stderr",
          "text": [
            "/usr/local/lib/python3.7/dist-packages/ipykernel_launcher.py:1: SettingWithCopyWarning: \n",
            "A value is trying to be set on a copy of a slice from a DataFrame.\n",
            "Try using .loc[row_indexer,col_indexer] = value instead\n",
            "\n",
            "See the caveats in the documentation: https://pandas.pydata.org/pandas-docs/stable/user_guide/indexing.html#returning-a-view-versus-a-copy\n",
            "  \"\"\"Entry point for launching an IPython kernel.\n",
            "/usr/local/lib/python3.7/dist-packages/ipykernel_launcher.py:2: SettingWithCopyWarning: \n",
            "A value is trying to be set on a copy of a slice from a DataFrame.\n",
            "Try using .loc[row_indexer,col_indexer] = value instead\n",
            "\n",
            "See the caveats in the documentation: https://pandas.pydata.org/pandas-docs/stable/user_guide/indexing.html#returning-a-view-versus-a-copy\n",
            "  \n",
            "/usr/local/lib/python3.7/dist-packages/ipykernel_launcher.py:3: SettingWithCopyWarning: \n",
            "A value is trying to be set on a copy of a slice from a DataFrame.\n",
            "Try using .loc[row_indexer,col_indexer] = value instead\n",
            "\n",
            "See the caveats in the documentation: https://pandas.pydata.org/pandas-docs/stable/user_guide/indexing.html#returning-a-view-versus-a-copy\n",
            "  This is separate from the ipykernel package so we can avoid doing imports until\n",
            "/usr/local/lib/python3.7/dist-packages/ipykernel_launcher.py:4: SettingWithCopyWarning: \n",
            "A value is trying to be set on a copy of a slice from a DataFrame.\n",
            "Try using .loc[row_indexer,col_indexer] = value instead\n",
            "\n",
            "See the caveats in the documentation: https://pandas.pydata.org/pandas-docs/stable/user_guide/indexing.html#returning-a-view-versus-a-copy\n",
            "  after removing the cwd from sys.path.\n"
          ]
        }
      ]
    },
    {
      "cell_type": "code",
      "source": [
        "df_eval_hateeval_ml=df_eval[['_id', 'tweet','hateeval_nb','hateeval_lg', 'hateeval_gb' ,'hateeval_svc']]\n"
      ],
      "metadata": {
        "id": "muGToy1hCn1X"
      },
      "execution_count": 31,
      "outputs": []
    },
    {
      "cell_type": "code",
      "source": [
        "df_eval_hateeval_ml"
      ],
      "metadata": {
        "colab": {
          "base_uri": "https://localhost:8080/",
          "height": 757
        },
        "id": "EA9ZoKAIDDWA",
        "outputId": "f7fa14b4-3ef3-470c-d6e2-639fab34ca62"
      },
      "execution_count": 32,
      "outputs": [
        {
          "output_type": "execute_result",
          "data": {
            "text/html": [
              "\n",
              "  <div id=\"df-d448f831-79d8-4936-8809-44af9c6a5f40\">\n",
              "    <div class=\"colab-df-container\">\n",
              "      <div>\n",
              "<style scoped>\n",
              "    .dataframe tbody tr th:only-of-type {\n",
              "        vertical-align: middle;\n",
              "    }\n",
              "\n",
              "    .dataframe tbody tr th {\n",
              "        vertical-align: top;\n",
              "    }\n",
              "\n",
              "    .dataframe thead th {\n",
              "        text-align: right;\n",
              "    }\n",
              "</style>\n",
              "<table border=\"1\" class=\"dataframe\">\n",
              "  <thead>\n",
              "    <tr style=\"text-align: right;\">\n",
              "      <th></th>\n",
              "      <th>_id</th>\n",
              "      <th>tweet</th>\n",
              "      <th>hateeval_nb</th>\n",
              "      <th>hateeval_lg</th>\n",
              "      <th>hateeval_gb</th>\n",
              "      <th>hateeval_svc</th>\n",
              "    </tr>\n",
              "  </thead>\n",
              "  <tbody>\n",
              "    <tr>\n",
              "      <th>2</th>\n",
              "      <td>61e270a94cffadb7b4380238</td>\n",
              "      <td>@Nanditasweta  please check your email now...</td>\n",
              "      <td>0.385686</td>\n",
              "      <td>0.320757</td>\n",
              "      <td>0.408327</td>\n",
              "      <td>0.442474</td>\n",
              "    </tr>\n",
              "    <tr>\n",
              "      <th>3</th>\n",
              "      <td>61e135862c3ddf2851d0f936</td>\n",
              "      <td>@kainaatarora @HRMusikLimited Awesome!  Thanks...</td>\n",
              "      <td>0.339045</td>\n",
              "      <td>0.349728</td>\n",
              "      <td>0.408327</td>\n",
              "      <td>0.341494</td>\n",
              "    </tr>\n",
              "    <tr>\n",
              "      <th>4</th>\n",
              "      <td>61e12145ce28130593ebc8ad</td>\n",
              "      <td>@Tweet2Rhea 's brother #ShowikChakraborty has ...</td>\n",
              "      <td>0.146821</td>\n",
              "      <td>0.094692</td>\n",
              "      <td>0.172628</td>\n",
              "      <td>0.116632</td>\n",
              "    </tr>\n",
              "    <tr>\n",
              "      <th>5</th>\n",
              "      <td>61e1155c1cf48a3db760ca4b</td>\n",
              "      <td>@neerubajwa @IIMusic3 @ParmodSharmaDir #sawanr...</td>\n",
              "      <td>0.443378</td>\n",
              "      <td>0.229708</td>\n",
              "      <td>0.180894</td>\n",
              "      <td>0.234671</td>\n",
              "    </tr>\n",
              "    <tr>\n",
              "      <th>7</th>\n",
              "      <td>61e13f8c1c69f86aff676092</td>\n",
              "      <td>@IamDeepaMehta Deeepa!! You make this journey ...</td>\n",
              "      <td>0.232907</td>\n",
              "      <td>0.254021</td>\n",
              "      <td>0.365031</td>\n",
              "      <td>0.330524</td>\n",
              "    </tr>\n",
              "    <tr>\n",
              "      <th>...</th>\n",
              "      <td>...</td>\n",
              "      <td>...</td>\n",
              "      <td>...</td>\n",
              "      <td>...</td>\n",
              "      <td>...</td>\n",
              "      <td>...</td>\n",
              "    </tr>\n",
              "    <tr>\n",
              "      <th>114637</th>\n",
              "      <td>61d5edf77b77dfb5f288c6b2</td>\n",
              "      <td>@seemagoswami That’s a wrong statement Seema. ...</td>\n",
              "      <td>0.528664</td>\n",
              "      <td>0.579366</td>\n",
              "      <td>0.572879</td>\n",
              "      <td>0.559721</td>\n",
              "    </tr>\n",
              "    <tr>\n",
              "      <th>114639</th>\n",
              "      <td>61e13d775b61a506821c0054</td>\n",
              "      <td>@AyonikaPaul congrats for Olympic Quota 2016 @...</td>\n",
              "      <td>0.344727</td>\n",
              "      <td>0.353037</td>\n",
              "      <td>0.408327</td>\n",
              "      <td>0.411995</td>\n",
              "    </tr>\n",
              "    <tr>\n",
              "      <th>114640</th>\n",
              "      <td>61d617237b77dfb5f28940af</td>\n",
              "      <td>@jagishaarora @iamhumayunsaeed @adnanactor You...</td>\n",
              "      <td>0.279293</td>\n",
              "      <td>0.332258</td>\n",
              "      <td>0.408327</td>\n",
              "      <td>0.392448</td>\n",
              "    </tr>\n",
              "    <tr>\n",
              "      <th>114643</th>\n",
              "      <td>61e3b7a54270b50ae20a42bc</td>\n",
              "      <td>@RJDixita Perfect headshot... Thank you Hydera...</td>\n",
              "      <td>0.254369</td>\n",
              "      <td>0.208376</td>\n",
              "      <td>0.365031</td>\n",
              "      <td>0.263781</td>\n",
              "    </tr>\n",
              "    <tr>\n",
              "      <th>114645</th>\n",
              "      <td>61e13ba6d27c0a6f757ed08e</td>\n",
              "      <td>@KhushaliKumar Are you single...  If single wh...</td>\n",
              "      <td>0.503587</td>\n",
              "      <td>0.437312</td>\n",
              "      <td>0.408327</td>\n",
              "      <td>0.467724</td>\n",
              "    </tr>\n",
              "  </tbody>\n",
              "</table>\n",
              "<p>69167 rows × 6 columns</p>\n",
              "</div>\n",
              "      <button class=\"colab-df-convert\" onclick=\"convertToInteractive('df-d448f831-79d8-4936-8809-44af9c6a5f40')\"\n",
              "              title=\"Convert this dataframe to an interactive table.\"\n",
              "              style=\"display:none;\">\n",
              "        \n",
              "  <svg xmlns=\"http://www.w3.org/2000/svg\" height=\"24px\"viewBox=\"0 0 24 24\"\n",
              "       width=\"24px\">\n",
              "    <path d=\"M0 0h24v24H0V0z\" fill=\"none\"/>\n",
              "    <path d=\"M18.56 5.44l.94 2.06.94-2.06 2.06-.94-2.06-.94-.94-2.06-.94 2.06-2.06.94zm-11 1L8.5 8.5l.94-2.06 2.06-.94-2.06-.94L8.5 2.5l-.94 2.06-2.06.94zm10 10l.94 2.06.94-2.06 2.06-.94-2.06-.94-.94-2.06-.94 2.06-2.06.94z\"/><path d=\"M17.41 7.96l-1.37-1.37c-.4-.4-.92-.59-1.43-.59-.52 0-1.04.2-1.43.59L10.3 9.45l-7.72 7.72c-.78.78-.78 2.05 0 2.83L4 21.41c.39.39.9.59 1.41.59.51 0 1.02-.2 1.41-.59l7.78-7.78 2.81-2.81c.8-.78.8-2.07 0-2.86zM5.41 20L4 18.59l7.72-7.72 1.47 1.35L5.41 20z\"/>\n",
              "  </svg>\n",
              "      </button>\n",
              "      \n",
              "  <style>\n",
              "    .colab-df-container {\n",
              "      display:flex;\n",
              "      flex-wrap:wrap;\n",
              "      gap: 12px;\n",
              "    }\n",
              "\n",
              "    .colab-df-convert {\n",
              "      background-color: #E8F0FE;\n",
              "      border: none;\n",
              "      border-radius: 50%;\n",
              "      cursor: pointer;\n",
              "      display: none;\n",
              "      fill: #1967D2;\n",
              "      height: 32px;\n",
              "      padding: 0 0 0 0;\n",
              "      width: 32px;\n",
              "    }\n",
              "\n",
              "    .colab-df-convert:hover {\n",
              "      background-color: #E2EBFA;\n",
              "      box-shadow: 0px 1px 2px rgba(60, 64, 67, 0.3), 0px 1px 3px 1px rgba(60, 64, 67, 0.15);\n",
              "      fill: #174EA6;\n",
              "    }\n",
              "\n",
              "    [theme=dark] .colab-df-convert {\n",
              "      background-color: #3B4455;\n",
              "      fill: #D2E3FC;\n",
              "    }\n",
              "\n",
              "    [theme=dark] .colab-df-convert:hover {\n",
              "      background-color: #434B5C;\n",
              "      box-shadow: 0px 1px 3px 1px rgba(0, 0, 0, 0.15);\n",
              "      filter: drop-shadow(0px 1px 2px rgba(0, 0, 0, 0.3));\n",
              "      fill: #FFFFFF;\n",
              "    }\n",
              "  </style>\n",
              "\n",
              "      <script>\n",
              "        const buttonEl =\n",
              "          document.querySelector('#df-d448f831-79d8-4936-8809-44af9c6a5f40 button.colab-df-convert');\n",
              "        buttonEl.style.display =\n",
              "          google.colab.kernel.accessAllowed ? 'block' : 'none';\n",
              "\n",
              "        async function convertToInteractive(key) {\n",
              "          const element = document.querySelector('#df-d448f831-79d8-4936-8809-44af9c6a5f40');\n",
              "          const dataTable =\n",
              "            await google.colab.kernel.invokeFunction('convertToInteractive',\n",
              "                                                     [key], {});\n",
              "          if (!dataTable) return;\n",
              "\n",
              "          const docLinkHtml = 'Like what you see? Visit the ' +\n",
              "            '<a target=\"_blank\" href=https://colab.research.google.com/notebooks/data_table.ipynb>data table notebook</a>'\n",
              "            + ' to learn more about interactive tables.';\n",
              "          element.innerHTML = '';\n",
              "          dataTable['output_type'] = 'display_data';\n",
              "          await google.colab.output.renderOutput(dataTable, element);\n",
              "          const docLink = document.createElement('div');\n",
              "          docLink.innerHTML = docLinkHtml;\n",
              "          element.appendChild(docLink);\n",
              "        }\n",
              "      </script>\n",
              "    </div>\n",
              "  </div>\n",
              "  "
            ],
            "text/plain": [
              "                             _id  ... hateeval_svc\n",
              "2       61e270a94cffadb7b4380238  ...     0.442474\n",
              "3       61e135862c3ddf2851d0f936  ...     0.341494\n",
              "4       61e12145ce28130593ebc8ad  ...     0.116632\n",
              "5       61e1155c1cf48a3db760ca4b  ...     0.234671\n",
              "7       61e13f8c1c69f86aff676092  ...     0.330524\n",
              "...                          ...  ...          ...\n",
              "114637  61d5edf77b77dfb5f288c6b2  ...     0.559721\n",
              "114639  61e13d775b61a506821c0054  ...     0.411995\n",
              "114640  61d617237b77dfb5f28940af  ...     0.392448\n",
              "114643  61e3b7a54270b50ae20a42bc  ...     0.263781\n",
              "114645  61e13ba6d27c0a6f757ed08e  ...     0.467724\n",
              "\n",
              "[69167 rows x 6 columns]"
            ]
          },
          "metadata": {},
          "execution_count": 32
        }
      ]
    },
    {
      "cell_type": "code",
      "source": [
        "df_eval_hateeval_ml.to_csv(\"tfidf_ml_hateeval.csv\")"
      ],
      "metadata": {
        "id": "hPQvfbxscKL2"
      },
      "execution_count": 33,
      "outputs": []
    }
  ]
}